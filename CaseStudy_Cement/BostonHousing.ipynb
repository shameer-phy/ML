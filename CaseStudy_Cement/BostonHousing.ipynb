{
  "nbformat": 4,
  "nbformat_minor": 0,
  "metadata": {
    "colab": {
      "name": "BostonHousing.ipynb",
      "provenance": [],
      "authorship_tag": "ABX9TyPXGATR26DFAXZtI2LddRv0",
      "include_colab_link": true
    },
    "kernelspec": {
      "name": "python3",
      "display_name": "Python 3"
    }
  },
  "cells": [
    {
      "cell_type": "markdown",
      "metadata": {
        "id": "view-in-github",
        "colab_type": "text"
      },
      "source": [
        "<a href=\"https://colab.research.google.com/github/shameer-phy/ML/blob/main/CaseStudy_Cement/BostonHousing.ipynb\" target=\"_parent\"><img src=\"https://colab.research.google.com/assets/colab-badge.svg\" alt=\"Open In Colab\"/></a>"
      ]
    },
    {
      "cell_type": "markdown",
      "metadata": {
        "id": "WJmJrr-0ek6U"
      },
      "source": [
        "#Import the necessary packages and read the dataset"
      ]
    },
    {
      "cell_type": "code",
      "metadata": {
        "id": "vR0IFr3-fEe6"
      },
      "source": [
        "import pandas as pd\r\n",
        "import numpy as np"
      ],
      "execution_count": null,
      "outputs": []
    },
    {
      "cell_type": "code",
      "metadata": {
        "id": "n-i1YOwMfU3A"
      },
      "source": [
        "BostonH = pd.read_csv('https://raw.githubusercontent.com/shameer-phy/ML/main/CaseStudy_BostonData/Boston.csv')"
      ],
      "execution_count": null,
      "outputs": []
    },
    {
      "cell_type": "code",
      "metadata": {
        "colab": {
          "base_uri": "https://localhost:8080/",
          "height": 206
        },
        "id": "viu6PWAQfcfN",
        "outputId": "8a6e8f2c-ffc9-478d-a00b-947ded260e70"
      },
      "source": [
        "BostonH.head()"
      ],
      "execution_count": null,
      "outputs": [
        {
          "output_type": "execute_result",
          "data": {
            "text/html": [
              "<div>\n",
              "<style scoped>\n",
              "    .dataframe tbody tr th:only-of-type {\n",
              "        vertical-align: middle;\n",
              "    }\n",
              "\n",
              "    .dataframe tbody tr th {\n",
              "        vertical-align: top;\n",
              "    }\n",
              "\n",
              "    .dataframe thead th {\n",
              "        text-align: right;\n",
              "    }\n",
              "</style>\n",
              "<table border=\"1\" class=\"dataframe\">\n",
              "  <thead>\n",
              "    <tr style=\"text-align: right;\">\n",
              "      <th></th>\n",
              "      <th>Unnamed: 0</th>\n",
              "      <th>crim</th>\n",
              "      <th>zn</th>\n",
              "      <th>indus</th>\n",
              "      <th>chas</th>\n",
              "      <th>nox</th>\n",
              "      <th>rm</th>\n",
              "      <th>age</th>\n",
              "      <th>dis</th>\n",
              "      <th>rad</th>\n",
              "      <th>tax</th>\n",
              "      <th>ptratio</th>\n",
              "      <th>black</th>\n",
              "      <th>lstat</th>\n",
              "      <th>medv</th>\n",
              "    </tr>\n",
              "  </thead>\n",
              "  <tbody>\n",
              "    <tr>\n",
              "      <th>0</th>\n",
              "      <td>1</td>\n",
              "      <td>0.00632</td>\n",
              "      <td>18.0</td>\n",
              "      <td>2.31</td>\n",
              "      <td>0</td>\n",
              "      <td>0.538</td>\n",
              "      <td>6.575</td>\n",
              "      <td>65.2</td>\n",
              "      <td>4.0900</td>\n",
              "      <td>1</td>\n",
              "      <td>296</td>\n",
              "      <td>15.3</td>\n",
              "      <td>396.90</td>\n",
              "      <td>4.98</td>\n",
              "      <td>24.0</td>\n",
              "    </tr>\n",
              "    <tr>\n",
              "      <th>1</th>\n",
              "      <td>2</td>\n",
              "      <td>0.02731</td>\n",
              "      <td>0.0</td>\n",
              "      <td>7.07</td>\n",
              "      <td>0</td>\n",
              "      <td>0.469</td>\n",
              "      <td>6.421</td>\n",
              "      <td>78.9</td>\n",
              "      <td>4.9671</td>\n",
              "      <td>2</td>\n",
              "      <td>242</td>\n",
              "      <td>17.8</td>\n",
              "      <td>396.90</td>\n",
              "      <td>9.14</td>\n",
              "      <td>21.6</td>\n",
              "    </tr>\n",
              "    <tr>\n",
              "      <th>2</th>\n",
              "      <td>3</td>\n",
              "      <td>0.02729</td>\n",
              "      <td>0.0</td>\n",
              "      <td>7.07</td>\n",
              "      <td>0</td>\n",
              "      <td>0.469</td>\n",
              "      <td>7.185</td>\n",
              "      <td>61.1</td>\n",
              "      <td>4.9671</td>\n",
              "      <td>2</td>\n",
              "      <td>242</td>\n",
              "      <td>17.8</td>\n",
              "      <td>392.83</td>\n",
              "      <td>4.03</td>\n",
              "      <td>34.7</td>\n",
              "    </tr>\n",
              "    <tr>\n",
              "      <th>3</th>\n",
              "      <td>4</td>\n",
              "      <td>0.03237</td>\n",
              "      <td>0.0</td>\n",
              "      <td>2.18</td>\n",
              "      <td>0</td>\n",
              "      <td>0.458</td>\n",
              "      <td>6.998</td>\n",
              "      <td>45.8</td>\n",
              "      <td>6.0622</td>\n",
              "      <td>3</td>\n",
              "      <td>222</td>\n",
              "      <td>18.7</td>\n",
              "      <td>394.63</td>\n",
              "      <td>2.94</td>\n",
              "      <td>33.4</td>\n",
              "    </tr>\n",
              "    <tr>\n",
              "      <th>4</th>\n",
              "      <td>5</td>\n",
              "      <td>0.06905</td>\n",
              "      <td>0.0</td>\n",
              "      <td>2.18</td>\n",
              "      <td>0</td>\n",
              "      <td>0.458</td>\n",
              "      <td>7.147</td>\n",
              "      <td>54.2</td>\n",
              "      <td>6.0622</td>\n",
              "      <td>3</td>\n",
              "      <td>222</td>\n",
              "      <td>18.7</td>\n",
              "      <td>396.90</td>\n",
              "      <td>5.33</td>\n",
              "      <td>36.2</td>\n",
              "    </tr>\n",
              "  </tbody>\n",
              "</table>\n",
              "</div>"
            ],
            "text/plain": [
              "   Unnamed: 0     crim    zn  indus  chas  ...  tax  ptratio   black  lstat  medv\n",
              "0           1  0.00632  18.0   2.31     0  ...  296     15.3  396.90   4.98  24.0\n",
              "1           2  0.02731   0.0   7.07     0  ...  242     17.8  396.90   9.14  21.6\n",
              "2           3  0.02729   0.0   7.07     0  ...  242     17.8  392.83   4.03  34.7\n",
              "3           4  0.03237   0.0   2.18     0  ...  222     18.7  394.63   2.94  33.4\n",
              "4           5  0.06905   0.0   2.18     0  ...  222     18.7  396.90   5.33  36.2\n",
              "\n",
              "[5 rows x 15 columns]"
            ]
          },
          "metadata": {
            "tags": []
          },
          "execution_count": 4
        }
      ]
    },
    {
      "cell_type": "markdown",
      "metadata": {
        "id": "xKZmqCUTfi8Z"
      },
      "source": [
        "#1st column is not required as it is just serial number. Let's remove it."
      ]
    },
    {
      "cell_type": "code",
      "metadata": {
        "id": "o1xxtrXlfuvg"
      },
      "source": [
        "BostonH = BostonH.iloc[:,1:]"
      ],
      "execution_count": null,
      "outputs": []
    },
    {
      "cell_type": "code",
      "metadata": {
        "colab": {
          "base_uri": "https://localhost:8080/"
        },
        "id": "22zz4UoNf1nw",
        "outputId": "f693be1b-f7e8-4791-93bc-a6dfe3eaae49"
      },
      "source": [
        "BostonH.head()\r\n",
        "BostonH.shape"
      ],
      "execution_count": null,
      "outputs": [
        {
          "output_type": "execute_result",
          "data": {
            "text/plain": [
              "(506, 14)"
            ]
          },
          "metadata": {
            "tags": []
          },
          "execution_count": 8
        }
      ]
    },
    {
      "cell_type": "code",
      "metadata": {
        "colab": {
          "base_uri": "https://localhost:8080/"
        },
        "id": "hHZrlGUZgAcR",
        "outputId": "e44c5f08-39c0-48be-c4dc-2c19c2e9c403"
      },
      "source": [
        "BostonH.dtypes"
      ],
      "execution_count": null,
      "outputs": [
        {
          "output_type": "execute_result",
          "data": {
            "text/plain": [
              "crim       float64\n",
              "zn         float64\n",
              "indus      float64\n",
              "chas         int64\n",
              "nox        float64\n",
              "rm         float64\n",
              "age        float64\n",
              "dis        float64\n",
              "rad          int64\n",
              "tax          int64\n",
              "ptratio    float64\n",
              "black      float64\n",
              "lstat      float64\n",
              "medv       float64\n",
              "dtype: object"
            ]
          },
          "metadata": {
            "tags": []
          },
          "execution_count": 10
        }
      ]
    },
    {
      "cell_type": "code",
      "metadata": {
        "colab": {
          "base_uri": "https://localhost:8080/",
          "height": 206
        },
        "id": "8rc9ZmQRgIAf",
        "outputId": "615b6c5e-ba2b-457d-e5a9-9e3fff16288b"
      },
      "source": [
        "BostonH.head()"
      ],
      "execution_count": null,
      "outputs": [
        {
          "output_type": "execute_result",
          "data": {
            "text/html": [
              "<div>\n",
              "<style scoped>\n",
              "    .dataframe tbody tr th:only-of-type {\n",
              "        vertical-align: middle;\n",
              "    }\n",
              "\n",
              "    .dataframe tbody tr th {\n",
              "        vertical-align: top;\n",
              "    }\n",
              "\n",
              "    .dataframe thead th {\n",
              "        text-align: right;\n",
              "    }\n",
              "</style>\n",
              "<table border=\"1\" class=\"dataframe\">\n",
              "  <thead>\n",
              "    <tr style=\"text-align: right;\">\n",
              "      <th></th>\n",
              "      <th>crim</th>\n",
              "      <th>zn</th>\n",
              "      <th>indus</th>\n",
              "      <th>chas</th>\n",
              "      <th>nox</th>\n",
              "      <th>rm</th>\n",
              "      <th>age</th>\n",
              "      <th>dis</th>\n",
              "      <th>rad</th>\n",
              "      <th>tax</th>\n",
              "      <th>ptratio</th>\n",
              "      <th>black</th>\n",
              "      <th>lstat</th>\n",
              "      <th>medv</th>\n",
              "    </tr>\n",
              "  </thead>\n",
              "  <tbody>\n",
              "    <tr>\n",
              "      <th>0</th>\n",
              "      <td>0.00632</td>\n",
              "      <td>18.0</td>\n",
              "      <td>2.31</td>\n",
              "      <td>0</td>\n",
              "      <td>0.538</td>\n",
              "      <td>6.575</td>\n",
              "      <td>65.2</td>\n",
              "      <td>4.0900</td>\n",
              "      <td>1</td>\n",
              "      <td>296</td>\n",
              "      <td>15.3</td>\n",
              "      <td>396.90</td>\n",
              "      <td>4.98</td>\n",
              "      <td>24.0</td>\n",
              "    </tr>\n",
              "    <tr>\n",
              "      <th>1</th>\n",
              "      <td>0.02731</td>\n",
              "      <td>0.0</td>\n",
              "      <td>7.07</td>\n",
              "      <td>0</td>\n",
              "      <td>0.469</td>\n",
              "      <td>6.421</td>\n",
              "      <td>78.9</td>\n",
              "      <td>4.9671</td>\n",
              "      <td>2</td>\n",
              "      <td>242</td>\n",
              "      <td>17.8</td>\n",
              "      <td>396.90</td>\n",
              "      <td>9.14</td>\n",
              "      <td>21.6</td>\n",
              "    </tr>\n",
              "    <tr>\n",
              "      <th>2</th>\n",
              "      <td>0.02729</td>\n",
              "      <td>0.0</td>\n",
              "      <td>7.07</td>\n",
              "      <td>0</td>\n",
              "      <td>0.469</td>\n",
              "      <td>7.185</td>\n",
              "      <td>61.1</td>\n",
              "      <td>4.9671</td>\n",
              "      <td>2</td>\n",
              "      <td>242</td>\n",
              "      <td>17.8</td>\n",
              "      <td>392.83</td>\n",
              "      <td>4.03</td>\n",
              "      <td>34.7</td>\n",
              "    </tr>\n",
              "    <tr>\n",
              "      <th>3</th>\n",
              "      <td>0.03237</td>\n",
              "      <td>0.0</td>\n",
              "      <td>2.18</td>\n",
              "      <td>0</td>\n",
              "      <td>0.458</td>\n",
              "      <td>6.998</td>\n",
              "      <td>45.8</td>\n",
              "      <td>6.0622</td>\n",
              "      <td>3</td>\n",
              "      <td>222</td>\n",
              "      <td>18.7</td>\n",
              "      <td>394.63</td>\n",
              "      <td>2.94</td>\n",
              "      <td>33.4</td>\n",
              "    </tr>\n",
              "    <tr>\n",
              "      <th>4</th>\n",
              "      <td>0.06905</td>\n",
              "      <td>0.0</td>\n",
              "      <td>2.18</td>\n",
              "      <td>0</td>\n",
              "      <td>0.458</td>\n",
              "      <td>7.147</td>\n",
              "      <td>54.2</td>\n",
              "      <td>6.0622</td>\n",
              "      <td>3</td>\n",
              "      <td>222</td>\n",
              "      <td>18.7</td>\n",
              "      <td>396.90</td>\n",
              "      <td>5.33</td>\n",
              "      <td>36.2</td>\n",
              "    </tr>\n",
              "  </tbody>\n",
              "</table>\n",
              "</div>"
            ],
            "text/plain": [
              "      crim    zn  indus  chas    nox  ...  tax  ptratio   black  lstat  medv\n",
              "0  0.00632  18.0   2.31     0  0.538  ...  296     15.3  396.90   4.98  24.0\n",
              "1  0.02731   0.0   7.07     0  0.469  ...  242     17.8  396.90   9.14  21.6\n",
              "2  0.02729   0.0   7.07     0  0.469  ...  242     17.8  392.83   4.03  34.7\n",
              "3  0.03237   0.0   2.18     0  0.458  ...  222     18.7  394.63   2.94  33.4\n",
              "4  0.06905   0.0   2.18     0  0.458  ...  222     18.7  396.90   5.33  36.2\n",
              "\n",
              "[5 rows x 14 columns]"
            ]
          },
          "metadata": {
            "tags": []
          },
          "execution_count": 12
        }
      ]
    },
    {
      "cell_type": "markdown",
      "metadata": {
        "id": "4uWrL8-TgMqs"
      },
      "source": [
        "#All the columns seem to be continuous. But lets check 'zn','chas' and 'rad' columns if the are continuous."
      ]
    },
    {
      "cell_type": "code",
      "metadata": {
        "colab": {
          "base_uri": "https://localhost:8080/"
        },
        "id": "n-H8I3VsgZoT",
        "outputId": "c051b91b-3ea5-4c10-c7fc-7cacece665a4"
      },
      "source": [
        "BostonH['zn'].unique()"
      ],
      "execution_count": null,
      "outputs": [
        {
          "output_type": "execute_result",
          "data": {
            "text/plain": [
              "array([ 18. ,   0. ,  12.5,  75. ,  21. ,  90. ,  85. , 100. ,  25. ,\n",
              "        17.5,  80. ,  28. ,  45. ,  60. ,  95. ,  82.5,  30. ,  22. ,\n",
              "        20. ,  40. ,  55. ,  52.5,  70. ,  34. ,  33. ,  35. ])"
            ]
          },
          "metadata": {
            "tags": []
          },
          "execution_count": 15
        }
      ]
    },
    {
      "cell_type": "code",
      "metadata": {
        "colab": {
          "base_uri": "https://localhost:8080/"
        },
        "id": "8Pjs5PJugoT8",
        "outputId": "59413b70-1b2d-4bcf-caff-cf9185540971"
      },
      "source": [
        "BostonH['chas'].unique()"
      ],
      "execution_count": null,
      "outputs": [
        {
          "output_type": "execute_result",
          "data": {
            "text/plain": [
              "array([0, 1])"
            ]
          },
          "metadata": {
            "tags": []
          },
          "execution_count": 17
        }
      ]
    },
    {
      "cell_type": "code",
      "metadata": {
        "colab": {
          "base_uri": "https://localhost:8080/"
        },
        "id": "MxxCq0OmgwWb",
        "outputId": "c5ad3375-4972-4728-82a3-3153615e8497"
      },
      "source": [
        "BostonH['rad'].unique()"
      ],
      "execution_count": null,
      "outputs": [
        {
          "output_type": "execute_result",
          "data": {
            "text/plain": [
              "array([ 1,  2,  3,  5,  4,  8,  6,  7, 24])"
            ]
          },
          "metadata": {
            "tags": []
          },
          "execution_count": 18
        }
      ]
    },
    {
      "cell_type": "markdown",
      "metadata": {
        "id": "YUqVh3FUfEsc"
      },
      "source": [
        "#Lets check for outliers in data with box plot"
      ]
    },
    {
      "cell_type": "code",
      "metadata": {
        "colab": {
          "base_uri": "https://localhost:8080/",
          "height": 881
        },
        "id": "NP28SHBnh2dT",
        "outputId": "73175c67-b316-4769-c94e-ad245dc327f5"
      },
      "source": [
        "BostonH.boxplot(figsize=(15,15))"
      ],
      "execution_count": null,
      "outputs": [
        {
          "output_type": "execute_result",
          "data": {
            "text/plain": [
              "<matplotlib.axes._subplots.AxesSubplot at 0x7fb700496710>"
            ]
          },
          "metadata": {
            "tags": []
          },
          "execution_count": 20
        },
        {
          "output_type": "display_data",
          "data": {
            "image/png": "[encoded data removed]",
            "text/plain": [
              "<Figure size 1080x1080 with 1 Axes>"
            ]
          },
          "metadata": {
            "tags": [],
            "needs_background": "light"
          }
        }
      ]
    },
    {
      "cell_type": "markdown",
      "metadata": {
        "id": "4sbrtg1C_GVg"
      },
      "source": [
        "#Lets try recoding the outliers with median"
      ]
    },
    {
      "cell_type": "code",
      "metadata": {
        "colab": {
          "base_uri": "https://localhost:8080/"
        },
        "id": "_IUlsnTmfExy",
        "outputId": "dacb6306-4bbf-472d-ddfe-dd8fed0bc936"
      },
      "source": [
        "print(BostonH.shape)\r\n",
        "def remove_outliers(df,var):\r\n",
        "  q1 = np.percentile(df[var],25)\r\n",
        "  q3 = np.percentile(df[var],75)\r\n",
        "  IQR = q3-q1\r\n",
        "  LW = q1 - (1.5*IQR)\r\n",
        "  UW = q3 + (1.5*IQR)\r\n",
        "  mask = ((df[var] < LW) | (df[var] > UW))\r\n",
        "  df.loc[mask,var] = df[var].median()"
      ],
      "execution_count": null,
      "outputs": [
        {
          "output_type": "stream",
          "text": [
            "(506, 14)\n"
          ],
          "name": "stdout"
        }
      ]
    },
    {
      "cell_type": "code",
      "metadata": {
        "colab": {
          "base_uri": "https://localhost:8080/"
        },
        "id": "KHBPrNvfixh-",
        "outputId": "65d5da31-06c9-43c6-ba65-1aab0391763e"
      },
      "source": [
        "bnew = BostonH.copy()\r\n",
        "for x in ['crim', 'zn','black','medv','tax']:\r\n",
        "  remove_outliers(bnew,x)\r\n",
        "  print(bnew.shape)"
      ],
      "execution_count": null,
      "outputs": [
        {
          "output_type": "stream",
          "text": [
            "(506, 14)\n",
            "(506, 14)\n",
            "(506, 14)\n",
            "(506, 14)\n",
            "(506, 14)\n"
          ],
          "name": "stdout"
        }
      ]
    },
    {
      "cell_type": "code",
      "metadata": {
        "colab": {
          "base_uri": "https://localhost:8080/",
          "height": 881
        },
        "id": "dG-oKec4j7gB",
        "outputId": "774a3074-8197-4d73-ccbe-772b8026b537"
      },
      "source": [
        "bnew.boxplot(figsize=(15,15))"
      ],
      "execution_count": null,
      "outputs": [
        {
          "output_type": "execute_result",
          "data": {
            "text/plain": [
              "<matplotlib.axes._subplots.AxesSubplot at 0x7fb6fe7f1ac8>"
            ]
          },
          "metadata": {
            "tags": []
          },
          "execution_count": 36
        },
        {
          "output_type": "display_data",
          "data": {
            "image/png": "[encoded data removed]",
            "text/plain": [
              "<Figure size 1080x1080 with 1 Axes>"
            ]
          },
          "metadata": {
            "tags": [],
            "needs_background": "light"
          }
        }
      ]
    },
    {
      "cell_type": "code",
      "metadata": {
        "colab": {
          "base_uri": "https://localhost:8080/",
          "height": 283
        },
        "id": "hnhC7QkgivBw",
        "outputId": "75bac4c5-629d-4fee-cb6b-3af4785640d8"
      },
      "source": [
        "bnew['crim'].hist()"
      ],
      "execution_count": null,
      "outputs": [
        {
          "output_type": "execute_result",
          "data": {
            "text/plain": [
              "<matplotlib.axes._subplots.AxesSubplot at 0x7fb6fe584ac8>"
            ]
          },
          "metadata": {
            "tags": []
          },
          "execution_count": 39
        },
        {
          "output_type": "display_data",
          "data": {
            "image/png": "[encoded data removed]",
            "text/plain": [
              "<Figure size 432x288 with 1 Axes>"
            ]
          },
          "metadata": {
            "tags": [],
            "needs_background": "light"
          }
        }
      ]
    },
    {
      "cell_type": "code",
      "metadata": {
        "colab": {
          "base_uri": "https://localhost:8080/",
          "height": 283
        },
        "id": "4dpYlrySlmkO",
        "outputId": "35c14971-6901-42b0-d3bb-2abb9422af0c"
      },
      "source": [
        "bnew['zn'].hist()"
      ],
      "execution_count": null,
      "outputs": [
        {
          "output_type": "execute_result",
          "data": {
            "text/plain": [
              "<matplotlib.axes._subplots.AxesSubplot at 0x7fb6fe456e48>"
            ]
          },
          "metadata": {
            "tags": []
          },
          "execution_count": 41
        },
        {
          "output_type": "display_data",
          "data": {
            "image/png": "[encoded data removed]",
            "text/plain": [
              "<Figure size 432x288 with 1 Axes>"
            ]
          },
          "metadata": {
            "tags": [],
            "needs_background": "light"
          }
        }
      ]
    },
    {
      "cell_type": "code",
      "metadata": {
        "colab": {
          "base_uri": "https://localhost:8080/",
          "height": 283
        },
        "id": "uYrU2REcnT-T",
        "outputId": "9b3efe7d-cbe2-4f1f-86d1-9b8e3dfc023b"
      },
      "source": [
        "bnew['tax'].hist()"
      ],
      "execution_count": null,
      "outputs": [
        {
          "output_type": "execute_result",
          "data": {
            "text/plain": [
              "<matplotlib.axes._subplots.AxesSubplot at 0x7fb6fe353828>"
            ]
          },
          "metadata": {
            "tags": []
          },
          "execution_count": 43
        },
        {
          "output_type": "display_data",
          "data": {
            "image/png": "[encoded data removed]",
            "text/plain": [
              "<Figure size 432x288 with 1 Axes>"
            ]
          },
          "metadata": {
            "tags": [],
            "needs_background": "light"
          }
        }
      ]
    },
    {
      "cell_type": "code",
      "metadata": {
        "colab": {
          "base_uri": "https://localhost:8080/",
          "height": 283
        },
        "id": "WwgwVDMvnYXq",
        "outputId": "2d7c338b-f656-4a51-fdd7-930cb834fcae"
      },
      "source": [
        "bnew['age'].hist()"
      ],
      "execution_count": null,
      "outputs": [
        {
          "output_type": "execute_result",
          "data": {
            "text/plain": [
              "<matplotlib.axes._subplots.AxesSubplot at 0x7fb6fe711128>"
            ]
          },
          "metadata": {
            "tags": []
          },
          "execution_count": 45
        },
        {
          "output_type": "display_data",
          "data": {
            "image/png": "[encoded data removed]",
            "text/plain": [
              "<Figure size 432x288 with 1 Axes>"
            ]
          },
          "metadata": {
            "tags": [],
            "needs_background": "light"
          }
        }
      ]
    },
    {
      "cell_type": "code",
      "metadata": {
        "colab": {
          "base_uri": "https://localhost:8080/",
          "height": 283
        },
        "id": "GPaqq8c9nhfG",
        "outputId": "07bfca6d-7563-4fd6-fafe-8ef95cb54fee"
      },
      "source": [
        "bnew['medv'].hist()"
      ],
      "execution_count": null,
      "outputs": [
        {
          "output_type": "execute_result",
          "data": {
            "text/plain": [
              "<matplotlib.axes._subplots.AxesSubplot at 0x7fb6ffe71f60>"
            ]
          },
          "metadata": {
            "tags": []
          },
          "execution_count": 46
        },
        {
          "output_type": "display_data",
          "data": {
            "image/png": "[encoded data removed]",
            "text/plain": [
              "<Figure size 432x288 with 1 Axes>"
            ]
          },
          "metadata": {
            "tags": [],
            "needs_background": "light"
          }
        }
      ]
    },
    {
      "cell_type": "markdown",
      "metadata": {
        "id": "CQ81UNHPfE0r"
      },
      "source": [
        "#As the dataset is small in size, most variables are not showing normal distribution"
      ]
    },
    {
      "cell_type": "code",
      "metadata": {
        "colab": {
          "base_uri": "https://localhost:8080/",
          "height": 488
        },
        "id": "lWaSA5gifE4a",
        "outputId": "c176d580-5141-408c-d42b-13921ac33b39"
      },
      "source": [
        "bnew.corr()"
      ],
      "execution_count": null,
      "outputs": [
        {
          "output_type": "execute_result",
          "data": {
            "text/html": [
              "<div>\n",
              "<style scoped>\n",
              "    .dataframe tbody tr th:only-of-type {\n",
              "        vertical-align: middle;\n",
              "    }\n",
              "\n",
              "    .dataframe tbody tr th {\n",
              "        vertical-align: top;\n",
              "    }\n",
              "\n",
              "    .dataframe thead th {\n",
              "        text-align: right;\n",
              "    }\n",
              "</style>\n",
              "<table border=\"1\" class=\"dataframe\">\n",
              "  <thead>\n",
              "    <tr style=\"text-align: right;\">\n",
              "      <th></th>\n",
              "      <th>crim</th>\n",
              "      <th>zn</th>\n",
              "      <th>indus</th>\n",
              "      <th>chas</th>\n",
              "      <th>nox</th>\n",
              "      <th>rm</th>\n",
              "      <th>age</th>\n",
              "      <th>dis</th>\n",
              "      <th>rad</th>\n",
              "      <th>tax</th>\n",
              "      <th>ptratio</th>\n",
              "      <th>black</th>\n",
              "      <th>lstat</th>\n",
              "      <th>medv</th>\n",
              "    </tr>\n",
              "  </thead>\n",
              "  <tbody>\n",
              "    <tr>\n",
              "      <th>crim</th>\n",
              "      <td>1.000000</td>\n",
              "      <td>-0.162500</td>\n",
              "      <td>0.455874</td>\n",
              "      <td>0.105399</td>\n",
              "      <td>0.489047</td>\n",
              "      <td>-0.099950</td>\n",
              "      <td>0.333203</td>\n",
              "      <td>-0.345032</td>\n",
              "      <td>0.577195</td>\n",
              "      <td>0.559003</td>\n",
              "      <td>0.221374</td>\n",
              "      <td>-0.122911</td>\n",
              "      <td>0.200224</td>\n",
              "      <td>-0.249821</td>\n",
              "    </tr>\n",
              "    <tr>\n",
              "      <th>zn</th>\n",
              "      <td>-0.162500</td>\n",
              "      <td>1.000000</td>\n",
              "      <td>-0.294582</td>\n",
              "      <td>-0.038927</td>\n",
              "      <td>-0.244109</td>\n",
              "      <td>0.157421</td>\n",
              "      <td>-0.200901</td>\n",
              "      <td>0.316662</td>\n",
              "      <td>-0.182530</td>\n",
              "      <td>-0.284796</td>\n",
              "      <td>-0.250318</td>\n",
              "      <td>0.030703</td>\n",
              "      <td>-0.195402</td>\n",
              "      <td>0.189467</td>\n",
              "    </tr>\n",
              "    <tr>\n",
              "      <th>indus</th>\n",
              "      <td>0.455874</td>\n",
              "      <td>-0.294582</td>\n",
              "      <td>1.000000</td>\n",
              "      <td>0.062938</td>\n",
              "      <td>0.763651</td>\n",
              "      <td>-0.391676</td>\n",
              "      <td>0.644779</td>\n",
              "      <td>-0.708027</td>\n",
              "      <td>0.595129</td>\n",
              "      <td>0.720760</td>\n",
              "      <td>0.383248</td>\n",
              "      <td>-0.113725</td>\n",
              "      <td>0.603800</td>\n",
              "      <td>-0.584221</td>\n",
              "    </tr>\n",
              "    <tr>\n",
              "      <th>chas</th>\n",
              "      <td>0.105399</td>\n",
              "      <td>-0.038927</td>\n",
              "      <td>0.062938</td>\n",
              "      <td>1.000000</td>\n",
              "      <td>0.091203</td>\n",
              "      <td>0.091251</td>\n",
              "      <td>0.086518</td>\n",
              "      <td>-0.099176</td>\n",
              "      <td>-0.007368</td>\n",
              "      <td>-0.035587</td>\n",
              "      <td>-0.121515</td>\n",
              "      <td>-0.067724</td>\n",
              "      <td>-0.053929</td>\n",
              "      <td>0.089774</td>\n",
              "    </tr>\n",
              "    <tr>\n",
              "      <th>nox</th>\n",
              "      <td>0.489047</td>\n",
              "      <td>-0.244109</td>\n",
              "      <td>0.763651</td>\n",
              "      <td>0.091203</td>\n",
              "      <td>1.000000</td>\n",
              "      <td>-0.302188</td>\n",
              "      <td>0.731470</td>\n",
              "      <td>-0.769230</td>\n",
              "      <td>0.611441</td>\n",
              "      <td>0.668023</td>\n",
              "      <td>0.188933</td>\n",
              "      <td>-0.101563</td>\n",
              "      <td>0.590879</td>\n",
              "      <td>-0.554382</td>\n",
              "    </tr>\n",
              "    <tr>\n",
              "      <th>rm</th>\n",
              "      <td>-0.099950</td>\n",
              "      <td>0.157421</td>\n",
              "      <td>-0.391676</td>\n",
              "      <td>0.091251</td>\n",
              "      <td>-0.302188</td>\n",
              "      <td>1.000000</td>\n",
              "      <td>-0.240265</td>\n",
              "      <td>0.205246</td>\n",
              "      <td>-0.209847</td>\n",
              "      <td>-0.292048</td>\n",
              "      <td>-0.355501</td>\n",
              "      <td>0.024791</td>\n",
              "      <td>-0.613808</td>\n",
              "      <td>0.458424</td>\n",
              "    </tr>\n",
              "    <tr>\n",
              "      <th>age</th>\n",
              "      <td>0.333203</td>\n",
              "      <td>-0.200901</td>\n",
              "      <td>0.644779</td>\n",
              "      <td>0.086518</td>\n",
              "      <td>0.731470</td>\n",
              "      <td>-0.240265</td>\n",
              "      <td>1.000000</td>\n",
              "      <td>-0.747881</td>\n",
              "      <td>0.456022</td>\n",
              "      <td>0.506456</td>\n",
              "      <td>0.261515</td>\n",
              "      <td>-0.054644</td>\n",
              "      <td>0.602339</td>\n",
              "      <td>-0.532753</td>\n",
              "    </tr>\n",
              "    <tr>\n",
              "      <th>dis</th>\n",
              "      <td>-0.345032</td>\n",
              "      <td>0.316662</td>\n",
              "      <td>-0.708027</td>\n",
              "      <td>-0.099176</td>\n",
              "      <td>-0.769230</td>\n",
              "      <td>0.205246</td>\n",
              "      <td>-0.747881</td>\n",
              "      <td>1.000000</td>\n",
              "      <td>-0.494588</td>\n",
              "      <td>-0.534432</td>\n",
              "      <td>-0.232471</td>\n",
              "      <td>0.040691</td>\n",
              "      <td>-0.496996</td>\n",
              "      <td>0.424506</td>\n",
              "    </tr>\n",
              "    <tr>\n",
              "      <th>rad</th>\n",
              "      <td>0.577195</td>\n",
              "      <td>-0.182530</td>\n",
              "      <td>0.595129</td>\n",
              "      <td>-0.007368</td>\n",
              "      <td>0.611441</td>\n",
              "      <td>-0.209847</td>\n",
              "      <td>0.456022</td>\n",
              "      <td>-0.494588</td>\n",
              "      <td>1.000000</td>\n",
              "      <td>0.910228</td>\n",
              "      <td>0.464741</td>\n",
              "      <td>-0.071420</td>\n",
              "      <td>0.488676</td>\n",
              "      <td>-0.489563</td>\n",
              "    </tr>\n",
              "    <tr>\n",
              "      <th>tax</th>\n",
              "      <td>0.559003</td>\n",
              "      <td>-0.284796</td>\n",
              "      <td>0.720760</td>\n",
              "      <td>-0.035587</td>\n",
              "      <td>0.668023</td>\n",
              "      <td>-0.292048</td>\n",
              "      <td>0.506456</td>\n",
              "      <td>-0.534432</td>\n",
              "      <td>0.910228</td>\n",
              "      <td>1.000000</td>\n",
              "      <td>0.460853</td>\n",
              "      <td>-0.083632</td>\n",
              "      <td>0.543993</td>\n",
              "      <td>-0.568349</td>\n",
              "    </tr>\n",
              "    <tr>\n",
              "      <th>ptratio</th>\n",
              "      <td>0.221374</td>\n",
              "      <td>-0.250318</td>\n",
              "      <td>0.383248</td>\n",
              "      <td>-0.121515</td>\n",
              "      <td>0.188933</td>\n",
              "      <td>-0.355501</td>\n",
              "      <td>0.261515</td>\n",
              "      <td>-0.232471</td>\n",
              "      <td>0.464741</td>\n",
              "      <td>0.460853</td>\n",
              "      <td>1.000000</td>\n",
              "      <td>0.061271</td>\n",
              "      <td>0.374044</td>\n",
              "      <td>-0.452214</td>\n",
              "    </tr>\n",
              "    <tr>\n",
              "      <th>black</th>\n",
              "      <td>-0.122911</td>\n",
              "      <td>0.030703</td>\n",
              "      <td>-0.113725</td>\n",
              "      <td>-0.067724</td>\n",
              "      <td>-0.101563</td>\n",
              "      <td>0.024791</td>\n",
              "      <td>-0.054644</td>\n",
              "      <td>0.040691</td>\n",
              "      <td>-0.071420</td>\n",
              "      <td>-0.083632</td>\n",
              "      <td>0.061271</td>\n",
              "      <td>1.000000</td>\n",
              "      <td>-0.005810</td>\n",
              "      <td>0.018441</td>\n",
              "    </tr>\n",
              "    <tr>\n",
              "      <th>lstat</th>\n",
              "      <td>0.200224</td>\n",
              "      <td>-0.195402</td>\n",
              "      <td>0.603800</td>\n",
              "      <td>-0.053929</td>\n",
              "      <td>0.590879</td>\n",
              "      <td>-0.613808</td>\n",
              "      <td>0.602339</td>\n",
              "      <td>-0.496996</td>\n",
              "      <td>0.488676</td>\n",
              "      <td>0.543993</td>\n",
              "      <td>0.374044</td>\n",
              "      <td>-0.005810</td>\n",
              "      <td>1.000000</td>\n",
              "      <td>-0.725681</td>\n",
              "    </tr>\n",
              "    <tr>\n",
              "      <th>medv</th>\n",
              "      <td>-0.249821</td>\n",
              "      <td>0.189467</td>\n",
              "      <td>-0.584221</td>\n",
              "      <td>0.089774</td>\n",
              "      <td>-0.554382</td>\n",
              "      <td>0.458424</td>\n",
              "      <td>-0.532753</td>\n",
              "      <td>0.424506</td>\n",
              "      <td>-0.489563</td>\n",
              "      <td>-0.568349</td>\n",
              "      <td>-0.452214</td>\n",
              "      <td>0.018441</td>\n",
              "      <td>-0.725681</td>\n",
              "      <td>1.000000</td>\n",
              "    </tr>\n",
              "  </tbody>\n",
              "</table>\n",
              "</div>"
            ],
            "text/plain": [
              "             crim        zn     indus  ...     black     lstat      medv\n",
              "crim     1.000000 -0.162500  0.455874  ... -0.122911  0.200224 -0.249821\n",
              "zn      -0.162500  1.000000 -0.294582  ...  0.030703 -0.195402  0.189467\n",
              "indus    0.455874 -0.294582  1.000000  ... -0.113725  0.603800 -0.584221\n",
              "chas     0.105399 -0.038927  0.062938  ... -0.067724 -0.053929  0.089774\n",
              "nox      0.489047 -0.244109  0.763651  ... -0.101563  0.590879 -0.554382\n",
              "rm      -0.099950  0.157421 -0.391676  ...  0.024791 -0.613808  0.458424\n",
              "age      0.333203 -0.200901  0.644779  ... -0.054644  0.602339 -0.532753\n",
              "dis     -0.345032  0.316662 -0.708027  ...  0.040691 -0.496996  0.424506\n",
              "rad      0.577195 -0.182530  0.595129  ... -0.071420  0.488676 -0.489563\n",
              "tax      0.559003 -0.284796  0.720760  ... -0.083632  0.543993 -0.568349\n",
              "ptratio  0.221374 -0.250318  0.383248  ...  0.061271  0.374044 -0.452214\n",
              "black   -0.122911  0.030703 -0.113725  ...  1.000000 -0.005810  0.018441\n",
              "lstat    0.200224 -0.195402  0.603800  ... -0.005810  1.000000 -0.725681\n",
              "medv    -0.249821  0.189467 -0.584221  ...  0.018441 -0.725681  1.000000\n",
              "\n",
              "[14 rows x 14 columns]"
            ]
          },
          "metadata": {
            "tags": []
          },
          "execution_count": 47
        }
      ]
    },
    {
      "cell_type": "markdown",
      "metadata": {
        "id": "zlQ7v0nHfE5k"
      },
      "source": [
        "#Lets split the dataset, standardize and build a model with all the variables first"
      ]
    },
    {
      "cell_type": "code",
      "metadata": {
        "id": "WjZTwgs9qGZK"
      },
      "source": [
        "X = bnew.iloc[:,:-1]\r\n",
        "Y = bnew['medv']"
      ],
      "execution_count": null,
      "outputs": []
    },
    {
      "cell_type": "code",
      "metadata": {
        "id": "r9L9x6HMtOGF"
      },
      "source": [
        "from sklearn.preprocessing import StandardScaler\r\n",
        "X_scale = StandardScaler().fit_transform(X)"
      ],
      "execution_count": null,
      "outputs": []
    },
    {
      "cell_type": "code",
      "metadata": {
        "id": "5Gn6hAU0qULs"
      },
      "source": [
        "from sklearn.model_selection._split import train_test_split\r\n",
        "x_train,x_test,y_train,y_test = train_test_split(X_scale,Y,)\r\n",
        "from sklearn.linear_model import LinearRegression\r\n",
        "model1 = LinearRegression().fit(x_train,y_train)\r\n"
      ],
      "execution_count": null,
      "outputs": []
    },
    {
      "cell_type": "code",
      "metadata": {
        "colab": {
          "base_uri": "https://localhost:8080/"
        },
        "id": "Y-lXqlper6Rx",
        "outputId": "31722c13-70bb-42fa-8e86-345080086689"
      },
      "source": [
        "ypred_train = model1.predict(x_train)\r\n",
        "ypred_test = model1.predict(x_test)\r\n",
        "from sklearn.metrics import mean_squared_error\r\n",
        "training_error = mean_squared_error(y_train,ypred_train)\r\n",
        "test_error = mean_squared_error(y_test,ypred_test)\r\n",
        "print('training error:', training_error)\r\n",
        "print('testing error:', test_error)"
      ],
      "execution_count": null,
      "outputs": [
        {
          "output_type": "stream",
          "text": [
            "training error: 14.452650937079886\n",
            "testing error: 16.073677499945436\n"
          ],
          "name": "stdout"
        }
      ]
    },
    {
      "cell_type": "code",
      "metadata": {
        "colab": {
          "base_uri": "https://localhost:8080/",
          "height": 743
        },
        "id": "uK4Qo0-qsxfn",
        "outputId": "3e144132-e081-477c-be3d-809566710ff3"
      },
      "source": [
        "import statsmodels.api as sma\r\n",
        "x1 = sma.add_constant(X)\r\n",
        "model1 = sma.OLS(Y,x1).fit()\r\n",
        "model1.summary()"
      ],
      "execution_count": 65,
      "outputs": [
        {
          "output_type": "execute_result",
          "data": {
            "text/html": [
              "<table class=\"simpletable\">\n",
              "<caption>OLS Regression Results</caption>\n",
              "<tr>\n",
              "  <th>Dep. Variable:</th>          <td>medv</td>       <th>  R-squared:         </th> <td>   0.614</td>\n",
              "</tr>\n",
              "<tr>\n",
              "  <th>Model:</th>                   <td>OLS</td>       <th>  Adj. R-squared:    </th> <td>   0.604</td>\n",
              "</tr>\n",
              "<tr>\n",
              "  <th>Method:</th>             <td>Least Squares</td>  <th>  F-statistic:       </th> <td>   60.28</td>\n",
              "</tr>\n",
              "<tr>\n",
              "  <th>Date:</th>             <td>Tue, 16 Feb 2021</td> <th>  Prob (F-statistic):</th> <td>5.97e-93</td>\n",
              "</tr>\n",
              "<tr>\n",
              "  <th>Time:</th>                 <td>08:15:50</td>     <th>  Log-Likelihood:    </th> <td> -1399.0</td>\n",
              "</tr>\n",
              "<tr>\n",
              "  <th>No. Observations:</th>      <td>   506</td>      <th>  AIC:               </th> <td>   2826.</td>\n",
              "</tr>\n",
              "<tr>\n",
              "  <th>Df Residuals:</th>          <td>   492</td>      <th>  BIC:               </th> <td>   2885.</td>\n",
              "</tr>\n",
              "<tr>\n",
              "  <th>Df Model:</th>              <td>    13</td>      <th>                     </th>     <td> </td>   \n",
              "</tr>\n",
              "<tr>\n",
              "  <th>Covariance Type:</th>      <td>nonrobust</td>    <th>                     </th>     <td> </td>   \n",
              "</tr>\n",
              "</table>\n",
              "<table class=\"simpletable\">\n",
              "<tr>\n",
              "     <td></td>        <th>coef</th>     <th>std err</th>      <th>t</th>      <th>P>|t|</th>  <th>[0.025</th>    <th>0.975]</th>  \n",
              "</tr>\n",
              "<tr>\n",
              "  <th>const</th>   <td>   49.5327</td> <td>    7.633</td> <td>    6.489</td> <td> 0.000</td> <td>   34.535</td> <td>   64.530</td>\n",
              "</tr>\n",
              "<tr>\n",
              "  <th>crim</th>    <td>    0.0836</td> <td>    0.113</td> <td>    0.737</td> <td> 0.462</td> <td>   -0.139</td> <td>    0.307</td>\n",
              "</tr>\n",
              "<tr>\n",
              "  <th>zn</th>      <td>   -0.0191</td> <td>    0.026</td> <td>   -0.725</td> <td> 0.469</td> <td>   -0.071</td> <td>    0.033</td>\n",
              "</tr>\n",
              "<tr>\n",
              "  <th>indus</th>   <td>   -0.0592</td> <td>    0.051</td> <td>   -1.167</td> <td> 0.244</td> <td>   -0.159</td> <td>    0.040</td>\n",
              "</tr>\n",
              "<tr>\n",
              "  <th>chas</th>    <td>    1.0982</td> <td>    0.710</td> <td>    1.547</td> <td> 0.123</td> <td>   -0.297</td> <td>    2.493</td>\n",
              "</tr>\n",
              "<tr>\n",
              "  <th>nox</th>     <td>  -10.5854</td> <td>    3.171</td> <td>   -3.339</td> <td> 0.001</td> <td>  -16.815</td> <td>   -4.356</td>\n",
              "</tr>\n",
              "<tr>\n",
              "  <th>rm</th>      <td>   -0.1658</td> <td>    0.338</td> <td>   -0.491</td> <td> 0.624</td> <td>   -0.830</td> <td>    0.498</td>\n",
              "</tr>\n",
              "<tr>\n",
              "  <th>age</th>     <td>   -0.0197</td> <td>    0.011</td> <td>   -1.822</td> <td> 0.069</td> <td>   -0.041</td> <td>    0.002</td>\n",
              "</tr>\n",
              "<tr>\n",
              "  <th>dis</th>     <td>   -0.4487</td> <td>    0.155</td> <td>   -2.903</td> <td> 0.004</td> <td>   -0.752</td> <td>   -0.145</td>\n",
              "</tr>\n",
              "<tr>\n",
              "  <th>rad</th>     <td>    0.1175</td> <td>    0.055</td> <td>    2.140</td> <td> 0.033</td> <td>    0.010</td> <td>    0.225</td>\n",
              "</tr>\n",
              "<tr>\n",
              "  <th>tax</th>     <td>   -0.0091</td> <td>    0.003</td> <td>   -2.942</td> <td> 0.003</td> <td>   -0.015</td> <td>   -0.003</td>\n",
              "</tr>\n",
              "<tr>\n",
              "  <th>ptratio</th> <td>   -0.5629</td> <td>    0.104</td> <td>   -5.404</td> <td> 0.000</td> <td>   -0.768</td> <td>   -0.358</td>\n",
              "</tr>\n",
              "<tr>\n",
              "  <th>black</th>   <td> 3.358e-05</td> <td>    0.017</td> <td>    0.002</td> <td> 0.998</td> <td>   -0.034</td> <td>    0.034</td>\n",
              "</tr>\n",
              "<tr>\n",
              "  <th>lstat</th>   <td>   -0.4181</td> <td>    0.042</td> <td>  -10.040</td> <td> 0.000</td> <td>   -0.500</td> <td>   -0.336</td>\n",
              "</tr>\n",
              "</table>\n",
              "<table class=\"simpletable\">\n",
              "<tr>\n",
              "  <th>Omnibus:</th>       <td>21.499</td> <th>  Durbin-Watson:     </th> <td>   1.540</td>\n",
              "</tr>\n",
              "<tr>\n",
              "  <th>Prob(Omnibus):</th> <td> 0.000</td> <th>  Jarque-Bera (JB):  </th> <td>  23.093</td>\n",
              "</tr>\n",
              "<tr>\n",
              "  <th>Skew:</th>          <td> 0.496</td> <th>  Prob(JB):          </th> <td>9.67e-06</td>\n",
              "</tr>\n",
              "<tr>\n",
              "  <th>Kurtosis:</th>      <td> 3.332</td> <th>  Cond. No.          </th> <td>2.59e+04</td>\n",
              "</tr>\n",
              "</table><br/><br/>Warnings:<br/>[1] Standard Errors assume that the covariance matrix of the errors is correctly specified.<br/>[2] The condition number is large, 2.59e+04. This might indicate that there are<br/>strong multicollinearity or other numerical problems."
            ],
            "text/plain": [
              "<class 'statsmodels.iolib.summary.Summary'>\n",
              "\"\"\"\n",
              "                            OLS Regression Results                            \n",
              "==============================================================================\n",
              "Dep. Variable:                   medv   R-squared:                       0.614\n",
              "Model:                            OLS   Adj. R-squared:                  0.604\n",
              "Method:                 Least Squares   F-statistic:                     60.28\n",
              "Date:                Tue, 16 Feb 2021   Prob (F-statistic):           5.97e-93\n",
              "Time:                        08:15:50   Log-Likelihood:                -1399.0\n",
              "No. Observations:                 506   AIC:                             2826.\n",
              "Df Residuals:                     492   BIC:                             2885.\n",
              "Df Model:                          13                                         \n",
              "Covariance Type:            nonrobust                                         \n",
              "==============================================================================\n",
              "                 coef    std err          t      P>|t|      [0.025      0.975]\n",
              "------------------------------------------------------------------------------\n",
              "const         49.5327      7.633      6.489      0.000      34.535      64.530\n",
              "crim           0.0836      0.113      0.737      0.462      -0.139       0.307\n",
              "zn            -0.0191      0.026     -0.725      0.469      -0.071       0.033\n",
              "indus         -0.0592      0.051     -1.167      0.244      -0.159       0.040\n",
              "chas           1.0982      0.710      1.547      0.123      -0.297       2.493\n",
              "nox          -10.5854      3.171     -3.339      0.001     -16.815      -4.356\n",
              "rm            -0.1658      0.338     -0.491      0.624      -0.830       0.498\n",
              "age           -0.0197      0.011     -1.822      0.069      -0.041       0.002\n",
              "dis           -0.4487      0.155     -2.903      0.004      -0.752      -0.145\n",
              "rad            0.1175      0.055      2.140      0.033       0.010       0.225\n",
              "tax           -0.0091      0.003     -2.942      0.003      -0.015      -0.003\n",
              "ptratio       -0.5629      0.104     -5.404      0.000      -0.768      -0.358\n",
              "black       3.358e-05      0.017      0.002      0.998      -0.034       0.034\n",
              "lstat         -0.4181      0.042    -10.040      0.000      -0.500      -0.336\n",
              "==============================================================================\n",
              "Omnibus:                       21.499   Durbin-Watson:                   1.540\n",
              "Prob(Omnibus):                  0.000   Jarque-Bera (JB):               23.093\n",
              "Skew:                           0.496   Prob(JB):                     9.67e-06\n",
              "Kurtosis:                       3.332   Cond. No.                     2.59e+04\n",
              "==============================================================================\n",
              "\n",
              "Warnings:\n",
              "[1] Standard Errors assume that the covariance matrix of the errors is correctly specified.\n",
              "[2] The condition number is large, 2.59e+04. This might indicate that there are\n",
              "strong multicollinearity or other numerical problems.\n",
              "\"\"\""
            ]
          },
          "metadata": {
            "tags": []
          },
          "execution_count": 65
        }
      ]
    },
    {
      "cell_type": "markdown",
      "metadata": {
        "id": "lNX0SaTgoffq"
      },
      "source": [
        "#We see that Adjusted R-squared(60.28) value is less than 70. Hence the model is not acceptable."
      ]
    }
  ]
}