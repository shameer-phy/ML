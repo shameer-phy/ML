{
  "nbformat": 4,
  "nbformat_minor": 0,
  "metadata": {
    "colab": {
      "name": "Workation price prediction.ipynb",
      "provenance": [],
      "collapsed_sections": [],
      "authorship_tag": "ABX9TyMzyQlMjYa4VpEmanA7eMxz",
      "include_colab_link": true
    },
    "kernelspec": {
      "name": "python3",
      "display_name": "Python 3"
    },
    "language_info": {
      "name": "python"
    }
  },
  "cells": [
    {
      "cell_type": "markdown",
      "metadata": {
        "id": "view-in-github",
        "colab_type": "text"
      },
      "source": [
        "<a href=\"https://colab.research.google.com/github/shameer-phy/ML/blob/main/Hackathons/macinehack/Workation_price_prediction.ipynb\" target=\"_parent\"><img src=\"https://colab.research.google.com/assets/colab-badge.svg\" alt=\"Open In Colab\"/></a>"
      ]
    },
    {
      "cell_type": "code",
      "metadata": {
        "id": "XsZZ6nk_kelv"
      },
      "source": [
        "import pandas as pd\n",
        "import numpy as np\n",
        "from sklearn.metrics import mean_squared_log_error\n",
        "from sklearn.model_selection import train_test_split\n",
        "from sklearn.metrics import mean_squared_error"
      ],
      "execution_count": null,
      "outputs": []
    },
    {
      "cell_type": "code",
      "metadata": {
        "colab": {
          "base_uri": "https://localhost:8080/"
        },
        "id": "N7ogo56GlebQ",
        "outputId": "5dc3e9c5-19da-4e29-a03f-19bdf98687a0"
      },
      "source": [
        "from google.colab import drive \n",
        "\n",
        "drive.mount(\"/content/gdrive\") "
      ],
      "execution_count": null,
      "outputs": [
        {
          "output_type": "stream",
          "text": [
            "Mounted at /content/gdrive\n"
          ],
          "name": "stdout"
        }
      ]
    },
    {
      "cell_type": "code",
      "metadata": {
        "id": "8c4uHIzVlpSK"
      },
      "source": [
        "# Lets read the training dataset and tes dataset\n",
        "\n",
        "wp = pd.read_csv('/content/gdrive/My Drive/Datasets/machinehack/Train.csv')\n",
        " \n",
        "wp_test = pd.read_csv('/content/gdrive/My Drive/Datasets/machinehack/Test.csv')"
      ],
      "execution_count": null,
      "outputs": []
    },
    {
      "cell_type": "code",
      "metadata": {
        "colab": {
          "base_uri": "https://localhost:8080/"
        },
        "id": "4PNnK0r4l9de",
        "outputId": "8a450baa-edde-4e91-ea72-b3ef384a72d9"
      },
      "source": [
        "wp.head()\n",
        "wp.isnull().sum()"
      ],
      "execution_count": null,
      "outputs": [
        {
          "output_type": "execute_result",
          "data": {
            "text/plain": [
              "Uniq Id                       0\n",
              "Package Name                  0\n",
              "Package Type                  0\n",
              "Destination                   0\n",
              "Itinerary                     0\n",
              "Places Covered                0\n",
              "Travel Date                   0\n",
              "Hotel Details                 0\n",
              "Start City                    0\n",
              "Airline                       0\n",
              "Flight Stops                  0\n",
              "Meals                         0\n",
              "Sightseeing Places Covered    0\n",
              "Cancellation Rules            0\n",
              "Per Person Price              0\n",
              "dtype: int64"
            ]
          },
          "metadata": {
            "tags": []
          },
          "execution_count": 4
        }
      ]
    },
    {
      "cell_type": "code",
      "metadata": {
        "colab": {
          "base_uri": "https://localhost:8080/"
        },
        "id": "QY-fVnMmmkcQ",
        "outputId": "19f9dfcb-65fb-4ec1-fa63-540b1e8024ee"
      },
      "source": [
        "wp.nunique()"
      ],
      "execution_count": null,
      "outputs": [
        {
          "output_type": "execute_result",
          "data": {
            "text/plain": [
              "Uniq Id                       21000\n",
              "Package Name                   2204\n",
              "Package Type                      5\n",
              "Destination                     565\n",
              "Itinerary                       966\n",
              "Places Covered                  565\n",
              "Travel Date                     495\n",
              "Hotel Details                  6060\n",
              "Start City                        2\n",
              "Airline                         314\n",
              "Flight Stops                      3\n",
              "Meals                             4\n",
              "Sightseeing Places Covered     1714\n",
              "Cancellation Rules               10\n",
              "Per Person Price              17138\n",
              "dtype: int64"
            ]
          },
          "metadata": {
            "tags": []
          },
          "execution_count": 5
        }
      ]
    },
    {
      "cell_type": "code",
      "metadata": {
        "colab": {
          "base_uri": "https://localhost:8080/"
        },
        "id": "9CzqYCcImsCn",
        "outputId": "7db3c480-8c2c-4465-9fad-598bd935896c"
      },
      "source": [
        "wp.shape"
      ],
      "execution_count": null,
      "outputs": [
        {
          "output_type": "execute_result",
          "data": {
            "text/plain": [
              "(21000, 15)"
            ]
          },
          "metadata": {
            "tags": []
          },
          "execution_count": 6
        }
      ]
    },
    {
      "cell_type": "code",
      "metadata": {
        "colab": {
          "base_uri": "https://localhost:8080/"
        },
        "id": "FPVMdt2myA9_",
        "outputId": "1e5648ee-a27a-4af1-afea-454ce9da0535"
      },
      "source": [
        "wp.dtypes"
      ],
      "execution_count": null,
      "outputs": [
        {
          "output_type": "execute_result",
          "data": {
            "text/plain": [
              "Uniq Id                        object\n",
              "Package Name                   object\n",
              "Package Type                   object\n",
              "Destination                    object\n",
              "Itinerary                      object\n",
              "Places Covered                 object\n",
              "Travel Date                    object\n",
              "Hotel Details                  object\n",
              "Start City                     object\n",
              "Airline                        object\n",
              "Flight Stops                    int64\n",
              "Meals                           int64\n",
              "Sightseeing Places Covered     object\n",
              "Cancellation Rules             object\n",
              "Per Person Price              float64\n",
              "dtype: object"
            ]
          },
          "metadata": {
            "tags": []
          },
          "execution_count": 7
        }
      ]
    },
    {
      "cell_type": "code",
      "metadata": {
        "id": "wnZk0yuqyBpX"
      },
      "source": [
        "wp = wp.drop(['Uniq Id'],axis=1)"
      ],
      "execution_count": null,
      "outputs": []
    },
    {
      "cell_type": "code",
      "metadata": {
        "id": "vTlnESacyd2C"
      },
      "source": [
        "wp_test = wp_test.drop(['Uniq Id'],axis=1)"
      ],
      "execution_count": null,
      "outputs": []
    },
    {
      "cell_type": "code",
      "metadata": {
        "colab": {
          "base_uri": "https://localhost:8080/"
        },
        "id": "a3pro3DkyBrq",
        "outputId": "31ccb0f9-f9e7-4453-8a06-bb1a8e81665b"
      },
      "source": [
        "wp.dtypes\n",
        "wp_test.dtypes"
      ],
      "execution_count": null,
      "outputs": [
        {
          "output_type": "execute_result",
          "data": {
            "text/plain": [
              "Package Name                  object\n",
              "Package Type                  object\n",
              "Destination                   object\n",
              "Itinerary                     object\n",
              "Places Covered                object\n",
              "Travel Date                   object\n",
              "Hotel Details                 object\n",
              "Start City                    object\n",
              "Airline                       object\n",
              "Flight Stops                   int64\n",
              "Meals                          int64\n",
              "Sightseeing Places Covered    object\n",
              "Cancellation Rules            object\n",
              "dtype: object"
            ]
          },
          "metadata": {
            "tags": []
          },
          "execution_count": 7
        }
      ]
    },
    {
      "cell_type": "code",
      "metadata": {
        "colab": {
          "base_uri": "https://localhost:8080/"
        },
        "id": "_MR-Nw9f2BIb",
        "outputId": "744e2f46-c43c-4456-8304-4fa9db63df2e"
      },
      "source": [
        "pip install researchpy"
      ],
      "execution_count": null,
      "outputs": [
        {
          "output_type": "stream",
          "text": [
            "Collecting researchpy\n",
            "  Downloading https://files.pythonhosted.org/packages/4b/a3/b16ea25a5416f7c35824b2fc3ee1cdc9f9d8ab6d9fc4119679504d43b8a8/researchpy-0.2.3-py3-none-any.whl\n",
            "Requirement already satisfied: pandas in /usr/local/lib/python3.7/dist-packages (from researchpy) (1.1.5)\n",
            "Requirement already satisfied: statsmodels in /usr/local/lib/python3.7/dist-packages (from researchpy) (0.10.2)\n",
            "Requirement already satisfied: numpy in /usr/local/lib/python3.7/dist-packages (from researchpy) (1.19.5)\n",
            "Requirement already satisfied: scipy in /usr/local/lib/python3.7/dist-packages (from researchpy) (1.4.1)\n",
            "Requirement already satisfied: pytz>=2017.2 in /usr/local/lib/python3.7/dist-packages (from pandas->researchpy) (2018.9)\n",
            "Requirement already satisfied: python-dateutil>=2.7.3 in /usr/local/lib/python3.7/dist-packages (from pandas->researchpy) (2.8.1)\n",
            "Requirement already satisfied: patsy>=0.4.0 in /usr/local/lib/python3.7/dist-packages (from statsmodels->researchpy) (0.5.1)\n",
            "Requirement already satisfied: six>=1.5 in /usr/local/lib/python3.7/dist-packages (from python-dateutil>=2.7.3->pandas->researchpy) (1.15.0)\n",
            "Installing collected packages: researchpy\n",
            "Successfully installed researchpy-0.2.3\n"
          ],
          "name": "stdout"
        }
      ]
    },
    {
      "cell_type": "code",
      "metadata": {
        "id": "fUeeu3sNyBt8"
      },
      "source": [
        "def chi2test(x,y):\n",
        "  import researchpy as rp\n",
        "  t = rp.crosstab(wp[x],wp[y],test='chi-square')\n",
        "  if t[1].iloc[1,1] < 0.05:\n",
        "    print(t[0])\n",
        "    print('Depedent. Drop a variable')\n",
        "  else:\n",
        "    print('Independent. Keep both')"
      ],
      "execution_count": null,
      "outputs": []
    },
    {
      "cell_type": "code",
      "metadata": {
        "id": "1iTptAAqyBvy"
      },
      "source": [
        "obj_cols = wp.select_dtypes(include='object').columns"
      ],
      "execution_count": null,
      "outputs": []
    },
    {
      "cell_type": "code",
      "metadata": {
        "colab": {
          "base_uri": "https://localhost:8080/"
        },
        "id": "j32XjlI4yByi",
        "outputId": "3bd1d9b9-44f3-4f99-8801-be1e8f4d9d23"
      },
      "source": [
        "obj_cols"
      ],
      "execution_count": null,
      "outputs": [
        {
          "output_type": "execute_result",
          "data": {
            "text/plain": [
              "Index(['Package Name', 'Package Type', 'Destination', 'Itinerary',\n",
              "       'Places Covered', 'Travel Date', 'Hotel Details', 'Start City',\n",
              "       'Airline', 'Sightseeing Places Covered', 'Cancellation Rules'],\n",
              "      dtype='object')"
            ]
          },
          "metadata": {
            "tags": []
          },
          "execution_count": 11
        }
      ]
    },
    {
      "cell_type": "code",
      "metadata": {
        "colab": {
          "base_uri": "https://localhost:8080/"
        },
        "id": "1AHt7WleyB1M",
        "outputId": "ff1b6b72-25a7-4da4-8eff-01c9189953e3"
      },
      "source": [
        "drop_cols=[]\n",
        "chi2test(obj_cols[0],obj_cols[1])"
      ],
      "execution_count": null,
      "outputs": [
        {
          "output_type": "stream",
          "text": [
            "/usr/local/lib/python3.7/dist-packages/statsmodels/tools/_testing.py:19: FutureWarning: pandas.util.testing is deprecated. Use the functions in the public API at pandas.testing instead.\n",
            "  import pandas.util.testing as tm\n"
          ],
          "name": "stderr"
        },
        {
          "output_type": "stream",
          "text": [
            "                                                   Package Type  ...       \n",
            "Package Type                                             Budget  ...    All\n",
            "Package Name                                                     ...       \n",
            "02 Night Singapore and 02 Night Genting Dream C...            0  ...      1\n",
            "2 Nights Dubai and 2 Nights Sharjah Holiday                   0  ...     11\n",
            "2 Nights Moscow & 2 Nights Saint Petersburg                   0  ...      3\n",
            "2 Nights each in Jodhpur & Jaisalmer                          0  ...      9\n",
            "2 Nights in Munnar with Thekkady and Cochin                   0  ...     11\n",
            "...                                                         ...  ...    ...\n",
            "Young and Free - Party Trip to Goa from Pune (B...            0  ...      4\n",
            "Young and Free - Udaipur Weekend from Ahmedabad...            0  ...      2\n",
            "Young and Free - Wayanad                                      0  ...      4\n",
            "test pacakge                                                  0  ...      2\n",
            "All                                                         466  ...  21000\n",
            "\n",
            "[2205 rows x 6 columns]\n",
            "Depedent. Drop a variable\n"
          ],
          "name": "stdout"
        }
      ]
    },
    {
      "cell_type": "code",
      "metadata": {
        "id": "6-WGfldTyB3A"
      },
      "source": [
        "drop_cols.append(obj_cols[0])"
      ],
      "execution_count": null,
      "outputs": []
    },
    {
      "cell_type": "code",
      "metadata": {
        "colab": {
          "base_uri": "https://localhost:8080/"
        },
        "id": "CjVBFQvWyB4T",
        "outputId": "fd97618f-4d0e-4a73-a331-9497eb83ac51"
      },
      "source": [
        "chi2test(obj_cols[1],obj_cols[2])"
      ],
      "execution_count": null,
      "outputs": [
        {
          "output_type": "stream",
          "text": [
            "             Destination                       ...                            \n",
            "Destination    Abu Dhabi Abu Dhabi|Dubai Agra  ... Wayanad Yala|Colombo    All\n",
            "Package Type                                   ...                            \n",
            "Budget                 0               0    0  ...       7            0    466\n",
            "Deluxe                13               0    9  ...       7            6   6006\n",
            "Luxury                 2               0    4  ...       9            0   3278\n",
            "Premium                5               0    8  ...       9            0   5581\n",
            "Standard               7               4    5  ...       7            5   5669\n",
            "All                   27               4   26  ...      39           11  21000\n",
            "\n",
            "[6 rows x 566 columns]\n",
            "Depedent. Drop a variable\n"
          ],
          "name": "stdout"
        }
      ]
    },
    {
      "cell_type": "code",
      "metadata": {
        "id": "6pDC8TjLyB6B"
      },
      "source": [
        "drop_cols.append(obj_cols[2])"
      ],
      "execution_count": null,
      "outputs": []
    },
    {
      "cell_type": "code",
      "metadata": {
        "colab": {
          "base_uri": "https://localhost:8080/"
        },
        "id": "K43qptZ_9Wqk",
        "outputId": "34d35eb3-2ba2-4c7c-9831-70254c1e29cf"
      },
      "source": [
        "chi2test(obj_cols[1],obj_cols[3])"
      ],
      "execution_count": null,
      "outputs": [
        {
          "output_type": "stream",
          "text": [
            "             Itinerary  ...       \n",
            "Itinerary      1N Agra  ...    All\n",
            "Package Type            ...       \n",
            "Budget               0  ...    466\n",
            "Deluxe               2  ...   6006\n",
            "Luxury               4  ...   3278\n",
            "Premium              0  ...   5581\n",
            "Standard             1  ...   5669\n",
            "All                  7  ...  21000\n",
            "\n",
            "[6 rows x 967 columns]\n",
            "Depedent. Drop a variable\n"
          ],
          "name": "stdout"
        }
      ]
    },
    {
      "cell_type": "code",
      "metadata": {
        "id": "Mu9GyLaA_LP6"
      },
      "source": [
        "drop_cols.append(obj_cols[3])"
      ],
      "execution_count": null,
      "outputs": []
    },
    {
      "cell_type": "code",
      "metadata": {
        "colab": {
          "base_uri": "https://localhost:8080/"
        },
        "id": "L2ZT1eXW_LxO",
        "outputId": "3eb21d98-3a4b-4525-c344-48208ba95dbe"
      },
      "source": [
        "obj_cols"
      ],
      "execution_count": null,
      "outputs": [
        {
          "output_type": "execute_result",
          "data": {
            "text/plain": [
              "Index(['Package Name', 'Package Type', 'Destination', 'Itinerary',\n",
              "       'Places Covered', 'Travel Date', 'Hotel Details', 'Start City',\n",
              "       'Airline', 'Sightseeing Places Covered', 'Cancellation Rules'],\n",
              "      dtype='object')"
            ]
          },
          "metadata": {
            "tags": []
          },
          "execution_count": 18
        }
      ]
    },
    {
      "cell_type": "code",
      "metadata": {
        "id": "yfBlBis8_L0H",
        "colab": {
          "base_uri": "https://localhost:8080/"
        },
        "outputId": "b7352379-81b2-41f7-9319-42724a0afc24"
      },
      "source": [
        "chi2test(obj_cols[1],obj_cols[3])"
      ],
      "execution_count": null,
      "outputs": [
        {
          "output_type": "stream",
          "text": [
            "             Itinerary  ...       \n",
            "Itinerary      1N Agra  ...    All\n",
            "Package Type            ...       \n",
            "Budget               0  ...    466\n",
            "Deluxe               2  ...   6006\n",
            "Luxury               4  ...   3278\n",
            "Premium              0  ...   5581\n",
            "Standard             1  ...   5669\n",
            "All                  7  ...  21000\n",
            "\n",
            "[6 rows x 967 columns]\n",
            "Depedent. Drop a variable\n"
          ],
          "name": "stdout"
        }
      ]
    },
    {
      "cell_type": "code",
      "metadata": {
        "id": "88erK1Dm_L2g"
      },
      "source": [
        "drop_cols.append(obj_cols[3])"
      ],
      "execution_count": null,
      "outputs": []
    },
    {
      "cell_type": "code",
      "metadata": {
        "id": "7UwBvSiQ_L4O",
        "colab": {
          "base_uri": "https://localhost:8080/"
        },
        "outputId": "4a375703-8b8c-46a6-fea2-3c22c03f1964"
      },
      "source": [
        "chi2test(obj_cols[1],obj_cols[4])"
      ],
      "execution_count": null,
      "outputs": [
        {
          "output_type": "stream",
          "text": [
            "               Places Covered                       ...                            \n",
            "Places Covered      Abu Dhabi Abu Dhabi|Dubai Agra  ... Wayanad Yala|Colombo    All\n",
            "Package Type                                        ...                            \n",
            "Budget                      0               0    0  ...       7            0    466\n",
            "Deluxe                     13               0    9  ...       7            6   6006\n",
            "Luxury                      2               0    4  ...       9            0   3278\n",
            "Premium                     5               0    8  ...       9            0   5581\n",
            "Standard                    7               4    5  ...       7            5   5669\n",
            "All                        27               4   26  ...      39           11  21000\n",
            "\n",
            "[6 rows x 566 columns]\n",
            "Depedent. Drop a variable\n"
          ],
          "name": "stdout"
        }
      ]
    },
    {
      "cell_type": "code",
      "metadata": {
        "id": "J4LORf3t14Pn"
      },
      "source": [
        "drop_cols.append(obj_cols[4])"
      ],
      "execution_count": null,
      "outputs": []
    },
    {
      "cell_type": "code",
      "metadata": {
        "colab": {
          "base_uri": "https://localhost:8080/"
        },
        "id": "QmcslHlM1_5a",
        "outputId": "3af38978-3d37-41a5-a70b-d380b845cd25"
      },
      "source": [
        "chi2test(obj_cols[1],obj_cols[5])"
      ],
      "execution_count": null,
      "outputs": [
        {
          "output_type": "stream",
          "text": [
            "             Travel Date                        ...                             \n",
            "Travel Date   01-01-2021 01-01-2022 01-02-2021  ... 31-10-2021 31-12-2021    All\n",
            "Package Type                                    ...                             \n",
            "Budget                 0          0          0  ...          1          0    466\n",
            "Deluxe                 0         11          6  ...         16          7   6006\n",
            "Luxury                 0          1          2  ...          6          4   3278\n",
            "Premium                1          9         14  ...         14          5   5581\n",
            "Standard               0          6         10  ...         20          8   5669\n",
            "All                    1         27         32  ...         57         24  21000\n",
            "\n",
            "[6 rows x 496 columns]\n",
            "Depedent. Drop a variable\n"
          ],
          "name": "stdout"
        }
      ]
    },
    {
      "cell_type": "code",
      "metadata": {
        "id": "nJiUxk3B2By8"
      },
      "source": [
        "drop_cols.append(obj_cols[5])"
      ],
      "execution_count": null,
      "outputs": []
    },
    {
      "cell_type": "code",
      "metadata": {
        "colab": {
          "base_uri": "https://localhost:8080/"
        },
        "id": "9o0P6JnL2I4d",
        "outputId": "67d9cff4-d462-4fbb-c117-af0ffc4efd4e"
      },
      "source": [
        "chi2test(obj_cols[1],obj_cols[6])"
      ],
      "execution_count": null,
      "outputs": [
        {
          "output_type": "stream",
          "text": [
            "                                                                                                                                 Hotel Details  ...       \n",
            "Hotel Details 175 Metropolitan Executive Motel on Riccarton:4.5|Arrowtown House Boutique Accommodation:5.0|Jet Park Hotel Auckland Airport:4.5  ...    All\n",
            "Package Type                                                                                                                                    ...       \n",
            "Budget                                                         0                                                                                ...    466\n",
            "Deluxe                                                         1                                                                                ...   6006\n",
            "Luxury                                                         0                                                                                ...   3278\n",
            "Premium                                                        0                                                                                ...   5581\n",
            "Standard                                                       0                                                                                ...   5669\n",
            "All                                                            1                                                                                ...  21000\n",
            "\n",
            "[6 rows x 6061 columns]\n",
            "Depedent. Drop a variable\n"
          ],
          "name": "stdout"
        }
      ]
    },
    {
      "cell_type": "code",
      "metadata": {
        "colab": {
          "base_uri": "https://localhost:8080/"
        },
        "id": "ilgsZslM2MG5",
        "outputId": "1b7b2812-e85c-4abf-fb9f-78a5b955c540"
      },
      "source": [
        "drop_cols.append(obj_cols[6])\n",
        "drop_cols"
      ],
      "execution_count": null,
      "outputs": [
        {
          "output_type": "execute_result",
          "data": {
            "text/plain": [
              "['Package Name',\n",
              " 'Destination',\n",
              " 'Itinerary',\n",
              " 'Itinerary',\n",
              " 'Places Covered',\n",
              " 'Travel Date',\n",
              " 'Hotel Details']"
            ]
          },
          "metadata": {
            "tags": []
          },
          "execution_count": 26
        }
      ]
    },
    {
      "cell_type": "code",
      "metadata": {
        "colab": {
          "base_uri": "https://localhost:8080/"
        },
        "id": "Dc9Z0svD2Zp2",
        "outputId": "ed270c20-cdfe-4435-af39-2be9d9c89e96"
      },
      "source": [
        "chi2test(obj_cols[1],obj_cols[7])"
      ],
      "execution_count": null,
      "outputs": [
        {
          "output_type": "stream",
          "text": [
            "             Start City                 \n",
            "Start City       Mumbai New Delhi    All\n",
            "Package Type                            \n",
            "Budget              117       349    466\n",
            "Deluxe             2141      3865   6006\n",
            "Luxury             1112      2166   3278\n",
            "Premium            1931      3650   5581\n",
            "Standard           1966      3703   5669\n",
            "All                7267     13733  21000\n",
            "Depedent. Drop a variable\n"
          ],
          "name": "stdout"
        }
      ]
    },
    {
      "cell_type": "code",
      "metadata": {
        "id": "dvErzjuN2kT9"
      },
      "source": [
        "drop_cols.append(obj_cols[7])"
      ],
      "execution_count": null,
      "outputs": []
    },
    {
      "cell_type": "code",
      "metadata": {
        "colab": {
          "base_uri": "https://localhost:8080/"
        },
        "id": "Id3t7MtO2pxM",
        "outputId": "976ea5a7-3d71-4a51-9861-4020369fa372"
      },
      "source": [
        "chi2test(obj_cols[1],obj_cols[8])"
      ],
      "execution_count": null,
      "outputs": [
        {
          "output_type": "stream",
          "text": [
            "                                         Airline  ...       \n",
            "Airline      Aeroflot|Aeroflot|Aeroflot|Aeroflot  ...    All\n",
            "Package Type                                      ...       \n",
            "Budget                                         0  ...    466\n",
            "Deluxe                                         0  ...   6006\n",
            "Luxury                                         1  ...   3278\n",
            "Premium                                        0  ...   5581\n",
            "Standard                                       0  ...   5669\n",
            "All                                            1  ...  21000\n",
            "\n",
            "[6 rows x 315 columns]\n",
            "Depedent. Drop a variable\n"
          ],
          "name": "stdout"
        }
      ]
    },
    {
      "cell_type": "code",
      "metadata": {
        "id": "sW6s9uO52rf9"
      },
      "source": [
        "drop_cols.append(obj_cols[8])"
      ],
      "execution_count": null,
      "outputs": []
    },
    {
      "cell_type": "code",
      "metadata": {
        "colab": {
          "base_uri": "https://localhost:8080/"
        },
        "id": "TdzC6_GQ215n",
        "outputId": "c9cede7d-762b-4f07-9e2c-f901106a1911"
      },
      "source": [
        "chi2test(obj_cols[1],obj_cols[9])"
      ],
      "execution_count": null,
      "outputs": [
        {
          "output_type": "stream",
          "text": [
            "                                                                            Sightseeing Places Covered  ...       \n",
            "Sightseeing Places Covered  3 Full Day Sightseeing Tours with Return Airport Transfer on Shared Basis   ...    All\n",
            "Package Type                                                                                            ...       \n",
            "Budget                                                                      0                           ...    466\n",
            "Deluxe                                                                      2                           ...   6006\n",
            "Luxury                                                                      1                           ...   3278\n",
            "Premium                                                                     9                           ...   5581\n",
            "Standard                                                                    0                           ...   5669\n",
            "All                                                                        12                           ...  21000\n",
            "\n",
            "[6 rows x 1715 columns]\n",
            "Depedent. Drop a variable\n"
          ],
          "name": "stdout"
        }
      ]
    },
    {
      "cell_type": "code",
      "metadata": {
        "id": "Vx-xneUN23xo"
      },
      "source": [
        "drop_cols.append(obj_cols[9])"
      ],
      "execution_count": null,
      "outputs": []
    },
    {
      "cell_type": "code",
      "metadata": {
        "colab": {
          "base_uri": "https://localhost:8080/"
        },
        "id": "rYamI0Vh5bvC",
        "outputId": "315c8968-6996-409a-a5e0-248ae9f29620"
      },
      "source": [
        "chi2test(obj_cols[1],obj_cols[10])"
      ],
      "execution_count": null,
      "outputs": [
        {
          "output_type": "stream",
          "text": [
            "                                                                                                                                                                                                                                                                                                                                                                                                                                                                                                                                                         Cancellation Rules  ...       \n",
            "Cancellation Rules Cancellation any time after making the 1st payment instalment till the 2nd payment date:The entire amount paid as 1st payment instalment (deposit) would be non-refundable.Cancellation after 2nd payment instalment and before 3rd or final payment date:The total amount that was due at the 2nd payment instalment as per your payment schedule would be non-refundable; anything that you have paid over and above this amount would be refundable.Cancellation after 3rd or final payment date:The full amount paid by you would be non-refundable.  ...    All\n",
            "Package Type                                                                                                                                                                                                                                                                                                                                                                                                                                                                                                                                                                 ...       \n",
            "Budget                                                            316                                                                                                                                                                                                                                                                                                                                                                                                                                                                                                        ...    466\n",
            "Deluxe                                                           5097                                                                                                                                                                                                                                                                                                                                                                                                                                                                                                        ...   6006\n",
            "Luxury                                                           2661                                                                                                                                                                                                                                                                                                                                                                                                                                                                                                        ...   3278\n",
            "Premium                                                          4689                                                                                                                                                                                                                                                                                                                                                                                                                                                                                                        ...   5581\n",
            "Standard                                                         4811                                                                                                                                                                                                                                                                                                                                                                                                                                                                                                        ...   5669\n",
            "All                                                             17574                                                                                                                                                                                                                                                                                                                                                                                                                                                                                                        ...  21000\n",
            "\n",
            "[6 rows x 11 columns]\n",
            "Depedent. Drop a variable\n"
          ],
          "name": "stdout"
        }
      ]
    },
    {
      "cell_type": "code",
      "metadata": {
        "id": "gfzsYH3C5d40"
      },
      "source": [
        "drop_cols.append(obj_cols[10])"
      ],
      "execution_count": null,
      "outputs": []
    },
    {
      "cell_type": "code",
      "metadata": {
        "id": "ODndOmBU5jtA"
      },
      "source": [
        "drop_cols.remove('Itinerary')"
      ],
      "execution_count": null,
      "outputs": []
    },
    {
      "cell_type": "code",
      "metadata": {
        "colab": {
          "base_uri": "https://localhost:8080/"
        },
        "id": "a4Gir-tc5q2z",
        "outputId": "0a4284b7-78fe-466b-b2d5-0b4a4c6a7f3f"
      },
      "source": [
        "drop_cols"
      ],
      "execution_count": null,
      "outputs": [
        {
          "output_type": "execute_result",
          "data": {
            "text/plain": [
              "['Package Name',\n",
              " 'Destination',\n",
              " 'Itinerary',\n",
              " 'Places Covered',\n",
              " 'Travel Date',\n",
              " 'Hotel Details',\n",
              " 'Start City',\n",
              " 'Airline',\n",
              " 'Sightseeing Places Covered',\n",
              " 'Cancellation Rules']"
            ]
          },
          "metadata": {
            "tags": []
          },
          "execution_count": 38
        }
      ]
    },
    {
      "cell_type": "code",
      "metadata": {
        "id": "b1ZWaR2SF5bY"
      },
      "source": [
        "drop_cols.remove('Package Name')\n",
        "drop_cols.append('Package Type')"
      ],
      "execution_count": null,
      "outputs": []
    },
    {
      "cell_type": "code",
      "metadata": {
        "colab": {
          "base_uri": "https://localhost:8080/"
        },
        "id": "yaqSm_uXGC1r",
        "outputId": "e6821ffd-bd66-4f8a-aad6-914b64549f2b"
      },
      "source": [
        "drop_cols"
      ],
      "execution_count": null,
      "outputs": [
        {
          "output_type": "execute_result",
          "data": {
            "text/plain": [
              "['Destination',\n",
              " 'Itinerary',\n",
              " 'Places Covered',\n",
              " 'Travel Date',\n",
              " 'Hotel Details',\n",
              " 'Start City',\n",
              " 'Airline',\n",
              " 'Sightseeing Places Covered',\n",
              " 'Cancellation Rules',\n",
              " 'Package Type']"
            ]
          },
          "metadata": {
            "tags": []
          },
          "execution_count": 41
        }
      ]
    },
    {
      "cell_type": "code",
      "metadata": {
        "id": "DTJZaiFW6DZ_"
      },
      "source": [
        "new_wp = wp.drop(drop_cols,axis=1)\n",
        "new_wptest = wp_test.drop(drop_cols,axis=1)"
      ],
      "execution_count": null,
      "outputs": []
    },
    {
      "cell_type": "code",
      "metadata": {
        "colab": {
          "base_uri": "https://localhost:8080/",
          "height": 206
        },
        "id": "MlPbyedx6NDy",
        "outputId": "33b19880-3970-47d0-f570-6ce2cf0578ef"
      },
      "source": [
        "new_wp.head()\n",
        "new_wptest.head()"
      ],
      "execution_count": null,
      "outputs": [
        {
          "output_type": "execute_result",
          "data": {
            "text/html": [
              "<div>\n",
              "<style scoped>\n",
              "    .dataframe tbody tr th:only-of-type {\n",
              "        vertical-align: middle;\n",
              "    }\n",
              "\n",
              "    .dataframe tbody tr th {\n",
              "        vertical-align: top;\n",
              "    }\n",
              "\n",
              "    .dataframe thead th {\n",
              "        text-align: right;\n",
              "    }\n",
              "</style>\n",
              "<table border=\"1\" class=\"dataframe\">\n",
              "  <thead>\n",
              "    <tr style=\"text-align: right;\">\n",
              "      <th></th>\n",
              "      <th>Package Name</th>\n",
              "      <th>Flight Stops</th>\n",
              "      <th>Meals</th>\n",
              "    </tr>\n",
              "  </thead>\n",
              "  <tbody>\n",
              "    <tr>\n",
              "      <th>0</th>\n",
              "      <td>Goa 5N stay with flights &amp; Transfers-North Goa</td>\n",
              "      <td>0</td>\n",
              "      <td>4</td>\n",
              "    </tr>\n",
              "    <tr>\n",
              "      <th>1</th>\n",
              "      <td>Into the Wild - Weekend at Bandipur National Park</td>\n",
              "      <td>0</td>\n",
              "      <td>4</td>\n",
              "    </tr>\n",
              "    <tr>\n",
              "      <th>2</th>\n",
              "      <td>Unforgettable Munnar Getaway - Private Picnic ...</td>\n",
              "      <td>2</td>\n",
              "      <td>3</td>\n",
              "    </tr>\n",
              "    <tr>\n",
              "      <th>3</th>\n",
              "      <td>Munnar for Adventure Lovers - Top Valley Trek</td>\n",
              "      <td>1</td>\n",
              "      <td>3</td>\n",
              "    </tr>\n",
              "    <tr>\n",
              "      <th>4</th>\n",
              "      <td>Splendours of Kerala - Make your own Tea</td>\n",
              "      <td>0</td>\n",
              "      <td>4</td>\n",
              "    </tr>\n",
              "  </tbody>\n",
              "</table>\n",
              "</div>"
            ],
            "text/plain": [
              "                                        Package Name  Flight Stops  Meals\n",
              "0     Goa 5N stay with flights & Transfers-North Goa             0      4\n",
              "1  Into the Wild - Weekend at Bandipur National Park             0      4\n",
              "2  Unforgettable Munnar Getaway - Private Picnic ...             2      3\n",
              "3      Munnar for Adventure Lovers - Top Valley Trek             1      3\n",
              "4           Splendours of Kerala - Make your own Tea             0      4"
            ]
          },
          "metadata": {
            "tags": []
          },
          "execution_count": 43
        }
      ]
    },
    {
      "cell_type": "code",
      "metadata": {
        "id": "vwwJ4feAJTgk"
      },
      "source": [
        "new_wp['Package Name'] = pd.factorize(new_wp['Package Name'])[0]"
      ],
      "execution_count": null,
      "outputs": []
    },
    {
      "cell_type": "code",
      "metadata": {
        "id": "_TE0LHjKLYFT"
      },
      "source": [
        "new_wptest['Package Name'] = pd.factorize(new_wptest['Package Name'])[0]"
      ],
      "execution_count": null,
      "outputs": []
    },
    {
      "cell_type": "code",
      "metadata": {
        "colab": {
          "base_uri": "https://localhost:8080/"
        },
        "id": "JlnXnZPx6NOF",
        "outputId": "5f8a096b-646b-4094-889d-58eaa81a4be4"
      },
      "source": [
        "new_wp['Per Person Price'].max()\n",
        "new_wp['Per Person Price'].min()"
      ],
      "execution_count": null,
      "outputs": [
        {
          "output_type": "execute_result",
          "data": {
            "text/plain": [
              "791.0"
            ]
          },
          "metadata": {
            "tags": []
          },
          "execution_count": 46
        }
      ]
    },
    {
      "cell_type": "code",
      "metadata": {
        "colab": {
          "base_uri": "https://localhost:8080/"
        },
        "id": "qrLtX4fr6NSf",
        "outputId": "03e26acc-4844-436a-de19-e8e1b7875133"
      },
      "source": [
        "new_wp.nunique()"
      ],
      "execution_count": null,
      "outputs": [
        {
          "output_type": "execute_result",
          "data": {
            "text/plain": [
              "Package Name         2204\n",
              "Flight Stops            3\n",
              "Meals                   4\n",
              "Per Person Price    17138\n",
              "dtype: int64"
            ]
          },
          "metadata": {
            "tags": []
          },
          "execution_count": 47
        }
      ]
    },
    {
      "cell_type": "code",
      "metadata": {
        "colab": {
          "base_uri": "https://localhost:8080/",
          "height": 206
        },
        "id": "PU4dHDubJv36",
        "outputId": "70a7addd-8067-4a39-ccdb-1d6501a65b98"
      },
      "source": [
        "new_wp.head()\n",
        "new_wp.dtypes\n",
        "new_wptest.head()"
      ],
      "execution_count": null,
      "outputs": [
        {
          "output_type": "execute_result",
          "data": {
            "text/html": [
              "<div>\n",
              "<style scoped>\n",
              "    .dataframe tbody tr th:only-of-type {\n",
              "        vertical-align: middle;\n",
              "    }\n",
              "\n",
              "    .dataframe tbody tr th {\n",
              "        vertical-align: top;\n",
              "    }\n",
              "\n",
              "    .dataframe thead th {\n",
              "        text-align: right;\n",
              "    }\n",
              "</style>\n",
              "<table border=\"1\" class=\"dataframe\">\n",
              "  <thead>\n",
              "    <tr style=\"text-align: right;\">\n",
              "      <th></th>\n",
              "      <th>Package Name</th>\n",
              "      <th>Flight Stops</th>\n",
              "      <th>Meals</th>\n",
              "    </tr>\n",
              "  </thead>\n",
              "  <tbody>\n",
              "    <tr>\n",
              "      <th>0</th>\n",
              "      <td>0</td>\n",
              "      <td>0</td>\n",
              "      <td>4</td>\n",
              "    </tr>\n",
              "    <tr>\n",
              "      <th>1</th>\n",
              "      <td>1</td>\n",
              "      <td>0</td>\n",
              "      <td>4</td>\n",
              "    </tr>\n",
              "    <tr>\n",
              "      <th>2</th>\n",
              "      <td>2</td>\n",
              "      <td>2</td>\n",
              "      <td>3</td>\n",
              "    </tr>\n",
              "    <tr>\n",
              "      <th>3</th>\n",
              "      <td>3</td>\n",
              "      <td>1</td>\n",
              "      <td>3</td>\n",
              "    </tr>\n",
              "    <tr>\n",
              "      <th>4</th>\n",
              "      <td>4</td>\n",
              "      <td>0</td>\n",
              "      <td>4</td>\n",
              "    </tr>\n",
              "  </tbody>\n",
              "</table>\n",
              "</div>"
            ],
            "text/plain": [
              "   Package Name  Flight Stops  Meals\n",
              "0             0             0      4\n",
              "1             1             0      4\n",
              "2             2             2      3\n",
              "3             3             1      3\n",
              "4             4             0      4"
            ]
          },
          "metadata": {
            "tags": []
          },
          "execution_count": 48
        }
      ]
    },
    {
      "cell_type": "markdown",
      "metadata": {
        "id": "bpfUOc766NWw"
      },
      "source": [
        "#Lets split X,Y and train,test data"
      ]
    },
    {
      "cell_type": "code",
      "metadata": {
        "id": "lIL_6n586NZy"
      },
      "source": [
        "X = new_wp.drop('Per Person Price',axis=1)\n",
        "Y = new_wp['Per Person Price']"
      ],
      "execution_count": null,
      "outputs": []
    },
    {
      "cell_type": "code",
      "metadata": {
        "id": "Up9WVdSBG-yA"
      },
      "source": [
        "from sklearn.model_selection import train_test_split"
      ],
      "execution_count": null,
      "outputs": []
    },
    {
      "cell_type": "code",
      "metadata": {
        "id": "RdWnrlDKHKJf"
      },
      "source": [
        "xtrain,xtest,ytrain,ytest = train_test_split(X,Y,random_state=13)"
      ],
      "execution_count": null,
      "outputs": []
    },
    {
      "cell_type": "code",
      "metadata": {
        "colab": {
          "base_uri": "https://localhost:8080/",
          "height": 424
        },
        "id": "ll-QCkLoKFdn",
        "outputId": "c38729eb-a5ca-4c60-d847-774bff1706d3"
      },
      "source": [
        "xtrain"
      ],
      "execution_count": null,
      "outputs": [
        {
          "output_type": "execute_result",
          "data": {
            "text/html": [
              "<div>\n",
              "<style scoped>\n",
              "    .dataframe tbody tr th:only-of-type {\n",
              "        vertical-align: middle;\n",
              "    }\n",
              "\n",
              "    .dataframe tbody tr th {\n",
              "        vertical-align: top;\n",
              "    }\n",
              "\n",
              "    .dataframe thead th {\n",
              "        text-align: right;\n",
              "    }\n",
              "</style>\n",
              "<table border=\"1\" class=\"dataframe\">\n",
              "  <thead>\n",
              "    <tr style=\"text-align: right;\">\n",
              "      <th></th>\n",
              "      <th>Package Name</th>\n",
              "      <th>Flight Stops</th>\n",
              "      <th>Meals</th>\n",
              "    </tr>\n",
              "  </thead>\n",
              "  <tbody>\n",
              "    <tr>\n",
              "      <th>2642</th>\n",
              "      <td>539</td>\n",
              "      <td>0</td>\n",
              "      <td>5</td>\n",
              "    </tr>\n",
              "    <tr>\n",
              "      <th>5557</th>\n",
              "      <td>1437</td>\n",
              "      <td>1</td>\n",
              "      <td>3</td>\n",
              "    </tr>\n",
              "    <tr>\n",
              "      <th>11698</th>\n",
              "      <td>690</td>\n",
              "      <td>0</td>\n",
              "      <td>5</td>\n",
              "    </tr>\n",
              "    <tr>\n",
              "      <th>11126</th>\n",
              "      <td>1718</td>\n",
              "      <td>1</td>\n",
              "      <td>3</td>\n",
              "    </tr>\n",
              "    <tr>\n",
              "      <th>9082</th>\n",
              "      <td>2009</td>\n",
              "      <td>0</td>\n",
              "      <td>5</td>\n",
              "    </tr>\n",
              "    <tr>\n",
              "      <th>...</th>\n",
              "      <td>...</td>\n",
              "      <td>...</td>\n",
              "      <td>...</td>\n",
              "    </tr>\n",
              "    <tr>\n",
              "      <th>153</th>\n",
              "      <td>145</td>\n",
              "      <td>0</td>\n",
              "      <td>5</td>\n",
              "    </tr>\n",
              "    <tr>\n",
              "      <th>866</th>\n",
              "      <td>105</td>\n",
              "      <td>1</td>\n",
              "      <td>3</td>\n",
              "    </tr>\n",
              "    <tr>\n",
              "      <th>74</th>\n",
              "      <td>72</td>\n",
              "      <td>0</td>\n",
              "      <td>5</td>\n",
              "    </tr>\n",
              "    <tr>\n",
              "      <th>14512</th>\n",
              "      <td>195</td>\n",
              "      <td>0</td>\n",
              "      <td>4</td>\n",
              "    </tr>\n",
              "    <tr>\n",
              "      <th>338</th>\n",
              "      <td>312</td>\n",
              "      <td>1</td>\n",
              "      <td>3</td>\n",
              "    </tr>\n",
              "  </tbody>\n",
              "</table>\n",
              "<p>15750 rows × 3 columns</p>\n",
              "</div>"
            ],
            "text/plain": [
              "       Package Name  Flight Stops  Meals\n",
              "2642            539             0      5\n",
              "5557           1437             1      3\n",
              "11698           690             0      5\n",
              "11126          1718             1      3\n",
              "9082           2009             0      5\n",
              "...             ...           ...    ...\n",
              "153             145             0      5\n",
              "866             105             1      3\n",
              "74               72             0      5\n",
              "14512           195             0      4\n",
              "338             312             1      3\n",
              "\n",
              "[15750 rows x 3 columns]"
            ]
          },
          "metadata": {
            "tags": []
          },
          "execution_count": 52
        }
      ]
    },
    {
      "cell_type": "markdown",
      "metadata": {
        "id": "Hcbb5JwYHUh-"
      },
      "source": [
        "#lets try fitting Linear model and check "
      ]
    },
    {
      "cell_type": "code",
      "metadata": {
        "id": "4XKhc-VCMMk8"
      },
      "source": [
        "def write_report(name):\n",
        "  report = pd.DataFrame(ypred,columns=['Per Person Price'])\n",
        "  report.to_csv('/content/gdrive/My Drive/Datasets/machinehack/' + name ,index=False)"
      ],
      "execution_count": null,
      "outputs": []
    },
    {
      "cell_type": "code",
      "metadata": {
        "colab": {
          "base_uri": "https://localhost:8080/"
        },
        "id": "nkdOv9gYHgog",
        "outputId": "3cfef85b-42b6-47a7-8f9b-f814cea62781"
      },
      "source": [
        "from sklearn.linear_model import LinearRegression\n",
        "lr = LinearRegression()\n",
        "lr.fit(xtrain,ytrain)"
      ],
      "execution_count": null,
      "outputs": [
        {
          "output_type": "execute_result",
          "data": {
            "text/plain": [
              "LinearRegression(copy_X=True, fit_intercept=True, n_jobs=None, normalize=False)"
            ]
          },
          "metadata": {
            "tags": []
          },
          "execution_count": 56
        }
      ]
    },
    {
      "cell_type": "code",
      "metadata": {
        "colab": {
          "base_uri": "https://localhost:8080/"
        },
        "id": "1cfM4AZQHuc5",
        "outputId": "6f4d87fe-a929-40bb-cac6-38f9863594d1"
      },
      "source": [
        "ypred = lr.predict(xtest)\n",
        "mean_squared_log_error(ytest,ypred)\n",
        "mean_squared_error(ytest,ypred)"
      ],
      "execution_count": null,
      "outputs": [
        {
          "output_type": "execute_result",
          "data": {
            "text/plain": [
              "118678952.0959701"
            ]
          },
          "metadata": {
            "tags": []
          },
          "execution_count": 57
        }
      ]
    },
    {
      "cell_type": "code",
      "metadata": {
        "colab": {
          "base_uri": "https://localhost:8080/"
        },
        "id": "eY-yeztcKeR7",
        "outputId": "f45b6a9e-e832-4ed0-9c05-3b665b5e70ee"
      },
      "source": [
        "lr = LinearRegression()\n",
        "lr.fit(X,Y)"
      ],
      "execution_count": null,
      "outputs": [
        {
          "output_type": "execute_result",
          "data": {
            "text/plain": [
              "LinearRegression(copy_X=True, fit_intercept=True, n_jobs=None, normalize=False)"
            ]
          },
          "metadata": {
            "tags": []
          },
          "execution_count": 82
        }
      ]
    },
    {
      "cell_type": "code",
      "metadata": {
        "id": "3EpZlthxLy0Z"
      },
      "source": [
        "ypred = lr.predict(new_wptest)\n",
        "write_report('linreg.csv')"
      ],
      "execution_count": null,
      "outputs": []
    },
    {
      "cell_type": "code",
      "metadata": {
        "colab": {
          "base_uri": "https://localhost:8080/"
        },
        "id": "wmludGOCM5Up",
        "outputId": "fdb786f8-6e2e-4f48-e15b-bbffef6a115c"
      },
      "source": [
        "ypred.max()\n",
        "ypred.min()"
      ],
      "execution_count": null,
      "outputs": [
        {
          "output_type": "execute_result",
          "data": {
            "text/plain": [
              "14593.82314152562"
            ]
          },
          "metadata": {
            "tags": []
          },
          "execution_count": 86
        }
      ]
    },
    {
      "cell_type": "markdown",
      "metadata": {
        "id": "IFt7M3XfOX6k"
      },
      "source": [
        "# Lets try Decision tree"
      ]
    },
    {
      "cell_type": "code",
      "metadata": {
        "colab": {
          "base_uri": "https://localhost:8080/"
        },
        "id": "6C4YHoQ4TZUB",
        "outputId": "2eec6e3f-61f6-400d-bad6-094ee5ad8437"
      },
      "source": [
        "from sklearn.tree import DecisionTreeRegressor\n",
        "dt = DecisionTreeRegressor()\n",
        "dt.fit(xtrain,ytrain)"
      ],
      "execution_count": null,
      "outputs": [
        {
          "output_type": "execute_result",
          "data": {
            "text/plain": [
              "DecisionTreeRegressor(ccp_alpha=0.0, criterion='mse', max_depth=None,\n",
              "                      max_features=None, max_leaf_nodes=None,\n",
              "                      min_impurity_decrease=0.0, min_impurity_split=None,\n",
              "                      min_samples_leaf=1, min_samples_split=2,\n",
              "                      min_weight_fraction_leaf=0.0, presort='deprecated',\n",
              "                      random_state=None, splitter='best')"
            ]
          },
          "metadata": {
            "tags": []
          },
          "execution_count": 58
        }
      ]
    },
    {
      "cell_type": "code",
      "metadata": {
        "colab": {
          "base_uri": "https://localhost:8080/"
        },
        "id": "DOVIeVdCTZon",
        "outputId": "9a2f6a59-6dbc-42a7-e949-2f03c91c1b25"
      },
      "source": [
        "ypred = dt.predict(xtest)\n",
        "mean_squared_error(ytest,ypred)"
      ],
      "execution_count": null,
      "outputs": [
        {
          "output_type": "execute_result",
          "data": {
            "text/plain": [
              "44311176.60994544"
            ]
          },
          "metadata": {
            "tags": []
          },
          "execution_count": 59
        }
      ]
    },
    {
      "cell_type": "code",
      "metadata": {
        "id": "PSenaRf-er5j"
      },
      "source": [
        "lst = []\n",
        "for x in range(50,90):\n",
        "  dt = DecisionTreeRegressor(max_depth=x)\n",
        "  dt.fit(xtrain,ytrain)\n",
        "  ypred = dt.predict(xtest)\n",
        "  lst.append((x,mean_squared_error(ytest,ypred)))"
      ],
      "execution_count": null,
      "outputs": []
    },
    {
      "cell_type": "code",
      "metadata": {
        "colab": {
          "base_uri": "https://localhost:8080/"
        },
        "id": "hTtuudjSesVu",
        "outputId": "145cda1f-f0fc-46b7-c8bb-706f9f3065a1"
      },
      "source": [
        "lst"
      ],
      "execution_count": null,
      "outputs": [
        {
          "output_type": "execute_result",
          "data": {
            "text/plain": [
              "[(50, 44945129.86889935),\n",
              " (51, 44756530.227688685),\n",
              " (52, 44785493.31034043),\n",
              " (53, 44367837.48766909),\n",
              " (54, 44773555.83952513),\n",
              " (55, 44883084.33347917),\n",
              " (56, 44690307.29542593),\n",
              " (57, 44420446.93774537),\n",
              " (58, 44809466.19716304),\n",
              " (59, 44836069.86072124),\n",
              " (60, 44365167.56643982),\n",
              " (61, 44272747.47931978),\n",
              " (62, 44321621.39894775),\n",
              " (63, 44565449.65321925),\n",
              " (64, 44488675.69061211),\n",
              " (65, 44362819.285303906),\n",
              " (66, 44421318.12000066),\n",
              " (67, 44689401.9443016),\n",
              " (68, 44890959.97694214),\n",
              " (69, 44714394.312104836),\n",
              " (70, 44372804.51728671),\n",
              " (71, 44746025.040025465),\n",
              " (72, 44380076.65226522),\n",
              " (73, 44659300.47399207),\n",
              " (74, 44759991.464366406),\n",
              " (75, 44461445.773297295),\n",
              " (76, 44531736.523399144),\n",
              " (77, 44492045.53778935),\n",
              " (78, 44445979.23967692),\n",
              " (79, 44467525.44962269),\n",
              " (80, 44591231.72187005),\n",
              " (81, 44516882.923523486),\n",
              " (82, 44829850.48025001),\n",
              " (83, 44792377.10184161),\n",
              " (84, 44752239.85208731),\n",
              " (85, 44832235.257647164),\n",
              " (86, 44680704.137032084),\n",
              " (87, 44542303.21181549),\n",
              " (88, 44339093.22074174),\n",
              " (89, 44711681.040816136)]"
            ]
          },
          "metadata": {
            "tags": []
          },
          "execution_count": 66
        }
      ]
    },
    {
      "cell_type": "code",
      "metadata": {
        "colab": {
          "base_uri": "https://localhost:8080/"
        },
        "id": "iixC4G_dsqcQ",
        "outputId": "99525571-a247-43e6-f649-00c0841e730c"
      },
      "source": [
        "from sklearn.ensemble import BaggingRegressor\n",
        "dt = DecisionTreeRegressor(max_depth=60)\n",
        "br = BaggingRegressor(base_estimator=dt,n_estimators=100)\n",
        "br.fit(xtrain,ytrain)\n",
        "ypred = br.predict(xtest)\n",
        "mean_squared_error(ytest,ypred)"
      ],
      "execution_count": null,
      "outputs": [
        {
          "output_type": "execute_result",
          "data": {
            "text/plain": [
              "43022150.49587258"
            ]
          },
          "metadata": {
            "tags": []
          },
          "execution_count": 96
        }
      ]
    },
    {
      "cell_type": "code",
      "metadata": {
        "id": "bWCEZQzktHAU"
      },
      "source": [
        "from sklearn.ensemble import BaggingRegressor\n",
        "dt = DecisionTreeRegressor(max_depth=60)\n",
        "br = BaggingRegressor(base_estimator=dt,n_estimators=100)\n",
        "br.fit(X,Y)\n",
        "ypred = br.predict(new_wptest)"
      ],
      "execution_count": null,
      "outputs": []
    },
    {
      "cell_type": "code",
      "metadata": {
        "id": "la4CSeWCtaTh"
      },
      "source": [
        "write_report('dt_bagg.csv')"
      ],
      "execution_count": null,
      "outputs": []
    },
    {
      "cell_type": "code",
      "metadata": {
        "id": "i3-oW5YYesdx"
      },
      "source": [
        "from sklearn.ensemble import RandomForestRegressor\n",
        "lst = []\n",
        "for x in range(80,130):\n",
        "  rf = RandomForestRegressor(n_estimators=x)\n",
        "  rf.fit(xtrain,ytrain)\n",
        "  ypred = rf.predict(xtest)\n",
        "  lst.append((x,mean_squared_error(ytest,ypred)))"
      ],
      "execution_count": null,
      "outputs": []
    },
    {
      "cell_type": "code",
      "metadata": {
        "colab": {
          "base_uri": "https://localhost:8080/"
        },
        "id": "sdEOu0i4esnb",
        "outputId": "d6bd9615-aaa1-4337-ed4d-478f3acf82fb"
      },
      "source": [
        "lst"
      ],
      "execution_count": null,
      "outputs": [
        {
          "output_type": "execute_result",
          "data": {
            "text/plain": [
              "[(80, 42651814.03062091),\n",
              " (81, 42796834.6586817),\n",
              " (82, 42931886.09472905),\n",
              " (83, 42757922.03725126),\n",
              " (84, 43078528.99354618),\n",
              " (85, 43004430.19502398),\n",
              " (86, 42735091.410131626),\n",
              " (87, 42700273.23888581),\n",
              " (88, 43107576.388744675),\n",
              " (89, 42966129.71886271),\n",
              " (90, 42395759.11034184),\n",
              " (91, 42650098.67511442),\n",
              " (92, 43086552.9307803),\n",
              " (93, 42764539.906508386),\n",
              " (94, 43163519.43240662),\n",
              " (95, 42666146.93528241),\n",
              " (96, 43219562.68150122),\n",
              " (97, 42829290.65418931),\n",
              " (98, 43148627.76036392),\n",
              " (99, 42781288.47927362),\n",
              " (100, 42797684.63934583),\n",
              " (101, 43083197.17786284),\n",
              " (102, 43046518.23381015),\n",
              " (103, 42858934.70421964),\n",
              " (104, 42734944.29058104),\n",
              " (105, 42868573.494043656),\n",
              " (106, 43053059.38924049),\n",
              " (107, 43130082.68388734),\n",
              " (108, 42804245.00328031),\n",
              " (109, 42648079.523847416),\n",
              " (110, 43161034.301931836),\n",
              " (111, 42950754.81144657),\n",
              " (112, 42420438.16006961),\n",
              " (113, 42583685.407671735),\n",
              " (114, 43030233.15690786),\n",
              " (115, 43014283.73307966),\n",
              " (116, 43024733.89637284),\n",
              " (117, 42482701.07391417),\n",
              " (118, 43271252.18730887),\n",
              " (119, 42666681.423309),\n",
              " (120, 42582337.17226835),\n",
              " (121, 42742701.1976642),\n",
              " (122, 42748211.47137041),\n",
              " (123, 42888675.601491585),\n",
              " (124, 43221510.34043898),\n",
              " (125, 42931710.917799465),\n",
              " (126, 43282156.9891156),\n",
              " (127, 42723068.59359663),\n",
              " (128, 42592133.74298459),\n",
              " (129, 43215329.62939556)]"
            ]
          },
          "metadata": {
            "tags": []
          },
          "execution_count": 73
        }
      ]
    },
    {
      "cell_type": "code",
      "metadata": {
        "colab": {
          "base_uri": "https://localhost:8080/"
        },
        "id": "OuvQpXg3es0s",
        "outputId": "0865fdc7-0993-4565-94ac-e4695fce2d01"
      },
      "source": [
        "from sklearn.ensemble import GradientBoostingRegressor\n",
        "gbr = GradientBoostingRegressor()\n",
        "gbr.fit(xtrain,ytrain)\n",
        "ypred = gbr.predict(xtest)\n",
        "mean_squared_error(ytest,ypred)"
      ],
      "execution_count": null,
      "outputs": [
        {
          "output_type": "execute_result",
          "data": {
            "text/plain": [
              "103777658.73407747"
            ]
          },
          "metadata": {
            "tags": []
          },
          "execution_count": 75
        }
      ]
    },
    {
      "cell_type": "code",
      "metadata": {
        "colab": {
          "base_uri": "https://localhost:8080/"
        },
        "id": "2-luI-KMlF8h",
        "outputId": "846c9e0c-09b7-4635-cbfa-bba1db95b9c3"
      },
      "source": [
        "from sklearn.ensemble import AdaBoostRegressor\n",
        "rf = RandomForestRegressor(n_estimators=87)\n",
        "dt = DecisionTreeRegressor(max_depth=88)\n",
        "lr = LinearRegression()\n",
        "abr = AdaBoostRegressor(learning_rate=1,base_estimator=lr)\n",
        "abr.fit(xtrain,ytrain)\n",
        "ypred = abr.predict(xtest)\n",
        "mean_squared_error(ytest,ypred)"
      ],
      "execution_count": null,
      "outputs": [
        {
          "output_type": "execute_result",
          "data": {
            "text/plain": [
              "126603680.97276612"
            ]
          },
          "metadata": {
            "tags": []
          },
          "execution_count": 102
        }
      ]
    },
    {
      "cell_type": "code",
      "metadata": {
        "id": "yxtPOx3JupWQ"
      },
      "source": [
        "from sklearn.ensemble import AdaBoostRegressor\n",
        "rf = RandomForestRegressor(n_estimators=87)\n",
        "dt = DecisionTreeRegressor(max_depth=88)\n",
        "lr = LinearRegression()\n",
        "abr = AdaBoostRegressor(learning_rate=1,base_estimator=lr)\n",
        "abr.fit(X,Y)\n",
        "ypred = abr.predict(new_wptest)"
      ],
      "execution_count": null,
      "outputs": []
    },
    {
      "cell_type": "code",
      "metadata": {
        "id": "8o2dGBy_uzH0"
      },
      "source": [
        "write_report('lin_ada.csv')"
      ],
      "execution_count": null,
      "outputs": []
    },
    {
      "cell_type": "code",
      "metadata": {
        "colab": {
          "base_uri": "https://localhost:8080/"
        },
        "id": "pqsqGKeepICA",
        "outputId": "f5eaad59-9d64-421f-d3ed-500a189ec7e4"
      },
      "source": [
        "rf = RandomForestRegressor(max_depth=60)\n",
        "rf.fit(xtrain,ytrain)\n",
        "ypred = rf.predict(xtest)\n",
        "mean_squared_error(ytest,ypred)\n"
      ],
      "execution_count": null,
      "outputs": [
        {
          "output_type": "execute_result",
          "data": {
            "text/plain": [
              "43031684.44644206"
            ]
          },
          "metadata": {
            "tags": []
          },
          "execution_count": 91
        }
      ]
    },
    {
      "cell_type": "code",
      "metadata": {
        "id": "BMgFMCiflGGO"
      },
      "source": [
        "rf = RandomForestRegressor(max_depth=60)\n",
        "rf.fit(X,Y)\n",
        "ypred = rf.predict(new_wptest)\n"
      ],
      "execution_count": null,
      "outputs": []
    },
    {
      "cell_type": "code",
      "metadata": {
        "id": "4OMqzGHVlGQ1"
      },
      "source": [
        "write_report('rf.csv')"
      ],
      "execution_count": null,
      "outputs": []
    },
    {
      "cell_type": "code",
      "metadata": {
        "id": "6VC9EOxslGY7"
      },
      "source": [
        ""
      ],
      "execution_count": null,
      "outputs": []
    },
    {
      "cell_type": "markdown",
      "metadata": {
        "id": "FwjJs9ZOTZsc"
      },
      "source": [
        "# Lets factorize all the object columns withoug removing them and check"
      ]
    },
    {
      "cell_type": "code",
      "metadata": {
        "id": "QZtdEN5dTZvO"
      },
      "source": [
        "X = wp.drop(['Per Person Price'],axis=1)\n",
        "Y = wp['Per Person Price']"
      ],
      "execution_count": null,
      "outputs": []
    },
    {
      "cell_type": "code",
      "metadata": {
        "id": "F3P6tm4DTZxx"
      },
      "source": [
        "for x in obj_cols:\n",
        "  X[x] = pd.factorize(X[x])[0]"
      ],
      "execution_count": null,
      "outputs": []
    },
    {
      "cell_type": "code",
      "metadata": {
        "colab": {
          "base_uri": "https://localhost:8080/",
          "height": 223
        },
        "id": "0mVzDzRFTZ0E",
        "outputId": "045f805b-473c-4c0c-8c87-4f7439ebd94d"
      },
      "source": [
        "X.head()"
      ],
      "execution_count": null,
      "outputs": [
        {
          "output_type": "execute_result",
          "data": {
            "text/html": [
              "<div>\n",
              "<style scoped>\n",
              "    .dataframe tbody tr th:only-of-type {\n",
              "        vertical-align: middle;\n",
              "    }\n",
              "\n",
              "    .dataframe tbody tr th {\n",
              "        vertical-align: top;\n",
              "    }\n",
              "\n",
              "    .dataframe thead th {\n",
              "        text-align: right;\n",
              "    }\n",
              "</style>\n",
              "<table border=\"1\" class=\"dataframe\">\n",
              "  <thead>\n",
              "    <tr style=\"text-align: right;\">\n",
              "      <th></th>\n",
              "      <th>Package Name</th>\n",
              "      <th>Package Type</th>\n",
              "      <th>Destination</th>\n",
              "      <th>Itinerary</th>\n",
              "      <th>Places Covered</th>\n",
              "      <th>Travel Date</th>\n",
              "      <th>Hotel Details</th>\n",
              "      <th>Start City</th>\n",
              "      <th>Airline</th>\n",
              "      <th>Flight Stops</th>\n",
              "      <th>Meals</th>\n",
              "      <th>Sightseeing Places Covered</th>\n",
              "      <th>Cancellation Rules</th>\n",
              "    </tr>\n",
              "  </thead>\n",
              "  <tbody>\n",
              "    <tr>\n",
              "      <th>0</th>\n",
              "      <td>0</td>\n",
              "      <td>0</td>\n",
              "      <td>0</td>\n",
              "      <td>0</td>\n",
              "      <td>0</td>\n",
              "      <td>0</td>\n",
              "      <td>0</td>\n",
              "      <td>0</td>\n",
              "      <td>0</td>\n",
              "      <td>2</td>\n",
              "      <td>3</td>\n",
              "      <td>0</td>\n",
              "      <td>0</td>\n",
              "    </tr>\n",
              "    <tr>\n",
              "      <th>1</th>\n",
              "      <td>1</td>\n",
              "      <td>1</td>\n",
              "      <td>1</td>\n",
              "      <td>1</td>\n",
              "      <td>1</td>\n",
              "      <td>1</td>\n",
              "      <td>1</td>\n",
              "      <td>1</td>\n",
              "      <td>1</td>\n",
              "      <td>0</td>\n",
              "      <td>5</td>\n",
              "      <td>1</td>\n",
              "      <td>1</td>\n",
              "    </tr>\n",
              "    <tr>\n",
              "      <th>2</th>\n",
              "      <td>2</td>\n",
              "      <td>2</td>\n",
              "      <td>2</td>\n",
              "      <td>2</td>\n",
              "      <td>2</td>\n",
              "      <td>2</td>\n",
              "      <td>2</td>\n",
              "      <td>1</td>\n",
              "      <td>2</td>\n",
              "      <td>0</td>\n",
              "      <td>4</td>\n",
              "      <td>2</td>\n",
              "      <td>1</td>\n",
              "    </tr>\n",
              "    <tr>\n",
              "      <th>3</th>\n",
              "      <td>3</td>\n",
              "      <td>1</td>\n",
              "      <td>3</td>\n",
              "      <td>3</td>\n",
              "      <td>3</td>\n",
              "      <td>3</td>\n",
              "      <td>3</td>\n",
              "      <td>1</td>\n",
              "      <td>2</td>\n",
              "      <td>0</td>\n",
              "      <td>5</td>\n",
              "      <td>3</td>\n",
              "      <td>1</td>\n",
              "    </tr>\n",
              "    <tr>\n",
              "      <th>4</th>\n",
              "      <td>4</td>\n",
              "      <td>1</td>\n",
              "      <td>4</td>\n",
              "      <td>4</td>\n",
              "      <td>4</td>\n",
              "      <td>4</td>\n",
              "      <td>4</td>\n",
              "      <td>1</td>\n",
              "      <td>3</td>\n",
              "      <td>0</td>\n",
              "      <td>5</td>\n",
              "      <td>4</td>\n",
              "      <td>1</td>\n",
              "    </tr>\n",
              "  </tbody>\n",
              "</table>\n",
              "</div>"
            ],
            "text/plain": [
              "   Package Name  Package Type  ...  Sightseeing Places Covered  Cancellation Rules\n",
              "0             0             0  ...                           0                   0\n",
              "1             1             1  ...                           1                   1\n",
              "2             2             2  ...                           2                   1\n",
              "3             3             1  ...                           3                   1\n",
              "4             4             1  ...                           4                   1\n",
              "\n",
              "[5 rows x 13 columns]"
            ]
          },
          "metadata": {
            "tags": []
          },
          "execution_count": 96
        }
      ]
    },
    {
      "cell_type": "code",
      "metadata": {
        "id": "QnapizAETZ3t"
      },
      "source": [
        "xtrain,xtest,ytrain,ytest = train_test_split(X,Y)"
      ],
      "execution_count": null,
      "outputs": []
    },
    {
      "cell_type": "code",
      "metadata": {
        "colab": {
          "base_uri": "https://localhost:8080/"
        },
        "id": "QEyYEskab_ID",
        "outputId": "18c3e7b7-4726-4049-afde-974b27a9609a"
      },
      "source": [
        "# lets try linear model\n",
        "lm = LinearRegression()\n",
        "lm.fit(xtrain,ytrain)"
      ],
      "execution_count": null,
      "outputs": [
        {
          "output_type": "execute_result",
          "data": {
            "text/plain": [
              "LinearRegression(copy_X=True, fit_intercept=True, n_jobs=None, normalize=False)"
            ]
          },
          "metadata": {
            "tags": []
          },
          "execution_count": 98
        }
      ]
    },
    {
      "cell_type": "code",
      "metadata": {
        "colab": {
          "base_uri": "https://localhost:8080/"
        },
        "id": "jbMF7FXzcfW6",
        "outputId": "7f9d1c37-0177-45ac-b93e-caa869d3cdf4"
      },
      "source": [
        "ypred = lm.predict(xtest)\n",
        "mean_squared_error(ytest,ypred)"
      ],
      "execution_count": null,
      "outputs": [
        {
          "output_type": "execute_result",
          "data": {
            "text/plain": [
              "97711769.1352507"
            ]
          },
          "metadata": {
            "tags": []
          },
          "execution_count": 99
        }
      ]
    },
    {
      "cell_type": "code",
      "metadata": {
        "colab": {
          "base_uri": "https://localhost:8080/"
        },
        "id": "NfCO-NknclYb",
        "outputId": "91689528-12c2-4ed4-e0eb-e64ef5d2cd02"
      },
      "source": [
        "# lets apply lasso on this\n",
        "from sklearn.linear_model import Lasso\n",
        "las = Lasso(alpha=0.1)\n",
        "las.fit(xtrain,ytrain)\n"
      ],
      "execution_count": null,
      "outputs": [
        {
          "output_type": "stream",
          "text": [
            "/usr/local/lib/python3.7/dist-packages/sklearn/linear_model/_coordinate_descent.py:476: ConvergenceWarning: Objective did not converge. You might want to increase the number of iterations. Duality gap: 120753637072.81213, tolerance: 216020774.9180075\n",
            "  positive)\n"
          ],
          "name": "stderr"
        },
        {
          "output_type": "execute_result",
          "data": {
            "text/plain": [
              "Lasso(alpha=0.1, copy_X=True, fit_intercept=True, max_iter=1000,\n",
              "      normalize=False, positive=False, precompute=False, random_state=None,\n",
              "      selection='cyclic', tol=0.0001, warm_start=False)"
            ]
          },
          "metadata": {
            "tags": []
          },
          "execution_count": 104
        }
      ]
    },
    {
      "cell_type": "code",
      "metadata": {
        "colab": {
          "base_uri": "https://localhost:8080/"
        },
        "id": "AEe729G3dGtp",
        "outputId": "78851288-9696-48ff-b82f-2ba3ca4c2dbe"
      },
      "source": [
        "ypred = las.predict(xtest)\n",
        "mean_squared_error(ytest,ypred)\n",
        "las.coef_"
      ],
      "execution_count": null,
      "outputs": [
        {
          "output_type": "execute_result",
          "data": {
            "text/plain": [
              "array([-2.84222989e+00, -1.10426810e+03,  3.85677163e+00,  7.82952997e+00,\n",
              "       -1.04130396e+01, -1.60328721e+00,  8.42496962e-01, -7.99292035e+02,\n",
              "        1.41442318e+02, -5.68900594e+03, -1.15751143e+03,  2.76162191e+00,\n",
              "       -3.71743788e+03])"
            ]
          },
          "metadata": {
            "tags": []
          },
          "execution_count": 105
        }
      ]
    },
    {
      "cell_type": "code",
      "metadata": {
        "id": "qK2mSiVmdMJb"
      },
      "source": [
        ""
      ],
      "execution_count": null,
      "outputs": []
    }
  ]
}