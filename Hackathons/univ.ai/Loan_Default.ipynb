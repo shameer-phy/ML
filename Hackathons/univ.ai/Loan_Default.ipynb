{
  "nbformat": 4,
  "nbformat_minor": 0,
  "metadata": {
    "colab": {
      "name": "Loan Default.ipynb",
      "provenance": [],
      "collapsed_sections": [],
      "authorship_tag": "ABX9TyP9JwIeTSKByYRwgo5zi5tI",
      "include_colab_link": true
    },
    "kernelspec": {
      "name": "python3",
      "display_name": "Python 3"
    },
    "language_info": {
      "name": "python"
    }
  },
  "cells": [
    {
      "cell_type": "markdown",
      "metadata": {
        "id": "view-in-github",
        "colab_type": "text"
      },
      "source": [
        "<a href=\"https://colab.research.google.com/github/shameer-phy/ML/blob/main/Hackathons/univ.ai/Loan_Default.ipynb\" target=\"_parent\"><img src=\"https://colab.research.google.com/assets/colab-badge.svg\" alt=\"Open In Colab\"/></a>"
      ]
    },
    {
      "cell_type": "code",
      "metadata": {
        "id": "HGRQ3NbV3f4C"
      },
      "source": [
        "import pandas as pd\n",
        "import numpy as np\n",
        "from sklearn.metrics import roc_auc_score\n",
        "from sklearn.model_selection import train_test_split"
      ],
      "execution_count": null,
      "outputs": []
    },
    {
      "cell_type": "code",
      "metadata": {
        "colab": {
          "base_uri": "https://localhost:8080/"
        },
        "id": "zP02-Hhq7YT_",
        "outputId": "301bde41-4771-447c-f46d-d7b2bf1034e8"
      },
      "source": [
        "from google.colab import drive \n",
        "\n",
        "drive.mount(\"/content/gdrive\") "
      ],
      "execution_count": null,
      "outputs": [
        {
          "output_type": "stream",
          "text": [
            "Mounted at /content/gdrive\n"
          ],
          "name": "stdout"
        }
      ]
    },
    {
      "cell_type": "code",
      "metadata": {
        "id": "LbE9TkhL6oMo"
      },
      "source": [
        "# Lets read the training dataset and tes dataset\n",
        "\n",
        "ld = pd.read_csv('/content/gdrive/My Drive/Datasets/univ.ai/Training Data.csv')\n",
        " \n",
        "ld_test = pd.read_csv('/content/gdrive/My Drive/Datasets/univ.ai/Test Data.csv')\n"
      ],
      "execution_count": null,
      "outputs": []
    },
    {
      "cell_type": "code",
      "metadata": {
        "colab": {
          "base_uri": "https://localhost:8080/"
        },
        "id": "uWma_NEO6wI3",
        "outputId": "7343a5d1-3bd2-4c15-b338-2746422c5f1f"
      },
      "source": [
        "ld.head()\n",
        "\n",
        "ld.count()\n",
        "\n",
        "ld.dtypes"
      ],
      "execution_count": null,
      "outputs": [
        {
          "output_type": "execute_result",
          "data": {
            "text/plain": [
              "Id                      int64\n",
              "income                  int64\n",
              "age                     int64\n",
              "experience              int64\n",
              "married                object\n",
              "house_ownership        object\n",
              "car_ownership          object\n",
              "profession             object\n",
              "city                   object\n",
              "state                  object\n",
              "current_job_years       int64\n",
              "current_house_years     int64\n",
              "risk_flag               int64\n",
              "dtype: object"
            ]
          },
          "metadata": {
            "tags": []
          },
          "execution_count": 5
        }
      ]
    },
    {
      "cell_type": "code",
      "metadata": {
        "colab": {
          "base_uri": "https://localhost:8080/"
        },
        "id": "vF0QOTmfIp6b",
        "outputId": "2c0397d1-32ed-4621-a3cc-caf66c505f2f"
      },
      "source": [
        "for x in ld.columns:\n",
        "    print('\\n')\n",
        "    print(x)\n",
        "    print(len(ld[x].unique()))\n",
        "    print(ld[x].value_counts())"
      ],
      "execution_count": null,
      "outputs": [
        {
          "output_type": "stream",
          "text": [
            "\n",
            "\n",
            "Id\n",
            "252000\n",
            "2047     1\n",
            "64074    1\n",
            "59976    1\n",
            "37447    1\n",
            "39494    1\n",
            "        ..\n",
            "95620    1\n",
            "85379    1\n",
            "83330    1\n",
            "89473    1\n",
            "2049     1\n",
            "Name: Id, Length: 252000, dtype: int64\n",
            "\n",
            "\n",
            "income\n",
            "41917\n",
            "7936020    77\n",
            "9775375    71\n",
            "1996629    71\n",
            "9345456    70\n",
            "7638998    40\n",
            "           ..\n",
            "5446449     1\n",
            "7330601     1\n",
            "3377955     1\n",
            "2779935     1\n",
            "7907349     1\n",
            "Name: income, Length: 41917, dtype: int64\n",
            "\n",
            "\n",
            "age\n",
            "59\n",
            "27    5197\n",
            "66    5092\n",
            "48    4967\n",
            "33    4921\n",
            "41    4827\n",
            "45    4806\n",
            "54    4785\n",
            "68    4772\n",
            "35    4644\n",
            "50    4624\n",
            "69    4617\n",
            "76    4585\n",
            "55    4563\n",
            "25    4543\n",
            "72    4534\n",
            "79    4505\n",
            "60    4504\n",
            "59    4498\n",
            "53    4490\n",
            "47    4483\n",
            "30    4468\n",
            "78    4455\n",
            "22    4430\n",
            "34    4414\n",
            "57    4394\n",
            "58    4368\n",
            "56    4344\n",
            "24    4326\n",
            "23    4322\n",
            "62    4311\n",
            "31    4257\n",
            "70    4251\n",
            "61    4235\n",
            "40    4233\n",
            "43    4206\n",
            "21    4205\n",
            "49    4203\n",
            "26    4156\n",
            "37    4153\n",
            "71    4149\n",
            "42    4134\n",
            "64    4132\n",
            "29    4109\n",
            "67    3995\n",
            "65    3969\n",
            "74    3954\n",
            "63    3942\n",
            "77    3916\n",
            "28    3901\n",
            "32    3834\n",
            "75    3829\n",
            "39    3800\n",
            "38    3793\n",
            "46    3627\n",
            "44    3622\n",
            "73    3569\n",
            "36    3443\n",
            "51    3397\n",
            "52    3197\n",
            "Name: age, dtype: int64\n",
            "\n",
            "\n",
            "experience\n",
            "21\n",
            "6     13158\n",
            "9     12936\n",
            "12    12800\n",
            "18    12601\n",
            "10    12503\n",
            "5     12441\n",
            "14    12369\n",
            "19    12287\n",
            "17    12131\n",
            "16    12106\n",
            "3     12069\n",
            "15    11993\n",
            "4     11807\n",
            "13    11713\n",
            "1     11575\n",
            "11    11449\n",
            "20    11350\n",
            "8     11350\n",
            "7     11232\n",
            "2     11087\n",
            "0     11043\n",
            "Name: experience, dtype: int64\n",
            "\n",
            "\n",
            "married\n",
            "2\n",
            "0    226272\n",
            "1     25728\n",
            "Name: married, dtype: int64\n",
            "\n",
            "\n",
            "house_ownership\n",
            "3\n",
            "0    231898\n",
            "2     12918\n",
            "1      7184\n",
            "Name: house_ownership, dtype: int64\n",
            "\n",
            "\n",
            "car_ownership\n",
            "2\n",
            "0    176000\n",
            "1     76000\n",
            "Name: car_ownership, dtype: int64\n",
            "\n",
            "\n",
            "profession\n",
            "51\n",
            "9     5957\n",
            "41    5806\n",
            "42    5397\n",
            "32    5390\n",
            "23    5372\n",
            "40    5359\n",
            "33    5357\n",
            "30    5304\n",
            "11    5281\n",
            "20    5259\n",
            "49    5250\n",
            "0     5217\n",
            "17    5205\n",
            "2     5195\n",
            "18    5178\n",
            "10    5167\n",
            "22    5166\n",
            "6     5128\n",
            "21    5127\n",
            "25    5061\n",
            "1     5053\n",
            "24    5041\n",
            "13    5035\n",
            "26    4990\n",
            "12    4944\n",
            "29    4881\n",
            "28    4864\n",
            "14    4861\n",
            "34    4818\n",
            "43    4808\n",
            "19    4782\n",
            "47    4781\n",
            "46    4772\n",
            "31    4758\n",
            "50    4737\n",
            "16    4729\n",
            "15    4714\n",
            "39    4672\n",
            "38    4668\n",
            "45    4661\n",
            "7     4657\n",
            "44    4635\n",
            "4     4628\n",
            "48    4616\n",
            "8     4598\n",
            "5     4573\n",
            "35    4507\n",
            "27    4493\n",
            "3     4413\n",
            "37    4087\n",
            "36    4048\n",
            "Name: profession, dtype: int64\n",
            "\n",
            "\n",
            "city\n",
            "317\n",
            "168    1259\n",
            "160    1208\n",
            "127    1185\n",
            "210    1180\n",
            "283    1172\n",
            "       ... \n",
            "222     486\n",
            "125     459\n",
            "299     457\n",
            "314     448\n",
            "302     431\n",
            "Name: city, Length: 317, dtype: int64\n",
            "\n",
            "\n",
            "state\n",
            "29\n",
            "14    28400\n",
            "1     25562\n",
            "9     25297\n",
            "10    23483\n",
            "8     19780\n",
            "4     16537\n",
            "0     14122\n",
            "13    11855\n",
            "5     11408\n",
            "6      9174\n",
            "19     8965\n",
            "11     7890\n",
            "7      7524\n",
            "21     7062\n",
            "2      5805\n",
            "23     5490\n",
            "16     4720\n",
            "3      4658\n",
            "24     3834\n",
            "18     1874\n",
            "22     1780\n",
            "12     1433\n",
            "20      849\n",
            "27      849\n",
            "15      833\n",
            "17      809\n",
            "26      743\n",
            "25      656\n",
            "28      608\n",
            "Name: state, dtype: int64\n",
            "\n",
            "\n",
            "current_job_years\n",
            "15\n",
            "3     29460\n",
            "4     28339\n",
            "5     25091\n",
            "6     23491\n",
            "7     19925\n",
            "8     18874\n",
            "9     17132\n",
            "10    15768\n",
            "11    13595\n",
            "1     11575\n",
            "2     11087\n",
            "0     11043\n",
            "12    10605\n",
            "13     9099\n",
            "14     6916\n",
            "Name: current_job_years, dtype: int64\n",
            "\n",
            "\n",
            "current_house_years\n",
            "5\n",
            "11    51873\n",
            "12    51791\n",
            "13    50659\n",
            "14    49003\n",
            "10    48674\n",
            "Name: current_house_years, dtype: int64\n",
            "\n",
            "\n",
            "risk_flag\n",
            "2\n",
            "0    221004\n",
            "1     30996\n",
            "Name: risk_flag, dtype: int64\n"
          ],
          "name": "stdout"
        }
      ]
    },
    {
      "cell_type": "code",
      "metadata": {
        "colab": {
          "base_uri": "https://localhost:8080/",
          "height": 424
        },
        "id": "QNCWWazp8QlV",
        "outputId": "604cdff5-89c9-4c6c-887d-7b34521431e8"
      },
      "source": [
        "obj_cols = ld.select_dtypes(include=['object'])\n",
        "obj_cols"
      ],
      "execution_count": null,
      "outputs": [
        {
          "output_type": "execute_result",
          "data": {
            "text/html": [
              "<div>\n",
              "<style scoped>\n",
              "    .dataframe tbody tr th:only-of-type {\n",
              "        vertical-align: middle;\n",
              "    }\n",
              "\n",
              "    .dataframe tbody tr th {\n",
              "        vertical-align: top;\n",
              "    }\n",
              "\n",
              "    .dataframe thead th {\n",
              "        text-align: right;\n",
              "    }\n",
              "</style>\n",
              "<table border=\"1\" class=\"dataframe\">\n",
              "  <thead>\n",
              "    <tr style=\"text-align: right;\">\n",
              "      <th></th>\n",
              "      <th>married</th>\n",
              "      <th>house_ownership</th>\n",
              "      <th>car_ownership</th>\n",
              "      <th>profession</th>\n",
              "      <th>city</th>\n",
              "      <th>state</th>\n",
              "    </tr>\n",
              "  </thead>\n",
              "  <tbody>\n",
              "    <tr>\n",
              "      <th>0</th>\n",
              "      <td>single</td>\n",
              "      <td>rented</td>\n",
              "      <td>no</td>\n",
              "      <td>Mechanical_engineer</td>\n",
              "      <td>Rewa</td>\n",
              "      <td>Madhya_Pradesh</td>\n",
              "    </tr>\n",
              "    <tr>\n",
              "      <th>1</th>\n",
              "      <td>single</td>\n",
              "      <td>rented</td>\n",
              "      <td>no</td>\n",
              "      <td>Software_Developer</td>\n",
              "      <td>Parbhani</td>\n",
              "      <td>Maharashtra</td>\n",
              "    </tr>\n",
              "    <tr>\n",
              "      <th>2</th>\n",
              "      <td>married</td>\n",
              "      <td>rented</td>\n",
              "      <td>no</td>\n",
              "      <td>Technical_writer</td>\n",
              "      <td>Alappuzha</td>\n",
              "      <td>Kerala</td>\n",
              "    </tr>\n",
              "    <tr>\n",
              "      <th>3</th>\n",
              "      <td>single</td>\n",
              "      <td>rented</td>\n",
              "      <td>yes</td>\n",
              "      <td>Software_Developer</td>\n",
              "      <td>Bhubaneswar</td>\n",
              "      <td>Odisha</td>\n",
              "    </tr>\n",
              "    <tr>\n",
              "      <th>4</th>\n",
              "      <td>single</td>\n",
              "      <td>rented</td>\n",
              "      <td>no</td>\n",
              "      <td>Civil_servant</td>\n",
              "      <td>Tiruchirappalli[10]</td>\n",
              "      <td>Tamil_Nadu</td>\n",
              "    </tr>\n",
              "    <tr>\n",
              "      <th>...</th>\n",
              "      <td>...</td>\n",
              "      <td>...</td>\n",
              "      <td>...</td>\n",
              "      <td>...</td>\n",
              "      <td>...</td>\n",
              "      <td>...</td>\n",
              "    </tr>\n",
              "    <tr>\n",
              "      <th>251995</th>\n",
              "      <td>single</td>\n",
              "      <td>rented</td>\n",
              "      <td>no</td>\n",
              "      <td>Surgeon</td>\n",
              "      <td>Kolkata</td>\n",
              "      <td>West_Bengal</td>\n",
              "    </tr>\n",
              "    <tr>\n",
              "      <th>251996</th>\n",
              "      <td>single</td>\n",
              "      <td>rented</td>\n",
              "      <td>no</td>\n",
              "      <td>Army_officer</td>\n",
              "      <td>Rewa</td>\n",
              "      <td>Madhya_Pradesh</td>\n",
              "    </tr>\n",
              "    <tr>\n",
              "      <th>251997</th>\n",
              "      <td>single</td>\n",
              "      <td>rented</td>\n",
              "      <td>no</td>\n",
              "      <td>Design_Engineer</td>\n",
              "      <td>Kalyan-Dombivli</td>\n",
              "      <td>Maharashtra</td>\n",
              "    </tr>\n",
              "    <tr>\n",
              "      <th>251998</th>\n",
              "      <td>single</td>\n",
              "      <td>rented</td>\n",
              "      <td>no</td>\n",
              "      <td>Graphic_Designer</td>\n",
              "      <td>Pondicherry</td>\n",
              "      <td>Puducherry</td>\n",
              "    </tr>\n",
              "    <tr>\n",
              "      <th>251999</th>\n",
              "      <td>single</td>\n",
              "      <td>rented</td>\n",
              "      <td>no</td>\n",
              "      <td>Statistician</td>\n",
              "      <td>Avadi</td>\n",
              "      <td>Tamil_Nadu</td>\n",
              "    </tr>\n",
              "  </tbody>\n",
              "</table>\n",
              "<p>252000 rows × 6 columns</p>\n",
              "</div>"
            ],
            "text/plain": [
              "        married house_ownership  ...                 city           state\n",
              "0        single          rented  ...                 Rewa  Madhya_Pradesh\n",
              "1        single          rented  ...             Parbhani     Maharashtra\n",
              "2       married          rented  ...            Alappuzha          Kerala\n",
              "3        single          rented  ...          Bhubaneswar          Odisha\n",
              "4        single          rented  ...  Tiruchirappalli[10]      Tamil_Nadu\n",
              "...         ...             ...  ...                  ...             ...\n",
              "251995   single          rented  ...              Kolkata     West_Bengal\n",
              "251996   single          rented  ...                 Rewa  Madhya_Pradesh\n",
              "251997   single          rented  ...      Kalyan-Dombivli     Maharashtra\n",
              "251998   single          rented  ...          Pondicherry      Puducherry\n",
              "251999   single          rented  ...                Avadi      Tamil_Nadu\n",
              "\n",
              "[252000 rows x 6 columns]"
            ]
          },
          "metadata": {
            "tags": []
          },
          "execution_count": 4
        }
      ]
    },
    {
      "cell_type": "code",
      "metadata": {
        "id": "Ie-zwOlC9cbZ"
      },
      "source": [
        "for x in obj_cols.columns:\n",
        "  ld[x] = pd.factorize(ld[x])[0]"
      ],
      "execution_count": null,
      "outputs": []
    },
    {
      "cell_type": "code",
      "metadata": {
        "colab": {
          "base_uri": "https://localhost:8080/",
          "height": 206
        },
        "id": "5p1jiIhL-St0",
        "outputId": "e92fb0c1-731c-4de6-9278-c8790fcda5ae"
      },
      "source": [
        "ld.head()"
      ],
      "execution_count": null,
      "outputs": [
        {
          "output_type": "execute_result",
          "data": {
            "text/html": [
              "<div>\n",
              "<style scoped>\n",
              "    .dataframe tbody tr th:only-of-type {\n",
              "        vertical-align: middle;\n",
              "    }\n",
              "\n",
              "    .dataframe tbody tr th {\n",
              "        vertical-align: top;\n",
              "    }\n",
              "\n",
              "    .dataframe thead th {\n",
              "        text-align: right;\n",
              "    }\n",
              "</style>\n",
              "<table border=\"1\" class=\"dataframe\">\n",
              "  <thead>\n",
              "    <tr style=\"text-align: right;\">\n",
              "      <th></th>\n",
              "      <th>Id</th>\n",
              "      <th>income</th>\n",
              "      <th>age</th>\n",
              "      <th>experience</th>\n",
              "      <th>married</th>\n",
              "      <th>house_ownership</th>\n",
              "      <th>car_ownership</th>\n",
              "      <th>profession</th>\n",
              "      <th>city</th>\n",
              "      <th>state</th>\n",
              "      <th>current_job_years</th>\n",
              "      <th>current_house_years</th>\n",
              "      <th>risk_flag</th>\n",
              "    </tr>\n",
              "  </thead>\n",
              "  <tbody>\n",
              "    <tr>\n",
              "      <th>0</th>\n",
              "      <td>1</td>\n",
              "      <td>1303835</td>\n",
              "      <td>23</td>\n",
              "      <td>3</td>\n",
              "      <td>0</td>\n",
              "      <td>0</td>\n",
              "      <td>0</td>\n",
              "      <td>0</td>\n",
              "      <td>0</td>\n",
              "      <td>0</td>\n",
              "      <td>3</td>\n",
              "      <td>13</td>\n",
              "      <td>0</td>\n",
              "    </tr>\n",
              "    <tr>\n",
              "      <th>1</th>\n",
              "      <td>2</td>\n",
              "      <td>7574516</td>\n",
              "      <td>40</td>\n",
              "      <td>10</td>\n",
              "      <td>0</td>\n",
              "      <td>0</td>\n",
              "      <td>0</td>\n",
              "      <td>1</td>\n",
              "      <td>1</td>\n",
              "      <td>1</td>\n",
              "      <td>9</td>\n",
              "      <td>13</td>\n",
              "      <td>0</td>\n",
              "    </tr>\n",
              "    <tr>\n",
              "      <th>2</th>\n",
              "      <td>3</td>\n",
              "      <td>3991815</td>\n",
              "      <td>66</td>\n",
              "      <td>4</td>\n",
              "      <td>1</td>\n",
              "      <td>0</td>\n",
              "      <td>0</td>\n",
              "      <td>2</td>\n",
              "      <td>2</td>\n",
              "      <td>2</td>\n",
              "      <td>4</td>\n",
              "      <td>10</td>\n",
              "      <td>0</td>\n",
              "    </tr>\n",
              "    <tr>\n",
              "      <th>3</th>\n",
              "      <td>4</td>\n",
              "      <td>6256451</td>\n",
              "      <td>41</td>\n",
              "      <td>2</td>\n",
              "      <td>0</td>\n",
              "      <td>0</td>\n",
              "      <td>1</td>\n",
              "      <td>1</td>\n",
              "      <td>3</td>\n",
              "      <td>3</td>\n",
              "      <td>2</td>\n",
              "      <td>12</td>\n",
              "      <td>1</td>\n",
              "    </tr>\n",
              "    <tr>\n",
              "      <th>4</th>\n",
              "      <td>5</td>\n",
              "      <td>5768871</td>\n",
              "      <td>47</td>\n",
              "      <td>11</td>\n",
              "      <td>0</td>\n",
              "      <td>0</td>\n",
              "      <td>0</td>\n",
              "      <td>3</td>\n",
              "      <td>4</td>\n",
              "      <td>4</td>\n",
              "      <td>3</td>\n",
              "      <td>14</td>\n",
              "      <td>1</td>\n",
              "    </tr>\n",
              "  </tbody>\n",
              "</table>\n",
              "</div>"
            ],
            "text/plain": [
              "   Id   income  age  ...  current_job_years  current_house_years  risk_flag\n",
              "0   1  1303835   23  ...                  3                   13          0\n",
              "1   2  7574516   40  ...                  9                   13          0\n",
              "2   3  3991815   66  ...                  4                   10          0\n",
              "3   4  6256451   41  ...                  2                   12          1\n",
              "4   5  5768871   47  ...                  3                   14          1\n",
              "\n",
              "[5 rows x 13 columns]"
            ]
          },
          "metadata": {
            "tags": []
          },
          "execution_count": 10
        }
      ]
    },
    {
      "cell_type": "code",
      "metadata": {
        "colab": {
          "base_uri": "https://localhost:8080/",
          "height": 206
        },
        "id": "strlj6gR-drp",
        "outputId": "bf6e0cd6-b09f-449c-f809-c2b61fdc6672"
      },
      "source": [
        "for x in obj_cols.columns:\n",
        "  ld_test[x] = pd.factorize(ld_test[x])[0]\n",
        "ld_test.head()"
      ],
      "execution_count": null,
      "outputs": [
        {
          "output_type": "execute_result",
          "data": {
            "text/html": [
              "<div>\n",
              "<style scoped>\n",
              "    .dataframe tbody tr th:only-of-type {\n",
              "        vertical-align: middle;\n",
              "    }\n",
              "\n",
              "    .dataframe tbody tr th {\n",
              "        vertical-align: top;\n",
              "    }\n",
              "\n",
              "    .dataframe thead th {\n",
              "        text-align: right;\n",
              "    }\n",
              "</style>\n",
              "<table border=\"1\" class=\"dataframe\">\n",
              "  <thead>\n",
              "    <tr style=\"text-align: right;\">\n",
              "      <th></th>\n",
              "      <th>id</th>\n",
              "      <th>income</th>\n",
              "      <th>age</th>\n",
              "      <th>experience</th>\n",
              "      <th>married</th>\n",
              "      <th>house_ownership</th>\n",
              "      <th>car_ownership</th>\n",
              "      <th>profession</th>\n",
              "      <th>city</th>\n",
              "      <th>state</th>\n",
              "      <th>current_job_years</th>\n",
              "      <th>current_house_years</th>\n",
              "    </tr>\n",
              "  </thead>\n",
              "  <tbody>\n",
              "    <tr>\n",
              "      <th>0</th>\n",
              "      <td>1</td>\n",
              "      <td>7393090</td>\n",
              "      <td>59</td>\n",
              "      <td>19</td>\n",
              "      <td>0</td>\n",
              "      <td>0</td>\n",
              "      <td>0</td>\n",
              "      <td>0</td>\n",
              "      <td>0</td>\n",
              "      <td>0</td>\n",
              "      <td>4</td>\n",
              "      <td>13</td>\n",
              "    </tr>\n",
              "    <tr>\n",
              "      <th>1</th>\n",
              "      <td>2</td>\n",
              "      <td>1215004</td>\n",
              "      <td>25</td>\n",
              "      <td>5</td>\n",
              "      <td>0</td>\n",
              "      <td>0</td>\n",
              "      <td>0</td>\n",
              "      <td>1</td>\n",
              "      <td>1</td>\n",
              "      <td>1</td>\n",
              "      <td>5</td>\n",
              "      <td>10</td>\n",
              "    </tr>\n",
              "    <tr>\n",
              "      <th>2</th>\n",
              "      <td>3</td>\n",
              "      <td>8901342</td>\n",
              "      <td>50</td>\n",
              "      <td>12</td>\n",
              "      <td>0</td>\n",
              "      <td>0</td>\n",
              "      <td>0</td>\n",
              "      <td>2</td>\n",
              "      <td>2</td>\n",
              "      <td>1</td>\n",
              "      <td>9</td>\n",
              "      <td>14</td>\n",
              "    </tr>\n",
              "    <tr>\n",
              "      <th>3</th>\n",
              "      <td>4</td>\n",
              "      <td>1944421</td>\n",
              "      <td>49</td>\n",
              "      <td>9</td>\n",
              "      <td>1</td>\n",
              "      <td>0</td>\n",
              "      <td>1</td>\n",
              "      <td>3</td>\n",
              "      <td>3</td>\n",
              "      <td>1</td>\n",
              "      <td>3</td>\n",
              "      <td>12</td>\n",
              "    </tr>\n",
              "    <tr>\n",
              "      <th>4</th>\n",
              "      <td>5</td>\n",
              "      <td>13429</td>\n",
              "      <td>25</td>\n",
              "      <td>18</td>\n",
              "      <td>0</td>\n",
              "      <td>0</td>\n",
              "      <td>1</td>\n",
              "      <td>4</td>\n",
              "      <td>4</td>\n",
              "      <td>0</td>\n",
              "      <td>13</td>\n",
              "      <td>11</td>\n",
              "    </tr>\n",
              "  </tbody>\n",
              "</table>\n",
              "</div>"
            ],
            "text/plain": [
              "   id   income  age  ...  state  current_job_years  current_house_years\n",
              "0   1  7393090   59  ...      0                  4                   13\n",
              "1   2  1215004   25  ...      1                  5                   10\n",
              "2   3  8901342   50  ...      1                  9                   14\n",
              "3   4  1944421   49  ...      1                  3                   12\n",
              "4   5    13429   25  ...      0                 13                   11\n",
              "\n",
              "[5 rows x 12 columns]"
            ]
          },
          "metadata": {
            "tags": []
          },
          "execution_count": 6
        }
      ]
    },
    {
      "cell_type": "markdown",
      "metadata": {
        "id": "SX-LkZbbAXk-"
      },
      "source": [
        "#Lets split X,Y as well as train and test sets"
      ]
    },
    {
      "cell_type": "code",
      "metadata": {
        "id": "DUQFMm7KAivz"
      },
      "source": [
        "X = ld.drop(['Id','risk_flag'],axis=1)\n",
        "Y = ld['risk_flag']"
      ],
      "execution_count": null,
      "outputs": []
    },
    {
      "cell_type": "code",
      "metadata": {
        "id": "McOPkcxh6vvd"
      },
      "source": [
        "Xtest = ld_test.drop(['id'],axis=1)"
      ],
      "execution_count": null,
      "outputs": []
    },
    {
      "cell_type": "code",
      "metadata": {
        "id": "6ueDc4YKMdMB"
      },
      "source": [
        "xtrain,xtest,ytrain,ytest = train_test_split(X,Y,random_state=13)"
      ],
      "execution_count": null,
      "outputs": []
    },
    {
      "cell_type": "code",
      "metadata": {
        "colab": {
          "base_uri": "https://localhost:8080/"
        },
        "id": "4cqTQvKgCm1f",
        "outputId": "a6470167-b45b-495d-b964-b102abc0be37"
      },
      "source": [
        "xtrain.shape\n",
        "ytrain.shape\n",
        "xtest.shape\n",
        "ytest.shape"
      ],
      "execution_count": null,
      "outputs": [
        {
          "output_type": "execute_result",
          "data": {
            "text/plain": [
              "(63000,)"
            ]
          },
          "metadata": {
            "tags": []
          },
          "execution_count": 54
        }
      ]
    },
    {
      "cell_type": "markdown",
      "metadata": {
        "id": "xHPNsxMO-mSd"
      },
      "source": [
        "#Lets fit a Logistic model and check accuracy"
      ]
    },
    {
      "cell_type": "code",
      "metadata": {
        "id": "4XWmIzd-gGP5"
      },
      "source": [
        "#function to write report\n",
        "def write_report(name):\n",
        "  report = pd.concat([ld_test['id'],pd.DataFrame(ypred,columns=['risk_flag'])],axis=1)\n",
        "  report.to_csv('/content/gdrive/My Drive/Datasets/univ.ai/' + name ,index=False)"
      ],
      "execution_count": null,
      "outputs": []
    },
    {
      "cell_type": "code",
      "metadata": {
        "colab": {
          "base_uri": "https://localhost:8080/"
        },
        "id": "vF4F2SxK_3sY",
        "outputId": "24f0be65-9c08-48c1-846c-634f1833cba6"
      },
      "source": [
        "from sklearn.linear_model import LogisticRegression\n",
        "from sklearn.model_selection import cross_val_score\n",
        "log_mod = LogisticRegression()\n",
        "scores = cross_val_score(log_mod,xtrain,ytrain,scoring='roc_auc')\n",
        "scores\n"
      ],
      "execution_count": null,
      "outputs": [
        {
          "output_type": "execute_result",
          "data": {
            "text/plain": [
              "array([0.50196728, 0.49528195, 0.50506802, 0.50772664, 0.50412322])"
            ]
          },
          "metadata": {
            "tags": []
          },
          "execution_count": 9
        }
      ]
    },
    {
      "cell_type": "code",
      "metadata": {
        "id": "Jq8tnqIeNNEd"
      },
      "source": [
        "ypred = log_mod.fit(xtrain,ytrain).predict(xtest)"
      ],
      "execution_count": null,
      "outputs": []
    },
    {
      "cell_type": "code",
      "metadata": {
        "colab": {
          "base_uri": "https://localhost:8080/"
        },
        "id": "aNKZfCzBNeXV",
        "outputId": "8915a4cf-60bd-4570-dcd6-2cb1be498402"
      },
      "source": [
        "roc_auc_score(ytest,ypred)"
      ],
      "execution_count": null,
      "outputs": [
        {
          "output_type": "execute_result",
          "data": {
            "text/plain": [
              "0.5"
            ]
          },
          "metadata": {
            "tags": []
          },
          "execution_count": 11
        }
      ]
    },
    {
      "cell_type": "code",
      "metadata": {
        "colab": {
          "base_uri": "https://localhost:8080/"
        },
        "id": "kvoVBygQDhW0",
        "outputId": "50e070ac-40e7-4238-9c83-d6b9032e72af"
      },
      "source": [
        "auc = cross_val_score(log_mod,X,Y,scoring='accuracy')\n",
        "auc"
      ],
      "execution_count": null,
      "outputs": [
        {
          "output_type": "execute_result",
          "data": {
            "text/plain": [
              "array([0.87700397, 0.87700397, 0.87700397, 0.87700397, 0.87698413])"
            ]
          },
          "metadata": {
            "tags": []
          },
          "execution_count": 18
        }
      ]
    },
    {
      "cell_type": "markdown",
      "metadata": {
        "id": "_7CvViP8F-Pf"
      },
      "source": [
        "#Lets fit a DecisionTree and check"
      ]
    },
    {
      "cell_type": "code",
      "metadata": {
        "colab": {
          "base_uri": "https://localhost:8080/"
        },
        "id": "MdNBfFwLGAwX",
        "outputId": "94e7b24a-3a41-4a24-eb14-c60fad7c35a7"
      },
      "source": [
        "from sklearn.tree import DecisionTreeClassifier\n",
        "DT = DecisionTreeClassifier()\n",
        "scores = cross_val_score(DT,xtrain,ytrain,scoring='roc_auc')\n",
        "scores"
      ],
      "execution_count": null,
      "outputs": [
        {
          "output_type": "execute_result",
          "data": {
            "text/plain": [
              "array([0.84760544, 0.8496886 , 0.85379602, 0.85253173, 0.85345652])"
            ]
          },
          "metadata": {
            "tags": []
          },
          "execution_count": 60
        }
      ]
    },
    {
      "cell_type": "code",
      "metadata": {
        "colab": {
          "base_uri": "https://localhost:8080/"
        },
        "id": "m6n_Nh3zNtKq",
        "outputId": "6e990e2c-1ce6-4345-8762-adf2323f8a9c"
      },
      "source": [
        "ypred = DT.fit(xtrain,ytrain).predict(xtest)\n",
        "roc_auc_score(ytest,ypred)"
      ],
      "execution_count": null,
      "outputs": [
        {
          "output_type": "execute_result",
          "data": {
            "text/plain": [
              "0.7502345272877026"
            ]
          },
          "metadata": {
            "tags": []
          },
          "execution_count": 61
        }
      ]
    },
    {
      "cell_type": "code",
      "metadata": {
        "colab": {
          "base_uri": "https://localhost:8080/"
        },
        "id": "HPonQ5rkGBB_",
        "outputId": "e5e6cc7d-3bc3-43d2-8553-7a6465845487"
      },
      "source": [
        "auc = cross_val_score(DT,X,Y,scoring='accuracy')\n",
        "auc"
      ],
      "execution_count": null,
      "outputs": [
        {
          "output_type": "execute_result",
          "data": {
            "text/plain": [
              "array([0.93107143, 0.92253968, 0.90876984, 0.88700397, 0.73238095])"
            ]
          },
          "metadata": {
            "tags": []
          },
          "execution_count": 22
        }
      ]
    },
    {
      "cell_type": "markdown",
      "metadata": {
        "id": "luoXcBS0GBMV"
      },
      "source": [
        "#Decions tree looks more promising than logistic\n",
        "#Lets try Randomforest and check"
      ]
    },
    {
      "cell_type": "code",
      "metadata": {
        "colab": {
          "base_uri": "https://localhost:8080/"
        },
        "id": "C20mn7B3GBRN",
        "outputId": "f82440ac-2086-43db-e17a-39accd74c0b6"
      },
      "source": [
        "from sklearn.ensemble import RandomForestClassifier\n",
        "RF = RandomForestClassifier(max_features = 0.5,n_estimators=200)\n",
        "scores = cross_val_score(RF,xtrain,ytrain,scoring='roc_auc')\n",
        "scores"
      ],
      "execution_count": null,
      "outputs": [
        {
          "output_type": "execute_result",
          "data": {
            "text/plain": [
              "array([0.93747953, 0.93765926, 0.93854006, 0.93925197, 0.9372049 ])"
            ]
          },
          "metadata": {
            "tags": []
          },
          "execution_count": 61
        }
      ]
    },
    {
      "cell_type": "code",
      "metadata": {
        "colab": {
          "base_uri": "https://localhost:8080/"
        },
        "id": "uhtk8DQfQKjj",
        "outputId": "f5da1782-a221-4a5c-b05e-30a94eafe9fb"
      },
      "source": [
        "ypred = RF.fit(xtrain,ytrain).predict(xtest)\n",
        "roc_auc_score(ytest,ypred)"
      ],
      "execution_count": null,
      "outputs": [
        {
          "output_type": "execute_result",
          "data": {
            "text/plain": [
              "0.7410637183719415"
            ]
          },
          "metadata": {
            "tags": []
          },
          "execution_count": 62
        }
      ]
    },
    {
      "cell_type": "code",
      "metadata": {
        "id": "uf9JDBYURCuA"
      },
      "source": [
        "ypred = RF.fit(xtrain,ytrain).predict(Xtest)"
      ],
      "execution_count": null,
      "outputs": []
    },
    {
      "cell_type": "code",
      "metadata": {
        "id": "DHiH3zkXQ6m_"
      },
      "source": [
        "write_report('rf_output.csv')"
      ],
      "execution_count": null,
      "outputs": []
    },
    {
      "cell_type": "code",
      "metadata": {
        "colab": {
          "base_uri": "https://localhost:8080/"
        },
        "id": "UiYlAWTFGBVX",
        "outputId": "a4e3e46d-0eee-45c0-9399-05b284bde992"
      },
      "source": [
        "from sklearn.ensemble import RandomForestClassifier\n",
        "RF = RandomForestClassifier(max_features = 0.6,n_estimators=100)\n",
        "auc_roc = cross_val_score(RF,X,Y,scoring='roc_auc')\n",
        "auc_roc"
      ],
      "execution_count": null,
      "outputs": [
        {
          "output_type": "execute_result",
          "data": {
            "text/plain": [
              "array([0.97495546, 0.96832583, 0.95781029, 0.93612737, 0.65070217])"
            ]
          },
          "metadata": {
            "tags": []
          },
          "execution_count": 44
        }
      ]
    },
    {
      "cell_type": "code",
      "metadata": {
        "id": "2_QtcXylGBZG"
      },
      "source": [
        "\n",
        "RF = RandomForestClassifier(max_features = 0.5,n_estimators=100)\n",
        "RF.fit(X,Y)\n",
        "ypred = RF.predict(Xtest)"
      ],
      "execution_count": null,
      "outputs": []
    },
    {
      "cell_type": "code",
      "metadata": {
        "colab": {
          "base_uri": "https://localhost:8080/",
          "height": 424
        },
        "id": "Pa-ZjB8eGBcL",
        "outputId": "07a3007b-4dbe-4747-daf8-82e180ab3e93"
      },
      "source": [
        "report = pd.concat([ld_test['id'],pd.DataFrame(ypred,columns=['risk_flag'])],axis=1)\n",
        "report"
      ],
      "execution_count": null,
      "outputs": [
        {
          "output_type": "execute_result",
          "data": {
            "text/html": [
              "<div>\n",
              "<style scoped>\n",
              "    .dataframe tbody tr th:only-of-type {\n",
              "        vertical-align: middle;\n",
              "    }\n",
              "\n",
              "    .dataframe tbody tr th {\n",
              "        vertical-align: top;\n",
              "    }\n",
              "\n",
              "    .dataframe thead th {\n",
              "        text-align: right;\n",
              "    }\n",
              "</style>\n",
              "<table border=\"1\" class=\"dataframe\">\n",
              "  <thead>\n",
              "    <tr style=\"text-align: right;\">\n",
              "      <th></th>\n",
              "      <th>id</th>\n",
              "      <th>risk_flag</th>\n",
              "    </tr>\n",
              "  </thead>\n",
              "  <tbody>\n",
              "    <tr>\n",
              "      <th>0</th>\n",
              "      <td>1</td>\n",
              "      <td>0</td>\n",
              "    </tr>\n",
              "    <tr>\n",
              "      <th>1</th>\n",
              "      <td>2</td>\n",
              "      <td>0</td>\n",
              "    </tr>\n",
              "    <tr>\n",
              "      <th>2</th>\n",
              "      <td>3</td>\n",
              "      <td>0</td>\n",
              "    </tr>\n",
              "    <tr>\n",
              "      <th>3</th>\n",
              "      <td>4</td>\n",
              "      <td>0</td>\n",
              "    </tr>\n",
              "    <tr>\n",
              "      <th>4</th>\n",
              "      <td>5</td>\n",
              "      <td>0</td>\n",
              "    </tr>\n",
              "    <tr>\n",
              "      <th>...</th>\n",
              "      <td>...</td>\n",
              "      <td>...</td>\n",
              "    </tr>\n",
              "    <tr>\n",
              "      <th>27995</th>\n",
              "      <td>27996</td>\n",
              "      <td>0</td>\n",
              "    </tr>\n",
              "    <tr>\n",
              "      <th>27996</th>\n",
              "      <td>27997</td>\n",
              "      <td>0</td>\n",
              "    </tr>\n",
              "    <tr>\n",
              "      <th>27997</th>\n",
              "      <td>27998</td>\n",
              "      <td>0</td>\n",
              "    </tr>\n",
              "    <tr>\n",
              "      <th>27998</th>\n",
              "      <td>27999</td>\n",
              "      <td>0</td>\n",
              "    </tr>\n",
              "    <tr>\n",
              "      <th>27999</th>\n",
              "      <td>28000</td>\n",
              "      <td>0</td>\n",
              "    </tr>\n",
              "  </tbody>\n",
              "</table>\n",
              "<p>28000 rows × 2 columns</p>\n",
              "</div>"
            ],
            "text/plain": [
              "          id  risk_flag\n",
              "0          1          0\n",
              "1          2          0\n",
              "2          3          0\n",
              "3          4          0\n",
              "4          5          0\n",
              "...      ...        ...\n",
              "27995  27996          0\n",
              "27996  27997          0\n",
              "27997  27998          0\n",
              "27998  27999          0\n",
              "27999  28000          0\n",
              "\n",
              "[28000 rows x 2 columns]"
            ]
          },
          "metadata": {
            "tags": []
          },
          "execution_count": 33
        }
      ]
    },
    {
      "cell_type": "code",
      "metadata": {
        "id": "RGaxA0QQZjOS"
      },
      "source": [
        "report.to_csv('/content/gdrive/My Drive/Datasets/univ.ai/output.csv',index=False)"
      ],
      "execution_count": null,
      "outputs": []
    },
    {
      "cell_type": "markdown",
      "metadata": {
        "id": "dCiiEvpFegqD"
      },
      "source": [
        "#Take the oupput file of logistic reg"
      ]
    },
    {
      "cell_type": "code",
      "metadata": {
        "id": "OsRnAMFlelXS"
      },
      "source": [
        "log_mod = LogisticRegression()\n",
        "log_mod.fit(X,Y)\n",
        "ypred = log_mod.predict(Xtest)\n",
        "report = pd.concat([ld_test['id'],pd.DataFrame(ypred,columns=['risk_flag'])],axis=1)\n",
        "report.to_csv('/content/gdrive/My Drive/Datasets/univ.ai/logmod_output.csv',index=False)"
      ],
      "execution_count": null,
      "outputs": []
    },
    {
      "cell_type": "code",
      "metadata": {
        "id": "CebvhuhZgVhq"
      },
      "source": [
        "write_report('logmod1.csv')"
      ],
      "execution_count": null,
      "outputs": []
    },
    {
      "cell_type": "markdown",
      "metadata": {
        "id": "Kk2mMf7Jfr1L"
      },
      "source": [
        "#Lets try KNN and check"
      ]
    },
    {
      "cell_type": "code",
      "metadata": {
        "colab": {
          "base_uri": "https://localhost:8080/"
        },
        "id": "TXu9IGEUfs1Z",
        "outputId": "7e03f6fe-017c-42b2-c372-e530f1dd878a"
      },
      "source": [
        "from sklearn.neighbors import KNeighborsClassifier\n",
        "knn = KNeighborsClassifier(n_neighbors=17)\n",
        "scores = cross_val_score(knn,xtrain,ytrain,scoring='roc_auc')\n",
        "scores"
      ],
      "execution_count": null,
      "outputs": [
        {
          "output_type": "execute_result",
          "data": {
            "text/plain": [
              "array([0.88673756, 0.88626517, 0.88754896, 0.89081704, 0.88968175])"
            ]
          },
          "metadata": {
            "tags": []
          },
          "execution_count": 47
        }
      ]
    },
    {
      "cell_type": "code",
      "metadata": {
        "colab": {
          "base_uri": "https://localhost:8080/"
        },
        "id": "fg2qC1g6fs4a",
        "outputId": "2868969d-88c7-4e41-ee47-4f71f5a51748"
      },
      "source": [
        "knn.fit(xtrain,ytrain)\n",
        "ypred = knn.predict(xtest)\n",
        "roc_auc_score(ytest,ypred)"
      ],
      "execution_count": null,
      "outputs": [
        {
          "output_type": "execute_result",
          "data": {
            "text/plain": [
              "0.745858353659777"
            ]
          },
          "metadata": {
            "tags": []
          },
          "execution_count": 48
        }
      ]
    },
    {
      "cell_type": "code",
      "metadata": {
        "id": "GDIvDZEEHMLv"
      },
      "source": [
        "ypred = knn.predict(Xtest)\n",
        "write_report('knn_output.csv')"
      ],
      "execution_count": null,
      "outputs": []
    },
    {
      "cell_type": "code",
      "metadata": {
        "colab": {
          "base_uri": "https://localhost:8080/",
          "height": 226
        },
        "id": "DUE_u2pYpFHn",
        "outputId": "0ecc5f46-694c-4312-f579-ee73aee22388"
      },
      "source": [
        "from sklearn.ensemble import BaggingClassifier\n",
        "knn = KNeighborsClassifier(n_neighbors=17)\n",
        "bc = BaggingClassifier(base_estimator=knn,n_estimators=100)\n",
        "bc.fit(xtrain,ytrain)\n"
      ],
      "execution_count": null,
      "outputs": [
        {
          "output_type": "error",
          "ename": "AttributeError",
          "evalue": "ignored",
          "traceback": [
            "\u001b[0;31m---------------------------------------------------------------------------\u001b[0m",
            "\u001b[0;31mAttributeError\u001b[0m                            Traceback (most recent call last)",
            "\u001b[0;32m<ipython-input-77-d82fb6f94f6a>\u001b[0m in \u001b[0;36m<module>\u001b[0;34m()\u001b[0m\n\u001b[1;32m      3\u001b[0m \u001b[0mbc\u001b[0m \u001b[0;34m=\u001b[0m \u001b[0mBaggingClassifier\u001b[0m\u001b[0;34m(\u001b[0m\u001b[0mbase_estimator\u001b[0m\u001b[0;34m=\u001b[0m\u001b[0mknn\u001b[0m\u001b[0;34m,\u001b[0m\u001b[0mn_estimators\u001b[0m\u001b[0;34m=\u001b[0m\u001b[0;36m100\u001b[0m\u001b[0;34m)\u001b[0m\u001b[0;34m\u001b[0m\u001b[0;34m\u001b[0m\u001b[0m\n\u001b[1;32m      4\u001b[0m \u001b[0mbc\u001b[0m\u001b[0;34m.\u001b[0m\u001b[0mfit\u001b[0m\u001b[0;34m(\u001b[0m\u001b[0mxtrain\u001b[0m\u001b[0;34m,\u001b[0m\u001b[0mytrain\u001b[0m\u001b[0;34m)\u001b[0m\u001b[0;34m\u001b[0m\u001b[0;34m\u001b[0m\u001b[0m\n\u001b[0;32m----> 5\u001b[0;31m \u001b[0mypred\u001b[0m \u001b[0;34m=\u001b[0m \u001b[0mbc\u001b[0m\u001b[0;34m.\u001b[0m\u001b[0mpreditc\u001b[0m\u001b[0;34m(\u001b[0m\u001b[0mxtest\u001b[0m\u001b[0;34m)\u001b[0m\u001b[0;34m\u001b[0m\u001b[0;34m\u001b[0m\u001b[0m\n\u001b[0m\u001b[1;32m      6\u001b[0m \u001b[0mroc_auc_score\u001b[0m\u001b[0;34m(\u001b[0m\u001b[0mytest\u001b[0m\u001b[0;34m,\u001b[0m\u001b[0mypred\u001b[0m\u001b[0;34m)\u001b[0m\u001b[0;34m\u001b[0m\u001b[0;34m\u001b[0m\u001b[0m\n",
            "\u001b[0;31mAttributeError\u001b[0m: 'BaggingClassifier' object has no attribute 'preditc'"
          ]
        }
      ]
    },
    {
      "cell_type": "code",
      "metadata": {
        "colab": {
          "base_uri": "https://localhost:8080/"
        },
        "id": "3ZybFQK6qjM3",
        "outputId": "ec875d6c-46d0-4f05-b6f8-82ddde0d88da"
      },
      "source": [
        "ypred = bc.predict(xtest)\n",
        "roc_auc_score(ytest,ypred)"
      ],
      "execution_count": null,
      "outputs": [
        {
          "output_type": "execute_result",
          "data": {
            "text/plain": [
              "0.7466217025318687"
            ]
          },
          "metadata": {
            "tags": []
          },
          "execution_count": 79
        }
      ]
    },
    {
      "cell_type": "code",
      "metadata": {
        "colab": {
          "base_uri": "https://localhost:8080/"
        },
        "id": "h89huKo92SeY",
        "outputId": "241a9839-2153-45f3-aa3f-4de2c3037b74"
      },
      "source": [
        "from sklearn.ensemble import BaggingClassifier\n",
        "knn = KNeighborsClassifier(n_neighbors=17)\n",
        "bc = BaggingClassifier(base_estimator=knn,n_estimators=100)\n",
        "bc.fit(X,Y)\n",
        "ypred = bc.predict(xtest)\n",
        "roc_auc_score(ytest,ypred)"
      ],
      "execution_count": 84,
      "outputs": [
        {
          "output_type": "execute_result",
          "data": {
            "text/plain": [
              "0.7568753689598168"
            ]
          },
          "metadata": {
            "tags": []
          },
          "execution_count": 84
        }
      ]
    },
    {
      "cell_type": "code",
      "metadata": {
        "id": "2cFvl_cGq-NG"
      },
      "source": [
        "ypred = bc.predict(Xtest)\n",
        "write_report('knnfullbagging_output.csv')"
      ],
      "execution_count": 85,
      "outputs": []
    },
    {
      "cell_type": "markdown",
      "metadata": {
        "id": "uAeLK-aaEN_9"
      },
      "source": [
        "#Lets apply boosting on different algos"
      ]
    },
    {
      "cell_type": "code",
      "metadata": {
        "id": "NG9TzkVNFMBN"
      },
      "source": [
        "from sklearn.ensemble import AdaBoostClassifier\n",
        "dt = DecisionTreeClassifier()\n",
        "abc = AdaBoostClassifier(n_estimators=200,learning_rate=0.3)"
      ],
      "execution_count": null,
      "outputs": []
    },
    {
      "cell_type": "code",
      "metadata": {
        "colab": {
          "base_uri": "https://localhost:8080/"
        },
        "id": "gaQzSiFhFMfP",
        "outputId": "6895ae81-4d83-455f-e7f3-17696b833848"
      },
      "source": [
        "abc.fit(xtrain,ytrain)\n",
        "ypred = abc.predict(xtest)\n",
        "roc_auc_score(ytest,ypred)"
      ],
      "execution_count": null,
      "outputs": [
        {
          "output_type": "execute_result",
          "data": {
            "text/plain": [
              "0.500578927055191"
            ]
          },
          "metadata": {
            "tags": []
          },
          "execution_count": 59
        }
      ]
    },
    {
      "cell_type": "code",
      "metadata": {
        "id": "xXz4c-zJFMh-"
      },
      "source": [
        "from sklearn.ensemble import RandomForestClassifier\n",
        "rf = RandomForestClassifier(max_features=0.5,n_estimators=100)\n",
        "abc = AdaBoostClassifier(base_estimator=rf,n_estimators=50,random_state=13)"
      ],
      "execution_count": null,
      "outputs": []
    },
    {
      "cell_type": "code",
      "metadata": {
        "colab": {
          "base_uri": "https://localhost:8080/"
        },
        "id": "_TB0k3xFFMkh",
        "outputId": "91aed4c2-3aed-445d-d832-f37d5d482cf7"
      },
      "source": [
        "abc.fit(xtrain,ytrain)\n",
        "ypred = abc.predict(xtest)\n",
        "roc_auc_score(ytest,ypred)"
      ],
      "execution_count": null,
      "outputs": [
        {
          "output_type": "execute_result",
          "data": {
            "text/plain": [
              "0.7434485039700396"
            ]
          },
          "metadata": {
            "tags": []
          },
          "execution_count": 33
        }
      ]
    },
    {
      "cell_type": "code",
      "metadata": {
        "id": "C5HE6s9PFMmW"
      },
      "source": [
        "ypred = abc.predict(Xtest)\n",
        "write_report('ada_RF_output.csv')"
      ],
      "execution_count": null,
      "outputs": []
    },
    {
      "cell_type": "code",
      "metadata": {
        "id": "iFl0ARjWiqa9"
      },
      "source": [
        "#Applying gradient boosting\n",
        "\n",
        "from sklearn.ensemble import GradientBoostingClassifier\n",
        "dt = DecisionTreeClassifier()\n",
        "gbc = GradientBoostingClassifier(n_estimators=200)"
      ],
      "execution_count": null,
      "outputs": []
    },
    {
      "cell_type": "code",
      "metadata": {
        "colab": {
          "base_uri": "https://localhost:8080/"
        },
        "id": "JXDcgDLGjnkR",
        "outputId": "d0985cb6-8472-4112-fc3c-c7dd6acc4f2d"
      },
      "source": [
        "gbc.fit(xtrain,ytrain)\n",
        "ypred = gbc.predict(xtest)\n",
        "roc_auc_score(ytest,ypred)"
      ],
      "execution_count": null,
      "outputs": [
        {
          "output_type": "execute_result",
          "data": {
            "text/plain": [
              "0.502400041394013"
            ]
          },
          "metadata": {
            "tags": []
          },
          "execution_count": 66
        }
      ]
    },
    {
      "cell_type": "markdown",
      "metadata": {
        "id": "hLJc72wZfqej"
      },
      "source": [
        "#applying boost on logistic"
      ]
    },
    {
      "cell_type": "code",
      "metadata": {
        "id": "HX6ImmngHMOf"
      },
      "source": [
        "from sklearn.linear_model import LogisticRegression\n",
        "lr = LogisticRegression()\n",
        "from sklearn.ensemble import RandomForestClassifier\n",
        "abc = AdaBoostClassifier(base_estimator=lr,n_estimators=200,learning_rate=0.5)"
      ],
      "execution_count": null,
      "outputs": []
    },
    {
      "cell_type": "code",
      "metadata": {
        "colab": {
          "base_uri": "https://localhost:8080/"
        },
        "id": "4aubTDPtfuNY",
        "outputId": "7060981a-516a-4e6e-d603-5db538234387"
      },
      "source": [
        "abc.fit(xtrain,ytrain)\n",
        "ypred = abc.predict(xtest)\n",
        "roc_auc_score(ytest,ypred)"
      ],
      "execution_count": null,
      "outputs": [
        {
          "output_type": "execute_result",
          "data": {
            "text/plain": [
              "0.5"
            ]
          },
          "metadata": {
            "tags": []
          },
          "execution_count": 57
        }
      ]
    },
    {
      "cell_type": "code",
      "metadata": {
        "id": "b2iRPx5tfuPu"
      },
      "source": [
        ""
      ],
      "execution_count": null,
      "outputs": []
    },
    {
      "cell_type": "code",
      "metadata": {
        "id": "MYMYQkBnfuR4"
      },
      "source": [
        ""
      ],
      "execution_count": null,
      "outputs": []
    },
    {
      "cell_type": "code",
      "metadata": {
        "id": "-iDBNe3-fuUS"
      },
      "source": [
        ""
      ],
      "execution_count": null,
      "outputs": []
    },
    {
      "cell_type": "markdown",
      "metadata": {
        "id": "TPIe2crnHMQ4"
      },
      "source": [
        "#Lets try Naive Bayes and check"
      ]
    },
    {
      "cell_type": "code",
      "metadata": {
        "id": "xf1kJXUUfs7s",
        "colab": {
          "base_uri": "https://localhost:8080/"
        },
        "outputId": "66d05efb-05d6-4568-d2b6-7c4bf36dab46"
      },
      "source": [
        "from sklearn.naive_bayes import MultinomialNB\n",
        "mnb = MultinomialNB()\n",
        "mnb.fit(xtrain,ytrain)"
      ],
      "execution_count": null,
      "outputs": [
        {
          "output_type": "execute_result",
          "data": {
            "text/plain": [
              "MultinomialNB(alpha=1.0, class_prior=None, fit_prior=True)"
            ]
          },
          "metadata": {
            "tags": []
          },
          "execution_count": 71
        }
      ]
    },
    {
      "cell_type": "code",
      "metadata": {
        "id": "4sOTHjePfs-w",
        "colab": {
          "base_uri": "https://localhost:8080/"
        },
        "outputId": "97deabd3-a707-47c4-f48a-7fa1d2d19905"
      },
      "source": [
        "ypred = mnb.predict(xtest)\n",
        "roc_auc_score(ytest,ypred)"
      ],
      "execution_count": null,
      "outputs": [
        {
          "output_type": "execute_result",
          "data": {
            "text/plain": [
              "0.5133683052362875"
            ]
          },
          "metadata": {
            "tags": []
          },
          "execution_count": 72
        }
      ]
    },
    {
      "cell_type": "code",
      "metadata": {
        "id": "KpLks8JvftCh",
        "colab": {
          "base_uri": "https://localhost:8080/"
        },
        "outputId": "0a62f81a-4008-43aa-bb52-d4923f7947ca"
      },
      "source": [
        "from sklearn.naive_bayes import BernoulliNB\n",
        "bnb = BernoulliNB()\n",
        "bnb.fit(xtrain,ytrain)"
      ],
      "execution_count": null,
      "outputs": [
        {
          "output_type": "execute_result",
          "data": {
            "text/plain": [
              "BernoulliNB(alpha=1.0, binarize=0.0, class_prior=None, fit_prior=True)"
            ]
          },
          "metadata": {
            "tags": []
          },
          "execution_count": 73
        }
      ]
    },
    {
      "cell_type": "code",
      "metadata": {
        "colab": {
          "base_uri": "https://localhost:8080/"
        },
        "id": "otQbC4ZZmhu2",
        "outputId": "6285a2a0-7779-4a1e-c040-f978ae2e8823"
      },
      "source": [
        "ypred = bnb.predict(xtest)\n",
        "roc_auc_score(ytest,ypred)"
      ],
      "execution_count": null,
      "outputs": [
        {
          "output_type": "execute_result",
          "data": {
            "text/plain": [
              "0.5"
            ]
          },
          "metadata": {
            "tags": []
          },
          "execution_count": 74
        }
      ]
    }
  ]
}