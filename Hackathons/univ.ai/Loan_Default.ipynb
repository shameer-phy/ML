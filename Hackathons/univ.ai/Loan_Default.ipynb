{
  "nbformat": 4,
  "nbformat_minor": 0,
  "metadata": {
    "colab": {
      "name": "Loan Default.ipynb",
      "provenance": [],
      "authorship_tag": "ABX9TyN84Kp5Va+RjXg27+VXGlao",
      "include_colab_link": true
    },
    "kernelspec": {
      "name": "python3",
      "display_name": "Python 3"
    },
    "language_info": {
      "name": "python"
    }
  },
  "cells": [
    {
      "cell_type": "markdown",
      "metadata": {
        "id": "view-in-github",
        "colab_type": "text"
      },
      "source": [
        "<a href=\"https://colab.research.google.com/github/shameer-phy/ML/blob/main/Hackathons/univ.ai/Loan_Default.ipynb\" target=\"_parent\"><img src=\"https://colab.research.google.com/assets/colab-badge.svg\" alt=\"Open In Colab\"/></a>"
      ]
    },
    {
      "cell_type": "code",
      "metadata": {
        "id": "HGRQ3NbV3f4C"
      },
      "source": [
        "import pandas as pd\n",
        "import numpy as np\n",
        "from sklearn.metrics import roc_auc_score\n",
        "from sklearn.model_selection import train_test_split"
      ],
      "execution_count": 1,
      "outputs": []
    },
    {
      "cell_type": "code",
      "metadata": {
        "colab": {
          "base_uri": "https://localhost:8080/"
        },
        "id": "zP02-Hhq7YT_",
        "outputId": "e44ab486-5227-4f5c-8b71-b540f814a76f"
      },
      "source": [
        "from google.colab import drive \n",
        "\n",
        "drive.mount(\"/content/gdrive\") "
      ],
      "execution_count": 3,
      "outputs": [
        {
          "output_type": "stream",
          "text": [
            "Mounted at /content/gdrive\n"
          ],
          "name": "stdout"
        }
      ]
    },
    {
      "cell_type": "code",
      "metadata": {
        "id": "LbE9TkhL6oMo"
      },
      "source": [
        "# Lets read the training dataset and tes dataset\n",
        "\n",
        "ld = pd.read_csv('/content/gdrive/My Drive/Datasets/univ.ai/Training Data.csv')\n",
        " \n",
        "ld_test = pd.read_csv('/content/gdrive/My Drive/Datasets/univ.ai/Test Data.csv')\n"
      ],
      "execution_count": 4,
      "outputs": []
    },
    {
      "cell_type": "code",
      "metadata": {
        "colab": {
          "base_uri": "https://localhost:8080/"
        },
        "id": "uWma_NEO6wI3",
        "outputId": "7343a5d1-3bd2-4c15-b338-2746422c5f1f"
      },
      "source": [
        "ld.head()\n",
        "\n",
        "ld.count()\n",
        "\n",
        "ld.dtypes"
      ],
      "execution_count": 5,
      "outputs": [
        {
          "output_type": "execute_result",
          "data": {
            "text/plain": [
              "Id                      int64\n",
              "income                  int64\n",
              "age                     int64\n",
              "experience              int64\n",
              "married                object\n",
              "house_ownership        object\n",
              "car_ownership          object\n",
              "profession             object\n",
              "city                   object\n",
              "state                  object\n",
              "current_job_years       int64\n",
              "current_house_years     int64\n",
              "risk_flag               int64\n",
              "dtype: object"
            ]
          },
          "metadata": {
            "tags": []
          },
          "execution_count": 5
        }
      ]
    },
    {
      "cell_type": "code",
      "metadata": {
        "colab": {
          "base_uri": "https://localhost:8080/"
        },
        "id": "vF0QOTmfIp6b",
        "outputId": "2c0397d1-32ed-4621-a3cc-caf66c505f2f"
      },
      "source": [
        "for x in ld.columns:\n",
        "    print('\\n')\n",
        "    print(x)\n",
        "    print(len(ld[x].unique()))\n",
        "    print(ld[x].value_counts())"
      ],
      "execution_count": 19,
      "outputs": [
        {
          "output_type": "stream",
          "text": [
            "\n",
            "\n",
            "Id\n",
            "252000\n",
            "2047     1\n",
            "64074    1\n",
            "59976    1\n",
            "37447    1\n",
            "39494    1\n",
            "        ..\n",
            "95620    1\n",
            "85379    1\n",
            "83330    1\n",
            "89473    1\n",
            "2049     1\n",
            "Name: Id, Length: 252000, dtype: int64\n",
            "\n",
            "\n",
            "income\n",
            "41917\n",
            "7936020    77\n",
            "9775375    71\n",
            "1996629    71\n",
            "9345456    70\n",
            "7638998    40\n",
            "           ..\n",
            "5446449     1\n",
            "7330601     1\n",
            "3377955     1\n",
            "2779935     1\n",
            "7907349     1\n",
            "Name: income, Length: 41917, dtype: int64\n",
            "\n",
            "\n",
            "age\n",
            "59\n",
            "27    5197\n",
            "66    5092\n",
            "48    4967\n",
            "33    4921\n",
            "41    4827\n",
            "45    4806\n",
            "54    4785\n",
            "68    4772\n",
            "35    4644\n",
            "50    4624\n",
            "69    4617\n",
            "76    4585\n",
            "55    4563\n",
            "25    4543\n",
            "72    4534\n",
            "79    4505\n",
            "60    4504\n",
            "59    4498\n",
            "53    4490\n",
            "47    4483\n",
            "30    4468\n",
            "78    4455\n",
            "22    4430\n",
            "34    4414\n",
            "57    4394\n",
            "58    4368\n",
            "56    4344\n",
            "24    4326\n",
            "23    4322\n",
            "62    4311\n",
            "31    4257\n",
            "70    4251\n",
            "61    4235\n",
            "40    4233\n",
            "43    4206\n",
            "21    4205\n",
            "49    4203\n",
            "26    4156\n",
            "37    4153\n",
            "71    4149\n",
            "42    4134\n",
            "64    4132\n",
            "29    4109\n",
            "67    3995\n",
            "65    3969\n",
            "74    3954\n",
            "63    3942\n",
            "77    3916\n",
            "28    3901\n",
            "32    3834\n",
            "75    3829\n",
            "39    3800\n",
            "38    3793\n",
            "46    3627\n",
            "44    3622\n",
            "73    3569\n",
            "36    3443\n",
            "51    3397\n",
            "52    3197\n",
            "Name: age, dtype: int64\n",
            "\n",
            "\n",
            "experience\n",
            "21\n",
            "6     13158\n",
            "9     12936\n",
            "12    12800\n",
            "18    12601\n",
            "10    12503\n",
            "5     12441\n",
            "14    12369\n",
            "19    12287\n",
            "17    12131\n",
            "16    12106\n",
            "3     12069\n",
            "15    11993\n",
            "4     11807\n",
            "13    11713\n",
            "1     11575\n",
            "11    11449\n",
            "20    11350\n",
            "8     11350\n",
            "7     11232\n",
            "2     11087\n",
            "0     11043\n",
            "Name: experience, dtype: int64\n",
            "\n",
            "\n",
            "married\n",
            "2\n",
            "0    226272\n",
            "1     25728\n",
            "Name: married, dtype: int64\n",
            "\n",
            "\n",
            "house_ownership\n",
            "3\n",
            "0    231898\n",
            "2     12918\n",
            "1      7184\n",
            "Name: house_ownership, dtype: int64\n",
            "\n",
            "\n",
            "car_ownership\n",
            "2\n",
            "0    176000\n",
            "1     76000\n",
            "Name: car_ownership, dtype: int64\n",
            "\n",
            "\n",
            "profession\n",
            "51\n",
            "9     5957\n",
            "41    5806\n",
            "42    5397\n",
            "32    5390\n",
            "23    5372\n",
            "40    5359\n",
            "33    5357\n",
            "30    5304\n",
            "11    5281\n",
            "20    5259\n",
            "49    5250\n",
            "0     5217\n",
            "17    5205\n",
            "2     5195\n",
            "18    5178\n",
            "10    5167\n",
            "22    5166\n",
            "6     5128\n",
            "21    5127\n",
            "25    5061\n",
            "1     5053\n",
            "24    5041\n",
            "13    5035\n",
            "26    4990\n",
            "12    4944\n",
            "29    4881\n",
            "28    4864\n",
            "14    4861\n",
            "34    4818\n",
            "43    4808\n",
            "19    4782\n",
            "47    4781\n",
            "46    4772\n",
            "31    4758\n",
            "50    4737\n",
            "16    4729\n",
            "15    4714\n",
            "39    4672\n",
            "38    4668\n",
            "45    4661\n",
            "7     4657\n",
            "44    4635\n",
            "4     4628\n",
            "48    4616\n",
            "8     4598\n",
            "5     4573\n",
            "35    4507\n",
            "27    4493\n",
            "3     4413\n",
            "37    4087\n",
            "36    4048\n",
            "Name: profession, dtype: int64\n",
            "\n",
            "\n",
            "city\n",
            "317\n",
            "168    1259\n",
            "160    1208\n",
            "127    1185\n",
            "210    1180\n",
            "283    1172\n",
            "       ... \n",
            "222     486\n",
            "125     459\n",
            "299     457\n",
            "314     448\n",
            "302     431\n",
            "Name: city, Length: 317, dtype: int64\n",
            "\n",
            "\n",
            "state\n",
            "29\n",
            "14    28400\n",
            "1     25562\n",
            "9     25297\n",
            "10    23483\n",
            "8     19780\n",
            "4     16537\n",
            "0     14122\n",
            "13    11855\n",
            "5     11408\n",
            "6      9174\n",
            "19     8965\n",
            "11     7890\n",
            "7      7524\n",
            "21     7062\n",
            "2      5805\n",
            "23     5490\n",
            "16     4720\n",
            "3      4658\n",
            "24     3834\n",
            "18     1874\n",
            "22     1780\n",
            "12     1433\n",
            "20      849\n",
            "27      849\n",
            "15      833\n",
            "17      809\n",
            "26      743\n",
            "25      656\n",
            "28      608\n",
            "Name: state, dtype: int64\n",
            "\n",
            "\n",
            "current_job_years\n",
            "15\n",
            "3     29460\n",
            "4     28339\n",
            "5     25091\n",
            "6     23491\n",
            "7     19925\n",
            "8     18874\n",
            "9     17132\n",
            "10    15768\n",
            "11    13595\n",
            "1     11575\n",
            "2     11087\n",
            "0     11043\n",
            "12    10605\n",
            "13     9099\n",
            "14     6916\n",
            "Name: current_job_years, dtype: int64\n",
            "\n",
            "\n",
            "current_house_years\n",
            "5\n",
            "11    51873\n",
            "12    51791\n",
            "13    50659\n",
            "14    49003\n",
            "10    48674\n",
            "Name: current_house_years, dtype: int64\n",
            "\n",
            "\n",
            "risk_flag\n",
            "2\n",
            "0    221004\n",
            "1     30996\n",
            "Name: risk_flag, dtype: int64\n"
          ],
          "name": "stdout"
        }
      ]
    },
    {
      "cell_type": "code",
      "metadata": {
        "colab": {
          "base_uri": "https://localhost:8080/",
          "height": 424
        },
        "id": "QNCWWazp8QlV",
        "outputId": "176eaef9-0a42-4da0-c8ca-f83b85cd66e4"
      },
      "source": [
        "obj_cols = ld.select_dtypes(include=['object'])\n",
        "obj_cols"
      ],
      "execution_count": 7,
      "outputs": [
        {
          "output_type": "execute_result",
          "data": {
            "text/html": [
              "<div>\n",
              "<style scoped>\n",
              "    .dataframe tbody tr th:only-of-type {\n",
              "        vertical-align: middle;\n",
              "    }\n",
              "\n",
              "    .dataframe tbody tr th {\n",
              "        vertical-align: top;\n",
              "    }\n",
              "\n",
              "    .dataframe thead th {\n",
              "        text-align: right;\n",
              "    }\n",
              "</style>\n",
              "<table border=\"1\" class=\"dataframe\">\n",
              "  <thead>\n",
              "    <tr style=\"text-align: right;\">\n",
              "      <th></th>\n",
              "      <th>married</th>\n",
              "      <th>house_ownership</th>\n",
              "      <th>car_ownership</th>\n",
              "      <th>profession</th>\n",
              "      <th>city</th>\n",
              "      <th>state</th>\n",
              "    </tr>\n",
              "  </thead>\n",
              "  <tbody>\n",
              "    <tr>\n",
              "      <th>0</th>\n",
              "      <td>single</td>\n",
              "      <td>rented</td>\n",
              "      <td>no</td>\n",
              "      <td>Mechanical_engineer</td>\n",
              "      <td>Rewa</td>\n",
              "      <td>Madhya_Pradesh</td>\n",
              "    </tr>\n",
              "    <tr>\n",
              "      <th>1</th>\n",
              "      <td>single</td>\n",
              "      <td>rented</td>\n",
              "      <td>no</td>\n",
              "      <td>Software_Developer</td>\n",
              "      <td>Parbhani</td>\n",
              "      <td>Maharashtra</td>\n",
              "    </tr>\n",
              "    <tr>\n",
              "      <th>2</th>\n",
              "      <td>married</td>\n",
              "      <td>rented</td>\n",
              "      <td>no</td>\n",
              "      <td>Technical_writer</td>\n",
              "      <td>Alappuzha</td>\n",
              "      <td>Kerala</td>\n",
              "    </tr>\n",
              "    <tr>\n",
              "      <th>3</th>\n",
              "      <td>single</td>\n",
              "      <td>rented</td>\n",
              "      <td>yes</td>\n",
              "      <td>Software_Developer</td>\n",
              "      <td>Bhubaneswar</td>\n",
              "      <td>Odisha</td>\n",
              "    </tr>\n",
              "    <tr>\n",
              "      <th>4</th>\n",
              "      <td>single</td>\n",
              "      <td>rented</td>\n",
              "      <td>no</td>\n",
              "      <td>Civil_servant</td>\n",
              "      <td>Tiruchirappalli[10]</td>\n",
              "      <td>Tamil_Nadu</td>\n",
              "    </tr>\n",
              "    <tr>\n",
              "      <th>...</th>\n",
              "      <td>...</td>\n",
              "      <td>...</td>\n",
              "      <td>...</td>\n",
              "      <td>...</td>\n",
              "      <td>...</td>\n",
              "      <td>...</td>\n",
              "    </tr>\n",
              "    <tr>\n",
              "      <th>251995</th>\n",
              "      <td>single</td>\n",
              "      <td>rented</td>\n",
              "      <td>no</td>\n",
              "      <td>Surgeon</td>\n",
              "      <td>Kolkata</td>\n",
              "      <td>West_Bengal</td>\n",
              "    </tr>\n",
              "    <tr>\n",
              "      <th>251996</th>\n",
              "      <td>single</td>\n",
              "      <td>rented</td>\n",
              "      <td>no</td>\n",
              "      <td>Army_officer</td>\n",
              "      <td>Rewa</td>\n",
              "      <td>Madhya_Pradesh</td>\n",
              "    </tr>\n",
              "    <tr>\n",
              "      <th>251997</th>\n",
              "      <td>single</td>\n",
              "      <td>rented</td>\n",
              "      <td>no</td>\n",
              "      <td>Design_Engineer</td>\n",
              "      <td>Kalyan-Dombivli</td>\n",
              "      <td>Maharashtra</td>\n",
              "    </tr>\n",
              "    <tr>\n",
              "      <th>251998</th>\n",
              "      <td>single</td>\n",
              "      <td>rented</td>\n",
              "      <td>no</td>\n",
              "      <td>Graphic_Designer</td>\n",
              "      <td>Pondicherry</td>\n",
              "      <td>Puducherry</td>\n",
              "    </tr>\n",
              "    <tr>\n",
              "      <th>251999</th>\n",
              "      <td>single</td>\n",
              "      <td>rented</td>\n",
              "      <td>no</td>\n",
              "      <td>Statistician</td>\n",
              "      <td>Avadi</td>\n",
              "      <td>Tamil_Nadu</td>\n",
              "    </tr>\n",
              "  </tbody>\n",
              "</table>\n",
              "<p>252000 rows × 6 columns</p>\n",
              "</div>"
            ],
            "text/plain": [
              "        married house_ownership  ...                 city           state\n",
              "0        single          rented  ...                 Rewa  Madhya_Pradesh\n",
              "1        single          rented  ...             Parbhani     Maharashtra\n",
              "2       married          rented  ...            Alappuzha          Kerala\n",
              "3        single          rented  ...          Bhubaneswar          Odisha\n",
              "4        single          rented  ...  Tiruchirappalli[10]      Tamil_Nadu\n",
              "...         ...             ...  ...                  ...             ...\n",
              "251995   single          rented  ...              Kolkata     West_Bengal\n",
              "251996   single          rented  ...                 Rewa  Madhya_Pradesh\n",
              "251997   single          rented  ...      Kalyan-Dombivli     Maharashtra\n",
              "251998   single          rented  ...          Pondicherry      Puducherry\n",
              "251999   single          rented  ...                Avadi      Tamil_Nadu\n",
              "\n",
              "[252000 rows x 6 columns]"
            ]
          },
          "metadata": {
            "tags": []
          },
          "execution_count": 7
        }
      ]
    },
    {
      "cell_type": "code",
      "metadata": {
        "id": "Ie-zwOlC9cbZ"
      },
      "source": [
        "for x in obj_cols.columns:\n",
        "  ld[x] = pd.factorize(ld[x])[0]"
      ],
      "execution_count": 8,
      "outputs": []
    },
    {
      "cell_type": "code",
      "metadata": {
        "colab": {
          "base_uri": "https://localhost:8080/",
          "height": 206
        },
        "id": "5p1jiIhL-St0",
        "outputId": "e92fb0c1-731c-4de6-9278-c8790fcda5ae"
      },
      "source": [
        "ld.head()"
      ],
      "execution_count": 10,
      "outputs": [
        {
          "output_type": "execute_result",
          "data": {
            "text/html": [
              "<div>\n",
              "<style scoped>\n",
              "    .dataframe tbody tr th:only-of-type {\n",
              "        vertical-align: middle;\n",
              "    }\n",
              "\n",
              "    .dataframe tbody tr th {\n",
              "        vertical-align: top;\n",
              "    }\n",
              "\n",
              "    .dataframe thead th {\n",
              "        text-align: right;\n",
              "    }\n",
              "</style>\n",
              "<table border=\"1\" class=\"dataframe\">\n",
              "  <thead>\n",
              "    <tr style=\"text-align: right;\">\n",
              "      <th></th>\n",
              "      <th>Id</th>\n",
              "      <th>income</th>\n",
              "      <th>age</th>\n",
              "      <th>experience</th>\n",
              "      <th>married</th>\n",
              "      <th>house_ownership</th>\n",
              "      <th>car_ownership</th>\n",
              "      <th>profession</th>\n",
              "      <th>city</th>\n",
              "      <th>state</th>\n",
              "      <th>current_job_years</th>\n",
              "      <th>current_house_years</th>\n",
              "      <th>risk_flag</th>\n",
              "    </tr>\n",
              "  </thead>\n",
              "  <tbody>\n",
              "    <tr>\n",
              "      <th>0</th>\n",
              "      <td>1</td>\n",
              "      <td>1303835</td>\n",
              "      <td>23</td>\n",
              "      <td>3</td>\n",
              "      <td>0</td>\n",
              "      <td>0</td>\n",
              "      <td>0</td>\n",
              "      <td>0</td>\n",
              "      <td>0</td>\n",
              "      <td>0</td>\n",
              "      <td>3</td>\n",
              "      <td>13</td>\n",
              "      <td>0</td>\n",
              "    </tr>\n",
              "    <tr>\n",
              "      <th>1</th>\n",
              "      <td>2</td>\n",
              "      <td>7574516</td>\n",
              "      <td>40</td>\n",
              "      <td>10</td>\n",
              "      <td>0</td>\n",
              "      <td>0</td>\n",
              "      <td>0</td>\n",
              "      <td>1</td>\n",
              "      <td>1</td>\n",
              "      <td>1</td>\n",
              "      <td>9</td>\n",
              "      <td>13</td>\n",
              "      <td>0</td>\n",
              "    </tr>\n",
              "    <tr>\n",
              "      <th>2</th>\n",
              "      <td>3</td>\n",
              "      <td>3991815</td>\n",
              "      <td>66</td>\n",
              "      <td>4</td>\n",
              "      <td>1</td>\n",
              "      <td>0</td>\n",
              "      <td>0</td>\n",
              "      <td>2</td>\n",
              "      <td>2</td>\n",
              "      <td>2</td>\n",
              "      <td>4</td>\n",
              "      <td>10</td>\n",
              "      <td>0</td>\n",
              "    </tr>\n",
              "    <tr>\n",
              "      <th>3</th>\n",
              "      <td>4</td>\n",
              "      <td>6256451</td>\n",
              "      <td>41</td>\n",
              "      <td>2</td>\n",
              "      <td>0</td>\n",
              "      <td>0</td>\n",
              "      <td>1</td>\n",
              "      <td>1</td>\n",
              "      <td>3</td>\n",
              "      <td>3</td>\n",
              "      <td>2</td>\n",
              "      <td>12</td>\n",
              "      <td>1</td>\n",
              "    </tr>\n",
              "    <tr>\n",
              "      <th>4</th>\n",
              "      <td>5</td>\n",
              "      <td>5768871</td>\n",
              "      <td>47</td>\n",
              "      <td>11</td>\n",
              "      <td>0</td>\n",
              "      <td>0</td>\n",
              "      <td>0</td>\n",
              "      <td>3</td>\n",
              "      <td>4</td>\n",
              "      <td>4</td>\n",
              "      <td>3</td>\n",
              "      <td>14</td>\n",
              "      <td>1</td>\n",
              "    </tr>\n",
              "  </tbody>\n",
              "</table>\n",
              "</div>"
            ],
            "text/plain": [
              "   Id   income  age  ...  current_job_years  current_house_years  risk_flag\n",
              "0   1  1303835   23  ...                  3                   13          0\n",
              "1   2  7574516   40  ...                  9                   13          0\n",
              "2   3  3991815   66  ...                  4                   10          0\n",
              "3   4  6256451   41  ...                  2                   12          1\n",
              "4   5  5768871   47  ...                  3                   14          1\n",
              "\n",
              "[5 rows x 13 columns]"
            ]
          },
          "metadata": {
            "tags": []
          },
          "execution_count": 10
        }
      ]
    },
    {
      "cell_type": "code",
      "metadata": {
        "colab": {
          "base_uri": "https://localhost:8080/",
          "height": 206
        },
        "id": "strlj6gR-drp",
        "outputId": "eb4574f7-3f66-4510-8db7-8672b4e984e7"
      },
      "source": [
        "for x in obj_cols.columns:\n",
        "  ld_test[x] = pd.factorize(ld_test[x])[0]\n",
        "ld_test.head()"
      ],
      "execution_count": 11,
      "outputs": [
        {
          "output_type": "execute_result",
          "data": {
            "text/html": [
              "<div>\n",
              "<style scoped>\n",
              "    .dataframe tbody tr th:only-of-type {\n",
              "        vertical-align: middle;\n",
              "    }\n",
              "\n",
              "    .dataframe tbody tr th {\n",
              "        vertical-align: top;\n",
              "    }\n",
              "\n",
              "    .dataframe thead th {\n",
              "        text-align: right;\n",
              "    }\n",
              "</style>\n",
              "<table border=\"1\" class=\"dataframe\">\n",
              "  <thead>\n",
              "    <tr style=\"text-align: right;\">\n",
              "      <th></th>\n",
              "      <th>id</th>\n",
              "      <th>income</th>\n",
              "      <th>age</th>\n",
              "      <th>experience</th>\n",
              "      <th>married</th>\n",
              "      <th>house_ownership</th>\n",
              "      <th>car_ownership</th>\n",
              "      <th>profession</th>\n",
              "      <th>city</th>\n",
              "      <th>state</th>\n",
              "      <th>current_job_years</th>\n",
              "      <th>current_house_years</th>\n",
              "    </tr>\n",
              "  </thead>\n",
              "  <tbody>\n",
              "    <tr>\n",
              "      <th>0</th>\n",
              "      <td>1</td>\n",
              "      <td>7393090</td>\n",
              "      <td>59</td>\n",
              "      <td>19</td>\n",
              "      <td>0</td>\n",
              "      <td>0</td>\n",
              "      <td>0</td>\n",
              "      <td>0</td>\n",
              "      <td>0</td>\n",
              "      <td>0</td>\n",
              "      <td>4</td>\n",
              "      <td>13</td>\n",
              "    </tr>\n",
              "    <tr>\n",
              "      <th>1</th>\n",
              "      <td>2</td>\n",
              "      <td>1215004</td>\n",
              "      <td>25</td>\n",
              "      <td>5</td>\n",
              "      <td>0</td>\n",
              "      <td>0</td>\n",
              "      <td>0</td>\n",
              "      <td>1</td>\n",
              "      <td>1</td>\n",
              "      <td>1</td>\n",
              "      <td>5</td>\n",
              "      <td>10</td>\n",
              "    </tr>\n",
              "    <tr>\n",
              "      <th>2</th>\n",
              "      <td>3</td>\n",
              "      <td>8901342</td>\n",
              "      <td>50</td>\n",
              "      <td>12</td>\n",
              "      <td>0</td>\n",
              "      <td>0</td>\n",
              "      <td>0</td>\n",
              "      <td>2</td>\n",
              "      <td>2</td>\n",
              "      <td>1</td>\n",
              "      <td>9</td>\n",
              "      <td>14</td>\n",
              "    </tr>\n",
              "    <tr>\n",
              "      <th>3</th>\n",
              "      <td>4</td>\n",
              "      <td>1944421</td>\n",
              "      <td>49</td>\n",
              "      <td>9</td>\n",
              "      <td>1</td>\n",
              "      <td>0</td>\n",
              "      <td>1</td>\n",
              "      <td>3</td>\n",
              "      <td>3</td>\n",
              "      <td>1</td>\n",
              "      <td>3</td>\n",
              "      <td>12</td>\n",
              "    </tr>\n",
              "    <tr>\n",
              "      <th>4</th>\n",
              "      <td>5</td>\n",
              "      <td>13429</td>\n",
              "      <td>25</td>\n",
              "      <td>18</td>\n",
              "      <td>0</td>\n",
              "      <td>0</td>\n",
              "      <td>1</td>\n",
              "      <td>4</td>\n",
              "      <td>4</td>\n",
              "      <td>0</td>\n",
              "      <td>13</td>\n",
              "      <td>11</td>\n",
              "    </tr>\n",
              "  </tbody>\n",
              "</table>\n",
              "</div>"
            ],
            "text/plain": [
              "   id   income  age  ...  state  current_job_years  current_house_years\n",
              "0   1  7393090   59  ...      0                  4                   13\n",
              "1   2  1215004   25  ...      1                  5                   10\n",
              "2   3  8901342   50  ...      1                  9                   14\n",
              "3   4  1944421   49  ...      1                  3                   12\n",
              "4   5    13429   25  ...      0                 13                   11\n",
              "\n",
              "[5 rows x 12 columns]"
            ]
          },
          "metadata": {
            "tags": []
          },
          "execution_count": 11
        }
      ]
    },
    {
      "cell_type": "markdown",
      "metadata": {
        "id": "SX-LkZbbAXk-"
      },
      "source": [
        "#Lets split X,Y as well as train and test sets"
      ]
    },
    {
      "cell_type": "code",
      "metadata": {
        "id": "DUQFMm7KAivz"
      },
      "source": [
        "X = ld.drop(['Id','risk_flag'],axis=1)\n",
        "Y = ld['risk_flag']"
      ],
      "execution_count": 13,
      "outputs": []
    },
    {
      "cell_type": "code",
      "metadata": {
        "id": "6ueDc4YKMdMB"
      },
      "source": [
        "xtrain,xtest,ytrain,ytest = train_test_split(X,Y,random_state=13)"
      ],
      "execution_count": 45,
      "outputs": []
    },
    {
      "cell_type": "code",
      "metadata": {
        "colab": {
          "base_uri": "https://localhost:8080/"
        },
        "id": "4cqTQvKgCm1f",
        "outputId": "a6470167-b45b-495d-b964-b102abc0be37"
      },
      "source": [
        "xtrain.shape\n",
        "ytrain.shape\n",
        "xtest.shape\n",
        "ytest.shape"
      ],
      "execution_count": 54,
      "outputs": [
        {
          "output_type": "execute_result",
          "data": {
            "text/plain": [
              "(63000,)"
            ]
          },
          "metadata": {
            "tags": []
          },
          "execution_count": 54
        }
      ]
    },
    {
      "cell_type": "markdown",
      "metadata": {
        "id": "xHPNsxMO-mSd"
      },
      "source": [
        "#Lets fit a Logistic model and check accuracy"
      ]
    },
    {
      "cell_type": "code",
      "metadata": {
        "colab": {
          "base_uri": "https://localhost:8080/"
        },
        "id": "vF4F2SxK_3sY",
        "outputId": "afd4324b-2cd8-421e-872c-099e8a1c56d0"
      },
      "source": [
        "from sklearn.linear_model import LogisticRegression\n",
        "from sklearn.model_selection import cross_val_score\n",
        "log_mod = LogisticRegression()\n",
        "scores = cross_val_score(log_mod,xtrain,ytrain,scoring='roc_auc')\n",
        "scores\n"
      ],
      "execution_count": 46,
      "outputs": [
        {
          "output_type": "execute_result",
          "data": {
            "text/plain": [
              "array([0.50196728, 0.49528195, 0.50506802, 0.50772664, 0.50412322])"
            ]
          },
          "metadata": {
            "tags": []
          },
          "execution_count": 46
        }
      ]
    },
    {
      "cell_type": "code",
      "metadata": {
        "id": "Jq8tnqIeNNEd"
      },
      "source": [
        "ypred = log_mod.fit(xtrain,ytrain).predict(xtest)"
      ],
      "execution_count": 55,
      "outputs": []
    },
    {
      "cell_type": "code",
      "metadata": {
        "colab": {
          "base_uri": "https://localhost:8080/"
        },
        "id": "aNKZfCzBNeXV",
        "outputId": "8c27b177-cc17-441c-a2f9-b26ffa056506"
      },
      "source": [
        "roc_auc_score(ytest,ypred)"
      ],
      "execution_count": 56,
      "outputs": [
        {
          "output_type": "execute_result",
          "data": {
            "text/plain": [
              "0.5"
            ]
          },
          "metadata": {
            "tags": []
          },
          "execution_count": 56
        }
      ]
    },
    {
      "cell_type": "code",
      "metadata": {
        "colab": {
          "base_uri": "https://localhost:8080/"
        },
        "id": "kvoVBygQDhW0",
        "outputId": "50e070ac-40e7-4238-9c83-d6b9032e72af"
      },
      "source": [
        "auc = cross_val_score(log_mod,X,Y,scoring='accuracy')\n",
        "auc"
      ],
      "execution_count": 18,
      "outputs": [
        {
          "output_type": "execute_result",
          "data": {
            "text/plain": [
              "array([0.87700397, 0.87700397, 0.87700397, 0.87700397, 0.87698413])"
            ]
          },
          "metadata": {
            "tags": []
          },
          "execution_count": 18
        }
      ]
    },
    {
      "cell_type": "markdown",
      "metadata": {
        "id": "_7CvViP8F-Pf"
      },
      "source": [
        "#Lets fit a DecisionTree and check"
      ]
    },
    {
      "cell_type": "code",
      "metadata": {
        "colab": {
          "base_uri": "https://localhost:8080/"
        },
        "id": "MdNBfFwLGAwX",
        "outputId": "46eb3be8-5cee-4ba0-eafe-928a8550a4b4"
      },
      "source": [
        "from sklearn.tree import DecisionTreeClassifier\n",
        "DT = DecisionTreeClassifier()\n",
        "scores = cross_val_score(DT,xtrain,ytrain,scoring='roc_auc')\n",
        "scores"
      ],
      "execution_count": 59,
      "outputs": [
        {
          "output_type": "execute_result",
          "data": {
            "text/plain": [
              "array([0.84728045, 0.85074891, 0.85116217, 0.85294038, 0.8535443 ])"
            ]
          },
          "metadata": {
            "tags": []
          },
          "execution_count": 59
        }
      ]
    },
    {
      "cell_type": "code",
      "metadata": {
        "colab": {
          "base_uri": "https://localhost:8080/"
        },
        "id": "m6n_Nh3zNtKq",
        "outputId": "4cd905bf-b99c-4555-b3e7-2f966f97503e"
      },
      "source": [
        "ypred = DT.fit(xtrain,ytrain).predict(xtest)\n",
        "roc_auc_score(ytest,ypred)"
      ],
      "execution_count": 60,
      "outputs": [
        {
          "output_type": "execute_result",
          "data": {
            "text/plain": [
              "0.7502545352325969"
            ]
          },
          "metadata": {
            "tags": []
          },
          "execution_count": 60
        }
      ]
    },
    {
      "cell_type": "code",
      "metadata": {
        "colab": {
          "base_uri": "https://localhost:8080/"
        },
        "id": "HPonQ5rkGBB_",
        "outputId": "e5e6cc7d-3bc3-43d2-8553-7a6465845487"
      },
      "source": [
        "auc = cross_val_score(DT,X,Y,scoring='accuracy')\n",
        "auc"
      ],
      "execution_count": 22,
      "outputs": [
        {
          "output_type": "execute_result",
          "data": {
            "text/plain": [
              "array([0.93107143, 0.92253968, 0.90876984, 0.88700397, 0.73238095])"
            ]
          },
          "metadata": {
            "tags": []
          },
          "execution_count": 22
        }
      ]
    },
    {
      "cell_type": "markdown",
      "metadata": {
        "id": "luoXcBS0GBMV"
      },
      "source": [
        "#Decions tree looks more promising than logistic\n",
        "#Lets try Randomforest and check"
      ]
    },
    {
      "cell_type": "code",
      "metadata": {
        "colab": {
          "base_uri": "https://localhost:8080/"
        },
        "id": "C20mn7B3GBRN",
        "outputId": "f82440ac-2086-43db-e17a-39accd74c0b6"
      },
      "source": [
        "from sklearn.ensemble import RandomForestClassifier\n",
        "RF = RandomForestClassifier(max_features = 0.5,n_estimators=200)\n",
        "scores = cross_val_score(RF,xtrain,ytrain,scoring='roc_auc')\n",
        "scores"
      ],
      "execution_count": 61,
      "outputs": [
        {
          "output_type": "execute_result",
          "data": {
            "text/plain": [
              "array([0.93747953, 0.93765926, 0.93854006, 0.93925197, 0.9372049 ])"
            ]
          },
          "metadata": {
            "tags": []
          },
          "execution_count": 61
        }
      ]
    },
    {
      "cell_type": "code",
      "metadata": {
        "colab": {
          "base_uri": "https://localhost:8080/"
        },
        "id": "uhtk8DQfQKjj",
        "outputId": "f5da1782-a221-4a5c-b05e-30a94eafe9fb"
      },
      "source": [
        "ypred = RF.fit(xtrain,ytrain).predict(xtest)\n",
        "roc_auc_score(ytest,ypred)"
      ],
      "execution_count": 62,
      "outputs": [
        {
          "output_type": "execute_result",
          "data": {
            "text/plain": [
              "0.7410637183719415"
            ]
          },
          "metadata": {
            "tags": []
          },
          "execution_count": 62
        }
      ]
    },
    {
      "cell_type": "code",
      "metadata": {
        "id": "uf9JDBYURCuA"
      },
      "source": [
        "ypred = RF.fit(xtrain,ytrain).predict(Xtest)"
      ],
      "execution_count": 64,
      "outputs": []
    },
    {
      "cell_type": "code",
      "metadata": {
        "id": "DHiH3zkXQ6m_"
      },
      "source": [
        "write_report('rf_output.csv')"
      ],
      "execution_count": 65,
      "outputs": []
    },
    {
      "cell_type": "code",
      "metadata": {
        "colab": {
          "base_uri": "https://localhost:8080/"
        },
        "id": "UiYlAWTFGBVX",
        "outputId": "a4e3e46d-0eee-45c0-9399-05b284bde992"
      },
      "source": [
        "from sklearn.ensemble import RandomForestClassifier\n",
        "RF = RandomForestClassifier(max_features = 0.6,n_estimators=100)\n",
        "auc_roc = cross_val_score(RF,X,Y,scoring='roc_auc')\n",
        "auc_roc"
      ],
      "execution_count": 44,
      "outputs": [
        {
          "output_type": "execute_result",
          "data": {
            "text/plain": [
              "array([0.97495546, 0.96832583, 0.95781029, 0.93612737, 0.65070217])"
            ]
          },
          "metadata": {
            "tags": []
          },
          "execution_count": 44
        }
      ]
    },
    {
      "cell_type": "code",
      "metadata": {
        "id": "2_QtcXylGBZG"
      },
      "source": [
        "Xtest = ld_test.drop(['id'],axis=1)\n",
        "RF = RandomForestClassifier(max_features = 0.5,n_estimators=100)\n",
        "RF.fit(X,Y)\n",
        "ypred = RF.predict(Xtest)"
      ],
      "execution_count": 27,
      "outputs": []
    },
    {
      "cell_type": "code",
      "metadata": {
        "colab": {
          "base_uri": "https://localhost:8080/",
          "height": 424
        },
        "id": "Pa-ZjB8eGBcL",
        "outputId": "07a3007b-4dbe-4747-daf8-82e180ab3e93"
      },
      "source": [
        "report = pd.concat([ld_test['id'],pd.DataFrame(ypred,columns=['risk_flag'])],axis=1)\n",
        "report"
      ],
      "execution_count": 33,
      "outputs": [
        {
          "output_type": "execute_result",
          "data": {
            "text/html": [
              "<div>\n",
              "<style scoped>\n",
              "    .dataframe tbody tr th:only-of-type {\n",
              "        vertical-align: middle;\n",
              "    }\n",
              "\n",
              "    .dataframe tbody tr th {\n",
              "        vertical-align: top;\n",
              "    }\n",
              "\n",
              "    .dataframe thead th {\n",
              "        text-align: right;\n",
              "    }\n",
              "</style>\n",
              "<table border=\"1\" class=\"dataframe\">\n",
              "  <thead>\n",
              "    <tr style=\"text-align: right;\">\n",
              "      <th></th>\n",
              "      <th>id</th>\n",
              "      <th>risk_flag</th>\n",
              "    </tr>\n",
              "  </thead>\n",
              "  <tbody>\n",
              "    <tr>\n",
              "      <th>0</th>\n",
              "      <td>1</td>\n",
              "      <td>0</td>\n",
              "    </tr>\n",
              "    <tr>\n",
              "      <th>1</th>\n",
              "      <td>2</td>\n",
              "      <td>0</td>\n",
              "    </tr>\n",
              "    <tr>\n",
              "      <th>2</th>\n",
              "      <td>3</td>\n",
              "      <td>0</td>\n",
              "    </tr>\n",
              "    <tr>\n",
              "      <th>3</th>\n",
              "      <td>4</td>\n",
              "      <td>0</td>\n",
              "    </tr>\n",
              "    <tr>\n",
              "      <th>4</th>\n",
              "      <td>5</td>\n",
              "      <td>0</td>\n",
              "    </tr>\n",
              "    <tr>\n",
              "      <th>...</th>\n",
              "      <td>...</td>\n",
              "      <td>...</td>\n",
              "    </tr>\n",
              "    <tr>\n",
              "      <th>27995</th>\n",
              "      <td>27996</td>\n",
              "      <td>0</td>\n",
              "    </tr>\n",
              "    <tr>\n",
              "      <th>27996</th>\n",
              "      <td>27997</td>\n",
              "      <td>0</td>\n",
              "    </tr>\n",
              "    <tr>\n",
              "      <th>27997</th>\n",
              "      <td>27998</td>\n",
              "      <td>0</td>\n",
              "    </tr>\n",
              "    <tr>\n",
              "      <th>27998</th>\n",
              "      <td>27999</td>\n",
              "      <td>0</td>\n",
              "    </tr>\n",
              "    <tr>\n",
              "      <th>27999</th>\n",
              "      <td>28000</td>\n",
              "      <td>0</td>\n",
              "    </tr>\n",
              "  </tbody>\n",
              "</table>\n",
              "<p>28000 rows × 2 columns</p>\n",
              "</div>"
            ],
            "text/plain": [
              "          id  risk_flag\n",
              "0          1          0\n",
              "1          2          0\n",
              "2          3          0\n",
              "3          4          0\n",
              "4          5          0\n",
              "...      ...        ...\n",
              "27995  27996          0\n",
              "27996  27997          0\n",
              "27997  27998          0\n",
              "27998  27999          0\n",
              "27999  28000          0\n",
              "\n",
              "[28000 rows x 2 columns]"
            ]
          },
          "metadata": {
            "tags": []
          },
          "execution_count": 33
        }
      ]
    },
    {
      "cell_type": "code",
      "metadata": {
        "id": "RGaxA0QQZjOS"
      },
      "source": [
        "report.to_csv('/content/gdrive/My Drive/Datasets/univ.ai/output.csv',index=False)"
      ],
      "execution_count": 37,
      "outputs": []
    },
    {
      "cell_type": "markdown",
      "metadata": {
        "id": "dCiiEvpFegqD"
      },
      "source": [
        "#Take the oupput file of logistic reg"
      ]
    },
    {
      "cell_type": "code",
      "metadata": {
        "id": "OsRnAMFlelXS"
      },
      "source": [
        "log_mod = LogisticRegression()\n",
        "log_mod.fit(X,Y)\n",
        "ypred = log_mod.predict(Xtest)\n",
        "report = pd.concat([ld_test['id'],pd.DataFrame(ypred,columns=['risk_flag'])],axis=1)\n",
        "report.to_csv('/content/gdrive/My Drive/Datasets/univ.ai/logmod_output.csv',index=False)"
      ],
      "execution_count": 39,
      "outputs": []
    },
    {
      "cell_type": "code",
      "metadata": {
        "id": "4XWmIzd-gGP5"
      },
      "source": [
        "#function to write report\n",
        "def write_report(name):\n",
        "  report = pd.concat([ld_test['id'],pd.DataFrame(ypred,columns=['risk_flag'])],axis=1)\n",
        "  report.to_csv('/content/gdrive/My Drive/Datasets/univ.ai/' + name ,index=False)"
      ],
      "execution_count": 41,
      "outputs": []
    },
    {
      "cell_type": "code",
      "metadata": {
        "id": "CebvhuhZgVhq"
      },
      "source": [
        "write_report('logmod1.csv')"
      ],
      "execution_count": 42,
      "outputs": []
    },
    {
      "cell_type": "markdown",
      "metadata": {
        "id": "Kk2mMf7Jfr1L"
      },
      "source": [
        "#Lets try KNN and check"
      ]
    },
    {
      "cell_type": "code",
      "metadata": {
        "colab": {
          "base_uri": "https://localhost:8080/"
        },
        "id": "TXu9IGEUfs1Z",
        "outputId": "14984a4b-7d9c-4299-cfea-56599dd4e17d"
      },
      "source": [
        "from sklearn.neighbors import KNeighborsClassifier\n",
        "knn = KNeighborsClassifier()\n",
        "scores = cross_val_score(knn,xtrain,ytrain,scoring='roc_auc')\n",
        "scores"
      ],
      "execution_count": 66,
      "outputs": [
        {
          "output_type": "execute_result",
          "data": {
            "text/plain": [
              "array([0.87032104, 0.86852591, 0.87168652, 0.87682959, 0.87263645])"
            ]
          },
          "metadata": {
            "tags": []
          },
          "execution_count": 66
        }
      ]
    },
    {
      "cell_type": "code",
      "metadata": {
        "colab": {
          "base_uri": "https://localhost:8080/"
        },
        "id": "fg2qC1g6fs4a",
        "outputId": "af8077cb-aeb7-48ab-cd65-bf07442fd8b8"
      },
      "source": [
        "knn.fit(xtrain,ytrain)\n",
        "ypred = knn.predict(xtest)\n",
        "roc_auc_score(ytest,ypred)"
      ],
      "execution_count": 68,
      "outputs": [
        {
          "output_type": "execute_result",
          "data": {
            "text/plain": [
              "0.7249346451976036"
            ]
          },
          "metadata": {
            "tags": []
          },
          "execution_count": 68
        }
      ]
    },
    {
      "cell_type": "code",
      "metadata": {
        "id": "GDIvDZEEHMLv"
      },
      "source": [
        ""
      ],
      "execution_count": null,
      "outputs": []
    },
    {
      "cell_type": "code",
      "metadata": {
        "id": "HX6ImmngHMOf"
      },
      "source": [
        ""
      ],
      "execution_count": null,
      "outputs": []
    },
    {
      "cell_type": "markdown",
      "metadata": {
        "id": "TPIe2crnHMQ4"
      },
      "source": [
        "#Lets try Naive Bayes and check"
      ]
    },
    {
      "cell_type": "code",
      "metadata": {
        "id": "xf1kJXUUfs7s"
      },
      "source": [
        "from sklearn.naive_bayes"
      ],
      "execution_count": null,
      "outputs": []
    },
    {
      "cell_type": "code",
      "metadata": {
        "id": "4sOTHjePfs-w"
      },
      "source": [
        ""
      ],
      "execution_count": null,
      "outputs": []
    },
    {
      "cell_type": "code",
      "metadata": {
        "id": "KpLks8JvftCh"
      },
      "source": [
        ""
      ],
      "execution_count": null,
      "outputs": []
    }
  ]
}