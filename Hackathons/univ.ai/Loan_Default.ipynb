{
  "nbformat": 4,
  "nbformat_minor": 0,
  "metadata": {
    "colab": {
      "name": "Loan Default.ipynb",
      "provenance": [],
      "collapsed_sections": [],
      "authorship_tag": "ABX9TyMuOM9fFFq6RwSkovpuZUL+",
      "include_colab_link": true
    },
    "kernelspec": {
      "name": "python3",
      "display_name": "Python 3"
    },
    "language_info": {
      "name": "python"
    }
  },
  "cells": [
    {
      "cell_type": "markdown",
      "metadata": {
        "id": "view-in-github",
        "colab_type": "text"
      },
      "source": [
        "<a href=\"https://colab.research.google.com/github/shameer-phy/ML/blob/main/Hackathons/univ.ai/Loan_Default.ipynb\" target=\"_parent\"><img src=\"https://colab.research.google.com/assets/colab-badge.svg\" alt=\"Open In Colab\"/></a>"
      ]
    },
    {
      "cell_type": "code",
      "metadata": {
        "id": "HGRQ3NbV3f4C"
      },
      "source": [
        "import pandas as pd\n",
        "import numpy as np\n",
        "from sklearn.metrics import roc_auc_score\n",
        "from sklearn.model_selection import train_test_split"
      ],
      "execution_count": 1,
      "outputs": []
    },
    {
      "cell_type": "code",
      "metadata": {
        "colab": {
          "base_uri": "https://localhost:8080/"
        },
        "id": "zP02-Hhq7YT_",
        "outputId": "34f0b4a0-efcc-4abc-ce35-66212ba42fd7"
      },
      "source": [
        "from google.colab import drive \n",
        "\n",
        "drive.mount(\"/content/gdrive\") "
      ],
      "execution_count": 3,
      "outputs": [
        {
          "output_type": "stream",
          "text": [
            "Mounted at /content/gdrive\n"
          ],
          "name": "stdout"
        }
      ]
    },
    {
      "cell_type": "code",
      "metadata": {
        "id": "LbE9TkhL6oMo"
      },
      "source": [
        "# Lets read the training dataset and tes dataset\n",
        "\n",
        "ld = pd.read_csv('/content/gdrive/My Drive/Datasets/univ.ai/Training Data.csv')\n",
        " \n",
        "ld_test = pd.read_csv('/content/gdrive/My Drive/Datasets/univ.ai/Test Data.csv')\n"
      ],
      "execution_count": 4,
      "outputs": []
    },
    {
      "cell_type": "code",
      "metadata": {
        "colab": {
          "base_uri": "https://localhost:8080/"
        },
        "id": "uWma_NEO6wI3",
        "outputId": "d785145e-afc1-4086-a0e0-dffda8f98d3c"
      },
      "source": [
        "ld.head()\n",
        "\n",
        "ld.count()\n",
        "\n",
        "ld.dtypes"
      ],
      "execution_count": 5,
      "outputs": [
        {
          "output_type": "execute_result",
          "data": {
            "text/plain": [
              "Id                      int64\n",
              "income                  int64\n",
              "age                     int64\n",
              "experience              int64\n",
              "married                object\n",
              "house_ownership        object\n",
              "car_ownership          object\n",
              "profession             object\n",
              "city                   object\n",
              "state                  object\n",
              "current_job_years       int64\n",
              "current_house_years     int64\n",
              "risk_flag               int64\n",
              "dtype: object"
            ]
          },
          "metadata": {
            "tags": []
          },
          "execution_count": 5
        }
      ]
    },
    {
      "cell_type": "code",
      "metadata": {
        "colab": {
          "base_uri": "https://localhost:8080/"
        },
        "id": "vF0QOTmfIp6b",
        "outputId": "2c0397d1-32ed-4621-a3cc-caf66c505f2f"
      },
      "source": [
        "for x in ld.columns:\n",
        "    print('\\n')\n",
        "    print(x)\n",
        "    print(len(ld[x].unique()))\n",
        "    print(ld[x].value_counts())"
      ],
      "execution_count": null,
      "outputs": [
        {
          "output_type": "stream",
          "text": [
            "\n",
            "\n",
            "Id\n",
            "252000\n",
            "2047     1\n",
            "64074    1\n",
            "59976    1\n",
            "37447    1\n",
            "39494    1\n",
            "        ..\n",
            "95620    1\n",
            "85379    1\n",
            "83330    1\n",
            "89473    1\n",
            "2049     1\n",
            "Name: Id, Length: 252000, dtype: int64\n",
            "\n",
            "\n",
            "income\n",
            "41917\n",
            "7936020    77\n",
            "9775375    71\n",
            "1996629    71\n",
            "9345456    70\n",
            "7638998    40\n",
            "           ..\n",
            "5446449     1\n",
            "7330601     1\n",
            "3377955     1\n",
            "2779935     1\n",
            "7907349     1\n",
            "Name: income, Length: 41917, dtype: int64\n",
            "\n",
            "\n",
            "age\n",
            "59\n",
            "27    5197\n",
            "66    5092\n",
            "48    4967\n",
            "33    4921\n",
            "41    4827\n",
            "45    4806\n",
            "54    4785\n",
            "68    4772\n",
            "35    4644\n",
            "50    4624\n",
            "69    4617\n",
            "76    4585\n",
            "55    4563\n",
            "25    4543\n",
            "72    4534\n",
            "79    4505\n",
            "60    4504\n",
            "59    4498\n",
            "53    4490\n",
            "47    4483\n",
            "30    4468\n",
            "78    4455\n",
            "22    4430\n",
            "34    4414\n",
            "57    4394\n",
            "58    4368\n",
            "56    4344\n",
            "24    4326\n",
            "23    4322\n",
            "62    4311\n",
            "31    4257\n",
            "70    4251\n",
            "61    4235\n",
            "40    4233\n",
            "43    4206\n",
            "21    4205\n",
            "49    4203\n",
            "26    4156\n",
            "37    4153\n",
            "71    4149\n",
            "42    4134\n",
            "64    4132\n",
            "29    4109\n",
            "67    3995\n",
            "65    3969\n",
            "74    3954\n",
            "63    3942\n",
            "77    3916\n",
            "28    3901\n",
            "32    3834\n",
            "75    3829\n",
            "39    3800\n",
            "38    3793\n",
            "46    3627\n",
            "44    3622\n",
            "73    3569\n",
            "36    3443\n",
            "51    3397\n",
            "52    3197\n",
            "Name: age, dtype: int64\n",
            "\n",
            "\n",
            "experience\n",
            "21\n",
            "6     13158\n",
            "9     12936\n",
            "12    12800\n",
            "18    12601\n",
            "10    12503\n",
            "5     12441\n",
            "14    12369\n",
            "19    12287\n",
            "17    12131\n",
            "16    12106\n",
            "3     12069\n",
            "15    11993\n",
            "4     11807\n",
            "13    11713\n",
            "1     11575\n",
            "11    11449\n",
            "20    11350\n",
            "8     11350\n",
            "7     11232\n",
            "2     11087\n",
            "0     11043\n",
            "Name: experience, dtype: int64\n",
            "\n",
            "\n",
            "married\n",
            "2\n",
            "0    226272\n",
            "1     25728\n",
            "Name: married, dtype: int64\n",
            "\n",
            "\n",
            "house_ownership\n",
            "3\n",
            "0    231898\n",
            "2     12918\n",
            "1      7184\n",
            "Name: house_ownership, dtype: int64\n",
            "\n",
            "\n",
            "car_ownership\n",
            "2\n",
            "0    176000\n",
            "1     76000\n",
            "Name: car_ownership, dtype: int64\n",
            "\n",
            "\n",
            "profession\n",
            "51\n",
            "9     5957\n",
            "41    5806\n",
            "42    5397\n",
            "32    5390\n",
            "23    5372\n",
            "40    5359\n",
            "33    5357\n",
            "30    5304\n",
            "11    5281\n",
            "20    5259\n",
            "49    5250\n",
            "0     5217\n",
            "17    5205\n",
            "2     5195\n",
            "18    5178\n",
            "10    5167\n",
            "22    5166\n",
            "6     5128\n",
            "21    5127\n",
            "25    5061\n",
            "1     5053\n",
            "24    5041\n",
            "13    5035\n",
            "26    4990\n",
            "12    4944\n",
            "29    4881\n",
            "28    4864\n",
            "14    4861\n",
            "34    4818\n",
            "43    4808\n",
            "19    4782\n",
            "47    4781\n",
            "46    4772\n",
            "31    4758\n",
            "50    4737\n",
            "16    4729\n",
            "15    4714\n",
            "39    4672\n",
            "38    4668\n",
            "45    4661\n",
            "7     4657\n",
            "44    4635\n",
            "4     4628\n",
            "48    4616\n",
            "8     4598\n",
            "5     4573\n",
            "35    4507\n",
            "27    4493\n",
            "3     4413\n",
            "37    4087\n",
            "36    4048\n",
            "Name: profession, dtype: int64\n",
            "\n",
            "\n",
            "city\n",
            "317\n",
            "168    1259\n",
            "160    1208\n",
            "127    1185\n",
            "210    1180\n",
            "283    1172\n",
            "       ... \n",
            "222     486\n",
            "125     459\n",
            "299     457\n",
            "314     448\n",
            "302     431\n",
            "Name: city, Length: 317, dtype: int64\n",
            "\n",
            "\n",
            "state\n",
            "29\n",
            "14    28400\n",
            "1     25562\n",
            "9     25297\n",
            "10    23483\n",
            "8     19780\n",
            "4     16537\n",
            "0     14122\n",
            "13    11855\n",
            "5     11408\n",
            "6      9174\n",
            "19     8965\n",
            "11     7890\n",
            "7      7524\n",
            "21     7062\n",
            "2      5805\n",
            "23     5490\n",
            "16     4720\n",
            "3      4658\n",
            "24     3834\n",
            "18     1874\n",
            "22     1780\n",
            "12     1433\n",
            "20      849\n",
            "27      849\n",
            "15      833\n",
            "17      809\n",
            "26      743\n",
            "25      656\n",
            "28      608\n",
            "Name: state, dtype: int64\n",
            "\n",
            "\n",
            "current_job_years\n",
            "15\n",
            "3     29460\n",
            "4     28339\n",
            "5     25091\n",
            "6     23491\n",
            "7     19925\n",
            "8     18874\n",
            "9     17132\n",
            "10    15768\n",
            "11    13595\n",
            "1     11575\n",
            "2     11087\n",
            "0     11043\n",
            "12    10605\n",
            "13     9099\n",
            "14     6916\n",
            "Name: current_job_years, dtype: int64\n",
            "\n",
            "\n",
            "current_house_years\n",
            "5\n",
            "11    51873\n",
            "12    51791\n",
            "13    50659\n",
            "14    49003\n",
            "10    48674\n",
            "Name: current_house_years, dtype: int64\n",
            "\n",
            "\n",
            "risk_flag\n",
            "2\n",
            "0    221004\n",
            "1     30996\n",
            "Name: risk_flag, dtype: int64\n"
          ],
          "name": "stdout"
        }
      ]
    },
    {
      "cell_type": "code",
      "metadata": {
        "colab": {
          "base_uri": "https://localhost:8080/",
          "height": 424
        },
        "id": "QNCWWazp8QlV",
        "outputId": "3388695c-b7d0-4c52-ff47-d3deccec8d87"
      },
      "source": [
        "obj_cols = ld.select_dtypes(include=['object'])\n",
        "obj_cols"
      ],
      "execution_count": null,
      "outputs": [
        {
          "output_type": "execute_result",
          "data": {
            "text/html": [
              "<div>\n",
              "<style scoped>\n",
              "    .dataframe tbody tr th:only-of-type {\n",
              "        vertical-align: middle;\n",
              "    }\n",
              "\n",
              "    .dataframe tbody tr th {\n",
              "        vertical-align: top;\n",
              "    }\n",
              "\n",
              "    .dataframe thead th {\n",
              "        text-align: right;\n",
              "    }\n",
              "</style>\n",
              "<table border=\"1\" class=\"dataframe\">\n",
              "  <thead>\n",
              "    <tr style=\"text-align: right;\">\n",
              "      <th></th>\n",
              "      <th>married</th>\n",
              "      <th>house_ownership</th>\n",
              "      <th>car_ownership</th>\n",
              "      <th>profession</th>\n",
              "      <th>city</th>\n",
              "      <th>state</th>\n",
              "    </tr>\n",
              "  </thead>\n",
              "  <tbody>\n",
              "    <tr>\n",
              "      <th>0</th>\n",
              "      <td>single</td>\n",
              "      <td>rented</td>\n",
              "      <td>no</td>\n",
              "      <td>Mechanical_engineer</td>\n",
              "      <td>Rewa</td>\n",
              "      <td>Madhya_Pradesh</td>\n",
              "    </tr>\n",
              "    <tr>\n",
              "      <th>1</th>\n",
              "      <td>single</td>\n",
              "      <td>rented</td>\n",
              "      <td>no</td>\n",
              "      <td>Software_Developer</td>\n",
              "      <td>Parbhani</td>\n",
              "      <td>Maharashtra</td>\n",
              "    </tr>\n",
              "    <tr>\n",
              "      <th>2</th>\n",
              "      <td>married</td>\n",
              "      <td>rented</td>\n",
              "      <td>no</td>\n",
              "      <td>Technical_writer</td>\n",
              "      <td>Alappuzha</td>\n",
              "      <td>Kerala</td>\n",
              "    </tr>\n",
              "    <tr>\n",
              "      <th>3</th>\n",
              "      <td>single</td>\n",
              "      <td>rented</td>\n",
              "      <td>yes</td>\n",
              "      <td>Software_Developer</td>\n",
              "      <td>Bhubaneswar</td>\n",
              "      <td>Odisha</td>\n",
              "    </tr>\n",
              "    <tr>\n",
              "      <th>4</th>\n",
              "      <td>single</td>\n",
              "      <td>rented</td>\n",
              "      <td>no</td>\n",
              "      <td>Civil_servant</td>\n",
              "      <td>Tiruchirappalli[10]</td>\n",
              "      <td>Tamil_Nadu</td>\n",
              "    </tr>\n",
              "    <tr>\n",
              "      <th>...</th>\n",
              "      <td>...</td>\n",
              "      <td>...</td>\n",
              "      <td>...</td>\n",
              "      <td>...</td>\n",
              "      <td>...</td>\n",
              "      <td>...</td>\n",
              "    </tr>\n",
              "    <tr>\n",
              "      <th>251995</th>\n",
              "      <td>single</td>\n",
              "      <td>rented</td>\n",
              "      <td>no</td>\n",
              "      <td>Surgeon</td>\n",
              "      <td>Kolkata</td>\n",
              "      <td>West_Bengal</td>\n",
              "    </tr>\n",
              "    <tr>\n",
              "      <th>251996</th>\n",
              "      <td>single</td>\n",
              "      <td>rented</td>\n",
              "      <td>no</td>\n",
              "      <td>Army_officer</td>\n",
              "      <td>Rewa</td>\n",
              "      <td>Madhya_Pradesh</td>\n",
              "    </tr>\n",
              "    <tr>\n",
              "      <th>251997</th>\n",
              "      <td>single</td>\n",
              "      <td>rented</td>\n",
              "      <td>no</td>\n",
              "      <td>Design_Engineer</td>\n",
              "      <td>Kalyan-Dombivli</td>\n",
              "      <td>Maharashtra</td>\n",
              "    </tr>\n",
              "    <tr>\n",
              "      <th>251998</th>\n",
              "      <td>single</td>\n",
              "      <td>rented</td>\n",
              "      <td>no</td>\n",
              "      <td>Graphic_Designer</td>\n",
              "      <td>Pondicherry</td>\n",
              "      <td>Puducherry</td>\n",
              "    </tr>\n",
              "    <tr>\n",
              "      <th>251999</th>\n",
              "      <td>single</td>\n",
              "      <td>rented</td>\n",
              "      <td>no</td>\n",
              "      <td>Statistician</td>\n",
              "      <td>Avadi</td>\n",
              "      <td>Tamil_Nadu</td>\n",
              "    </tr>\n",
              "  </tbody>\n",
              "</table>\n",
              "<p>252000 rows × 6 columns</p>\n",
              "</div>"
            ],
            "text/plain": [
              "        married house_ownership  ...                 city           state\n",
              "0        single          rented  ...                 Rewa  Madhya_Pradesh\n",
              "1        single          rented  ...             Parbhani     Maharashtra\n",
              "2       married          rented  ...            Alappuzha          Kerala\n",
              "3        single          rented  ...          Bhubaneswar          Odisha\n",
              "4        single          rented  ...  Tiruchirappalli[10]      Tamil_Nadu\n",
              "...         ...             ...  ...                  ...             ...\n",
              "251995   single          rented  ...              Kolkata     West_Bengal\n",
              "251996   single          rented  ...                 Rewa  Madhya_Pradesh\n",
              "251997   single          rented  ...      Kalyan-Dombivli     Maharashtra\n",
              "251998   single          rented  ...          Pondicherry      Puducherry\n",
              "251999   single          rented  ...                Avadi      Tamil_Nadu\n",
              "\n",
              "[252000 rows x 6 columns]"
            ]
          },
          "metadata": {
            "tags": []
          },
          "execution_count": 4
        }
      ]
    },
    {
      "cell_type": "code",
      "metadata": {
        "id": "Ie-zwOlC9cbZ"
      },
      "source": [
        "for x in obj_cols.columns:\n",
        "  ld[x] = pd.factorize(ld[x])[0]"
      ],
      "execution_count": null,
      "outputs": []
    },
    {
      "cell_type": "code",
      "metadata": {
        "colab": {
          "base_uri": "https://localhost:8080/",
          "height": 206
        },
        "id": "5p1jiIhL-St0",
        "outputId": "2bd5e03a-2610-42e9-8072-9c76398eeac5"
      },
      "source": [
        "ld.head()"
      ],
      "execution_count": null,
      "outputs": [
        {
          "output_type": "execute_result",
          "data": {
            "text/html": [
              "<div>\n",
              "<style scoped>\n",
              "    .dataframe tbody tr th:only-of-type {\n",
              "        vertical-align: middle;\n",
              "    }\n",
              "\n",
              "    .dataframe tbody tr th {\n",
              "        vertical-align: top;\n",
              "    }\n",
              "\n",
              "    .dataframe thead th {\n",
              "        text-align: right;\n",
              "    }\n",
              "</style>\n",
              "<table border=\"1\" class=\"dataframe\">\n",
              "  <thead>\n",
              "    <tr style=\"text-align: right;\">\n",
              "      <th></th>\n",
              "      <th>Id</th>\n",
              "      <th>income</th>\n",
              "      <th>age</th>\n",
              "      <th>experience</th>\n",
              "      <th>married</th>\n",
              "      <th>house_ownership</th>\n",
              "      <th>car_ownership</th>\n",
              "      <th>profession</th>\n",
              "      <th>city</th>\n",
              "      <th>state</th>\n",
              "      <th>current_job_years</th>\n",
              "      <th>current_house_years</th>\n",
              "      <th>risk_flag</th>\n",
              "    </tr>\n",
              "  </thead>\n",
              "  <tbody>\n",
              "    <tr>\n",
              "      <th>0</th>\n",
              "      <td>1</td>\n",
              "      <td>1303835</td>\n",
              "      <td>23</td>\n",
              "      <td>3</td>\n",
              "      <td>0</td>\n",
              "      <td>0</td>\n",
              "      <td>0</td>\n",
              "      <td>0</td>\n",
              "      <td>0</td>\n",
              "      <td>0</td>\n",
              "      <td>3</td>\n",
              "      <td>13</td>\n",
              "      <td>0</td>\n",
              "    </tr>\n",
              "    <tr>\n",
              "      <th>1</th>\n",
              "      <td>2</td>\n",
              "      <td>7574516</td>\n",
              "      <td>40</td>\n",
              "      <td>10</td>\n",
              "      <td>0</td>\n",
              "      <td>0</td>\n",
              "      <td>0</td>\n",
              "      <td>1</td>\n",
              "      <td>1</td>\n",
              "      <td>1</td>\n",
              "      <td>9</td>\n",
              "      <td>13</td>\n",
              "      <td>0</td>\n",
              "    </tr>\n",
              "    <tr>\n",
              "      <th>2</th>\n",
              "      <td>3</td>\n",
              "      <td>3991815</td>\n",
              "      <td>66</td>\n",
              "      <td>4</td>\n",
              "      <td>1</td>\n",
              "      <td>0</td>\n",
              "      <td>0</td>\n",
              "      <td>2</td>\n",
              "      <td>2</td>\n",
              "      <td>2</td>\n",
              "      <td>4</td>\n",
              "      <td>10</td>\n",
              "      <td>0</td>\n",
              "    </tr>\n",
              "    <tr>\n",
              "      <th>3</th>\n",
              "      <td>4</td>\n",
              "      <td>6256451</td>\n",
              "      <td>41</td>\n",
              "      <td>2</td>\n",
              "      <td>0</td>\n",
              "      <td>0</td>\n",
              "      <td>1</td>\n",
              "      <td>1</td>\n",
              "      <td>3</td>\n",
              "      <td>3</td>\n",
              "      <td>2</td>\n",
              "      <td>12</td>\n",
              "      <td>1</td>\n",
              "    </tr>\n",
              "    <tr>\n",
              "      <th>4</th>\n",
              "      <td>5</td>\n",
              "      <td>5768871</td>\n",
              "      <td>47</td>\n",
              "      <td>11</td>\n",
              "      <td>0</td>\n",
              "      <td>0</td>\n",
              "      <td>0</td>\n",
              "      <td>3</td>\n",
              "      <td>4</td>\n",
              "      <td>4</td>\n",
              "      <td>3</td>\n",
              "      <td>14</td>\n",
              "      <td>1</td>\n",
              "    </tr>\n",
              "  </tbody>\n",
              "</table>\n",
              "</div>"
            ],
            "text/plain": [
              "   Id   income  age  ...  current_job_years  current_house_years  risk_flag\n",
              "0   1  1303835   23  ...                  3                   13          0\n",
              "1   2  7574516   40  ...                  9                   13          0\n",
              "2   3  3991815   66  ...                  4                   10          0\n",
              "3   4  6256451   41  ...                  2                   12          1\n",
              "4   5  5768871   47  ...                  3                   14          1\n",
              "\n",
              "[5 rows x 13 columns]"
            ]
          },
          "metadata": {
            "tags": []
          },
          "execution_count": 6
        }
      ]
    },
    {
      "cell_type": "code",
      "metadata": {
        "colab": {
          "base_uri": "https://localhost:8080/",
          "height": 206
        },
        "id": "strlj6gR-drp",
        "outputId": "412bcb4f-75a5-4170-cbfd-3adfc82894af"
      },
      "source": [
        "for x in obj_cols.columns:\n",
        "  ld_test[x] = pd.factorize(ld_test[x])[0]\n",
        "ld_test.head()"
      ],
      "execution_count": null,
      "outputs": [
        {
          "output_type": "execute_result",
          "data": {
            "text/html": [
              "<div>\n",
              "<style scoped>\n",
              "    .dataframe tbody tr th:only-of-type {\n",
              "        vertical-align: middle;\n",
              "    }\n",
              "\n",
              "    .dataframe tbody tr th {\n",
              "        vertical-align: top;\n",
              "    }\n",
              "\n",
              "    .dataframe thead th {\n",
              "        text-align: right;\n",
              "    }\n",
              "</style>\n",
              "<table border=\"1\" class=\"dataframe\">\n",
              "  <thead>\n",
              "    <tr style=\"text-align: right;\">\n",
              "      <th></th>\n",
              "      <th>id</th>\n",
              "      <th>income</th>\n",
              "      <th>age</th>\n",
              "      <th>experience</th>\n",
              "      <th>married</th>\n",
              "      <th>house_ownership</th>\n",
              "      <th>car_ownership</th>\n",
              "      <th>profession</th>\n",
              "      <th>city</th>\n",
              "      <th>state</th>\n",
              "      <th>current_job_years</th>\n",
              "      <th>current_house_years</th>\n",
              "    </tr>\n",
              "  </thead>\n",
              "  <tbody>\n",
              "    <tr>\n",
              "      <th>0</th>\n",
              "      <td>1</td>\n",
              "      <td>7393090</td>\n",
              "      <td>59</td>\n",
              "      <td>19</td>\n",
              "      <td>0</td>\n",
              "      <td>0</td>\n",
              "      <td>0</td>\n",
              "      <td>0</td>\n",
              "      <td>0</td>\n",
              "      <td>0</td>\n",
              "      <td>4</td>\n",
              "      <td>13</td>\n",
              "    </tr>\n",
              "    <tr>\n",
              "      <th>1</th>\n",
              "      <td>2</td>\n",
              "      <td>1215004</td>\n",
              "      <td>25</td>\n",
              "      <td>5</td>\n",
              "      <td>0</td>\n",
              "      <td>0</td>\n",
              "      <td>0</td>\n",
              "      <td>1</td>\n",
              "      <td>1</td>\n",
              "      <td>1</td>\n",
              "      <td>5</td>\n",
              "      <td>10</td>\n",
              "    </tr>\n",
              "    <tr>\n",
              "      <th>2</th>\n",
              "      <td>3</td>\n",
              "      <td>8901342</td>\n",
              "      <td>50</td>\n",
              "      <td>12</td>\n",
              "      <td>0</td>\n",
              "      <td>0</td>\n",
              "      <td>0</td>\n",
              "      <td>2</td>\n",
              "      <td>2</td>\n",
              "      <td>1</td>\n",
              "      <td>9</td>\n",
              "      <td>14</td>\n",
              "    </tr>\n",
              "    <tr>\n",
              "      <th>3</th>\n",
              "      <td>4</td>\n",
              "      <td>1944421</td>\n",
              "      <td>49</td>\n",
              "      <td>9</td>\n",
              "      <td>1</td>\n",
              "      <td>0</td>\n",
              "      <td>1</td>\n",
              "      <td>3</td>\n",
              "      <td>3</td>\n",
              "      <td>1</td>\n",
              "      <td>3</td>\n",
              "      <td>12</td>\n",
              "    </tr>\n",
              "    <tr>\n",
              "      <th>4</th>\n",
              "      <td>5</td>\n",
              "      <td>13429</td>\n",
              "      <td>25</td>\n",
              "      <td>18</td>\n",
              "      <td>0</td>\n",
              "      <td>0</td>\n",
              "      <td>1</td>\n",
              "      <td>4</td>\n",
              "      <td>4</td>\n",
              "      <td>0</td>\n",
              "      <td>13</td>\n",
              "      <td>11</td>\n",
              "    </tr>\n",
              "  </tbody>\n",
              "</table>\n",
              "</div>"
            ],
            "text/plain": [
              "   id   income  age  ...  state  current_job_years  current_house_years\n",
              "0   1  7393090   59  ...      0                  4                   13\n",
              "1   2  1215004   25  ...      1                  5                   10\n",
              "2   3  8901342   50  ...      1                  9                   14\n",
              "3   4  1944421   49  ...      1                  3                   12\n",
              "4   5    13429   25  ...      0                 13                   11\n",
              "\n",
              "[5 rows x 12 columns]"
            ]
          },
          "metadata": {
            "tags": []
          },
          "execution_count": 7
        }
      ]
    },
    {
      "cell_type": "markdown",
      "metadata": {
        "id": "SX-LkZbbAXk-"
      },
      "source": [
        "#Lets split X,Y as well as train and test sets"
      ]
    },
    {
      "cell_type": "code",
      "metadata": {
        "id": "DUQFMm7KAivz"
      },
      "source": [
        "X = ld.drop(['Id','risk_flag'],axis=1)\n",
        "Y = ld['risk_flag']"
      ],
      "execution_count": null,
      "outputs": []
    },
    {
      "cell_type": "code",
      "metadata": {
        "id": "McOPkcxh6vvd"
      },
      "source": [
        "Xtest = ld_test.drop(['id'],axis=1)"
      ],
      "execution_count": null,
      "outputs": []
    },
    {
      "cell_type": "code",
      "metadata": {
        "id": "6ueDc4YKMdMB"
      },
      "source": [
        "xtrain,xtest,ytrain,ytest = train_test_split(X,Y,random_state=13)"
      ],
      "execution_count": null,
      "outputs": []
    },
    {
      "cell_type": "code",
      "metadata": {
        "colab": {
          "base_uri": "https://localhost:8080/"
        },
        "id": "4cqTQvKgCm1f",
        "outputId": "b29071a5-826f-45de-e93a-67eb677bf7d6"
      },
      "source": [
        "xtrain.shape\n",
        "ytrain.shape\n",
        "xtest.shape\n",
        "ytest.shape"
      ],
      "execution_count": null,
      "outputs": [
        {
          "output_type": "execute_result",
          "data": {
            "text/plain": [
              "(63000,)"
            ]
          },
          "metadata": {
            "tags": []
          },
          "execution_count": 11
        }
      ]
    },
    {
      "cell_type": "markdown",
      "metadata": {
        "id": "xHPNsxMO-mSd"
      },
      "source": [
        "#Lets fit a Logistic model and check accuracy"
      ]
    },
    {
      "cell_type": "code",
      "metadata": {
        "id": "4XWmIzd-gGP5"
      },
      "source": [
        "#function to write report\n",
        "def write_report(name):\n",
        "  report = pd.concat([ld_test['id'],pd.DataFrame(ypred,columns=['risk_flag'])],axis=1)\n",
        "  report.to_csv('/content/gdrive/My Drive/Datasets/univ.ai/' + name ,index=False)"
      ],
      "execution_count": null,
      "outputs": []
    },
    {
      "cell_type": "code",
      "metadata": {
        "colab": {
          "base_uri": "https://localhost:8080/"
        },
        "id": "vF4F2SxK_3sY",
        "outputId": "24f0be65-9c08-48c1-846c-634f1833cba6"
      },
      "source": [
        "from sklearn.linear_model import LogisticRegression\n",
        "from sklearn.model_selection import cross_val_score\n",
        "log_mod = LogisticRegression()\n",
        "scores = cross_val_score(log_mod,xtrain,ytrain,scoring='roc_auc')\n",
        "scores\n"
      ],
      "execution_count": null,
      "outputs": [
        {
          "output_type": "execute_result",
          "data": {
            "text/plain": [
              "array([0.50196728, 0.49528195, 0.50506802, 0.50772664, 0.50412322])"
            ]
          },
          "metadata": {
            "tags": []
          },
          "execution_count": 9
        }
      ]
    },
    {
      "cell_type": "code",
      "metadata": {
        "id": "Jq8tnqIeNNEd"
      },
      "source": [
        "ypred = log_mod.fit(xtrain,ytrain).predict(xtest)"
      ],
      "execution_count": null,
      "outputs": []
    },
    {
      "cell_type": "code",
      "metadata": {
        "colab": {
          "base_uri": "https://localhost:8080/"
        },
        "id": "aNKZfCzBNeXV",
        "outputId": "8915a4cf-60bd-4570-dcd6-2cb1be498402"
      },
      "source": [
        "roc_auc_score(ytest,ypred)"
      ],
      "execution_count": null,
      "outputs": [
        {
          "output_type": "execute_result",
          "data": {
            "text/plain": [
              "0.5"
            ]
          },
          "metadata": {
            "tags": []
          },
          "execution_count": 11
        }
      ]
    },
    {
      "cell_type": "code",
      "metadata": {
        "colab": {
          "base_uri": "https://localhost:8080/"
        },
        "id": "kvoVBygQDhW0",
        "outputId": "50e070ac-40e7-4238-9c83-d6b9032e72af"
      },
      "source": [
        "auc = cross_val_score(log_mod,X,Y,scoring='accuracy')\n",
        "auc"
      ],
      "execution_count": null,
      "outputs": [
        {
          "output_type": "execute_result",
          "data": {
            "text/plain": [
              "array([0.87700397, 0.87700397, 0.87700397, 0.87700397, 0.87698413])"
            ]
          },
          "metadata": {
            "tags": []
          },
          "execution_count": 18
        }
      ]
    },
    {
      "cell_type": "markdown",
      "metadata": {
        "id": "_7CvViP8F-Pf"
      },
      "source": [
        "#Lets fit a DecisionTree and check"
      ]
    },
    {
      "cell_type": "code",
      "metadata": {
        "colab": {
          "base_uri": "https://localhost:8080/"
        },
        "id": "MdNBfFwLGAwX",
        "outputId": "94e7b24a-3a41-4a24-eb14-c60fad7c35a7"
      },
      "source": [
        "from sklearn.tree import DecisionTreeClassifier\n",
        "DT = DecisionTreeClassifier()\n",
        "scores = cross_val_score(DT,xtrain,ytrain,scoring='roc_auc')\n",
        "scores"
      ],
      "execution_count": null,
      "outputs": [
        {
          "output_type": "execute_result",
          "data": {
            "text/plain": [
              "array([0.84760544, 0.8496886 , 0.85379602, 0.85253173, 0.85345652])"
            ]
          },
          "metadata": {
            "tags": []
          },
          "execution_count": 60
        }
      ]
    },
    {
      "cell_type": "code",
      "metadata": {
        "colab": {
          "base_uri": "https://localhost:8080/"
        },
        "id": "m6n_Nh3zNtKq",
        "outputId": "6e990e2c-1ce6-4345-8762-adf2323f8a9c"
      },
      "source": [
        "ypred = DT.fit(xtrain,ytrain).predict(xtest)\n",
        "roc_auc_score(ytest,ypred)"
      ],
      "execution_count": null,
      "outputs": [
        {
          "output_type": "execute_result",
          "data": {
            "text/plain": [
              "0.7502345272877026"
            ]
          },
          "metadata": {
            "tags": []
          },
          "execution_count": 61
        }
      ]
    },
    {
      "cell_type": "code",
      "metadata": {
        "colab": {
          "base_uri": "https://localhost:8080/"
        },
        "id": "HPonQ5rkGBB_",
        "outputId": "e5e6cc7d-3bc3-43d2-8553-7a6465845487"
      },
      "source": [
        "auc = cross_val_score(DT,X,Y,scoring='accuracy')\n",
        "auc"
      ],
      "execution_count": null,
      "outputs": [
        {
          "output_type": "execute_result",
          "data": {
            "text/plain": [
              "array([0.93107143, 0.92253968, 0.90876984, 0.88700397, 0.73238095])"
            ]
          },
          "metadata": {
            "tags": []
          },
          "execution_count": 22
        }
      ]
    },
    {
      "cell_type": "markdown",
      "metadata": {
        "id": "luoXcBS0GBMV"
      },
      "source": [
        "#Decions tree looks more promising than logistic\n",
        "#Lets try Randomforest and check"
      ]
    },
    {
      "cell_type": "code",
      "metadata": {
        "colab": {
          "base_uri": "https://localhost:8080/"
        },
        "id": "C20mn7B3GBRN",
        "outputId": "f82440ac-2086-43db-e17a-39accd74c0b6"
      },
      "source": [
        "from sklearn.ensemble import RandomForestClassifier\n",
        "RF = RandomForestClassifier(max_features = 0.5,n_estimators=200)\n",
        "scores = cross_val_score(RF,xtrain,ytrain,scoring='roc_auc')\n",
        "scores"
      ],
      "execution_count": null,
      "outputs": [
        {
          "output_type": "execute_result",
          "data": {
            "text/plain": [
              "array([0.93747953, 0.93765926, 0.93854006, 0.93925197, 0.9372049 ])"
            ]
          },
          "metadata": {
            "tags": []
          },
          "execution_count": 61
        }
      ]
    },
    {
      "cell_type": "code",
      "metadata": {
        "colab": {
          "base_uri": "https://localhost:8080/"
        },
        "id": "uhtk8DQfQKjj",
        "outputId": "f5da1782-a221-4a5c-b05e-30a94eafe9fb"
      },
      "source": [
        "ypred = RF.fit(xtrain,ytrain).predict(xtest)\n",
        "roc_auc_score(ytest,ypred)"
      ],
      "execution_count": null,
      "outputs": [
        {
          "output_type": "execute_result",
          "data": {
            "text/plain": [
              "0.7410637183719415"
            ]
          },
          "metadata": {
            "tags": []
          },
          "execution_count": 62
        }
      ]
    },
    {
      "cell_type": "code",
      "metadata": {
        "id": "uf9JDBYURCuA"
      },
      "source": [
        "ypred = RF.fit(xtrain,ytrain).predict(Xtest)"
      ],
      "execution_count": null,
      "outputs": []
    },
    {
      "cell_type": "code",
      "metadata": {
        "id": "DHiH3zkXQ6m_"
      },
      "source": [
        "write_report('rf_output.csv')"
      ],
      "execution_count": null,
      "outputs": []
    },
    {
      "cell_type": "code",
      "metadata": {
        "colab": {
          "base_uri": "https://localhost:8080/"
        },
        "id": "UiYlAWTFGBVX",
        "outputId": "a4e3e46d-0eee-45c0-9399-05b284bde992"
      },
      "source": [
        "from sklearn.ensemble import RandomForestClassifier\n",
        "RF = RandomForestClassifier(max_features = 0.6,n_estimators=100)\n",
        "auc_roc = cross_val_score(RF,X,Y,scoring='roc_auc')\n",
        "auc_roc"
      ],
      "execution_count": null,
      "outputs": [
        {
          "output_type": "execute_result",
          "data": {
            "text/plain": [
              "array([0.97495546, 0.96832583, 0.95781029, 0.93612737, 0.65070217])"
            ]
          },
          "metadata": {
            "tags": []
          },
          "execution_count": 44
        }
      ]
    },
    {
      "cell_type": "code",
      "metadata": {
        "id": "2_QtcXylGBZG"
      },
      "source": [
        "\n",
        "RF = RandomForestClassifier(max_features = 0.5,n_estimators=100)\n",
        "RF.fit(X,Y)\n",
        "ypred = RF.predict(Xtest)"
      ],
      "execution_count": null,
      "outputs": []
    },
    {
      "cell_type": "code",
      "metadata": {
        "colab": {
          "base_uri": "https://localhost:8080/",
          "height": 424
        },
        "id": "Pa-ZjB8eGBcL",
        "outputId": "07a3007b-4dbe-4747-daf8-82e180ab3e93"
      },
      "source": [
        "report = pd.concat([ld_test['id'],pd.DataFrame(ypred,columns=['risk_flag'])],axis=1)\n",
        "report"
      ],
      "execution_count": null,
      "outputs": [
        {
          "output_type": "execute_result",
          "data": {
            "text/html": [
              "<div>\n",
              "<style scoped>\n",
              "    .dataframe tbody tr th:only-of-type {\n",
              "        vertical-align: middle;\n",
              "    }\n",
              "\n",
              "    .dataframe tbody tr th {\n",
              "        vertical-align: top;\n",
              "    }\n",
              "\n",
              "    .dataframe thead th {\n",
              "        text-align: right;\n",
              "    }\n",
              "</style>\n",
              "<table border=\"1\" class=\"dataframe\">\n",
              "  <thead>\n",
              "    <tr style=\"text-align: right;\">\n",
              "      <th></th>\n",
              "      <th>id</th>\n",
              "      <th>risk_flag</th>\n",
              "    </tr>\n",
              "  </thead>\n",
              "  <tbody>\n",
              "    <tr>\n",
              "      <th>0</th>\n",
              "      <td>1</td>\n",
              "      <td>0</td>\n",
              "    </tr>\n",
              "    <tr>\n",
              "      <th>1</th>\n",
              "      <td>2</td>\n",
              "      <td>0</td>\n",
              "    </tr>\n",
              "    <tr>\n",
              "      <th>2</th>\n",
              "      <td>3</td>\n",
              "      <td>0</td>\n",
              "    </tr>\n",
              "    <tr>\n",
              "      <th>3</th>\n",
              "      <td>4</td>\n",
              "      <td>0</td>\n",
              "    </tr>\n",
              "    <tr>\n",
              "      <th>4</th>\n",
              "      <td>5</td>\n",
              "      <td>0</td>\n",
              "    </tr>\n",
              "    <tr>\n",
              "      <th>...</th>\n",
              "      <td>...</td>\n",
              "      <td>...</td>\n",
              "    </tr>\n",
              "    <tr>\n",
              "      <th>27995</th>\n",
              "      <td>27996</td>\n",
              "      <td>0</td>\n",
              "    </tr>\n",
              "    <tr>\n",
              "      <th>27996</th>\n",
              "      <td>27997</td>\n",
              "      <td>0</td>\n",
              "    </tr>\n",
              "    <tr>\n",
              "      <th>27997</th>\n",
              "      <td>27998</td>\n",
              "      <td>0</td>\n",
              "    </tr>\n",
              "    <tr>\n",
              "      <th>27998</th>\n",
              "      <td>27999</td>\n",
              "      <td>0</td>\n",
              "    </tr>\n",
              "    <tr>\n",
              "      <th>27999</th>\n",
              "      <td>28000</td>\n",
              "      <td>0</td>\n",
              "    </tr>\n",
              "  </tbody>\n",
              "</table>\n",
              "<p>28000 rows × 2 columns</p>\n",
              "</div>"
            ],
            "text/plain": [
              "          id  risk_flag\n",
              "0          1          0\n",
              "1          2          0\n",
              "2          3          0\n",
              "3          4          0\n",
              "4          5          0\n",
              "...      ...        ...\n",
              "27995  27996          0\n",
              "27996  27997          0\n",
              "27997  27998          0\n",
              "27998  27999          0\n",
              "27999  28000          0\n",
              "\n",
              "[28000 rows x 2 columns]"
            ]
          },
          "metadata": {
            "tags": []
          },
          "execution_count": 33
        }
      ]
    },
    {
      "cell_type": "code",
      "metadata": {
        "id": "RGaxA0QQZjOS"
      },
      "source": [
        "report.to_csv('/content/gdrive/My Drive/Datasets/univ.ai/output.csv',index=False)"
      ],
      "execution_count": null,
      "outputs": []
    },
    {
      "cell_type": "markdown",
      "metadata": {
        "id": "dCiiEvpFegqD"
      },
      "source": [
        "#Take the oupput file of logistic reg"
      ]
    },
    {
      "cell_type": "code",
      "metadata": {
        "id": "OsRnAMFlelXS"
      },
      "source": [
        "log_mod = LogisticRegression()\n",
        "log_mod.fit(X,Y)\n",
        "ypred = log_mod.predict(Xtest)\n",
        "report = pd.concat([ld_test['id'],pd.DataFrame(ypred,columns=['risk_flag'])],axis=1)\n",
        "report.to_csv('/content/gdrive/My Drive/Datasets/univ.ai/logmod_output.csv',index=False)"
      ],
      "execution_count": null,
      "outputs": []
    },
    {
      "cell_type": "code",
      "metadata": {
        "id": "CebvhuhZgVhq"
      },
      "source": [
        "write_report('logmod1.csv')"
      ],
      "execution_count": null,
      "outputs": []
    },
    {
      "cell_type": "markdown",
      "metadata": {
        "id": "Kk2mMf7Jfr1L"
      },
      "source": [
        "#Lets try KNN and check"
      ]
    },
    {
      "cell_type": "code",
      "metadata": {
        "colab": {
          "base_uri": "https://localhost:8080/"
        },
        "id": "TXu9IGEUfs1Z",
        "outputId": "7e03f6fe-017c-42b2-c372-e530f1dd878a"
      },
      "source": [
        "from sklearn.neighbors import KNeighborsClassifier\n",
        "knn = KNeighborsClassifier(n_neighbors=17)\n",
        "scores = cross_val_score(knn,xtrain,ytrain,scoring='roc_auc')\n",
        "scores"
      ],
      "execution_count": null,
      "outputs": [
        {
          "output_type": "execute_result",
          "data": {
            "text/plain": [
              "array([0.88673756, 0.88626517, 0.88754896, 0.89081704, 0.88968175])"
            ]
          },
          "metadata": {
            "tags": []
          },
          "execution_count": 47
        }
      ]
    },
    {
      "cell_type": "code",
      "metadata": {
        "colab": {
          "base_uri": "https://localhost:8080/"
        },
        "id": "fg2qC1g6fs4a",
        "outputId": "2868969d-88c7-4e41-ee47-4f71f5a51748"
      },
      "source": [
        "knn.fit(xtrain,ytrain)\n",
        "ypred = knn.predict(xtest)\n",
        "roc_auc_score(ytest,ypred)"
      ],
      "execution_count": null,
      "outputs": [
        {
          "output_type": "execute_result",
          "data": {
            "text/plain": [
              "0.745858353659777"
            ]
          },
          "metadata": {
            "tags": []
          },
          "execution_count": 48
        }
      ]
    },
    {
      "cell_type": "code",
      "metadata": {
        "id": "GDIvDZEEHMLv"
      },
      "source": [
        "ypred = knn.predict(Xtest)\n",
        "write_report('knn_output.csv')"
      ],
      "execution_count": null,
      "outputs": []
    },
    {
      "cell_type": "code",
      "metadata": {
        "colab": {
          "base_uri": "https://localhost:8080/",
          "height": 226
        },
        "id": "DUE_u2pYpFHn",
        "outputId": "0ecc5f46-694c-4312-f579-ee73aee22388"
      },
      "source": [
        "from sklearn.ensemble import BaggingClassifier\n",
        "knn = KNeighborsClassifier(n_neighbors=17)\n",
        "bc = BaggingClassifier(base_estimator=knn,n_estimators=100)\n",
        "bc.fit(xtrain,ytrain)\n"
      ],
      "execution_count": null,
      "outputs": [
        {
          "output_type": "error",
          "ename": "AttributeError",
          "evalue": "ignored",
          "traceback": [
            "\u001b[0;31m---------------------------------------------------------------------------\u001b[0m",
            "\u001b[0;31mAttributeError\u001b[0m                            Traceback (most recent call last)",
            "\u001b[0;32m<ipython-input-77-d82fb6f94f6a>\u001b[0m in \u001b[0;36m<module>\u001b[0;34m()\u001b[0m\n\u001b[1;32m      3\u001b[0m \u001b[0mbc\u001b[0m \u001b[0;34m=\u001b[0m \u001b[0mBaggingClassifier\u001b[0m\u001b[0;34m(\u001b[0m\u001b[0mbase_estimator\u001b[0m\u001b[0;34m=\u001b[0m\u001b[0mknn\u001b[0m\u001b[0;34m,\u001b[0m\u001b[0mn_estimators\u001b[0m\u001b[0;34m=\u001b[0m\u001b[0;36m100\u001b[0m\u001b[0;34m)\u001b[0m\u001b[0;34m\u001b[0m\u001b[0;34m\u001b[0m\u001b[0m\n\u001b[1;32m      4\u001b[0m \u001b[0mbc\u001b[0m\u001b[0;34m.\u001b[0m\u001b[0mfit\u001b[0m\u001b[0;34m(\u001b[0m\u001b[0mxtrain\u001b[0m\u001b[0;34m,\u001b[0m\u001b[0mytrain\u001b[0m\u001b[0;34m)\u001b[0m\u001b[0;34m\u001b[0m\u001b[0;34m\u001b[0m\u001b[0m\n\u001b[0;32m----> 5\u001b[0;31m \u001b[0mypred\u001b[0m \u001b[0;34m=\u001b[0m \u001b[0mbc\u001b[0m\u001b[0;34m.\u001b[0m\u001b[0mpreditc\u001b[0m\u001b[0;34m(\u001b[0m\u001b[0mxtest\u001b[0m\u001b[0;34m)\u001b[0m\u001b[0;34m\u001b[0m\u001b[0;34m\u001b[0m\u001b[0m\n\u001b[0m\u001b[1;32m      6\u001b[0m \u001b[0mroc_auc_score\u001b[0m\u001b[0;34m(\u001b[0m\u001b[0mytest\u001b[0m\u001b[0;34m,\u001b[0m\u001b[0mypred\u001b[0m\u001b[0;34m)\u001b[0m\u001b[0;34m\u001b[0m\u001b[0;34m\u001b[0m\u001b[0m\n",
            "\u001b[0;31mAttributeError\u001b[0m: 'BaggingClassifier' object has no attribute 'preditc'"
          ]
        }
      ]
    },
    {
      "cell_type": "code",
      "metadata": {
        "colab": {
          "base_uri": "https://localhost:8080/"
        },
        "id": "3ZybFQK6qjM3",
        "outputId": "ec875d6c-46d0-4f05-b6f8-82ddde0d88da"
      },
      "source": [
        "ypred = bc.predict(xtest)\n",
        "roc_auc_score(ytest,ypred)"
      ],
      "execution_count": null,
      "outputs": [
        {
          "output_type": "execute_result",
          "data": {
            "text/plain": [
              "0.7466217025318687"
            ]
          },
          "metadata": {
            "tags": []
          },
          "execution_count": 79
        }
      ]
    },
    {
      "cell_type": "code",
      "metadata": {
        "colab": {
          "base_uri": "https://localhost:8080/"
        },
        "id": "h89huKo92SeY",
        "outputId": "241a9839-2153-45f3-aa3f-4de2c3037b74"
      },
      "source": [
        "from sklearn.ensemble import BaggingClassifier\n",
        "knn = KNeighborsClassifier(n_neighbors=17)\n",
        "bc = BaggingClassifier(base_estimator=knn,n_estimators=100)\n",
        "bc.fit(X,Y)\n",
        "ypred = bc.predict(xtest)\n",
        "roc_auc_score(ytest,ypred)"
      ],
      "execution_count": null,
      "outputs": [
        {
          "output_type": "execute_result",
          "data": {
            "text/plain": [
              "0.7568753689598168"
            ]
          },
          "metadata": {
            "tags": []
          },
          "execution_count": 84
        }
      ]
    },
    {
      "cell_type": "code",
      "metadata": {
        "id": "2cFvl_cGq-NG"
      },
      "source": [
        "ypred = bc.predict(Xtest)\n",
        "write_report('knnfullbagging_output.csv')"
      ],
      "execution_count": null,
      "outputs": []
    },
    {
      "cell_type": "markdown",
      "metadata": {
        "id": "uAeLK-aaEN_9"
      },
      "source": [
        "#Lets apply boosting on different algos"
      ]
    },
    {
      "cell_type": "code",
      "metadata": {
        "id": "NG9TzkVNFMBN"
      },
      "source": [
        "from sklearn.ensemble import AdaBoostClassifier\n",
        "dt = DecisionTreeClassifier()\n",
        "abc = AdaBoostClassifier(n_estimators=200,learning_rate=0.3)"
      ],
      "execution_count": null,
      "outputs": []
    },
    {
      "cell_type": "code",
      "metadata": {
        "colab": {
          "base_uri": "https://localhost:8080/"
        },
        "id": "gaQzSiFhFMfP",
        "outputId": "6895ae81-4d83-455f-e7f3-17696b833848"
      },
      "source": [
        "abc.fit(xtrain,ytrain)\n",
        "ypred = abc.predict(xtest)\n",
        "roc_auc_score(ytest,ypred)"
      ],
      "execution_count": null,
      "outputs": [
        {
          "output_type": "execute_result",
          "data": {
            "text/plain": [
              "0.500578927055191"
            ]
          },
          "metadata": {
            "tags": []
          },
          "execution_count": 59
        }
      ]
    },
    {
      "cell_type": "code",
      "metadata": {
        "id": "xXz4c-zJFMh-"
      },
      "source": [
        "from sklearn.ensemble import RandomForestClassifier\n",
        "rf = RandomForestClassifier(max_features=0.5,n_estimators=100)\n",
        "abc = AdaBoostClassifier(base_estimator=rf,n_estimators=50,random_state=13)"
      ],
      "execution_count": null,
      "outputs": []
    },
    {
      "cell_type": "code",
      "metadata": {
        "colab": {
          "base_uri": "https://localhost:8080/"
        },
        "id": "_TB0k3xFFMkh",
        "outputId": "91aed4c2-3aed-445d-d832-f37d5d482cf7"
      },
      "source": [
        "abc.fit(xtrain,ytrain)\n",
        "ypred = abc.predict(xtest)\n",
        "roc_auc_score(ytest,ypred)"
      ],
      "execution_count": null,
      "outputs": [
        {
          "output_type": "execute_result",
          "data": {
            "text/plain": [
              "0.7434485039700396"
            ]
          },
          "metadata": {
            "tags": []
          },
          "execution_count": 33
        }
      ]
    },
    {
      "cell_type": "code",
      "metadata": {
        "id": "C5HE6s9PFMmW"
      },
      "source": [
        "ypred = abc.predict(Xtest)\n",
        "write_report('ada_RF_output.csv')"
      ],
      "execution_count": null,
      "outputs": []
    },
    {
      "cell_type": "code",
      "metadata": {
        "id": "iFl0ARjWiqa9"
      },
      "source": [
        "#Applying gradient boosting\n",
        "\n",
        "from sklearn.ensemble import GradientBoostingClassifier\n",
        "dt = DecisionTreeClassifier()\n",
        "gbc = GradientBoostingClassifier(n_estimators=200)"
      ],
      "execution_count": null,
      "outputs": []
    },
    {
      "cell_type": "code",
      "metadata": {
        "colab": {
          "base_uri": "https://localhost:8080/"
        },
        "id": "JXDcgDLGjnkR",
        "outputId": "d0985cb6-8472-4112-fc3c-c7dd6acc4f2d"
      },
      "source": [
        "gbc.fit(xtrain,ytrain)\n",
        "ypred = gbc.predict(xtest)\n",
        "roc_auc_score(ytest,ypred)"
      ],
      "execution_count": null,
      "outputs": [
        {
          "output_type": "execute_result",
          "data": {
            "text/plain": [
              "0.502400041394013"
            ]
          },
          "metadata": {
            "tags": []
          },
          "execution_count": 66
        }
      ]
    },
    {
      "cell_type": "markdown",
      "metadata": {
        "id": "hLJc72wZfqej"
      },
      "source": [
        "#applying boost on logistic"
      ]
    },
    {
      "cell_type": "code",
      "metadata": {
        "id": "HX6ImmngHMOf"
      },
      "source": [
        "from sklearn.linear_model import LogisticRegression\n",
        "lr = LogisticRegression()\n",
        "from sklearn.ensemble import RandomForestClassifier\n",
        "abc = AdaBoostClassifier(base_estimator=lr,n_estimators=200,learning_rate=0.5)"
      ],
      "execution_count": null,
      "outputs": []
    },
    {
      "cell_type": "code",
      "metadata": {
        "colab": {
          "base_uri": "https://localhost:8080/"
        },
        "id": "4aubTDPtfuNY",
        "outputId": "7060981a-516a-4e6e-d603-5db538234387"
      },
      "source": [
        "abc.fit(xtrain,ytrain)\n",
        "ypred = abc.predict(xtest)\n",
        "roc_auc_score(ytest,ypred)"
      ],
      "execution_count": null,
      "outputs": [
        {
          "output_type": "execute_result",
          "data": {
            "text/plain": [
              "0.5"
            ]
          },
          "metadata": {
            "tags": []
          },
          "execution_count": 57
        }
      ]
    },
    {
      "cell_type": "code",
      "metadata": {
        "id": "b2iRPx5tfuPu"
      },
      "source": [
        ""
      ],
      "execution_count": null,
      "outputs": []
    },
    {
      "cell_type": "code",
      "metadata": {
        "id": "MYMYQkBnfuR4"
      },
      "source": [
        ""
      ],
      "execution_count": null,
      "outputs": []
    },
    {
      "cell_type": "code",
      "metadata": {
        "id": "-iDBNe3-fuUS"
      },
      "source": [
        ""
      ],
      "execution_count": null,
      "outputs": []
    },
    {
      "cell_type": "markdown",
      "metadata": {
        "id": "TPIe2crnHMQ4"
      },
      "source": [
        "#Lets try Naive Bayes and check"
      ]
    },
    {
      "cell_type": "code",
      "metadata": {
        "id": "xf1kJXUUfs7s",
        "colab": {
          "base_uri": "https://localhost:8080/"
        },
        "outputId": "66d05efb-05d6-4568-d2b6-7c4bf36dab46"
      },
      "source": [
        "from sklearn.naive_bayes import MultinomialNB\n",
        "mnb = MultinomialNB()\n",
        "mnb.fit(xtrain,ytrain)"
      ],
      "execution_count": null,
      "outputs": [
        {
          "output_type": "execute_result",
          "data": {
            "text/plain": [
              "MultinomialNB(alpha=1.0, class_prior=None, fit_prior=True)"
            ]
          },
          "metadata": {
            "tags": []
          },
          "execution_count": 71
        }
      ]
    },
    {
      "cell_type": "code",
      "metadata": {
        "id": "4sOTHjePfs-w",
        "colab": {
          "base_uri": "https://localhost:8080/"
        },
        "outputId": "97deabd3-a707-47c4-f48a-7fa1d2d19905"
      },
      "source": [
        "ypred = mnb.predict(xtest)\n",
        "roc_auc_score(ytest,ypred)"
      ],
      "execution_count": null,
      "outputs": [
        {
          "output_type": "execute_result",
          "data": {
            "text/plain": [
              "0.5133683052362875"
            ]
          },
          "metadata": {
            "tags": []
          },
          "execution_count": 72
        }
      ]
    },
    {
      "cell_type": "code",
      "metadata": {
        "id": "KpLks8JvftCh",
        "colab": {
          "base_uri": "https://localhost:8080/"
        },
        "outputId": "0a62f81a-4008-43aa-bb52-d4923f7947ca"
      },
      "source": [
        "from sklearn.naive_bayes import BernoulliNB\n",
        "bnb = BernoulliNB()\n",
        "bnb.fit(xtrain,ytrain)"
      ],
      "execution_count": null,
      "outputs": [
        {
          "output_type": "execute_result",
          "data": {
            "text/plain": [
              "BernoulliNB(alpha=1.0, binarize=0.0, class_prior=None, fit_prior=True)"
            ]
          },
          "metadata": {
            "tags": []
          },
          "execution_count": 73
        }
      ]
    },
    {
      "cell_type": "code",
      "metadata": {
        "colab": {
          "base_uri": "https://localhost:8080/"
        },
        "id": "otQbC4ZZmhu2",
        "outputId": "6285a2a0-7779-4a1e-c040-f978ae2e8823"
      },
      "source": [
        "ypred = bnb.predict(xtest)\n",
        "roc_auc_score(ytest,ypred)"
      ],
      "execution_count": null,
      "outputs": [
        {
          "output_type": "execute_result",
          "data": {
            "text/plain": [
              "0.5"
            ]
          },
          "metadata": {
            "tags": []
          },
          "execution_count": 74
        }
      ]
    },
    {
      "cell_type": "markdown",
      "metadata": {
        "id": "W0q2kNWbmU3K"
      },
      "source": [
        "# Lets import the data again and apply chi-square test to eliminate categorical columns\n"
      ]
    },
    {
      "cell_type": "code",
      "metadata": {
        "id": "G4fyne6bmb2q"
      },
      "source": [
        "ldnew = pd.read_csv('/content/gdrive/My Drive/Datasets/univ.ai/Training Data.csv')\n",
        " \n",
        "ldnew_test = pd.read_csv('/content/gdrive/My Drive/Datasets/univ.ai/Test Data.csv')"
      ],
      "execution_count": 6,
      "outputs": []
    },
    {
      "cell_type": "code",
      "metadata": {
        "id": "Jfbt7MKbD5Uw"
      },
      "source": [
        "#function to write report\n",
        "def write_report(name):\n",
        "  report = pd.concat([ldnew_test['id'],pd.DataFrame(ypred,columns=['risk_flag'])],axis=1)\n",
        "  report.to_csv('/content/gdrive/My Drive/Datasets/univ.ai/' + name ,index=False)"
      ],
      "execution_count": 7,
      "outputs": []
    },
    {
      "cell_type": "code",
      "metadata": {
        "colab": {
          "base_uri": "https://localhost:8080/",
          "height": 206
        },
        "id": "aUWOWlU2me_k",
        "outputId": "18d21275-3360-4383-f6fa-db14c01cc161"
      },
      "source": [
        "ldnew.head()"
      ],
      "execution_count": 8,
      "outputs": [
        {
          "output_type": "execute_result",
          "data": {
            "text/html": [
              "<div>\n",
              "<style scoped>\n",
              "    .dataframe tbody tr th:only-of-type {\n",
              "        vertical-align: middle;\n",
              "    }\n",
              "\n",
              "    .dataframe tbody tr th {\n",
              "        vertical-align: top;\n",
              "    }\n",
              "\n",
              "    .dataframe thead th {\n",
              "        text-align: right;\n",
              "    }\n",
              "</style>\n",
              "<table border=\"1\" class=\"dataframe\">\n",
              "  <thead>\n",
              "    <tr style=\"text-align: right;\">\n",
              "      <th></th>\n",
              "      <th>Id</th>\n",
              "      <th>income</th>\n",
              "      <th>age</th>\n",
              "      <th>experience</th>\n",
              "      <th>married</th>\n",
              "      <th>house_ownership</th>\n",
              "      <th>car_ownership</th>\n",
              "      <th>profession</th>\n",
              "      <th>city</th>\n",
              "      <th>state</th>\n",
              "      <th>current_job_years</th>\n",
              "      <th>current_house_years</th>\n",
              "      <th>risk_flag</th>\n",
              "    </tr>\n",
              "  </thead>\n",
              "  <tbody>\n",
              "    <tr>\n",
              "      <th>0</th>\n",
              "      <td>1</td>\n",
              "      <td>1303835</td>\n",
              "      <td>23</td>\n",
              "      <td>3</td>\n",
              "      <td>single</td>\n",
              "      <td>rented</td>\n",
              "      <td>no</td>\n",
              "      <td>Mechanical_engineer</td>\n",
              "      <td>Rewa</td>\n",
              "      <td>Madhya_Pradesh</td>\n",
              "      <td>3</td>\n",
              "      <td>13</td>\n",
              "      <td>0</td>\n",
              "    </tr>\n",
              "    <tr>\n",
              "      <th>1</th>\n",
              "      <td>2</td>\n",
              "      <td>7574516</td>\n",
              "      <td>40</td>\n",
              "      <td>10</td>\n",
              "      <td>single</td>\n",
              "      <td>rented</td>\n",
              "      <td>no</td>\n",
              "      <td>Software_Developer</td>\n",
              "      <td>Parbhani</td>\n",
              "      <td>Maharashtra</td>\n",
              "      <td>9</td>\n",
              "      <td>13</td>\n",
              "      <td>0</td>\n",
              "    </tr>\n",
              "    <tr>\n",
              "      <th>2</th>\n",
              "      <td>3</td>\n",
              "      <td>3991815</td>\n",
              "      <td>66</td>\n",
              "      <td>4</td>\n",
              "      <td>married</td>\n",
              "      <td>rented</td>\n",
              "      <td>no</td>\n",
              "      <td>Technical_writer</td>\n",
              "      <td>Alappuzha</td>\n",
              "      <td>Kerala</td>\n",
              "      <td>4</td>\n",
              "      <td>10</td>\n",
              "      <td>0</td>\n",
              "    </tr>\n",
              "    <tr>\n",
              "      <th>3</th>\n",
              "      <td>4</td>\n",
              "      <td>6256451</td>\n",
              "      <td>41</td>\n",
              "      <td>2</td>\n",
              "      <td>single</td>\n",
              "      <td>rented</td>\n",
              "      <td>yes</td>\n",
              "      <td>Software_Developer</td>\n",
              "      <td>Bhubaneswar</td>\n",
              "      <td>Odisha</td>\n",
              "      <td>2</td>\n",
              "      <td>12</td>\n",
              "      <td>1</td>\n",
              "    </tr>\n",
              "    <tr>\n",
              "      <th>4</th>\n",
              "      <td>5</td>\n",
              "      <td>5768871</td>\n",
              "      <td>47</td>\n",
              "      <td>11</td>\n",
              "      <td>single</td>\n",
              "      <td>rented</td>\n",
              "      <td>no</td>\n",
              "      <td>Civil_servant</td>\n",
              "      <td>Tiruchirappalli[10]</td>\n",
              "      <td>Tamil_Nadu</td>\n",
              "      <td>3</td>\n",
              "      <td>14</td>\n",
              "      <td>1</td>\n",
              "    </tr>\n",
              "  </tbody>\n",
              "</table>\n",
              "</div>"
            ],
            "text/plain": [
              "   Id   income  age  ...  current_job_years current_house_years risk_flag\n",
              "0   1  1303835   23  ...                  3                  13         0\n",
              "1   2  7574516   40  ...                  9                  13         0\n",
              "2   3  3991815   66  ...                  4                  10         0\n",
              "3   4  6256451   41  ...                  2                  12         1\n",
              "4   5  5768871   47  ...                  3                  14         1\n",
              "\n",
              "[5 rows x 13 columns]"
            ]
          },
          "metadata": {
            "tags": []
          },
          "execution_count": 8
        }
      ]
    },
    {
      "cell_type": "code",
      "metadata": {
        "id": "sW1nukVemfQc"
      },
      "source": [
        "obj_cols = ldnew.select_dtypes(include=['object'])\n",
        "obj_cols = obj_cols.columns"
      ],
      "execution_count": 9,
      "outputs": []
    },
    {
      "cell_type": "code",
      "metadata": {
        "colab": {
          "base_uri": "https://localhost:8080/"
        },
        "id": "4_kLWVfnmfTP",
        "outputId": "32b1a4ca-3fd2-46af-d28a-ab19c470edce"
      },
      "source": [
        "!pip install researchpy\n",
        "def chi2test(x,y):\n",
        "  import researchpy as rp\n",
        "  t = rp.crosstab(ldnew[x],ldnew[y],test='chi-square')\n",
        "  if t[1].iloc[1,1] < 0.05:\n",
        "    print(t[0])\n",
        "    print('Depedent. Drop a variable')\n",
        "  else:\n",
        "    print('Independent. Keep both')"
      ],
      "execution_count": 10,
      "outputs": [
        {
          "output_type": "stream",
          "text": [
            "Collecting researchpy\n",
            "  Downloading https://files.pythonhosted.org/packages/4b/a3/b16ea25a5416f7c35824b2fc3ee1cdc9f9d8ab6d9fc4119679504d43b8a8/researchpy-0.2.3-py3-none-any.whl\n",
            "Requirement already satisfied: numpy in /usr/local/lib/python3.7/dist-packages (from researchpy) (1.19.5)\n",
            "Requirement already satisfied: statsmodels in /usr/local/lib/python3.7/dist-packages (from researchpy) (0.10.2)\n",
            "Requirement already satisfied: pandas in /usr/local/lib/python3.7/dist-packages (from researchpy) (1.1.5)\n",
            "Requirement already satisfied: scipy in /usr/local/lib/python3.7/dist-packages (from researchpy) (1.4.1)\n",
            "Requirement already satisfied: patsy>=0.4.0 in /usr/local/lib/python3.7/dist-packages (from statsmodels->researchpy) (0.5.1)\n",
            "Requirement already satisfied: pytz>=2017.2 in /usr/local/lib/python3.7/dist-packages (from pandas->researchpy) (2018.9)\n",
            "Requirement already satisfied: python-dateutil>=2.7.3 in /usr/local/lib/python3.7/dist-packages (from pandas->researchpy) (2.8.1)\n",
            "Requirement already satisfied: six in /usr/local/lib/python3.7/dist-packages (from patsy>=0.4.0->statsmodels->researchpy) (1.15.0)\n",
            "Installing collected packages: researchpy\n",
            "Successfully installed researchpy-0.2.3\n"
          ],
          "name": "stdout"
        }
      ]
    },
    {
      "cell_type": "code",
      "metadata": {
        "colab": {
          "base_uri": "https://localhost:8080/"
        },
        "id": "5plUABsOmfVq",
        "outputId": "157be720-8427-458d-ee2a-4342b9ffbd94"
      },
      "source": [
        "chi2test(obj_cols[0],obj_cols[1])"
      ],
      "execution_count": 11,
      "outputs": [
        {
          "output_type": "stream",
          "text": [
            "/usr/local/lib/python3.7/dist-packages/statsmodels/tools/_testing.py:19: FutureWarning: pandas.util.testing is deprecated. Use the functions in the public API at pandas.testing instead.\n",
            "  import pandas.util.testing as tm\n"
          ],
          "name": "stderr"
        },
        {
          "output_type": "stream",
          "text": [
            "                house_ownership                       \n",
            "house_ownership    norent_noown  owned  rented     All\n",
            "married                                               \n",
            "married                     595    923   24210   25728\n",
            "single                     6589  11995  207688  226272\n",
            "All                        7184  12918  231898  252000\n",
            "Depedent. Drop a variable\n"
          ],
          "name": "stdout"
        }
      ]
    },
    {
      "cell_type": "code",
      "metadata": {
        "colab": {
          "base_uri": "https://localhost:8080/"
        },
        "id": "Cdh2gHG4qpNN",
        "outputId": "38652aa2-dc21-4f81-b948-030f520cd554"
      },
      "source": [
        "chi2test(obj_cols[2],obj_cols[1])"
      ],
      "execution_count": 12,
      "outputs": [
        {
          "output_type": "stream",
          "text": [
            "Independent. Keep both\n"
          ],
          "name": "stdout"
        }
      ]
    },
    {
      "cell_type": "code",
      "metadata": {
        "id": "_6gcMJy6rRE_"
      },
      "source": [
        "drop_cols = []\n",
        "drop_cols.append(obj_cols[0])"
      ],
      "execution_count": 13,
      "outputs": []
    },
    {
      "cell_type": "code",
      "metadata": {
        "colab": {
          "base_uri": "https://localhost:8080/"
        },
        "id": "3fboq0_arWUq",
        "outputId": "d3b4ef9f-20fb-463c-fd95-7bbd8ab54eee"
      },
      "source": [
        "chi2test(obj_cols[3],obj_cols[1])"
      ],
      "execution_count": 14,
      "outputs": [
        {
          "output_type": "stream",
          "text": [
            "                           house_ownership                       \n",
            "house_ownership               norent_noown  owned  rented     All\n",
            "profession                                                       \n",
            "Air_traffic_controller                 158    206    4917    5281\n",
            "Analyst                                122    182    4364    4668\n",
            "Architect                              143    441    4073    4657\n",
            "Army_officer                           190    292    4179    4661\n",
            "Artist                                  58    300    4503    4861\n",
            "Aviator                                 93    438    4227    4758\n",
            "Biomedical_Engineer                    248    252    4627    5127\n",
            "Chartered_Accountant                   132    250    4111    4493\n",
            "Chef                                    94    154    4387    4635\n",
            "Chemical_engineer                      201    292    4712    5205\n",
            "Civil_engineer                         138    340    4138    4616\n",
            "Civil_servant                          126    263    4024    4413\n",
            "Comedian                               206    275    4778    5259\n",
            "Computer_hardware_engineer             190    216    4966    5372\n",
            "Computer_operator                      201    253    4536    4990\n",
            "Consultant                              96    141    4571    4808\n",
            "Dentist                                125    218    4439    4782\n",
            "Design_Engineer                        129    295    4305    4729\n",
            "Designer                               138    216    4244    4598\n",
            "Drafter                                 65    216    5078    5359\n",
            "Economist                               90    182    4301    4573\n",
            "Engineer                                60    149    3839    4048\n",
            "Fashion_Designer                       165    349    4790    5304\n",
            "Financial_Analyst                      186    438    4543    5167\n",
            "Firefighter                             59     67    4381    4507\n",
            "Flight_attendant                        92    143    4893    5128\n",
            "Geologist                              163    360    4149    4672\n",
            "Graphic_Designer                        92    293    4781    5166\n",
            "Hotel_Manager                          201    184    4793    5178\n",
            "Industrial_Engineer                    162    293    4795    5250\n",
            "Lawyer                                  54    322    4442    4818\n",
            "Librarian                               60    139    4429    4628\n",
            "Magistrate                              96    439    4822    5357\n",
            "Mechanical_engineer                    157    285    4775    5217\n",
            "Microbiologist                         167    183    4531    4881\n",
            "Official                                26    107    3954    4087\n",
            "Petroleum_Engineer                     158    181    4702    5041\n",
            "Physician                              141    248    5568    5957\n",
            "Police_officer                         125    257    4653    5035\n",
            "Politician                             209    107    4628    4944\n",
            "Psychologist                            41    207    5142    5390\n",
            "Scientist                              244    241    4296    4781\n",
            "Secretary                               56    212    4793    5061\n",
            "Software_Developer                     329    257    4467    5053\n",
            "Statistician                           129    392    5285    5806\n",
            "Surgeon                                166    323    4283    4772\n",
            "Surveyor                               319    258    4137    4714\n",
            "Technical_writer                        50    181    4964    5195\n",
            "Technician                             168    346    4350    4864\n",
            "Technology_specialist                  125    252    4360    4737\n",
            "Web_designer                           241    283    4873    5397\n",
            "All                                   7184  12918  231898  252000\n",
            "Depedent. Drop a variable\n"
          ],
          "name": "stdout"
        }
      ]
    },
    {
      "cell_type": "code",
      "metadata": {
        "id": "I-CQv3mbrWri"
      },
      "source": [
        "drop_cols.append(obj_cols[3])"
      ],
      "execution_count": 15,
      "outputs": []
    },
    {
      "cell_type": "code",
      "metadata": {
        "colab": {
          "base_uri": "https://localhost:8080/"
        },
        "id": "BBpvnA8ErWua",
        "outputId": "26cb9a34-f5c8-403d-c784-71592485b289"
      },
      "source": [
        "chi2test(obj_cols[4],obj_cols[1])"
      ],
      "execution_count": 16,
      "outputs": [
        {
          "output_type": "stream",
          "text": [
            "                 house_ownership                       \n",
            "house_ownership     norent_noown  owned  rented     All\n",
            "city                                                   \n",
            "Adoni                          2      5     946     953\n",
            "Agartala                      40     71     698     809\n",
            "Agra                           3      7    1002    1012\n",
            "Ahmedabad                      2     42     605     649\n",
            "Ahmednagar                    43     39     563     645\n",
            "...                          ...    ...     ...     ...\n",
            "Vijayawada                    79    115     978    1172\n",
            "Visakhapatnam[4]              37      8     926     971\n",
            "Warangal[11][12]               3     11     445     459\n",
            "Yamunanagar                  107      4     548     659\n",
            "All                         7184  12918  231898  252000\n",
            "\n",
            "[318 rows x 4 columns]\n",
            "Depedent. Drop a variable\n"
          ],
          "name": "stdout"
        }
      ]
    },
    {
      "cell_type": "code",
      "metadata": {
        "id": "2bsY9FybrWxK"
      },
      "source": [
        "#drop_cols.append(obj_cols[4])\n",
        "drop_cols.append(obj_cols[5])"
      ],
      "execution_count": 18,
      "outputs": []
    },
    {
      "cell_type": "code",
      "metadata": {
        "colab": {
          "base_uri": "https://localhost:8080/"
        },
        "id": "sQG4Ft1brW9l",
        "outputId": "f6dbc46b-9715-4875-ab3b-21b9e5809066"
      },
      "source": [
        "chi2test(obj_cols[5],obj_cols[1])"
      ],
      "execution_count": null,
      "outputs": [
        {
          "output_type": "stream",
          "text": [
            "                  house_ownership                       \n",
            "house_ownership      norent_noown  owned  rented     All\n",
            "state                                                   \n",
            "Andhra_Pradesh                752   1069   23476   25297\n",
            "Assam                         133    222    6707    7062\n",
            "Bihar                         657    805   18318   19780\n",
            "Chandigarh                     41     45     570     656\n",
            "Chhattisgarh                  125    214    3495    3834\n",
            "Delhi                         236    406    4848    5490\n",
            "Gujarat                       405    628   10375   11408\n",
            "Haryana                       253    387    7250    7890\n",
            "Himachal_Pradesh                7     43     783     833\n",
            "Jammu_and_Kashmir              47     11    1722    1780\n",
            "Jharkhand                     173    520    8272    8965\n",
            "Karnataka                     361    729   10765   11855\n",
            "Kerala                        206    150    5449    5805\n",
            "Madhya_Pradesh                314    863   12945   14122\n",
            "Maharashtra                   560   1256   23746   25562\n",
            "Manipur                         6     44     799     849\n",
            "Mizoram                        72      7     770     849\n",
            "Odisha                        120    218    4320    4658\n",
            "Puducherry                      8     43    1382    1433\n",
            "Punjab                         84    369    4267    4720\n",
            "Rajasthan                     226    433    8515    9174\n",
            "Sikkim                         46     51     511     608\n",
            "Tamil_Nadu                    542    701   15294   16537\n",
            "Telangana                     223    543    6758    7524\n",
            "Tripura                        40     71     698     809\n",
            "Uttar_Pradesh                 753   1452   26195   28400\n",
            "Uttar_Pradesh[5]               39     48     656     743\n",
            "Uttarakhand                   118     83    1673    1874\n",
            "West_Bengal                   637   1507   21339   23483\n",
            "All                          7184  12918  231898  252000\n",
            "Depedent. Drop a variable\n"
          ],
          "name": "stdout"
        }
      ]
    },
    {
      "cell_type": "code",
      "metadata": {
        "id": "CO49tyDpsfcN"
      },
      "source": [
        "obj_cols\n",
        "#drop_cols.remove('profession')\n",
        "drop_cols.append('house_ownership')"
      ],
      "execution_count": 20,
      "outputs": []
    },
    {
      "cell_type": "code",
      "metadata": {
        "colab": {
          "base_uri": "https://localhost:8080/"
        },
        "id": "cEROAxQmsfkP",
        "outputId": "4e627e4f-bb37-42bc-f297-872331b0f64b"
      },
      "source": [
        "drop_cols"
      ],
      "execution_count": 21,
      "outputs": [
        {
          "output_type": "execute_result",
          "data": {
            "text/plain": [
              "['married', 'city', 'state', 'house_ownership']"
            ]
          },
          "metadata": {
            "tags": []
          },
          "execution_count": 21
        }
      ]
    },
    {
      "cell_type": "code",
      "metadata": {
        "id": "LsiLeXNEsfnI"
      },
      "source": [
        "ldnew = ldnew.drop(drop_cols,axis=1)"
      ],
      "execution_count": 22,
      "outputs": []
    },
    {
      "cell_type": "code",
      "metadata": {
        "colab": {
          "base_uri": "https://localhost:8080/",
          "height": 206
        },
        "id": "TXlaETJcsfpz",
        "outputId": "378d45d2-5e6c-431b-9087-ea23185ec517"
      },
      "source": [
        "ldnew = ldnew.drop('Id',axis=1)\n",
        "ldnew.head()"
      ],
      "execution_count": 23,
      "outputs": [
        {
          "output_type": "execute_result",
          "data": {
            "text/html": [
              "<div>\n",
              "<style scoped>\n",
              "    .dataframe tbody tr th:only-of-type {\n",
              "        vertical-align: middle;\n",
              "    }\n",
              "\n",
              "    .dataframe tbody tr th {\n",
              "        vertical-align: top;\n",
              "    }\n",
              "\n",
              "    .dataframe thead th {\n",
              "        text-align: right;\n",
              "    }\n",
              "</style>\n",
              "<table border=\"1\" class=\"dataframe\">\n",
              "  <thead>\n",
              "    <tr style=\"text-align: right;\">\n",
              "      <th></th>\n",
              "      <th>income</th>\n",
              "      <th>age</th>\n",
              "      <th>experience</th>\n",
              "      <th>car_ownership</th>\n",
              "      <th>profession</th>\n",
              "      <th>current_job_years</th>\n",
              "      <th>current_house_years</th>\n",
              "      <th>risk_flag</th>\n",
              "    </tr>\n",
              "  </thead>\n",
              "  <tbody>\n",
              "    <tr>\n",
              "      <th>0</th>\n",
              "      <td>1303835</td>\n",
              "      <td>23</td>\n",
              "      <td>3</td>\n",
              "      <td>no</td>\n",
              "      <td>Mechanical_engineer</td>\n",
              "      <td>3</td>\n",
              "      <td>13</td>\n",
              "      <td>0</td>\n",
              "    </tr>\n",
              "    <tr>\n",
              "      <th>1</th>\n",
              "      <td>7574516</td>\n",
              "      <td>40</td>\n",
              "      <td>10</td>\n",
              "      <td>no</td>\n",
              "      <td>Software_Developer</td>\n",
              "      <td>9</td>\n",
              "      <td>13</td>\n",
              "      <td>0</td>\n",
              "    </tr>\n",
              "    <tr>\n",
              "      <th>2</th>\n",
              "      <td>3991815</td>\n",
              "      <td>66</td>\n",
              "      <td>4</td>\n",
              "      <td>no</td>\n",
              "      <td>Technical_writer</td>\n",
              "      <td>4</td>\n",
              "      <td>10</td>\n",
              "      <td>0</td>\n",
              "    </tr>\n",
              "    <tr>\n",
              "      <th>3</th>\n",
              "      <td>6256451</td>\n",
              "      <td>41</td>\n",
              "      <td>2</td>\n",
              "      <td>yes</td>\n",
              "      <td>Software_Developer</td>\n",
              "      <td>2</td>\n",
              "      <td>12</td>\n",
              "      <td>1</td>\n",
              "    </tr>\n",
              "    <tr>\n",
              "      <th>4</th>\n",
              "      <td>5768871</td>\n",
              "      <td>47</td>\n",
              "      <td>11</td>\n",
              "      <td>no</td>\n",
              "      <td>Civil_servant</td>\n",
              "      <td>3</td>\n",
              "      <td>14</td>\n",
              "      <td>1</td>\n",
              "    </tr>\n",
              "  </tbody>\n",
              "</table>\n",
              "</div>"
            ],
            "text/plain": [
              "    income  age  experience  ... current_job_years current_house_years  risk_flag\n",
              "0  1303835   23           3  ...                 3                  13          0\n",
              "1  7574516   40          10  ...                 9                  13          0\n",
              "2  3991815   66           4  ...                 4                  10          0\n",
              "3  6256451   41           2  ...                 2                  12          1\n",
              "4  5768871   47          11  ...                 3                  14          1\n",
              "\n",
              "[5 rows x 8 columns]"
            ]
          },
          "metadata": {
            "tags": []
          },
          "execution_count": 23
        }
      ]
    },
    {
      "cell_type": "code",
      "metadata": {
        "colab": {
          "base_uri": "https://localhost:8080/",
          "height": 237
        },
        "id": "xrBn1KQSsfsL",
        "outputId": "1f45e796-6881-4dc1-de2b-b8ea7902728f"
      },
      "source": [
        "ldnew.corr()"
      ],
      "execution_count": 24,
      "outputs": [
        {
          "output_type": "execute_result",
          "data": {
            "text/html": [
              "<div>\n",
              "<style scoped>\n",
              "    .dataframe tbody tr th:only-of-type {\n",
              "        vertical-align: middle;\n",
              "    }\n",
              "\n",
              "    .dataframe tbody tr th {\n",
              "        vertical-align: top;\n",
              "    }\n",
              "\n",
              "    .dataframe thead th {\n",
              "        text-align: right;\n",
              "    }\n",
              "</style>\n",
              "<table border=\"1\" class=\"dataframe\">\n",
              "  <thead>\n",
              "    <tr style=\"text-align: right;\">\n",
              "      <th></th>\n",
              "      <th>income</th>\n",
              "      <th>age</th>\n",
              "      <th>experience</th>\n",
              "      <th>current_job_years</th>\n",
              "      <th>current_house_years</th>\n",
              "      <th>risk_flag</th>\n",
              "    </tr>\n",
              "  </thead>\n",
              "  <tbody>\n",
              "    <tr>\n",
              "      <th>income</th>\n",
              "      <td>1.000000</td>\n",
              "      <td>-0.000652</td>\n",
              "      <td>0.006422</td>\n",
              "      <td>0.007045</td>\n",
              "      <td>-0.002397</td>\n",
              "      <td>-0.003091</td>\n",
              "    </tr>\n",
              "    <tr>\n",
              "      <th>age</th>\n",
              "      <td>-0.000652</td>\n",
              "      <td>1.000000</td>\n",
              "      <td>-0.001118</td>\n",
              "      <td>0.002154</td>\n",
              "      <td>-0.020134</td>\n",
              "      <td>-0.021809</td>\n",
              "    </tr>\n",
              "    <tr>\n",
              "      <th>experience</th>\n",
              "      <td>0.006422</td>\n",
              "      <td>-0.001118</td>\n",
              "      <td>1.000000</td>\n",
              "      <td>0.646098</td>\n",
              "      <td>0.019309</td>\n",
              "      <td>-0.034523</td>\n",
              "    </tr>\n",
              "    <tr>\n",
              "      <th>current_job_years</th>\n",
              "      <td>0.007045</td>\n",
              "      <td>0.002154</td>\n",
              "      <td>0.646098</td>\n",
              "      <td>1.000000</td>\n",
              "      <td>0.005372</td>\n",
              "      <td>-0.016942</td>\n",
              "    </tr>\n",
              "    <tr>\n",
              "      <th>current_house_years</th>\n",
              "      <td>-0.002397</td>\n",
              "      <td>-0.020134</td>\n",
              "      <td>0.019309</td>\n",
              "      <td>0.005372</td>\n",
              "      <td>1.000000</td>\n",
              "      <td>-0.004375</td>\n",
              "    </tr>\n",
              "    <tr>\n",
              "      <th>risk_flag</th>\n",
              "      <td>-0.003091</td>\n",
              "      <td>-0.021809</td>\n",
              "      <td>-0.034523</td>\n",
              "      <td>-0.016942</td>\n",
              "      <td>-0.004375</td>\n",
              "      <td>1.000000</td>\n",
              "    </tr>\n",
              "  </tbody>\n",
              "</table>\n",
              "</div>"
            ],
            "text/plain": [
              "                       income       age  ...  current_house_years  risk_flag\n",
              "income               1.000000 -0.000652  ...            -0.002397  -0.003091\n",
              "age                 -0.000652  1.000000  ...            -0.020134  -0.021809\n",
              "experience           0.006422 -0.001118  ...             0.019309  -0.034523\n",
              "current_job_years    0.007045  0.002154  ...             0.005372  -0.016942\n",
              "current_house_years -0.002397 -0.020134  ...             1.000000  -0.004375\n",
              "risk_flag           -0.003091 -0.021809  ...            -0.004375   1.000000\n",
              "\n",
              "[6 rows x 6 columns]"
            ]
          },
          "metadata": {
            "tags": []
          },
          "execution_count": 24
        }
      ]
    },
    {
      "cell_type": "code",
      "metadata": {
        "colab": {
          "base_uri": "https://localhost:8080/",
          "height": 206
        },
        "id": "umZZqsUJLR3K",
        "outputId": "6696b4ae-ff10-40ab-f952-a2b5585c3995"
      },
      "source": [
        "ldnew = ldnew.drop('current_job_years',axis=1)\n",
        "ldnew.head()"
      ],
      "execution_count": 25,
      "outputs": [
        {
          "output_type": "execute_result",
          "data": {
            "text/html": [
              "<div>\n",
              "<style scoped>\n",
              "    .dataframe tbody tr th:only-of-type {\n",
              "        vertical-align: middle;\n",
              "    }\n",
              "\n",
              "    .dataframe tbody tr th {\n",
              "        vertical-align: top;\n",
              "    }\n",
              "\n",
              "    .dataframe thead th {\n",
              "        text-align: right;\n",
              "    }\n",
              "</style>\n",
              "<table border=\"1\" class=\"dataframe\">\n",
              "  <thead>\n",
              "    <tr style=\"text-align: right;\">\n",
              "      <th></th>\n",
              "      <th>income</th>\n",
              "      <th>age</th>\n",
              "      <th>experience</th>\n",
              "      <th>car_ownership</th>\n",
              "      <th>profession</th>\n",
              "      <th>current_house_years</th>\n",
              "      <th>risk_flag</th>\n",
              "    </tr>\n",
              "  </thead>\n",
              "  <tbody>\n",
              "    <tr>\n",
              "      <th>0</th>\n",
              "      <td>1303835</td>\n",
              "      <td>23</td>\n",
              "      <td>3</td>\n",
              "      <td>no</td>\n",
              "      <td>Mechanical_engineer</td>\n",
              "      <td>13</td>\n",
              "      <td>0</td>\n",
              "    </tr>\n",
              "    <tr>\n",
              "      <th>1</th>\n",
              "      <td>7574516</td>\n",
              "      <td>40</td>\n",
              "      <td>10</td>\n",
              "      <td>no</td>\n",
              "      <td>Software_Developer</td>\n",
              "      <td>13</td>\n",
              "      <td>0</td>\n",
              "    </tr>\n",
              "    <tr>\n",
              "      <th>2</th>\n",
              "      <td>3991815</td>\n",
              "      <td>66</td>\n",
              "      <td>4</td>\n",
              "      <td>no</td>\n",
              "      <td>Technical_writer</td>\n",
              "      <td>10</td>\n",
              "      <td>0</td>\n",
              "    </tr>\n",
              "    <tr>\n",
              "      <th>3</th>\n",
              "      <td>6256451</td>\n",
              "      <td>41</td>\n",
              "      <td>2</td>\n",
              "      <td>yes</td>\n",
              "      <td>Software_Developer</td>\n",
              "      <td>12</td>\n",
              "      <td>1</td>\n",
              "    </tr>\n",
              "    <tr>\n",
              "      <th>4</th>\n",
              "      <td>5768871</td>\n",
              "      <td>47</td>\n",
              "      <td>11</td>\n",
              "      <td>no</td>\n",
              "      <td>Civil_servant</td>\n",
              "      <td>14</td>\n",
              "      <td>1</td>\n",
              "    </tr>\n",
              "  </tbody>\n",
              "</table>\n",
              "</div>"
            ],
            "text/plain": [
              "    income  age  ...  current_house_years risk_flag\n",
              "0  1303835   23  ...                   13         0\n",
              "1  7574516   40  ...                   13         0\n",
              "2  3991815   66  ...                   10         0\n",
              "3  6256451   41  ...                   12         1\n",
              "4  5768871   47  ...                   14         1\n",
              "\n",
              "[5 rows x 7 columns]"
            ]
          },
          "metadata": {
            "tags": []
          },
          "execution_count": 25
        }
      ]
    },
    {
      "cell_type": "code",
      "metadata": {
        "colab": {
          "base_uri": "https://localhost:8080/",
          "height": 206
        },
        "id": "TqrxIBGgLR72",
        "outputId": "dfc01993-452e-4b73-a5a3-54658c7208d5"
      },
      "source": [
        "req_cols = list(ldnew.columns)\n",
        "req_cols.remove('risk_flag')\n",
        "ldnew_test = ldnew_test[req_cols]\n",
        "ldnew_test.head()"
      ],
      "execution_count": 26,
      "outputs": [
        {
          "output_type": "execute_result",
          "data": {
            "text/html": [
              "<div>\n",
              "<style scoped>\n",
              "    .dataframe tbody tr th:only-of-type {\n",
              "        vertical-align: middle;\n",
              "    }\n",
              "\n",
              "    .dataframe tbody tr th {\n",
              "        vertical-align: top;\n",
              "    }\n",
              "\n",
              "    .dataframe thead th {\n",
              "        text-align: right;\n",
              "    }\n",
              "</style>\n",
              "<table border=\"1\" class=\"dataframe\">\n",
              "  <thead>\n",
              "    <tr style=\"text-align: right;\">\n",
              "      <th></th>\n",
              "      <th>income</th>\n",
              "      <th>age</th>\n",
              "      <th>experience</th>\n",
              "      <th>car_ownership</th>\n",
              "      <th>profession</th>\n",
              "      <th>current_house_years</th>\n",
              "    </tr>\n",
              "  </thead>\n",
              "  <tbody>\n",
              "    <tr>\n",
              "      <th>0</th>\n",
              "      <td>7393090</td>\n",
              "      <td>59</td>\n",
              "      <td>19</td>\n",
              "      <td>no</td>\n",
              "      <td>Geologist</td>\n",
              "      <td>13</td>\n",
              "    </tr>\n",
              "    <tr>\n",
              "      <th>1</th>\n",
              "      <td>1215004</td>\n",
              "      <td>25</td>\n",
              "      <td>5</td>\n",
              "      <td>no</td>\n",
              "      <td>Firefighter</td>\n",
              "      <td>10</td>\n",
              "    </tr>\n",
              "    <tr>\n",
              "      <th>2</th>\n",
              "      <td>8901342</td>\n",
              "      <td>50</td>\n",
              "      <td>12</td>\n",
              "      <td>no</td>\n",
              "      <td>Lawyer</td>\n",
              "      <td>14</td>\n",
              "    </tr>\n",
              "    <tr>\n",
              "      <th>3</th>\n",
              "      <td>1944421</td>\n",
              "      <td>49</td>\n",
              "      <td>9</td>\n",
              "      <td>yes</td>\n",
              "      <td>Analyst</td>\n",
              "      <td>12</td>\n",
              "    </tr>\n",
              "    <tr>\n",
              "      <th>4</th>\n",
              "      <td>13429</td>\n",
              "      <td>25</td>\n",
              "      <td>18</td>\n",
              "      <td>yes</td>\n",
              "      <td>Comedian</td>\n",
              "      <td>11</td>\n",
              "    </tr>\n",
              "  </tbody>\n",
              "</table>\n",
              "</div>"
            ],
            "text/plain": [
              "    income  age  experience car_ownership   profession  current_house_years\n",
              "0  7393090   59          19            no    Geologist                   13\n",
              "1  1215004   25           5            no  Firefighter                   10\n",
              "2  8901342   50          12            no       Lawyer                   14\n",
              "3  1944421   49           9           yes      Analyst                   12\n",
              "4    13429   25          18           yes     Comedian                   11"
            ]
          },
          "metadata": {
            "tags": []
          },
          "execution_count": 26
        }
      ]
    },
    {
      "cell_type": "code",
      "metadata": {
        "colab": {
          "base_uri": "https://localhost:8080/",
          "height": 206
        },
        "id": "7ZEcRyZVLR-B",
        "outputId": "d69d2a86-a4fb-41c3-c508-a2cd55f137af"
      },
      "source": [
        "ldnew['profession'] = pd.factorize(ldnew['profession'])[0]\n",
        "ldnew.head()"
      ],
      "execution_count": 27,
      "outputs": [
        {
          "output_type": "execute_result",
          "data": {
            "text/html": [
              "<div>\n",
              "<style scoped>\n",
              "    .dataframe tbody tr th:only-of-type {\n",
              "        vertical-align: middle;\n",
              "    }\n",
              "\n",
              "    .dataframe tbody tr th {\n",
              "        vertical-align: top;\n",
              "    }\n",
              "\n",
              "    .dataframe thead th {\n",
              "        text-align: right;\n",
              "    }\n",
              "</style>\n",
              "<table border=\"1\" class=\"dataframe\">\n",
              "  <thead>\n",
              "    <tr style=\"text-align: right;\">\n",
              "      <th></th>\n",
              "      <th>income</th>\n",
              "      <th>age</th>\n",
              "      <th>experience</th>\n",
              "      <th>car_ownership</th>\n",
              "      <th>profession</th>\n",
              "      <th>current_house_years</th>\n",
              "      <th>risk_flag</th>\n",
              "    </tr>\n",
              "  </thead>\n",
              "  <tbody>\n",
              "    <tr>\n",
              "      <th>0</th>\n",
              "      <td>1303835</td>\n",
              "      <td>23</td>\n",
              "      <td>3</td>\n",
              "      <td>no</td>\n",
              "      <td>0</td>\n",
              "      <td>13</td>\n",
              "      <td>0</td>\n",
              "    </tr>\n",
              "    <tr>\n",
              "      <th>1</th>\n",
              "      <td>7574516</td>\n",
              "      <td>40</td>\n",
              "      <td>10</td>\n",
              "      <td>no</td>\n",
              "      <td>1</td>\n",
              "      <td>13</td>\n",
              "      <td>0</td>\n",
              "    </tr>\n",
              "    <tr>\n",
              "      <th>2</th>\n",
              "      <td>3991815</td>\n",
              "      <td>66</td>\n",
              "      <td>4</td>\n",
              "      <td>no</td>\n",
              "      <td>2</td>\n",
              "      <td>10</td>\n",
              "      <td>0</td>\n",
              "    </tr>\n",
              "    <tr>\n",
              "      <th>3</th>\n",
              "      <td>6256451</td>\n",
              "      <td>41</td>\n",
              "      <td>2</td>\n",
              "      <td>yes</td>\n",
              "      <td>1</td>\n",
              "      <td>12</td>\n",
              "      <td>1</td>\n",
              "    </tr>\n",
              "    <tr>\n",
              "      <th>4</th>\n",
              "      <td>5768871</td>\n",
              "      <td>47</td>\n",
              "      <td>11</td>\n",
              "      <td>no</td>\n",
              "      <td>3</td>\n",
              "      <td>14</td>\n",
              "      <td>1</td>\n",
              "    </tr>\n",
              "  </tbody>\n",
              "</table>\n",
              "</div>"
            ],
            "text/plain": [
              "    income  age  experience  ... profession  current_house_years  risk_flag\n",
              "0  1303835   23           3  ...          0                   13          0\n",
              "1  7574516   40          10  ...          1                   13          0\n",
              "2  3991815   66           4  ...          2                   10          0\n",
              "3  6256451   41           2  ...          1                   12          1\n",
              "4  5768871   47          11  ...          3                   14          1\n",
              "\n",
              "[5 rows x 7 columns]"
            ]
          },
          "metadata": {
            "tags": []
          },
          "execution_count": 27
        }
      ]
    },
    {
      "cell_type": "code",
      "metadata": {
        "colab": {
          "base_uri": "https://localhost:8080/",
          "height": 206
        },
        "id": "JNp1bwFEOGFZ",
        "outputId": "8b45eff9-7a05-426f-9211-3cd82a41a142"
      },
      "source": [
        "ldnew_test['profession'] = pd.factorize(ldnew_test['profession'])[0]\n",
        "ldnew_test.head()"
      ],
      "execution_count": 28,
      "outputs": [
        {
          "output_type": "execute_result",
          "data": {
            "text/html": [
              "<div>\n",
              "<style scoped>\n",
              "    .dataframe tbody tr th:only-of-type {\n",
              "        vertical-align: middle;\n",
              "    }\n",
              "\n",
              "    .dataframe tbody tr th {\n",
              "        vertical-align: top;\n",
              "    }\n",
              "\n",
              "    .dataframe thead th {\n",
              "        text-align: right;\n",
              "    }\n",
              "</style>\n",
              "<table border=\"1\" class=\"dataframe\">\n",
              "  <thead>\n",
              "    <tr style=\"text-align: right;\">\n",
              "      <th></th>\n",
              "      <th>income</th>\n",
              "      <th>age</th>\n",
              "      <th>experience</th>\n",
              "      <th>car_ownership</th>\n",
              "      <th>profession</th>\n",
              "      <th>current_house_years</th>\n",
              "    </tr>\n",
              "  </thead>\n",
              "  <tbody>\n",
              "    <tr>\n",
              "      <th>0</th>\n",
              "      <td>7393090</td>\n",
              "      <td>59</td>\n",
              "      <td>19</td>\n",
              "      <td>no</td>\n",
              "      <td>0</td>\n",
              "      <td>13</td>\n",
              "    </tr>\n",
              "    <tr>\n",
              "      <th>1</th>\n",
              "      <td>1215004</td>\n",
              "      <td>25</td>\n",
              "      <td>5</td>\n",
              "      <td>no</td>\n",
              "      <td>1</td>\n",
              "      <td>10</td>\n",
              "    </tr>\n",
              "    <tr>\n",
              "      <th>2</th>\n",
              "      <td>8901342</td>\n",
              "      <td>50</td>\n",
              "      <td>12</td>\n",
              "      <td>no</td>\n",
              "      <td>2</td>\n",
              "      <td>14</td>\n",
              "    </tr>\n",
              "    <tr>\n",
              "      <th>3</th>\n",
              "      <td>1944421</td>\n",
              "      <td>49</td>\n",
              "      <td>9</td>\n",
              "      <td>yes</td>\n",
              "      <td>3</td>\n",
              "      <td>12</td>\n",
              "    </tr>\n",
              "    <tr>\n",
              "      <th>4</th>\n",
              "      <td>13429</td>\n",
              "      <td>25</td>\n",
              "      <td>18</td>\n",
              "      <td>yes</td>\n",
              "      <td>4</td>\n",
              "      <td>11</td>\n",
              "    </tr>\n",
              "  </tbody>\n",
              "</table>\n",
              "</div>"
            ],
            "text/plain": [
              "    income  age  experience car_ownership  profession  current_house_years\n",
              "0  7393090   59          19            no           0                   13\n",
              "1  1215004   25           5            no           1                   10\n",
              "2  8901342   50          12            no           2                   14\n",
              "3  1944421   49           9           yes           3                   12\n",
              "4    13429   25          18           yes           4                   11"
            ]
          },
          "metadata": {
            "tags": []
          },
          "execution_count": 28
        }
      ]
    },
    {
      "cell_type": "code",
      "metadata": {
        "id": "cgbf3tdHOVjx"
      },
      "source": [
        "ldnew['car_ownership'] = pd.factorize(ldnew['car_ownership'])[0]\n",
        "ldnew_test['car_ownership'] = pd.factorize(ldnew_test['car_ownership'])[0]"
      ],
      "execution_count": 29,
      "outputs": []
    },
    {
      "cell_type": "code",
      "metadata": {
        "colab": {
          "base_uri": "https://localhost:8080/",
          "height": 206
        },
        "id": "l67oIVntOeCL",
        "outputId": "1087d247-4e82-435d-bc90-30111aabe20e"
      },
      "source": [
        "ldnew.head()\n",
        "ldnew_test.head()"
      ],
      "execution_count": 30,
      "outputs": [
        {
          "output_type": "execute_result",
          "data": {
            "text/html": [
              "<div>\n",
              "<style scoped>\n",
              "    .dataframe tbody tr th:only-of-type {\n",
              "        vertical-align: middle;\n",
              "    }\n",
              "\n",
              "    .dataframe tbody tr th {\n",
              "        vertical-align: top;\n",
              "    }\n",
              "\n",
              "    .dataframe thead th {\n",
              "        text-align: right;\n",
              "    }\n",
              "</style>\n",
              "<table border=\"1\" class=\"dataframe\">\n",
              "  <thead>\n",
              "    <tr style=\"text-align: right;\">\n",
              "      <th></th>\n",
              "      <th>income</th>\n",
              "      <th>age</th>\n",
              "      <th>experience</th>\n",
              "      <th>car_ownership</th>\n",
              "      <th>profession</th>\n",
              "      <th>current_house_years</th>\n",
              "    </tr>\n",
              "  </thead>\n",
              "  <tbody>\n",
              "    <tr>\n",
              "      <th>0</th>\n",
              "      <td>7393090</td>\n",
              "      <td>59</td>\n",
              "      <td>19</td>\n",
              "      <td>0</td>\n",
              "      <td>0</td>\n",
              "      <td>13</td>\n",
              "    </tr>\n",
              "    <tr>\n",
              "      <th>1</th>\n",
              "      <td>1215004</td>\n",
              "      <td>25</td>\n",
              "      <td>5</td>\n",
              "      <td>0</td>\n",
              "      <td>1</td>\n",
              "      <td>10</td>\n",
              "    </tr>\n",
              "    <tr>\n",
              "      <th>2</th>\n",
              "      <td>8901342</td>\n",
              "      <td>50</td>\n",
              "      <td>12</td>\n",
              "      <td>0</td>\n",
              "      <td>2</td>\n",
              "      <td>14</td>\n",
              "    </tr>\n",
              "    <tr>\n",
              "      <th>3</th>\n",
              "      <td>1944421</td>\n",
              "      <td>49</td>\n",
              "      <td>9</td>\n",
              "      <td>1</td>\n",
              "      <td>3</td>\n",
              "      <td>12</td>\n",
              "    </tr>\n",
              "    <tr>\n",
              "      <th>4</th>\n",
              "      <td>13429</td>\n",
              "      <td>25</td>\n",
              "      <td>18</td>\n",
              "      <td>1</td>\n",
              "      <td>4</td>\n",
              "      <td>11</td>\n",
              "    </tr>\n",
              "  </tbody>\n",
              "</table>\n",
              "</div>"
            ],
            "text/plain": [
              "    income  age  experience  car_ownership  profession  current_house_years\n",
              "0  7393090   59          19              0           0                   13\n",
              "1  1215004   25           5              0           1                   10\n",
              "2  8901342   50          12              0           2                   14\n",
              "3  1944421   49           9              1           3                   12\n",
              "4    13429   25          18              1           4                   11"
            ]
          },
          "metadata": {
            "tags": []
          },
          "execution_count": 30
        }
      ]
    },
    {
      "cell_type": "markdown",
      "metadata": {
        "id": "mTFOezTbP9Ku"
      },
      "source": [
        "#Lets split x,y, and train,test sets"
      ]
    },
    {
      "cell_type": "code",
      "metadata": {
        "id": "9YVyNe8zP9Oc"
      },
      "source": [
        "X = ldnew.drop('risk_flag',axis=1)\n",
        "Y = ldnew['risk_flag']\n",
        "xtrain,xtest,ytrain,ytest = train_test_split(X,Y,random_state=31)"
      ],
      "execution_count": 31,
      "outputs": []
    },
    {
      "cell_type": "code",
      "metadata": {
        "colab": {
          "base_uri": "https://localhost:8080/"
        },
        "id": "WuszSeExRGdT",
        "outputId": "a3fbe03d-3075-43a4-dcbc-f4a24461a512"
      },
      "source": [
        "xtrain.shape\n",
        "ytrain.shape"
      ],
      "execution_count": 32,
      "outputs": [
        {
          "output_type": "execute_result",
          "data": {
            "text/plain": [
              "(189000,)"
            ]
          },
          "metadata": {
            "tags": []
          },
          "execution_count": 32
        }
      ]
    },
    {
      "cell_type": "code",
      "metadata": {
        "colab": {
          "base_uri": "https://localhost:8080/"
        },
        "id": "PAimVFn5P9Rj",
        "outputId": "c0d44438-48de-4f62-fb2a-9543b1c70080"
      },
      "source": [
        "from sklearn.neighbors import KNeighborsClassifier\n",
        "from sklearn.model_selection import cross_val_score\n",
        "\n",
        "knn = KNeighborsClassifier(n_neighbors=17)\n",
        "scores = cross_val_score(knn,xtrain,ytrain,scoring='roc_auc')\n",
        "scores"
      ],
      "execution_count": null,
      "outputs": [
        {
          "output_type": "execute_result",
          "data": {
            "text/plain": [
              "array([0.88926524, 0.88983529, 0.88727405, 0.88874174, 0.88614783])"
            ]
          },
          "metadata": {
            "tags": []
          },
          "execution_count": 35
        }
      ]
    },
    {
      "cell_type": "code",
      "metadata": {
        "colab": {
          "base_uri": "https://localhost:8080/"
        },
        "id": "zDxGxFWYniZX",
        "outputId": "0a065fd4-c116-412a-ea65-027ec41e6499"
      },
      "source": [
        "knn = KNeighborsClassifier(n_neighbors=17)\n",
        "knn.fit(xtrain,ytrain)\n",
        "ypred = knn.predict(xtest)\n",
        "roc_auc_score(ytest,ypred)"
      ],
      "execution_count": null,
      "outputs": [
        {
          "output_type": "execute_result",
          "data": {
            "text/plain": [
              "0.7518123603783472"
            ]
          },
          "metadata": {
            "tags": []
          },
          "execution_count": 49
        }
      ]
    },
    {
      "cell_type": "code",
      "metadata": {
        "colab": {
          "base_uri": "https://localhost:8080/"
        },
        "id": "WNUYone_Qszd",
        "outputId": "20ea883a-1525-43d8-ccc6-8b4138a3178e"
      },
      "source": [
        "from sklearn.svm import LinearSVC\n",
        "lsvc = LinearSVC()\n",
        "scores = cross_val_score(lsvc,xtrain,ytrain,scoring='roc_auc')\n",
        "scores"
      ],
      "execution_count": null,
      "outputs": [
        {
          "output_type": "stream",
          "text": [
            "/usr/local/lib/python3.7/dist-packages/sklearn/svm/_base.py:947: ConvergenceWarning: Liblinear failed to converge, increase the number of iterations.\n",
            "  \"the number of iterations.\", ConvergenceWarning)\n",
            "/usr/local/lib/python3.7/dist-packages/sklearn/svm/_base.py:947: ConvergenceWarning: Liblinear failed to converge, increase the number of iterations.\n",
            "  \"the number of iterations.\", ConvergenceWarning)\n",
            "/usr/local/lib/python3.7/dist-packages/sklearn/svm/_base.py:947: ConvergenceWarning: Liblinear failed to converge, increase the number of iterations.\n",
            "  \"the number of iterations.\", ConvergenceWarning)\n",
            "/usr/local/lib/python3.7/dist-packages/sklearn/svm/_base.py:947: ConvergenceWarning: Liblinear failed to converge, increase the number of iterations.\n",
            "  \"the number of iterations.\", ConvergenceWarning)\n",
            "/usr/local/lib/python3.7/dist-packages/sklearn/svm/_base.py:947: ConvergenceWarning: Liblinear failed to converge, increase the number of iterations.\n",
            "  \"the number of iterations.\", ConvergenceWarning)\n"
          ],
          "name": "stderr"
        },
        {
          "output_type": "execute_result",
          "data": {
            "text/plain": [
              "array([0.5133791 , 0.49710718, 0.52552606, 0.50251254, 0.49826398])"
            ]
          },
          "metadata": {
            "tags": []
          },
          "execution_count": 72
        }
      ]
    },
    {
      "cell_type": "code",
      "metadata": {
        "colab": {
          "base_uri": "https://localhost:8080/"
        },
        "id": "RUSI8qt6UROI",
        "outputId": "ec46f159-8dd7-4bc5-da39-e103c46c6bfd"
      },
      "source": [
        "from sklearn.svm import SVC\n",
        "svc = SVC()\n",
        "scores = cross_val_score(svc,xtrain,ytrain,scoring='roc_auc')\n",
        "scores"
      ],
      "execution_count": null,
      "outputs": [
        {
          "output_type": "execute_result",
          "data": {
            "text/plain": [
              "array([0.50657365, 0.49730831, 0.50552217, 0.50592456, 0.49458117])"
            ]
          },
          "metadata": {
            "tags": []
          },
          "execution_count": 73
        }
      ]
    },
    {
      "cell_type": "code",
      "metadata": {
        "id": "VmxtgQKVWQOP"
      },
      "source": [
        "from sklearn.svm import SVC\n",
        "rvc = SVC()\n",
        "#scores = cross_val_score(svc,xtrain,ytrain,scoring='roc_auc')\n",
        "#scores"
      ],
      "execution_count": null,
      "outputs": []
    },
    {
      "cell_type": "markdown",
      "metadata": {
        "id": "3sp0nQxdWQSs"
      },
      "source": [
        "#Lets try Randomforest and check"
      ]
    },
    {
      "cell_type": "code",
      "metadata": {
        "colab": {
          "base_uri": "https://localhost:8080/"
        },
        "id": "01OAiZXUe5Qt",
        "outputId": "bda9155c-2db7-4a80-fac4-923e85218fab"
      },
      "source": [
        "from sklearn.tree import DecisionTreeClassifier\n",
        "DT = DecisionTreeClassifier()\n",
        "scores = cross_val_score(DT,xtrain,ytrain,scoring='roc_auc')\n",
        "scores"
      ],
      "execution_count": null,
      "outputs": [
        {
          "output_type": "execute_result",
          "data": {
            "text/plain": [
              "array([0.85027658, 0.85273439, 0.8511127 , 0.85563288, 0.84958367])"
            ]
          },
          "metadata": {
            "tags": []
          },
          "execution_count": 36
        }
      ]
    },
    {
      "cell_type": "code",
      "metadata": {
        "id": "DyUHbiQIe5VD"
      },
      "source": [
        "lst = []\n",
        "for x in range(20,60):\n",
        "  DT =DecisionTreeClassifier(max_depth=x)\n",
        "  DT.fit(xtrain,ytrain)\n",
        "  ypred = DT.predict(xtest)\n",
        "  lst.append((x,roc_auc_score(ytest,ypred)))"
      ],
      "execution_count": null,
      "outputs": []
    },
    {
      "cell_type": "code",
      "metadata": {
        "colab": {
          "base_uri": "https://localhost:8080/"
        },
        "id": "nGsXupvBe5Ym",
        "outputId": "b360bc04-1456-4217-d53d-5141928fd238"
      },
      "source": [
        "lst"
      ],
      "execution_count": null,
      "outputs": [
        {
          "output_type": "execute_result",
          "data": {
            "text/plain": [
              "[(20, 0.7068534167454591),\n",
              " (21, 0.7200574790613992),\n",
              " (22, 0.7264379565023399),\n",
              " (23, 0.7303377000173414),\n",
              " (24, 0.7387348354921788),\n",
              " (25, 0.7414342480025359),\n",
              " (26, 0.746709863585805),\n",
              " (27, 0.7454629512202052),\n",
              " (28, 0.748730955432264),\n",
              " (29, 0.7519889546040993),\n",
              " (30, 0.7511712795273222),\n",
              " (31, 0.7529269323908457),\n",
              " (32, 0.7532774458105432),\n",
              " (33, 0.7531273070174657),\n",
              " (34, 0.7526153017169429),\n",
              " (35, 0.7528351177164597),\n",
              " (36, 0.752198765563393),\n",
              " (37, 0.752830115196348),\n",
              " (38, 0.753101515076932),\n",
              " (39, 0.7531042111719818),\n",
              " (40, 0.7528622577045181),\n",
              " (41, 0.7525827695387851),\n",
              " (42, 0.7529242362957962),\n",
              " (43, 0.7523063671380894),\n",
              " (44, 0.7520191803571952),\n",
              " (45, 0.7534262365560958),\n",
              " (46, 0.7524135790427983),\n",
              " (47, 0.7531756260959338),\n",
              " (48, 0.7532878405207541),\n",
              " (49, 0.7532724432904314),\n",
              " (50, 0.7528753485097787),\n",
              " (51, 0.7534986098575849),\n",
              " (52, 0.7531390497752014),\n",
              " (53, 0.7531765844734708),\n",
              " (54, 0.7523294629835734),\n",
              " (55, 0.7527613963674459),\n",
              " (56, 0.75274965360971),\n",
              " (57, 0.7526283925222034),\n",
              " (58, 0.7528206788636743),\n",
              " (59, 0.7525402323204041)]"
            ]
          },
          "metadata": {
            "tags": []
          },
          "execution_count": 44
        }
      ]
    },
    {
      "cell_type": "code",
      "metadata": {
        "colab": {
          "base_uri": "https://localhost:8080/"
        },
        "id": "Moi1KPPNlRlz",
        "outputId": "98c9e075-6457-4e88-a1f6-44da3699b496"
      },
      "source": [
        "from sklearn.linear_model import LogisticRegression\n",
        "from sklearn.model_selection import cross_val_score\n",
        "log_mod = LogisticRegression()\n",
        "scores = cross_val_score(log_mod,xtrain,ytrain,scoring='roc_auc')\n",
        "scores"
      ],
      "execution_count": null,
      "outputs": [
        {
          "output_type": "execute_result",
          "data": {
            "text/plain": [
              "array([0.50810495, 0.51314066, 0.50969233, 0.50441404, 0.49794459])"
            ]
          },
          "metadata": {
            "tags": []
          },
          "execution_count": 45
        }
      ]
    },
    {
      "cell_type": "code",
      "metadata": {
        "colab": {
          "base_uri": "https://localhost:8080/"
        },
        "id": "eF8-pK13mbYf",
        "outputId": "c03aea7c-ad74-4866-81ea-d15fe1bf1e05"
      },
      "source": [
        "from sklearn.ensemble import RandomForestClassifier\n",
        "RF = RandomForestClassifier(max_features = 0.5,n_estimators=100)\n",
        "scores = cross_val_score(RF,xtrain,ytrain,scoring='roc_auc')\n",
        "scores"
      ],
      "execution_count": null,
      "outputs": [
        {
          "output_type": "execute_result",
          "data": {
            "text/plain": [
              "array([0.93634723, 0.93602928, 0.93588897, 0.93871755, 0.93618397])"
            ]
          },
          "metadata": {
            "tags": []
          },
          "execution_count": 47
        }
      ]
    },
    {
      "cell_type": "code",
      "metadata": {
        "colab": {
          "base_uri": "https://localhost:8080/",
          "height": 978
        },
        "id": "TOX-04nXmsn5",
        "outputId": "2563dbe0-65f4-4b94-f8bb-65bb861989c2"
      },
      "source": [
        "for x in range(20,61,5):\n",
        "  for i in np.arange(0.1,1,0.2):\n",
        "    rf = RandomForestClassifier(max_features = i,max_depth=x)\n",
        "    rf.fit(xtrain,ytrain)\n",
        "    ypred = rf.predict(xtest)\n",
        "    print(x,i,roc_auc_score(ytest,ypred))"
      ],
      "execution_count": null,
      "outputs": [
        {
          "output_type": "stream",
          "text": [
            "20 0.1 0.6822726863813141\n",
            "20 0.30000000000000004 0.6825363876467369\n",
            "20 0.5000000000000001 0.6717281954523996\n",
            "20 0.7000000000000001 0.6728005251319132\n",
            "20 0.9000000000000001 0.6675551353017397\n",
            "25 0.1 0.73513584348629\n",
            "25 0.30000000000000004 0.7377992483834646\n",
            "25 0.5000000000000001 0.7189910154949427\n",
            "25 0.7000000000000001 0.7189548288441981\n",
            "25 0.9000000000000001 0.717463266916085\n",
            "30 0.1 0.7474119330557072\n",
            "30 0.30000000000000004 0.7482097770895995\n",
            "30 0.5000000000000001 0.7459729133861984\n",
            "30 0.7000000000000001 0.7419070651402472\n",
            "30 0.9000000000000001 0.737917244668372\n",
            "35 0.1 0.7483183370418331\n",
            "35 0.30000000000000004 0.7483431706048295\n",
            "35 0.5000000000000001 0.7493236856099571\n",
            "35 0.7000000000000001 0.7481749384863797\n",
            "35 0.9000000000000001 0.7470741207712828\n",
            "40 0.1 0.7475553316111605\n",
            "40 0.30000000000000004 0.7482346106525959\n",
            "40 0.5000000000000001 0.7493806616811235\n",
            "40 0.7000000000000001 0.7496886378824399\n",
            "40 0.9000000000000001 0.7482088187120622\n",
            "45 0.1 0.7469226339306806\n",
            "45 0.30000000000000004 0.7491102201780767\n",
            "45 0.5000000000000001 0.7489627774800488\n",
            "45 0.7000000000000001 0.7468321673038193\n",
            "45 0.9000000000000001 0.7464907005468081\n",
            "50 0.1 0.7463754003569503\n",
            "50 0.30000000000000004 0.7482201717998105\n"
          ],
          "name": "stdout"
        },
        {
          "output_type": "error",
          "ename": "KeyboardInterrupt",
          "evalue": "ignored",
          "traceback": [
            "\u001b[0;31m---------------------------------------------------------------------------\u001b[0m",
            "\u001b[0;31mKeyboardInterrupt\u001b[0m                         Traceback (most recent call last)",
            "\u001b[0;32m<ipython-input-68-8cd547bc3276>\u001b[0m in \u001b[0;36m<module>\u001b[0;34m()\u001b[0m\n\u001b[1;32m      2\u001b[0m   \u001b[0;32mfor\u001b[0m \u001b[0mi\u001b[0m \u001b[0;32min\u001b[0m \u001b[0mnp\u001b[0m\u001b[0;34m.\u001b[0m\u001b[0marange\u001b[0m\u001b[0;34m(\u001b[0m\u001b[0;36m0.1\u001b[0m\u001b[0;34m,\u001b[0m\u001b[0;36m1\u001b[0m\u001b[0;34m,\u001b[0m\u001b[0;36m0.2\u001b[0m\u001b[0;34m)\u001b[0m\u001b[0;34m:\u001b[0m\u001b[0;34m\u001b[0m\u001b[0;34m\u001b[0m\u001b[0m\n\u001b[1;32m      3\u001b[0m     \u001b[0mrf\u001b[0m \u001b[0;34m=\u001b[0m \u001b[0mRandomForestClassifier\u001b[0m\u001b[0;34m(\u001b[0m\u001b[0mmax_features\u001b[0m \u001b[0;34m=\u001b[0m \u001b[0mi\u001b[0m\u001b[0;34m,\u001b[0m\u001b[0mmax_depth\u001b[0m\u001b[0;34m=\u001b[0m\u001b[0mx\u001b[0m\u001b[0;34m)\u001b[0m\u001b[0;34m\u001b[0m\u001b[0;34m\u001b[0m\u001b[0m\n\u001b[0;32m----> 4\u001b[0;31m     \u001b[0mrf\u001b[0m\u001b[0;34m.\u001b[0m\u001b[0mfit\u001b[0m\u001b[0;34m(\u001b[0m\u001b[0mxtrain\u001b[0m\u001b[0;34m,\u001b[0m\u001b[0mytrain\u001b[0m\u001b[0;34m)\u001b[0m\u001b[0;34m\u001b[0m\u001b[0;34m\u001b[0m\u001b[0m\n\u001b[0m\u001b[1;32m      5\u001b[0m     \u001b[0mypred\u001b[0m \u001b[0;34m=\u001b[0m \u001b[0mrf\u001b[0m\u001b[0;34m.\u001b[0m\u001b[0mpredict\u001b[0m\u001b[0;34m(\u001b[0m\u001b[0mxtest\u001b[0m\u001b[0;34m)\u001b[0m\u001b[0;34m\u001b[0m\u001b[0;34m\u001b[0m\u001b[0m\n\u001b[1;32m      6\u001b[0m     \u001b[0mprint\u001b[0m\u001b[0;34m(\u001b[0m\u001b[0mx\u001b[0m\u001b[0;34m,\u001b[0m\u001b[0mi\u001b[0m\u001b[0;34m,\u001b[0m\u001b[0mroc_auc_score\u001b[0m\u001b[0;34m(\u001b[0m\u001b[0mytest\u001b[0m\u001b[0;34m,\u001b[0m\u001b[0mypred\u001b[0m\u001b[0;34m)\u001b[0m\u001b[0;34m)\u001b[0m\u001b[0;34m\u001b[0m\u001b[0;34m\u001b[0m\u001b[0m\n",
            "\u001b[0;32m/usr/local/lib/python3.7/dist-packages/sklearn/ensemble/_forest.py\u001b[0m in \u001b[0;36mfit\u001b[0;34m(self, X, y, sample_weight)\u001b[0m\n\u001b[1;32m    381\u001b[0m                     \u001b[0mverbose\u001b[0m\u001b[0;34m=\u001b[0m\u001b[0mself\u001b[0m\u001b[0;34m.\u001b[0m\u001b[0mverbose\u001b[0m\u001b[0;34m,\u001b[0m \u001b[0mclass_weight\u001b[0m\u001b[0;34m=\u001b[0m\u001b[0mself\u001b[0m\u001b[0;34m.\u001b[0m\u001b[0mclass_weight\u001b[0m\u001b[0;34m,\u001b[0m\u001b[0;34m\u001b[0m\u001b[0;34m\u001b[0m\u001b[0m\n\u001b[1;32m    382\u001b[0m                     n_samples_bootstrap=n_samples_bootstrap)\n\u001b[0;32m--> 383\u001b[0;31m                 for i, t in enumerate(trees))\n\u001b[0m\u001b[1;32m    384\u001b[0m \u001b[0;34m\u001b[0m\u001b[0m\n\u001b[1;32m    385\u001b[0m             \u001b[0;31m# Collect newly grown trees\u001b[0m\u001b[0;34m\u001b[0m\u001b[0;34m\u001b[0m\u001b[0;34m\u001b[0m\u001b[0m\n",
            "\u001b[0;32m/usr/local/lib/python3.7/dist-packages/joblib/parallel.py\u001b[0m in \u001b[0;36m__call__\u001b[0;34m(self, iterable)\u001b[0m\n\u001b[1;32m   1042\u001b[0m                 \u001b[0mself\u001b[0m\u001b[0;34m.\u001b[0m\u001b[0m_iterating\u001b[0m \u001b[0;34m=\u001b[0m \u001b[0mself\u001b[0m\u001b[0;34m.\u001b[0m\u001b[0m_original_iterator\u001b[0m \u001b[0;32mis\u001b[0m \u001b[0;32mnot\u001b[0m \u001b[0;32mNone\u001b[0m\u001b[0;34m\u001b[0m\u001b[0;34m\u001b[0m\u001b[0m\n\u001b[1;32m   1043\u001b[0m \u001b[0;34m\u001b[0m\u001b[0m\n\u001b[0;32m-> 1044\u001b[0;31m             \u001b[0;32mwhile\u001b[0m \u001b[0mself\u001b[0m\u001b[0;34m.\u001b[0m\u001b[0mdispatch_one_batch\u001b[0m\u001b[0;34m(\u001b[0m\u001b[0miterator\u001b[0m\u001b[0;34m)\u001b[0m\u001b[0;34m:\u001b[0m\u001b[0;34m\u001b[0m\u001b[0;34m\u001b[0m\u001b[0m\n\u001b[0m\u001b[1;32m   1045\u001b[0m                 \u001b[0;32mpass\u001b[0m\u001b[0;34m\u001b[0m\u001b[0;34m\u001b[0m\u001b[0m\n\u001b[1;32m   1046\u001b[0m \u001b[0;34m\u001b[0m\u001b[0m\n",
            "\u001b[0;32m/usr/local/lib/python3.7/dist-packages/joblib/parallel.py\u001b[0m in \u001b[0;36mdispatch_one_batch\u001b[0;34m(self, iterator)\u001b[0m\n\u001b[1;32m    857\u001b[0m                 \u001b[0;32mreturn\u001b[0m \u001b[0;32mFalse\u001b[0m\u001b[0;34m\u001b[0m\u001b[0;34m\u001b[0m\u001b[0m\n\u001b[1;32m    858\u001b[0m             \u001b[0;32melse\u001b[0m\u001b[0;34m:\u001b[0m\u001b[0;34m\u001b[0m\u001b[0;34m\u001b[0m\u001b[0m\n\u001b[0;32m--> 859\u001b[0;31m                 \u001b[0mself\u001b[0m\u001b[0;34m.\u001b[0m\u001b[0m_dispatch\u001b[0m\u001b[0;34m(\u001b[0m\u001b[0mtasks\u001b[0m\u001b[0;34m)\u001b[0m\u001b[0;34m\u001b[0m\u001b[0;34m\u001b[0m\u001b[0m\n\u001b[0m\u001b[1;32m    860\u001b[0m                 \u001b[0;32mreturn\u001b[0m \u001b[0;32mTrue\u001b[0m\u001b[0;34m\u001b[0m\u001b[0;34m\u001b[0m\u001b[0m\n\u001b[1;32m    861\u001b[0m \u001b[0;34m\u001b[0m\u001b[0m\n",
            "\u001b[0;32m/usr/local/lib/python3.7/dist-packages/joblib/parallel.py\u001b[0m in \u001b[0;36m_dispatch\u001b[0;34m(self, batch)\u001b[0m\n\u001b[1;32m    775\u001b[0m         \u001b[0;32mwith\u001b[0m \u001b[0mself\u001b[0m\u001b[0;34m.\u001b[0m\u001b[0m_lock\u001b[0m\u001b[0;34m:\u001b[0m\u001b[0;34m\u001b[0m\u001b[0;34m\u001b[0m\u001b[0m\n\u001b[1;32m    776\u001b[0m             \u001b[0mjob_idx\u001b[0m \u001b[0;34m=\u001b[0m \u001b[0mlen\u001b[0m\u001b[0;34m(\u001b[0m\u001b[0mself\u001b[0m\u001b[0;34m.\u001b[0m\u001b[0m_jobs\u001b[0m\u001b[0;34m)\u001b[0m\u001b[0;34m\u001b[0m\u001b[0;34m\u001b[0m\u001b[0m\n\u001b[0;32m--> 777\u001b[0;31m             \u001b[0mjob\u001b[0m \u001b[0;34m=\u001b[0m \u001b[0mself\u001b[0m\u001b[0;34m.\u001b[0m\u001b[0m_backend\u001b[0m\u001b[0;34m.\u001b[0m\u001b[0mapply_async\u001b[0m\u001b[0;34m(\u001b[0m\u001b[0mbatch\u001b[0m\u001b[0;34m,\u001b[0m \u001b[0mcallback\u001b[0m\u001b[0;34m=\u001b[0m\u001b[0mcb\u001b[0m\u001b[0;34m)\u001b[0m\u001b[0;34m\u001b[0m\u001b[0;34m\u001b[0m\u001b[0m\n\u001b[0m\u001b[1;32m    778\u001b[0m             \u001b[0;31m# A job can complete so quickly than its callback is\u001b[0m\u001b[0;34m\u001b[0m\u001b[0;34m\u001b[0m\u001b[0;34m\u001b[0m\u001b[0m\n\u001b[1;32m    779\u001b[0m             \u001b[0;31m# called before we get here, causing self._jobs to\u001b[0m\u001b[0;34m\u001b[0m\u001b[0;34m\u001b[0m\u001b[0;34m\u001b[0m\u001b[0m\n",
            "\u001b[0;32m/usr/local/lib/python3.7/dist-packages/joblib/_parallel_backends.py\u001b[0m in \u001b[0;36mapply_async\u001b[0;34m(self, func, callback)\u001b[0m\n\u001b[1;32m    206\u001b[0m     \u001b[0;32mdef\u001b[0m \u001b[0mapply_async\u001b[0m\u001b[0;34m(\u001b[0m\u001b[0mself\u001b[0m\u001b[0;34m,\u001b[0m \u001b[0mfunc\u001b[0m\u001b[0;34m,\u001b[0m \u001b[0mcallback\u001b[0m\u001b[0;34m=\u001b[0m\u001b[0;32mNone\u001b[0m\u001b[0;34m)\u001b[0m\u001b[0;34m:\u001b[0m\u001b[0;34m\u001b[0m\u001b[0;34m\u001b[0m\u001b[0m\n\u001b[1;32m    207\u001b[0m         \u001b[0;34m\"\"\"Schedule a func to be run\"\"\"\u001b[0m\u001b[0;34m\u001b[0m\u001b[0;34m\u001b[0m\u001b[0m\n\u001b[0;32m--> 208\u001b[0;31m         \u001b[0mresult\u001b[0m \u001b[0;34m=\u001b[0m \u001b[0mImmediateResult\u001b[0m\u001b[0;34m(\u001b[0m\u001b[0mfunc\u001b[0m\u001b[0;34m)\u001b[0m\u001b[0;34m\u001b[0m\u001b[0;34m\u001b[0m\u001b[0m\n\u001b[0m\u001b[1;32m    209\u001b[0m         \u001b[0;32mif\u001b[0m \u001b[0mcallback\u001b[0m\u001b[0;34m:\u001b[0m\u001b[0;34m\u001b[0m\u001b[0;34m\u001b[0m\u001b[0m\n\u001b[1;32m    210\u001b[0m             \u001b[0mcallback\u001b[0m\u001b[0;34m(\u001b[0m\u001b[0mresult\u001b[0m\u001b[0;34m)\u001b[0m\u001b[0;34m\u001b[0m\u001b[0;34m\u001b[0m\u001b[0m\n",
            "\u001b[0;32m/usr/local/lib/python3.7/dist-packages/joblib/_parallel_backends.py\u001b[0m in \u001b[0;36m__init__\u001b[0;34m(self, batch)\u001b[0m\n\u001b[1;32m    570\u001b[0m         \u001b[0;31m# Don't delay the application, to avoid keeping the input\u001b[0m\u001b[0;34m\u001b[0m\u001b[0;34m\u001b[0m\u001b[0;34m\u001b[0m\u001b[0m\n\u001b[1;32m    571\u001b[0m         \u001b[0;31m# arguments in memory\u001b[0m\u001b[0;34m\u001b[0m\u001b[0;34m\u001b[0m\u001b[0;34m\u001b[0m\u001b[0m\n\u001b[0;32m--> 572\u001b[0;31m         \u001b[0mself\u001b[0m\u001b[0;34m.\u001b[0m\u001b[0mresults\u001b[0m \u001b[0;34m=\u001b[0m \u001b[0mbatch\u001b[0m\u001b[0;34m(\u001b[0m\u001b[0;34m)\u001b[0m\u001b[0;34m\u001b[0m\u001b[0;34m\u001b[0m\u001b[0m\n\u001b[0m\u001b[1;32m    573\u001b[0m \u001b[0;34m\u001b[0m\u001b[0m\n\u001b[1;32m    574\u001b[0m     \u001b[0;32mdef\u001b[0m \u001b[0mget\u001b[0m\u001b[0;34m(\u001b[0m\u001b[0mself\u001b[0m\u001b[0;34m)\u001b[0m\u001b[0;34m:\u001b[0m\u001b[0;34m\u001b[0m\u001b[0;34m\u001b[0m\u001b[0m\n",
            "\u001b[0;32m/usr/local/lib/python3.7/dist-packages/joblib/parallel.py\u001b[0m in \u001b[0;36m__call__\u001b[0;34m(self)\u001b[0m\n\u001b[1;32m    261\u001b[0m         \u001b[0;32mwith\u001b[0m \u001b[0mparallel_backend\u001b[0m\u001b[0;34m(\u001b[0m\u001b[0mself\u001b[0m\u001b[0;34m.\u001b[0m\u001b[0m_backend\u001b[0m\u001b[0;34m,\u001b[0m \u001b[0mn_jobs\u001b[0m\u001b[0;34m=\u001b[0m\u001b[0mself\u001b[0m\u001b[0;34m.\u001b[0m\u001b[0m_n_jobs\u001b[0m\u001b[0;34m)\u001b[0m\u001b[0;34m:\u001b[0m\u001b[0;34m\u001b[0m\u001b[0;34m\u001b[0m\u001b[0m\n\u001b[1;32m    262\u001b[0m             return [func(*args, **kwargs)\n\u001b[0;32m--> 263\u001b[0;31m                     for func, args, kwargs in self.items]\n\u001b[0m\u001b[1;32m    264\u001b[0m \u001b[0;34m\u001b[0m\u001b[0m\n\u001b[1;32m    265\u001b[0m     \u001b[0;32mdef\u001b[0m \u001b[0m__reduce__\u001b[0m\u001b[0;34m(\u001b[0m\u001b[0mself\u001b[0m\u001b[0;34m)\u001b[0m\u001b[0;34m:\u001b[0m\u001b[0;34m\u001b[0m\u001b[0;34m\u001b[0m\u001b[0m\n",
            "\u001b[0;32m/usr/local/lib/python3.7/dist-packages/joblib/parallel.py\u001b[0m in \u001b[0;36m<listcomp>\u001b[0;34m(.0)\u001b[0m\n\u001b[1;32m    261\u001b[0m         \u001b[0;32mwith\u001b[0m \u001b[0mparallel_backend\u001b[0m\u001b[0;34m(\u001b[0m\u001b[0mself\u001b[0m\u001b[0;34m.\u001b[0m\u001b[0m_backend\u001b[0m\u001b[0;34m,\u001b[0m \u001b[0mn_jobs\u001b[0m\u001b[0;34m=\u001b[0m\u001b[0mself\u001b[0m\u001b[0;34m.\u001b[0m\u001b[0m_n_jobs\u001b[0m\u001b[0;34m)\u001b[0m\u001b[0;34m:\u001b[0m\u001b[0;34m\u001b[0m\u001b[0;34m\u001b[0m\u001b[0m\n\u001b[1;32m    262\u001b[0m             return [func(*args, **kwargs)\n\u001b[0;32m--> 263\u001b[0;31m                     for func, args, kwargs in self.items]\n\u001b[0m\u001b[1;32m    264\u001b[0m \u001b[0;34m\u001b[0m\u001b[0m\n\u001b[1;32m    265\u001b[0m     \u001b[0;32mdef\u001b[0m \u001b[0m__reduce__\u001b[0m\u001b[0;34m(\u001b[0m\u001b[0mself\u001b[0m\u001b[0;34m)\u001b[0m\u001b[0;34m:\u001b[0m\u001b[0;34m\u001b[0m\u001b[0;34m\u001b[0m\u001b[0m\n",
            "\u001b[0;32m/usr/local/lib/python3.7/dist-packages/sklearn/ensemble/_forest.py\u001b[0m in \u001b[0;36m_parallel_build_trees\u001b[0;34m(tree, forest, X, y, sample_weight, tree_idx, n_trees, verbose, class_weight, n_samples_bootstrap)\u001b[0m\n\u001b[1;32m    163\u001b[0m             \u001b[0mcurr_sample_weight\u001b[0m \u001b[0;34m*=\u001b[0m \u001b[0mcompute_sample_weight\u001b[0m\u001b[0;34m(\u001b[0m\u001b[0;34m'balanced'\u001b[0m\u001b[0;34m,\u001b[0m \u001b[0my\u001b[0m\u001b[0;34m,\u001b[0m \u001b[0mindices\u001b[0m\u001b[0;34m)\u001b[0m\u001b[0;34m\u001b[0m\u001b[0;34m\u001b[0m\u001b[0m\n\u001b[1;32m    164\u001b[0m \u001b[0;34m\u001b[0m\u001b[0m\n\u001b[0;32m--> 165\u001b[0;31m         \u001b[0mtree\u001b[0m\u001b[0;34m.\u001b[0m\u001b[0mfit\u001b[0m\u001b[0;34m(\u001b[0m\u001b[0mX\u001b[0m\u001b[0;34m,\u001b[0m \u001b[0my\u001b[0m\u001b[0;34m,\u001b[0m \u001b[0msample_weight\u001b[0m\u001b[0;34m=\u001b[0m\u001b[0mcurr_sample_weight\u001b[0m\u001b[0;34m,\u001b[0m \u001b[0mcheck_input\u001b[0m\u001b[0;34m=\u001b[0m\u001b[0;32mFalse\u001b[0m\u001b[0;34m)\u001b[0m\u001b[0;34m\u001b[0m\u001b[0;34m\u001b[0m\u001b[0m\n\u001b[0m\u001b[1;32m    166\u001b[0m     \u001b[0;32melse\u001b[0m\u001b[0;34m:\u001b[0m\u001b[0;34m\u001b[0m\u001b[0;34m\u001b[0m\u001b[0m\n\u001b[1;32m    167\u001b[0m         \u001b[0mtree\u001b[0m\u001b[0;34m.\u001b[0m\u001b[0mfit\u001b[0m\u001b[0;34m(\u001b[0m\u001b[0mX\u001b[0m\u001b[0;34m,\u001b[0m \u001b[0my\u001b[0m\u001b[0;34m,\u001b[0m \u001b[0msample_weight\u001b[0m\u001b[0;34m=\u001b[0m\u001b[0msample_weight\u001b[0m\u001b[0;34m,\u001b[0m \u001b[0mcheck_input\u001b[0m\u001b[0;34m=\u001b[0m\u001b[0;32mFalse\u001b[0m\u001b[0;34m)\u001b[0m\u001b[0;34m\u001b[0m\u001b[0;34m\u001b[0m\u001b[0m\n",
            "\u001b[0;32m/usr/local/lib/python3.7/dist-packages/sklearn/tree/_classes.py\u001b[0m in \u001b[0;36mfit\u001b[0;34m(self, X, y, sample_weight, check_input, X_idx_sorted)\u001b[0m\n\u001b[1;32m    875\u001b[0m             \u001b[0msample_weight\u001b[0m\u001b[0;34m=\u001b[0m\u001b[0msample_weight\u001b[0m\u001b[0;34m,\u001b[0m\u001b[0;34m\u001b[0m\u001b[0;34m\u001b[0m\u001b[0m\n\u001b[1;32m    876\u001b[0m             \u001b[0mcheck_input\u001b[0m\u001b[0;34m=\u001b[0m\u001b[0mcheck_input\u001b[0m\u001b[0;34m,\u001b[0m\u001b[0;34m\u001b[0m\u001b[0;34m\u001b[0m\u001b[0m\n\u001b[0;32m--> 877\u001b[0;31m             X_idx_sorted=X_idx_sorted)\n\u001b[0m\u001b[1;32m    878\u001b[0m         \u001b[0;32mreturn\u001b[0m \u001b[0mself\u001b[0m\u001b[0;34m\u001b[0m\u001b[0;34m\u001b[0m\u001b[0m\n\u001b[1;32m    879\u001b[0m \u001b[0;34m\u001b[0m\u001b[0m\n",
            "\u001b[0;32m/usr/local/lib/python3.7/dist-packages/sklearn/tree/_classes.py\u001b[0m in \u001b[0;36mfit\u001b[0;34m(self, X, y, sample_weight, check_input, X_idx_sorted)\u001b[0m\n\u001b[1;32m    365\u001b[0m                                            min_impurity_split)\n\u001b[1;32m    366\u001b[0m \u001b[0;34m\u001b[0m\u001b[0m\n\u001b[0;32m--> 367\u001b[0;31m         \u001b[0mbuilder\u001b[0m\u001b[0;34m.\u001b[0m\u001b[0mbuild\u001b[0m\u001b[0;34m(\u001b[0m\u001b[0mself\u001b[0m\u001b[0;34m.\u001b[0m\u001b[0mtree_\u001b[0m\u001b[0;34m,\u001b[0m \u001b[0mX\u001b[0m\u001b[0;34m,\u001b[0m \u001b[0my\u001b[0m\u001b[0;34m,\u001b[0m \u001b[0msample_weight\u001b[0m\u001b[0;34m,\u001b[0m \u001b[0mX_idx_sorted\u001b[0m\u001b[0;34m)\u001b[0m\u001b[0;34m\u001b[0m\u001b[0;34m\u001b[0m\u001b[0m\n\u001b[0m\u001b[1;32m    368\u001b[0m \u001b[0;34m\u001b[0m\u001b[0m\n\u001b[1;32m    369\u001b[0m         \u001b[0;32mif\u001b[0m \u001b[0mself\u001b[0m\u001b[0;34m.\u001b[0m\u001b[0mn_outputs_\u001b[0m \u001b[0;34m==\u001b[0m \u001b[0;36m1\u001b[0m \u001b[0;32mand\u001b[0m \u001b[0mis_classifier\u001b[0m\u001b[0;34m(\u001b[0m\u001b[0mself\u001b[0m\u001b[0;34m)\u001b[0m\u001b[0;34m:\u001b[0m\u001b[0;34m\u001b[0m\u001b[0;34m\u001b[0m\u001b[0m\n",
            "\u001b[0;31mKeyboardInterrupt\u001b[0m: "
          ]
        }
      ]
    },
    {
      "cell_type": "code",
      "metadata": {
        "id": "wDV9aIbtC2L0"
      },
      "source": [
        "rf = RandomForestClassifier(max_features = 0.1,max_depth=30)\n",
        "rf.fit(X,Y)\n",
        "ypred = rf.predict(ldnew_test)\n",
        "write_report('new_rf_reg.csv')"
      ],
      "execution_count": null,
      "outputs": []
    },
    {
      "cell_type": "code",
      "metadata": {
        "colab": {
          "base_uri": "https://localhost:8080/"
        },
        "id": "XJc5PlvLmstd",
        "outputId": "6d73cc62-1b17-4422-a205-91012a6a69e7"
      },
      "source": [
        "from sklearn.ensemble import BaggingClassifier\n",
        "rf = RandomForestClassifier(max_features = 0.5)\n",
        "bc = BaggingClassifier(n_estimators=50,base_estimator=rf)\n",
        "bc.fit(xtrain,ytrain)\n",
        "ypred = bc.predict(xtest)\n",
        "roc_auc_score(ytest,ypred)"
      ],
      "execution_count": null,
      "outputs": [
        {
          "output_type": "execute_result",
          "data": {
            "text/plain": [
              "0.7485237141885647"
            ]
          },
          "metadata": {
            "tags": []
          },
          "execution_count": 51
        }
      ]
    },
    {
      "cell_type": "code",
      "metadata": {
        "colab": {
          "base_uri": "https://localhost:8080/"
        },
        "id": "6ZymGOShmsxE",
        "outputId": "e522b820-b333-4efe-d5d7-4ded7a61f250"
      },
      "source": [
        "from sklearn.ensemble import GradientBoostingClassifier\n",
        "gbc = GradientBoostingClassifier(loss='exponential')\n",
        "gbc.fit(xtrain,ytrain)\n",
        "ypred = gbc.predict(xtest)\n",
        "roc_auc_score(ytest,ypred)"
      ],
      "execution_count": null,
      "outputs": [
        {
          "output_type": "execute_result",
          "data": {
            "text/plain": [
              "0.5004346294789221"
            ]
          },
          "metadata": {
            "tags": []
          },
          "execution_count": 54
        }
      ]
    },
    {
      "cell_type": "code",
      "metadata": {
        "colab": {
          "base_uri": "https://localhost:8080/"
        },
        "id": "jPpqvr9R1yBV",
        "outputId": "02bd5a6b-bbc5-4643-f586-fe68c56acef6"
      },
      "source": [
        "from sklearn.ensemble import AdaBoostClassifier\n",
        "dt = DecisionTreeClassifier()\n",
        "abc = AdaBoostClassifier(base_estimator=dt,n_estimators=100)\n",
        "abc.fit(xtrain,ytrain)\n",
        "ypred = abc.predict(xtest)\n",
        "roc_auc_score(ytest,ypred)"
      ],
      "execution_count": null,
      "outputs": [
        {
          "output_type": "execute_result",
          "data": {
            "text/plain": [
              "0.7523923683575248"
            ]
          },
          "metadata": {
            "tags": []
          },
          "execution_count": 57
        }
      ]
    },
    {
      "cell_type": "code",
      "metadata": {
        "colab": {
          "base_uri": "https://localhost:8080/"
        },
        "id": "Hx4cLriY26i9",
        "outputId": "366658e5-9582-41df-f714-04ee7370cfed"
      },
      "source": [
        "from xgboost import XGBClassifier\n",
        "xgb = XGBClassifier(max_depth=30,learning_rate=0.1)\n",
        "xgb.fit(xtrain,ytrain)\n",
        "ypred = xgb.predict(xtest)\n",
        "roc_auc_score(ytest,ypred)"
      ],
      "execution_count": null,
      "outputs": [
        {
          "output_type": "execute_result",
          "data": {
            "text/plain": [
              "0.7436305754956007"
            ]
          },
          "metadata": {
            "tags": []
          },
          "execution_count": 62
        }
      ]
    },
    {
      "cell_type": "markdown",
      "metadata": {
        "id": "ebCK_CeT5O9N"
      },
      "source": [
        "#Lets apply stratified cross validation and "
      ]
    },
    {
      "cell_type": "code",
      "metadata": {
        "id": "L0S0F36v5PBJ"
      },
      "source": [
        "def skf_val(model):\n",
        "  from sklearn.model_selection import StratifiedKFold\n",
        "  skf = StratifiedKFold(n_splits=3)\n",
        "  X = ldnew.drop('risk_flag',axis=1)\n",
        "  Y = ldnew['risk_flag']\n",
        "  for train_index, test_index in skf.split(X,Y):\n",
        "    xtrain, xtest = X.loc[train_index,:],X.loc[test_index,:]\n",
        "    ytrain, ytest = Y[train_index],Y[test_index]\n",
        "    run_model(model)\n",
        "\n",
        "#xtrain,xtest,ytrain,ytest = train_test_split(X,Y,random_state=31)"
      ],
      "execution_count": 60,
      "outputs": []
    },
    {
      "cell_type": "code",
      "metadata": {
        "id": "1yMFiSrNdogg"
      },
      "source": [
        "def run_model(model):\n",
        "  knn = model\n",
        "  knn.fit(xtrain,ytrain)\n",
        "  ypred = knn.predict(xtest)\n",
        "  print(d,roc_auc_score(ytest,ypred))"
      ],
      "execution_count": 51,
      "outputs": []
    },
    {
      "cell_type": "code",
      "metadata": {
        "colab": {
          "base_uri": "https://localhost:8080/"
        },
        "id": "3Ujf5Wr6fPi5",
        "outputId": "60de40d4-ac75-4425-cbc3-7be421ff2e7b"
      },
      "source": [
        "from sklearn.tree import DecisionTreeClassifier\n",
        "for d in range(3,25):\n",
        "  skf_val(DecisionTreeClassifier(max_depth=d))"
      ],
      "execution_count": 52,
      "outputs": [
        {
          "output_type": "stream",
          "text": [
            "3 0.5\n",
            "3 0.5\n",
            "3 0.5\n",
            "3 0.5\n",
            "3 0.5\n",
            "4 0.5\n",
            "4 0.5\n",
            "4 0.5\n",
            "4 0.5\n",
            "4 0.5\n",
            "5 0.5003287841191068\n",
            "5 0.5003287841191068\n",
            "5 0.5003627207706904\n",
            "5 0.5003160122609838\n",
            "5 0.5003160122609838\n",
            "6 0.5007601080134287\n",
            "6 0.5007261713618449\n",
            "6 0.5007601080134287\n",
            "6 0.5007601080134287\n",
            "6 0.5007601080134287\n",
            "7 0.5010680922493067\n",
            "7 0.5011020289008904\n",
            "7 0.5011020289008904\n",
            "7 0.5010680922493067\n",
            "7 0.5010680922493067\n",
            "8 0.5025755364180412\n",
            "8 0.5028415559772296\n",
            "8 0.5026222449277478\n",
            "8 0.5026237045686761\n",
            "8 0.5024157057363888\n",
            "9 0.5040997664574515\n",
            "9 0.5042468252809809\n",
            "9 0.5045000729820465\n",
            "9 0.5042355130637863\n",
            "9 0.5042114289884689\n",
            "10 0.507214275288279\n",
            "10 0.5073952707633922\n",
            "10 0.5068960735659028\n",
            "10 0.5073146256021018\n",
            "10 0.5072595241570573\n",
            "11 0.509982119398628\n",
            "11 0.5103725733469566\n",
            "11 0.5105043059407385\n",
            "11 0.5103853452050796\n",
            "11 0.5104364326375711\n",
            "12 0.514097576996059\n",
            "12 0.5145756094000875\n",
            "12 0.5147595241570574\n",
            "12 0.5144935045978689\n",
            "12 0.5151331922347102\n",
            "13 0.5178054298642534\n",
            "13 0.5175580207269012\n",
            "13 0.5182214275288279\n",
            "13 0.5185345205079551\n",
            "13 0.5184564297182893\n",
            "14 0.5224927017953583\n",
            "14 0.5225988906728944\n",
            "14 0.5221259670121151\n",
            "14 0.5223741059699314\n",
            "14 0.5223835936359656\n",
            "15 0.523560794044665\n",
            "15 0.523798350605751\n",
            "15 0.524348635235732\n",
            "15 0.522847759451175\n",
            "15 0.5233553495840023\n",
            "16 0.5276043643263757\n",
            "16 0.5263881185228434\n",
            "16 0.5288571011531163\n",
            "16 0.5298087870383885\n",
            "16 0.527424828492191\n",
            "17 0.5302306232666764\n",
            "17 0.5311728214859145\n",
            "17 0.5312319369435119\n",
            "17 0.531360020434973\n",
            "17 0.5308210480221864\n",
            "18 0.5339257042767479\n",
            "18 0.5342796672018684\n",
            "18 0.5336567654357027\n",
            "18 0.5330980878703838\n",
            "18 0.5351353816961028\n",
            "19 0.5358119252663844\n",
            "19 0.5347416435556853\n",
            "19 0.5362341264049044\n",
            "19 0.5345340096336301\n",
            "19 0.5346796088162312\n",
            "20 0.5347201138519924\n",
            "20 0.5374514669391329\n",
            "20 0.5337385053276893\n",
            "20 0.537205152532477\n",
            "20 0.5375912275580207\n",
            "21 0.5381469858414829\n",
            "21 0.5371204933586338\n",
            "21 0.5373854181871259\n",
            "21 0.5363487082177784\n",
            "21 0.5359837979856955\n",
            "22 0.5395091957378485\n",
            "22 0.537091300540067\n",
            "22 0.5371872719311049\n",
            "22 0.5385994745292658\n",
            "22 0.536738797255875\n",
            "23 0.5384268719894906\n",
            "23 0.5382823675375858\n",
            "23 0.5400207998832287\n",
            "23 0.5394748941760327\n",
            "23 0.5414213253539629\n",
            "24 0.5420584586191797\n",
            "24 0.5441223908918407\n",
            "24 0.5384965698438184\n",
            "24 0.5396055320391184\n",
            "24 0.541474602247847\n"
          ],
          "name": "stdout"
        }
      ]
    },
    {
      "cell_type": "code",
      "metadata": {
        "colab": {
          "base_uri": "https://localhost:8080/"
        },
        "id": "bo1QrjNqgAZI",
        "outputId": "5b7e25c9-9adc-46e8-e890-71682b672b47"
      },
      "source": [
        "from sklearn.tree import DecisionTreeClassifier\n",
        "for d in range(25,50):\n",
        "  skf_val(DecisionTreeClassifier(max_depth=d))"
      ],
      "execution_count": 53,
      "outputs": [
        {
          "output_type": "stream",
          "text": [
            "25 0.540426944971537\n",
            "25 0.5401339220551745\n",
            "25 0.5430736388848343\n",
            "25 0.5394997080718144\n",
            "25 0.5416818712596702\n",
            "26 0.5401302729528537\n",
            "26 0.5390559772296015\n",
            "26 0.5443460808641074\n",
            "26 0.5393887753612611\n",
            "26 0.5412596701211502\n",
            "27 0.5424040286089621\n",
            "27 0.542205152532477\n",
            "27 0.5399416143628668\n",
            "27 0.5427820756094002\n",
            "27 0.5424193548387096\n",
            "28 0.5404565027003356\n",
            "28 0.5424481827470442\n",
            "28 0.5427627353670996\n",
            "28 0.5413716975623996\n",
            "28 0.5415508684863524\n",
            "29 0.5424806597576995\n",
            "29 0.544762443438914\n",
            "29 0.542227412056634\n",
            "29 0.5396661071376441\n",
            "29 0.5439592760180995\n",
            "30 0.5409940154721938\n",
            "30 0.5430517442709093\n",
            "30 0.542992993723544\n",
            "30 0.5403882644869362\n",
            "30 0.5408681214421251\n",
            "31 0.5414906582980586\n",
            "31 0.5432298204641658\n",
            "31 0.5420796234126405\n",
            "31 0.5411085972850678\n",
            "31 0.5428331630418917\n",
            "32 0.5389505181725296\n",
            "32 0.5427583564443146\n",
            "32 0.5444088454240257\n",
            "32 0.543023646183039\n",
            "32 0.5430024813895782\n",
            "33 0.5393365931980733\n",
            "33 0.5438804554079697\n",
            "33 0.5436396146547949\n",
            "33 0.5430696248722814\n",
            "33 0.5437031090351775\n",
            "34 0.5414056342139834\n",
            "34 0.5440191212961611\n",
            "34 0.5455050357612027\n",
            "34 0.5426682236169902\n",
            "34 0.5426532622974748\n",
            "35 0.5419008173989198\n",
            "35 0.5405652459494964\n",
            "35 0.542284338052839\n",
            "35 0.5415607210626185\n",
            "35 0.5433900160560502\n",
            "36 0.5421037074879579\n",
            "36 0.5436056780032111\n",
            "36 0.5428889943074003\n",
            "36 0.5428795066413662\n",
            "36 0.5430794774485477\n",
            "37 0.5426974164355568\n",
            "37 0.5442409867172675\n",
            "37 0.5412768209020581\n",
            "37 0.5435013136768355\n",
            "37 0.5424554809516858\n",
            "38 0.5397285067873303\n",
            "38 0.5440512333965845\n",
            "38 0.5449810246679316\n",
            "38 0.5425510874324916\n",
            "38 0.5409699313968764\n",
            "39 0.5427167566778572\n",
            "39 0.5412914173113414\n",
            "39 0.5412673332360239\n",
            "39 0.5406137790103636\n",
            "39 0.5417172675521822\n",
            "40 0.5427185812290176\n",
            "40 0.5420927601809955\n",
            "40 0.5452043497299665\n",
            "40 0.5421719457013575\n",
            "40 0.5432440519632171\n",
            "41 0.5435932710553204\n",
            "41 0.5424671580791126\n",
            "41 0.5440472193840316\n",
            "41 0.5416103488541818\n",
            "41 0.543208290760473\n",
            "42 0.5416552328127281\n",
            "42 0.5429207414975916\n",
            "42 0.5432371186688075\n",
            "42 0.5424062180703547\n",
            "42 0.5439691285943659\n",
            "43 0.5427864545321851\n",
            "43 0.5436980002919282\n",
            "43 0.5413001751569114\n",
            "43 0.545206904101591\n",
            "43 0.5397197489417603\n",
            "44 0.5424799299372354\n",
            "44 0.546202014304481\n",
            "44 0.5431075755364181\n",
            "44 0.5426226098379798\n",
            "44 0.5409093562983506\n",
            "45 0.5440767771128302\n",
            "45 0.539920814479638\n",
            "45 0.5419577433951248\n",
            "45 0.541919062910524\n",
            "45 0.5411695372938257\n",
            "46 0.5434659173843235\n",
            "46 0.541817982776237\n",
            "46 0.5422814187709823\n",
            "46 0.5412687928769522\n",
            "46 0.542090570719603\n",
            "47 0.5417851408553496\n",
            "47 0.5431677857247118\n",
            "47 0.5444522697416435\n",
            "47 0.5422117209166545\n",
            "47 0.5419405926142169\n",
            "48 0.542667493796526\n",
            "48 0.5417508392935338\n",
            "48 0.5393581229017662\n",
            "48 0.5407863815501386\n",
            "48 0.5424408845424026\n",
            "49 0.5435918114143921\n",
            "49 0.5421927455845861\n",
            "49 0.5428360823237484\n",
            "49 0.5444657714202306\n",
            "49 0.5440953875346665\n"
          ],
          "name": "stdout"
        }
      ]
    },
    {
      "cell_type": "code",
      "metadata": {
        "colab": {
          "base_uri": "https://localhost:8080/"
        },
        "id": "I6zkwMj-i7yx",
        "outputId": "d8738185-65e5-4560-8a11-05888711c3ba"
      },
      "source": [
        "from sklearn.tree import DecisionTreeClassifier\n",
        "for d in range(25,50):\n",
        "  skf_val(DecisionTreeClassifier(max_depth=d,criterion='entropy'))"
      ],
      "execution_count": 55,
      "outputs": [
        {
          "output_type": "stream",
          "text": [
            "25 0.530009122755802\n",
            "25 0.5294442417165377\n",
            "25 0.5283236023938112\n",
            "25 0.5297982046416582\n",
            "25 0.5287483579039556\n",
            "26 0.5305736388848343\n",
            "26 0.532099693475405\n",
            "26 0.5320734199386951\n",
            "26 0.5330320391183768\n",
            "26 0.5322971099109619\n",
            "27 0.5310888921325354\n",
            "27 0.5346281564735075\n",
            "27 0.5335078820610131\n",
            "27 0.5324919719748942\n",
            "27 0.5317880601372063\n",
            "28 0.5340815209458474\n",
            "28 0.5337392351481536\n",
            "28 0.5358914756969785\n",
            "28 0.5313808203182018\n",
            "28 0.5336286673478324\n",
            "29 0.5347697416435556\n",
            "29 0.5338658589986863\n",
            "29 0.5357320099255584\n",
            "29 0.5328685593344037\n",
            "29 0.5355185374397897\n",
            "30 0.5355382425923223\n",
            "30 0.5341296890964822\n",
            "30 0.5360629835060575\n",
            "30 0.5349419792730988\n",
            "30 0.5357714202306233\n",
            "31 0.5363366661801198\n",
            "31 0.5350806451612904\n",
            "31 0.5357294555539338\n",
            "31 0.5374653335279521\n",
            "31 0.5369592030360532\n",
            "32 0.5348992847759452\n",
            "32 0.5353813311925266\n",
            "32 0.5363034593490003\n",
            "32 0.5382564589111078\n",
            "32 0.5362118668807474\n",
            "33 0.536491753028755\n",
            "33 0.5368245511604146\n",
            "33 0.5369683257918553\n",
            "33 0.5383323602393811\n",
            "33 0.5366110786746461\n",
            "34 0.5379298642533937\n",
            "34 0.5390643701649394\n",
            "34 0.5367599620493358\n",
            "34 0.5373471026127572\n",
            "34 0.5385867026711428\n",
            "35 0.5388151364764268\n",
            "35 0.5421380090497737\n",
            "35 0.5388716975623996\n",
            "35 0.5387651437746314\n",
            "35 0.5362479929937235\n",
            "36 0.5371887315720333\n",
            "36 0.5367555831265509\n",
            "36 0.5382852868194424\n",
            "36 0.5378835206539191\n",
            "36 0.5380714494234418\n",
            "37 0.5402817106991679\n",
            "37 0.5406301999708072\n",
            "37 0.5384666472047875\n",
            "37 0.5387976207852868\n",
            "37 0.5402149321266968\n",
            "38 0.5369092103342578\n",
            "38 0.5390807911253831\n",
            "38 0.5381933294409574\n",
            "38 0.5385768500948767\n",
            "38 0.5398894321996789\n",
            "39 0.5384480367829515\n",
            "39 0.5362556561085973\n",
            "39 0.5389012552911984\n",
            "39 0.5419843818420669\n",
            "39 0.5375988906728943\n",
            "40 0.5392333236023937\n",
            "40 0.5384104510290469\n",
            "40 0.5386560356152387\n",
            "40 0.5383998686323165\n",
            "40 0.5377740475842943\n",
            "41 0.5382206977083638\n",
            "41 0.539568676105678\n",
            "41 0.5371901912129617\n",
            "41 0.5363005400671436\n",
            "41 0.5403003211210042\n",
            "42 0.5394650415997665\n",
            "42 0.5392004816815064\n",
            "42 0.5387961611443585\n",
            "42 0.539195008028025\n",
            "42 0.5369048314114728\n",
            "43 0.5366723835936359\n",
            "43 0.5390227703984819\n",
            "43 0.5401809954751131\n",
            "43 0.5379247555101445\n",
            "43 0.5396336301269888\n",
            "44 0.5398956356736243\n",
            "44 0.5386188147715661\n",
            "44 0.538604948182747\n",
            "44 0.5393453510436432\n",
            "44 0.5415479492044957\n",
            "45 0.5389997810538607\n",
            "45 0.5397982046416582\n",
            "45 0.5408856371332652\n",
            "45 0.5370143044810977\n",
            "45 0.5375678733031675\n",
            "46 0.5407546343599474\n",
            "46 0.541562545613779\n",
            "46 0.5359071668369582\n",
            "46 0.5390946577142023\n",
            "46 0.5385684571595387\n",
            "47 0.5385994745292657\n",
            "47 0.5385885272223033\n",
            "47 0.5394727047146403\n",
            "47 0.5385483870967741\n",
            "47 0.5362410596993139\n",
            "48 0.5381480805721792\n",
            "48 0.5388414100131367\n",
            "48 0.5385133557144942\n",
            "48 0.5391059699313968\n",
            "48 0.540902423003941\n",
            "49 0.538481608524303\n",
            "49 0.5386651583710407\n",
            "49 0.537337250036491\n",
            "49 0.5417716391767625\n",
            "49 0.5383746898263028\n"
          ],
          "name": "stdout"
        }
      ]
    },
    {
      "cell_type": "code",
      "metadata": {
        "colab": {
          "base_uri": "https://localhost:8080/"
        },
        "id": "kC3WfgF_jb1_",
        "outputId": "c66c46b8-a382-4a20-d155-e14235c54a1b"
      },
      "source": [
        "from sklearn.ensemble import RandomForestClassifier\n",
        "for d in range(25,50,3):\n",
        "  skf_val(RandomForestClassifier(n_estimators=30,max_depth=d))"
      ],
      "execution_count": 59,
      "outputs": [
        {
          "output_type": "stream",
          "text": [
            "25 0.49606991680046714\n",
            "25 0.4962454386220989\n",
            "25 0.49582250766311486\n",
            "25 0.4956229017661655\n",
            "25 0.4967679900744417\n",
            "28 0.496540286089622\n",
            "28 0.4952386512917822\n",
            "28 0.49574770106553784\n",
            "28 0.4944081156035615\n",
            "28 0.49662202598160854\n",
            "31 0.49521201284484023\n",
            "31 0.4960170048168151\n",
            "31 0.4953178368121442\n",
            "31 0.4950434243176179\n",
            "31 0.4959830681652314\n",
            "34 0.4956889505181726\n",
            "34 0.49529667201868344\n",
            "34 0.4953495840023355\n",
            "34 0.49569442417165377\n",
            "34 0.49641877098233833\n",
            "37 0.4953532331046563\n",
            "37 0.4956123193694352\n",
            "37 0.4955174427090936\n",
            "37 0.4947989344621223\n",
            "37 0.49410706466209314\n",
            "40 0.4971460370748796\n",
            "40 0.49608487811998253\n",
            "40 0.49546088162312074\n",
            "40 0.49606115895489705\n",
            "40 0.49567617866004965\n",
            "43 0.49427127426653045\n",
            "43 0.4956604875200701\n",
            "43 0.4974321266968325\n",
            "43 0.4959786892424464\n",
            "43 0.4948595095606481\n",
            "46 0.49608524303021456\n",
            "46 0.49582469712450744\n",
            "46 0.49552036199095023\n",
            "46 0.4942654357028171\n",
            "46 0.4963935921763246\n",
            "49 0.4947040578017808\n",
            "49 0.49575390453948326\n",
            "49 0.496236680776529\n",
            "49 0.4948540359071668\n",
            "49 0.49825098525762657\n"
          ],
          "name": "stdout"
        }
      ]
    },
    {
      "cell_type": "code",
      "metadata": {
        "colab": {
          "base_uri": "https://localhost:8080/"
        },
        "id": "gGmAiU1cl92m",
        "outputId": "91878a56-2c1e-4d71-ad45-fe0cc784640a"
      },
      "source": [
        "from sklearn.ensemble import RandomForestClassifier\n",
        "for d in range(25,50,3):\n",
        "  skf_val(RandomForestClassifier(n_estimators=50,max_depth=d))"
      ],
      "execution_count": 61,
      "outputs": [
        {
          "output_type": "stream",
          "text": [
            "25 0.49507480659757697\n",
            "25 0.49701175010947307\n",
            "25 0.495510509414684\n",
            "28 0.49521091811414397\n",
            "28 0.49727120128448404\n",
            "28 0.4965125529119836\n",
            "31 0.4943920595533499\n",
            "31 0.4946157495256167\n",
            "31 0.4943541088892133\n",
            "34 0.4951715078090789\n",
            "34 0.4949281126842797\n",
            "34 0.49538534520507954\n",
            "37 0.49480221865421103\n",
            "37 0.49518427966720185\n",
            "37 0.4953583418479054\n",
            "40 0.4954802218654211\n",
            "40 0.4943438914027149\n",
            "40 0.49530907896657417\n",
            "43 0.49476134870821775\n",
            "43 0.4953357174135163\n",
            "43 0.49564698584148303\n",
            "46 0.495286089621953\n",
            "46 0.4955663406801927\n",
            "46 0.49477266092541233\n",
            "49 0.4966205663406802\n",
            "49 0.4937133265216757\n",
            "49 0.4956754488395854\n"
          ],
          "name": "stdout"
        }
      ]
    },
    {
      "cell_type": "code",
      "metadata": {
        "colab": {
          "base_uri": "https://localhost:8080/"
        },
        "id": "LWL2ZMdtnk9m",
        "outputId": "d0f9c491-0f8a-4a0d-fd73-6f951ed835f4"
      },
      "source": [
        "from sklearn.neighbors import KNeighborsClassifier\n",
        "for d in range(3,25,3):\n",
        "  skf_val(KNeighborsClassifier(n_neighbors=d))"
      ],
      "execution_count": 64,
      "outputs": [
        {
          "output_type": "stream",
          "text": [
            "3 0.519375273682674\n",
            "3 0.519375273682674\n",
            "3 0.519375273682674\n",
            "6 0.5159108159392789\n",
            "6 0.5159108159392789\n",
            "6 0.5159108159392789\n",
            "9 0.5193818420668516\n",
            "9 0.5193818420668516\n",
            "9 0.5193818420668516\n",
            "12 0.5173087870383885\n",
            "12 0.5173087870383885\n",
            "12 0.5173087870383885\n",
            "15 0.5193687052984965\n",
            "15 0.5193687052984965\n",
            "15 0.5193687052984965\n",
            "18 0.5183655670705006\n",
            "18 0.5183655670705006\n",
            "18 0.5183655670705006\n",
            "21 0.5201558166690994\n",
            "21 0.5201558166690994\n",
            "21 0.5201558166690994\n",
            "24 0.5181491753028754\n",
            "24 0.5181491753028754\n",
            "24 0.5181491753028754\n"
          ],
          "name": "stdout"
        }
      ]
    },
    {
      "cell_type": "code",
      "metadata": {
        "colab": {
          "base_uri": "https://localhost:8080/"
        },
        "id": "8oe8iLY5pRKN",
        "outputId": "7807cd0b-6ec0-4865-812e-5579379fa603"
      },
      "source": [
        "from sklearn.ensemble import RandomForestClassifier\n",
        "for d in range(3,50,5):\n",
        "  skf_val(RandomForestClassifier(n_estimators=100,max_depth=d))"
      ],
      "execution_count": 65,
      "outputs": [
        {
          "output_type": "stream",
          "text": [
            "3 0.5\n",
            "3 0.5\n",
            "3 0.5\n",
            "8 0.4998981900452489\n",
            "8 0.4998868778280543\n",
            "8 0.49986425339366514\n",
            "13 0.4987968909648226\n",
            "13 0.49885929061450884\n",
            "13 0.49874032987884975\n",
            "18 0.49649941614362864\n",
            "18 0.49717705444460664\n",
            "18 0.4970694059261421\n",
            "23 0.49555064954021316\n",
            "23 0.4946266968325792\n",
            "23 0.49534848927163916\n",
            "28 0.49401510728360826\n",
            "28 0.4942314990512334\n",
            "28 0.4947733907458765\n",
            "33 0.4944508101007153\n",
            "33 0.4938567362428843\n",
            "33 0.49503101736972704\n",
            "38 0.49496460370748796\n",
            "38 0.49507225222595236\n",
            "38 0.49444789081885854\n",
            "43 0.49405342285797693\n",
            "43 0.4938625748065976\n",
            "43 0.4947664574514669\n",
            "48 0.49496569843818417\n",
            "48 0.49487118668807467\n",
            "48 0.49516822361699026\n"
          ],
          "name": "stdout"
        }
      ]
    },
    {
      "cell_type": "code",
      "metadata": {
        "colab": {
          "base_uri": "https://localhost:8080/"
        },
        "id": "FJuyqfwYpaB6",
        "outputId": "7de50fc8-7ca9-4a08-adbc-271cdeaea35b"
      },
      "source": [
        "from sklearn.ensemble import GradientBoostingClassifier\n",
        "for d in np.arange(0.1,1,0.2):\n",
        "  skf_val(GradientBoostingClassifier(learning_rate=d))"
      ],
      "execution_count": 67,
      "outputs": [
        {
          "output_type": "stream",
          "text": [
            "0.1 0.5000467085097067\n",
            "0.1 0.500035396292512\n",
            "0.1 0.5000467085097067\n",
            "0.30000000000000004 0.5002922930958984\n",
            "0.30000000000000004 0.5002470442271202\n",
            "0.30000000000000004 0.500224419792731\n",
            "0.5000000000000001 0.5033925704276748\n",
            "0.5000000000000001 0.5035297766749379\n",
            "0.5000000000000001 0.5034151948620639\n",
            "0.7000000000000001 0.5006531893154285\n",
            "0.7000000000000001 0.5006531893154285\n",
            "0.7000000000000001 0.5008356444314699\n",
            "0.9000000000000001 0.5027638300977959\n",
            "0.9000000000000001 0.5025912275580207\n",
            "0.9000000000000001 0.5026138519924098\n"
          ],
          "name": "stdout"
        }
      ]
    }
  ]
}