{
  "nbformat": 4,
  "nbformat_minor": 0,
  "metadata": {
    "colab": {
      "name": "Univhack.ipynb",
      "provenance": [],
      "authorship_tag": "ABX9TyMTAdmqEkjFmMgFdyqn7Bxv",
      "include_colab_link": true
    },
    "kernelspec": {
      "name": "python3",
      "display_name": "Python 3"
    },
    "language_info": {
      "name": "python"
    }
  },
  "cells": [
    {
      "cell_type": "markdown",
      "metadata": {
        "id": "view-in-github",
        "colab_type": "text"
      },
      "source": [
        "<a href=\"https://colab.research.google.com/github/shameer-phy/ML/blob/main/Hackathons/univ.ai/Univhack.ipynb\" target=\"_parent\"><img src=\"https://colab.research.google.com/assets/colab-badge.svg\" alt=\"Open In Colab\"/></a>"
      ]
    },
    {
      "cell_type": "code",
      "metadata": {
        "id": "8F3APbXf45Ns"
      },
      "source": [
        "import pandas as pd\n",
        "import numpy as np\n",
        "from sklearn.model_selection import train_test_split\n",
        "from sklearn.metrics import roc_auc_score"
      ],
      "execution_count": 33,
      "outputs": []
    },
    {
      "cell_type": "code",
      "metadata": {
        "colab": {
          "base_uri": "https://localhost:8080/"
        },
        "id": "fdMgpetK5MKf",
        "outputId": "0f66eb71-ab60-4551-c21f-abe73a212b09"
      },
      "source": [
        "from google.colab import drive \n",
        "\n",
        "drive.mount(\"/content/gdrive\") "
      ],
      "execution_count": 2,
      "outputs": [
        {
          "output_type": "stream",
          "text": [
            "Mounted at /content/gdrive\n"
          ],
          "name": "stdout"
        }
      ]
    },
    {
      "cell_type": "code",
      "metadata": {
        "id": "oxCTmTj25bi0"
      },
      "source": [
        "# Lets read the training dataset and tes dataset\n",
        "\n",
        "df = pd.read_csv('/content/gdrive/My Drive/Datasets/univ.ai/Training Data.csv')\n",
        " \n",
        "df_test = pd.read_csv('/content/gdrive/My Drive/Datasets/univ.ai/Test Data.csv')\n"
      ],
      "execution_count": 3,
      "outputs": []
    },
    {
      "cell_type": "markdown",
      "metadata": {
        "id": "ezrMlQ0T5bmB"
      },
      "source": [
        "#Lets do som exploratory data analysis"
      ]
    },
    {
      "cell_type": "code",
      "metadata": {
        "colab": {
          "base_uri": "https://localhost:8080/",
          "height": 226
        },
        "id": "xaUlly765bpY",
        "outputId": "8a742472-7611-4379-9bfe-8e44a9e7d5d4"
      },
      "source": [
        "df.head()"
      ],
      "execution_count": 4,
      "outputs": [
        {
          "output_type": "execute_result",
          "data": {
            "text/html": [
              "<div>\n",
              "<style scoped>\n",
              "    .dataframe tbody tr th:only-of-type {\n",
              "        vertical-align: middle;\n",
              "    }\n",
              "\n",
              "    .dataframe tbody tr th {\n",
              "        vertical-align: top;\n",
              "    }\n",
              "\n",
              "    .dataframe thead th {\n",
              "        text-align: right;\n",
              "    }\n",
              "</style>\n",
              "<table border=\"1\" class=\"dataframe\">\n",
              "  <thead>\n",
              "    <tr style=\"text-align: right;\">\n",
              "      <th></th>\n",
              "      <th>Id</th>\n",
              "      <th>income</th>\n",
              "      <th>age</th>\n",
              "      <th>experience</th>\n",
              "      <th>married</th>\n",
              "      <th>house_ownership</th>\n",
              "      <th>car_ownership</th>\n",
              "      <th>profession</th>\n",
              "      <th>city</th>\n",
              "      <th>state</th>\n",
              "      <th>current_job_years</th>\n",
              "      <th>current_house_years</th>\n",
              "      <th>risk_flag</th>\n",
              "    </tr>\n",
              "  </thead>\n",
              "  <tbody>\n",
              "    <tr>\n",
              "      <th>0</th>\n",
              "      <td>1</td>\n",
              "      <td>1303835</td>\n",
              "      <td>23</td>\n",
              "      <td>3</td>\n",
              "      <td>single</td>\n",
              "      <td>rented</td>\n",
              "      <td>no</td>\n",
              "      <td>Mechanical_engineer</td>\n",
              "      <td>Rewa</td>\n",
              "      <td>Madhya_Pradesh</td>\n",
              "      <td>3</td>\n",
              "      <td>13</td>\n",
              "      <td>0</td>\n",
              "    </tr>\n",
              "    <tr>\n",
              "      <th>1</th>\n",
              "      <td>2</td>\n",
              "      <td>7574516</td>\n",
              "      <td>40</td>\n",
              "      <td>10</td>\n",
              "      <td>single</td>\n",
              "      <td>rented</td>\n",
              "      <td>no</td>\n",
              "      <td>Software_Developer</td>\n",
              "      <td>Parbhani</td>\n",
              "      <td>Maharashtra</td>\n",
              "      <td>9</td>\n",
              "      <td>13</td>\n",
              "      <td>0</td>\n",
              "    </tr>\n",
              "    <tr>\n",
              "      <th>2</th>\n",
              "      <td>3</td>\n",
              "      <td>3991815</td>\n",
              "      <td>66</td>\n",
              "      <td>4</td>\n",
              "      <td>married</td>\n",
              "      <td>rented</td>\n",
              "      <td>no</td>\n",
              "      <td>Technical_writer</td>\n",
              "      <td>Alappuzha</td>\n",
              "      <td>Kerala</td>\n",
              "      <td>4</td>\n",
              "      <td>10</td>\n",
              "      <td>0</td>\n",
              "    </tr>\n",
              "    <tr>\n",
              "      <th>3</th>\n",
              "      <td>4</td>\n",
              "      <td>6256451</td>\n",
              "      <td>41</td>\n",
              "      <td>2</td>\n",
              "      <td>single</td>\n",
              "      <td>rented</td>\n",
              "      <td>yes</td>\n",
              "      <td>Software_Developer</td>\n",
              "      <td>Bhubaneswar</td>\n",
              "      <td>Odisha</td>\n",
              "      <td>2</td>\n",
              "      <td>12</td>\n",
              "      <td>1</td>\n",
              "    </tr>\n",
              "    <tr>\n",
              "      <th>4</th>\n",
              "      <td>5</td>\n",
              "      <td>5768871</td>\n",
              "      <td>47</td>\n",
              "      <td>11</td>\n",
              "      <td>single</td>\n",
              "      <td>rented</td>\n",
              "      <td>no</td>\n",
              "      <td>Civil_servant</td>\n",
              "      <td>Tiruchirappalli[10]</td>\n",
              "      <td>Tamil_Nadu</td>\n",
              "      <td>3</td>\n",
              "      <td>14</td>\n",
              "      <td>1</td>\n",
              "    </tr>\n",
              "  </tbody>\n",
              "</table>\n",
              "</div>"
            ],
            "text/plain": [
              "   Id   income  age  ...  current_job_years current_house_years risk_flag\n",
              "0   1  1303835   23  ...                  3                  13         0\n",
              "1   2  7574516   40  ...                  9                  13         0\n",
              "2   3  3991815   66  ...                  4                  10         0\n",
              "3   4  6256451   41  ...                  2                  12         1\n",
              "4   5  5768871   47  ...                  3                  14         1\n",
              "\n",
              "[5 rows x 13 columns]"
            ]
          },
          "metadata": {
            "tags": []
          },
          "execution_count": 4
        }
      ]
    },
    {
      "cell_type": "code",
      "metadata": {
        "colab": {
          "base_uri": "https://localhost:8080/"
        },
        "id": "u-Z340Ar5bsS",
        "outputId": "334e501d-58bf-4254-d2c7-24e990903020"
      },
      "source": [
        "df.shape"
      ],
      "execution_count": 5,
      "outputs": [
        {
          "output_type": "execute_result",
          "data": {
            "text/plain": [
              "(252000, 13)"
            ]
          },
          "metadata": {
            "tags": []
          },
          "execution_count": 5
        }
      ]
    },
    {
      "cell_type": "code",
      "metadata": {
        "colab": {
          "base_uri": "https://localhost:8080/"
        },
        "id": "ipEQEJg05bvW",
        "outputId": "50e29a46-9ab9-42e0-8840-949e466a6d17"
      },
      "source": [
        "df.dtypes"
      ],
      "execution_count": 6,
      "outputs": [
        {
          "output_type": "execute_result",
          "data": {
            "text/plain": [
              "Id                      int64\n",
              "income                  int64\n",
              "age                     int64\n",
              "experience              int64\n",
              "married                object\n",
              "house_ownership        object\n",
              "car_ownership          object\n",
              "profession             object\n",
              "city                   object\n",
              "state                  object\n",
              "current_job_years       int64\n",
              "current_house_years     int64\n",
              "risk_flag               int64\n",
              "dtype: object"
            ]
          },
          "metadata": {
            "tags": []
          },
          "execution_count": 6
        }
      ]
    },
    {
      "cell_type": "code",
      "metadata": {
        "colab": {
          "base_uri": "https://localhost:8080/"
        },
        "id": "8R5V9zSS8JS6",
        "outputId": "0a38a35d-638f-461e-fa1b-42650d5230c1"
      },
      "source": [
        "df.isnull().sum()"
      ],
      "execution_count": 7,
      "outputs": [
        {
          "output_type": "execute_result",
          "data": {
            "text/plain": [
              "Id                     0\n",
              "income                 0\n",
              "age                    0\n",
              "experience             0\n",
              "married                0\n",
              "house_ownership        0\n",
              "car_ownership          0\n",
              "profession             0\n",
              "city                   0\n",
              "state                  0\n",
              "current_job_years      0\n",
              "current_house_years    0\n",
              "risk_flag              0\n",
              "dtype: int64"
            ]
          },
          "metadata": {
            "tags": []
          },
          "execution_count": 7
        }
      ]
    },
    {
      "cell_type": "code",
      "metadata": {
        "colab": {
          "base_uri": "https://localhost:8080/",
          "height": 298
        },
        "id": "fsMfVvIf8hSv",
        "outputId": "d6157144-51e8-45f0-ec3e-eea07281e566"
      },
      "source": [
        "df.plot.scatter('income','risk_flag')"
      ],
      "execution_count": 8,
      "outputs": [
        {
          "output_type": "execute_result",
          "data": {
            "text/plain": [
              "<matplotlib.axes._subplots.AxesSubplot at 0x7fe7bab11e90>"
            ]
          },
          "metadata": {
            "tags": []
          },
          "execution_count": 8
        },
        {
          "output_type": "display_data",
          "data": {
            "image/png": "[encoded data removed]",
            "text/plain": [
              "<Figure size 432x288 with 1 Axes>"
            ]
          },
          "metadata": {
            "tags": [],
            "needs_background": "light"
          }
        }
      ]
    },
    {
      "cell_type": "code",
      "metadata": {
        "colab": {
          "base_uri": "https://localhost:8080/"
        },
        "id": "dpTkb15m54Lb",
        "outputId": "b69d8901-14ff-44a4-a9fb-d1f6591b065f"
      },
      "source": [
        "obj_cols = df.select_dtypes(include='object').columns\n",
        "obj_cols"
      ],
      "execution_count": 9,
      "outputs": [
        {
          "output_type": "execute_result",
          "data": {
            "text/plain": [
              "Index(['married', 'house_ownership', 'car_ownership', 'profession', 'city',\n",
              "       'state'],\n",
              "      dtype='object')"
            ]
          },
          "metadata": {
            "tags": []
          },
          "execution_count": 9
        }
      ]
    },
    {
      "cell_type": "code",
      "metadata": {
        "colab": {
          "base_uri": "https://localhost:8080/"
        },
        "id": "pDioJyQ06lXN",
        "outputId": "cea219d9-db6b-46c5-d07f-7de88224b57d"
      },
      "source": [
        "!pip install researchpy\n",
        "def chi2test(x,y):\n",
        "  import researchpy as rp\n",
        "  t = rp.crosstab(x,y,test='chi-square')\n",
        "  if t[1].iloc[1,1] < 0.05:\n",
        "    print(t[0])\n",
        "    print('Depedent. Drop a variable')\n",
        "  else:\n",
        "    print('Independent. Keep both')"
      ],
      "execution_count": 10,
      "outputs": [
        {
          "output_type": "stream",
          "text": [
            "Collecting researchpy\n",
            "  Downloading https://files.pythonhosted.org/packages/4b/a3/b16ea25a5416f7c35824b2fc3ee1cdc9f9d8ab6d9fc4119679504d43b8a8/researchpy-0.2.3-py3-none-any.whl\n",
            "Requirement already satisfied: pandas in /usr/local/lib/python3.7/dist-packages (from researchpy) (1.1.5)\n",
            "Requirement already satisfied: numpy in /usr/local/lib/python3.7/dist-packages (from researchpy) (1.19.5)\n",
            "Requirement already satisfied: statsmodels in /usr/local/lib/python3.7/dist-packages (from researchpy) (0.10.2)\n",
            "Requirement already satisfied: scipy in /usr/local/lib/python3.7/dist-packages (from researchpy) (1.4.1)\n",
            "Requirement already satisfied: python-dateutil>=2.7.3 in /usr/local/lib/python3.7/dist-packages (from pandas->researchpy) (2.8.1)\n",
            "Requirement already satisfied: pytz>=2017.2 in /usr/local/lib/python3.7/dist-packages (from pandas->researchpy) (2018.9)\n",
            "Requirement already satisfied: patsy>=0.4.0 in /usr/local/lib/python3.7/dist-packages (from statsmodels->researchpy) (0.5.1)\n",
            "Requirement already satisfied: six>=1.5 in /usr/local/lib/python3.7/dist-packages (from python-dateutil>=2.7.3->pandas->researchpy) (1.15.0)\n",
            "Installing collected packages: researchpy\n",
            "Successfully installed researchpy-0.2.3\n"
          ],
          "name": "stdout"
        }
      ]
    },
    {
      "cell_type": "code",
      "metadata": {
        "colab": {
          "base_uri": "https://localhost:8080/"
        },
        "id": "f2zPoKIH6uI-",
        "outputId": "f73da556-9195-4428-badb-534bdc1740c0"
      },
      "source": [
        "chi2test(df[obj_cols[0]],df[obj_cols[1]])"
      ],
      "execution_count": 11,
      "outputs": [
        {
          "output_type": "stream",
          "text": [
            "/usr/local/lib/python3.7/dist-packages/statsmodels/tools/_testing.py:19: FutureWarning: pandas.util.testing is deprecated. Use the functions in the public API at pandas.testing instead.\n",
            "  import pandas.util.testing as tm\n"
          ],
          "name": "stderr"
        },
        {
          "output_type": "stream",
          "text": [
            "                house_ownership                       \n",
            "house_ownership    norent_noown  owned  rented     All\n",
            "married                                               \n",
            "married                     595    923   24210   25728\n",
            "single                     6589  11995  207688  226272\n",
            "All                        7184  12918  231898  252000\n",
            "Depedent. Drop a variable\n"
          ],
          "name": "stdout"
        }
      ]
    },
    {
      "cell_type": "code",
      "metadata": {
        "colab": {
          "base_uri": "https://localhost:8080/"
        },
        "id": "i0RLhO1h7R0T",
        "outputId": "3c3a2b3d-f877-4c66-f1ac-1c2bce258275"
      },
      "source": [
        "chi2test(df[obj_cols[0]],df[obj_cols[2]])"
      ],
      "execution_count": 12,
      "outputs": [
        {
          "output_type": "stream",
          "text": [
            "Independent. Keep both\n"
          ],
          "name": "stdout"
        }
      ]
    },
    {
      "cell_type": "code",
      "metadata": {
        "colab": {
          "base_uri": "https://localhost:8080/"
        },
        "id": "ylroyuKz7a0a",
        "outputId": "0d4e46a3-03d6-44bb-edc6-9c7cf430e8e9"
      },
      "source": [
        "chi2test(df[obj_cols[0]],df[obj_cols[3]])"
      ],
      "execution_count": 13,
      "outputs": [
        {
          "output_type": "stream",
          "text": [
            "                       profession          ...                     \n",
            "profession Air_traffic_controller Analyst  ... Web_designer     All\n",
            "married                                    ...                     \n",
            "married                       543     459  ...          588   25728\n",
            "single                       4738    4209  ...         4809  226272\n",
            "All                          5281    4668  ...         5397  252000\n",
            "\n",
            "[3 rows x 52 columns]\n",
            "Depedent. Drop a variable\n"
          ],
          "name": "stdout"
        }
      ]
    },
    {
      "cell_type": "code",
      "metadata": {
        "colab": {
          "base_uri": "https://localhost:8080/"
        },
        "id": "60FqTNrH7kyc",
        "outputId": "22a71b80-92cc-4ea3-8585-59c12610c11d"
      },
      "source": [
        "chi2test(df[obj_cols[0]],df[obj_cols[4]])"
      ],
      "execution_count": 14,
      "outputs": [
        {
          "output_type": "stream",
          "text": [
            "         city                 ...                                     \n",
            "city    Adoni Agartala  Agra  ... Warangal[11][12] Yamunanagar     All\n",
            "married                       ...                                     \n",
            "married    87      128    88  ...               10          89   25728\n",
            "single    866      681   924  ...              449         570  226272\n",
            "All       953      809  1012  ...              459         659  252000\n",
            "\n",
            "[3 rows x 318 columns]\n",
            "Depedent. Drop a variable\n"
          ],
          "name": "stdout"
        }
      ]
    },
    {
      "cell_type": "code",
      "metadata": {
        "colab": {
          "base_uri": "https://localhost:8080/"
        },
        "id": "C6CZ9sgu7qKg",
        "outputId": "3021438f-de3c-4a2e-9693-65416dc659fc"
      },
      "source": [
        "chi2test(df[obj_cols[0]],df[obj_cols[5]])"
      ],
      "execution_count": 15,
      "outputs": [
        {
          "output_type": "stream",
          "text": [
            "                 state               ...                                \n",
            "state   Andhra_Pradesh Assam  Bihar  ... Uttarakhand West_Bengal     All\n",
            "married                              ...                                \n",
            "married           2994   525   1937  ...          92        2870   25728\n",
            "single           22303  6537  17843  ...        1782       20613  226272\n",
            "All              25297  7062  19780  ...        1874       23483  252000\n",
            "\n",
            "[3 rows x 30 columns]\n",
            "Depedent. Drop a variable\n"
          ],
          "name": "stdout"
        }
      ]
    },
    {
      "cell_type": "code",
      "metadata": {
        "colab": {
          "base_uri": "https://localhost:8080/"
        },
        "id": "kLLSijND7xC4",
        "outputId": "c4a9fa4c-f887-4cd9-fd55-1638976ea52e"
      },
      "source": [
        "obj_cols"
      ],
      "execution_count": 16,
      "outputs": [
        {
          "output_type": "execute_result",
          "data": {
            "text/plain": [
              "Index(['married', 'house_ownership', 'car_ownership', 'profession', 'city',\n",
              "       'state'],\n",
              "      dtype='object')"
            ]
          },
          "metadata": {
            "tags": []
          },
          "execution_count": 16
        }
      ]
    },
    {
      "cell_type": "code",
      "metadata": {
        "colab": {
          "base_uri": "https://localhost:8080/"
        },
        "id": "SbHNOwbZ74_E",
        "outputId": "86495629-6bb7-4882-c256-5395d6f9bd9e"
      },
      "source": [
        "df.nunique()"
      ],
      "execution_count": 17,
      "outputs": [
        {
          "output_type": "execute_result",
          "data": {
            "text/plain": [
              "Id                     252000\n",
              "income                  41917\n",
              "age                        59\n",
              "experience                 21\n",
              "married                     2\n",
              "house_ownership             3\n",
              "car_ownership               2\n",
              "profession                 51\n",
              "city                      317\n",
              "state                      29\n",
              "current_job_years          15\n",
              "current_house_years         5\n",
              "risk_flag                   2\n",
              "dtype: int64"
            ]
          },
          "metadata": {
            "tags": []
          },
          "execution_count": 17
        }
      ]
    },
    {
      "cell_type": "code",
      "metadata": {
        "id": "0LH5NE369TIm"
      },
      "source": [
        "obj_cols = list(obj_cols)\n",
        "obj_cols.remove('profession')\n",
        "obj_cols.remove('car_ownership')"
      ],
      "execution_count": 18,
      "outputs": []
    },
    {
      "cell_type": "code",
      "metadata": {
        "colab": {
          "base_uri": "https://localhost:8080/"
        },
        "id": "4kdhFknq_998",
        "outputId": "e99598e3-15b5-4062-f6e9-555ff1f30394"
      },
      "source": [
        "obj_cols"
      ],
      "execution_count": 19,
      "outputs": [
        {
          "output_type": "execute_result",
          "data": {
            "text/plain": [
              "['married', 'house_ownership', 'city', 'state']"
            ]
          },
          "metadata": {
            "tags": []
          },
          "execution_count": 19
        }
      ]
    },
    {
      "cell_type": "code",
      "metadata": {
        "id": "ByuHONN0AE7y"
      },
      "source": [
        "obj_cols.append('Id')"
      ],
      "execution_count": 20,
      "outputs": []
    },
    {
      "cell_type": "code",
      "metadata": {
        "colab": {
          "base_uri": "https://localhost:8080/"
        },
        "id": "fkgYriRdANTL",
        "outputId": "ee3e8b5b-ba01-4b33-c4b6-4a7ea8d701b7"
      },
      "source": [
        "obj_cols"
      ],
      "execution_count": 21,
      "outputs": [
        {
          "output_type": "execute_result",
          "data": {
            "text/plain": [
              "['married', 'house_ownership', 'city', 'state', 'Id']"
            ]
          },
          "metadata": {
            "tags": []
          },
          "execution_count": 21
        }
      ]
    },
    {
      "cell_type": "code",
      "metadata": {
        "id": "pwZpbpXxAOUq"
      },
      "source": [
        "new_df = df.drop(obj_cols,axis=1)\n"
      ],
      "execution_count": 22,
      "outputs": []
    },
    {
      "cell_type": "code",
      "metadata": {
        "id": "m9oHRvA1DJBf"
      },
      "source": [
        "obj_cols.remove('Id')\n",
        "obj_cols.append('id')\n",
        "new_dftest = df_test.drop(obj_cols,axis=1)"
      ],
      "execution_count": 23,
      "outputs": []
    },
    {
      "cell_type": "code",
      "metadata": {
        "colab": {
          "base_uri": "https://localhost:8080/",
          "height": 206
        },
        "id": "S57k-Wv_AX9O",
        "outputId": "8306c977-f011-41ea-8398-5f083a5d86c6"
      },
      "source": [
        "new_df.head()"
      ],
      "execution_count": 24,
      "outputs": [
        {
          "output_type": "execute_result",
          "data": {
            "text/html": [
              "<div>\n",
              "<style scoped>\n",
              "    .dataframe tbody tr th:only-of-type {\n",
              "        vertical-align: middle;\n",
              "    }\n",
              "\n",
              "    .dataframe tbody tr th {\n",
              "        vertical-align: top;\n",
              "    }\n",
              "\n",
              "    .dataframe thead th {\n",
              "        text-align: right;\n",
              "    }\n",
              "</style>\n",
              "<table border=\"1\" class=\"dataframe\">\n",
              "  <thead>\n",
              "    <tr style=\"text-align: right;\">\n",
              "      <th></th>\n",
              "      <th>income</th>\n",
              "      <th>age</th>\n",
              "      <th>experience</th>\n",
              "      <th>car_ownership</th>\n",
              "      <th>profession</th>\n",
              "      <th>current_job_years</th>\n",
              "      <th>current_house_years</th>\n",
              "      <th>risk_flag</th>\n",
              "    </tr>\n",
              "  </thead>\n",
              "  <tbody>\n",
              "    <tr>\n",
              "      <th>0</th>\n",
              "      <td>1303835</td>\n",
              "      <td>23</td>\n",
              "      <td>3</td>\n",
              "      <td>no</td>\n",
              "      <td>Mechanical_engineer</td>\n",
              "      <td>3</td>\n",
              "      <td>13</td>\n",
              "      <td>0</td>\n",
              "    </tr>\n",
              "    <tr>\n",
              "      <th>1</th>\n",
              "      <td>7574516</td>\n",
              "      <td>40</td>\n",
              "      <td>10</td>\n",
              "      <td>no</td>\n",
              "      <td>Software_Developer</td>\n",
              "      <td>9</td>\n",
              "      <td>13</td>\n",
              "      <td>0</td>\n",
              "    </tr>\n",
              "    <tr>\n",
              "      <th>2</th>\n",
              "      <td>3991815</td>\n",
              "      <td>66</td>\n",
              "      <td>4</td>\n",
              "      <td>no</td>\n",
              "      <td>Technical_writer</td>\n",
              "      <td>4</td>\n",
              "      <td>10</td>\n",
              "      <td>0</td>\n",
              "    </tr>\n",
              "    <tr>\n",
              "      <th>3</th>\n",
              "      <td>6256451</td>\n",
              "      <td>41</td>\n",
              "      <td>2</td>\n",
              "      <td>yes</td>\n",
              "      <td>Software_Developer</td>\n",
              "      <td>2</td>\n",
              "      <td>12</td>\n",
              "      <td>1</td>\n",
              "    </tr>\n",
              "    <tr>\n",
              "      <th>4</th>\n",
              "      <td>5768871</td>\n",
              "      <td>47</td>\n",
              "      <td>11</td>\n",
              "      <td>no</td>\n",
              "      <td>Civil_servant</td>\n",
              "      <td>3</td>\n",
              "      <td>14</td>\n",
              "      <td>1</td>\n",
              "    </tr>\n",
              "  </tbody>\n",
              "</table>\n",
              "</div>"
            ],
            "text/plain": [
              "    income  age  experience  ... current_job_years current_house_years  risk_flag\n",
              "0  1303835   23           3  ...                 3                  13          0\n",
              "1  7574516   40          10  ...                 9                  13          0\n",
              "2  3991815   66           4  ...                 4                  10          0\n",
              "3  6256451   41           2  ...                 2                  12          1\n",
              "4  5768871   47          11  ...                 3                  14          1\n",
              "\n",
              "[5 rows x 8 columns]"
            ]
          },
          "metadata": {
            "tags": []
          },
          "execution_count": 24
        }
      ]
    },
    {
      "cell_type": "code",
      "metadata": {
        "colab": {
          "base_uri": "https://localhost:8080/",
          "height": 237
        },
        "id": "gkxkZVBkAZtV",
        "outputId": "a1c96822-1453-4296-e5b1-1266eb43d9a6"
      },
      "source": [
        "new_df.corr()"
      ],
      "execution_count": 25,
      "outputs": [
        {
          "output_type": "execute_result",
          "data": {
            "text/html": [
              "<div>\n",
              "<style scoped>\n",
              "    .dataframe tbody tr th:only-of-type {\n",
              "        vertical-align: middle;\n",
              "    }\n",
              "\n",
              "    .dataframe tbody tr th {\n",
              "        vertical-align: top;\n",
              "    }\n",
              "\n",
              "    .dataframe thead th {\n",
              "        text-align: right;\n",
              "    }\n",
              "</style>\n",
              "<table border=\"1\" class=\"dataframe\">\n",
              "  <thead>\n",
              "    <tr style=\"text-align: right;\">\n",
              "      <th></th>\n",
              "      <th>income</th>\n",
              "      <th>age</th>\n",
              "      <th>experience</th>\n",
              "      <th>current_job_years</th>\n",
              "      <th>current_house_years</th>\n",
              "      <th>risk_flag</th>\n",
              "    </tr>\n",
              "  </thead>\n",
              "  <tbody>\n",
              "    <tr>\n",
              "      <th>income</th>\n",
              "      <td>1.000000</td>\n",
              "      <td>-0.000652</td>\n",
              "      <td>0.006422</td>\n",
              "      <td>0.007045</td>\n",
              "      <td>-0.002397</td>\n",
              "      <td>-0.003091</td>\n",
              "    </tr>\n",
              "    <tr>\n",
              "      <th>age</th>\n",
              "      <td>-0.000652</td>\n",
              "      <td>1.000000</td>\n",
              "      <td>-0.001118</td>\n",
              "      <td>0.002154</td>\n",
              "      <td>-0.020134</td>\n",
              "      <td>-0.021809</td>\n",
              "    </tr>\n",
              "    <tr>\n",
              "      <th>experience</th>\n",
              "      <td>0.006422</td>\n",
              "      <td>-0.001118</td>\n",
              "      <td>1.000000</td>\n",
              "      <td>0.646098</td>\n",
              "      <td>0.019309</td>\n",
              "      <td>-0.034523</td>\n",
              "    </tr>\n",
              "    <tr>\n",
              "      <th>current_job_years</th>\n",
              "      <td>0.007045</td>\n",
              "      <td>0.002154</td>\n",
              "      <td>0.646098</td>\n",
              "      <td>1.000000</td>\n",
              "      <td>0.005372</td>\n",
              "      <td>-0.016942</td>\n",
              "    </tr>\n",
              "    <tr>\n",
              "      <th>current_house_years</th>\n",
              "      <td>-0.002397</td>\n",
              "      <td>-0.020134</td>\n",
              "      <td>0.019309</td>\n",
              "      <td>0.005372</td>\n",
              "      <td>1.000000</td>\n",
              "      <td>-0.004375</td>\n",
              "    </tr>\n",
              "    <tr>\n",
              "      <th>risk_flag</th>\n",
              "      <td>-0.003091</td>\n",
              "      <td>-0.021809</td>\n",
              "      <td>-0.034523</td>\n",
              "      <td>-0.016942</td>\n",
              "      <td>-0.004375</td>\n",
              "      <td>1.000000</td>\n",
              "    </tr>\n",
              "  </tbody>\n",
              "</table>\n",
              "</div>"
            ],
            "text/plain": [
              "                       income       age  ...  current_house_years  risk_flag\n",
              "income               1.000000 -0.000652  ...            -0.002397  -0.003091\n",
              "age                 -0.000652  1.000000  ...            -0.020134  -0.021809\n",
              "experience           0.006422 -0.001118  ...             0.019309  -0.034523\n",
              "current_job_years    0.007045  0.002154  ...             0.005372  -0.016942\n",
              "current_house_years -0.002397 -0.020134  ...             1.000000  -0.004375\n",
              "risk_flag           -0.003091 -0.021809  ...            -0.004375   1.000000\n",
              "\n",
              "[6 rows x 6 columns]"
            ]
          },
          "metadata": {
            "tags": []
          },
          "execution_count": 25
        }
      ]
    },
    {
      "cell_type": "code",
      "metadata": {
        "colab": {
          "base_uri": "https://localhost:8080/"
        },
        "id": "nhCj4iYuAh4o",
        "outputId": "a75ba131-8a19-4713-d217-cd0a849db35c"
      },
      "source": [
        "new_df.nunique()"
      ],
      "execution_count": 26,
      "outputs": [
        {
          "output_type": "execute_result",
          "data": {
            "text/plain": [
              "income                 41917\n",
              "age                       59\n",
              "experience                21\n",
              "car_ownership              2\n",
              "profession                51\n",
              "current_job_years         15\n",
              "current_house_years        5\n",
              "risk_flag                  2\n",
              "dtype: int64"
            ]
          },
          "metadata": {
            "tags": []
          },
          "execution_count": 26
        }
      ]
    },
    {
      "cell_type": "code",
      "metadata": {
        "id": "N4WD6fOnAlw3"
      },
      "source": [
        "new_df = new_df.drop('current_job_years',axis=1)\n",
        "new_dftest = new_dftest.drop('current_job_years',axis=1)"
      ],
      "execution_count": 27,
      "outputs": []
    },
    {
      "cell_type": "code",
      "metadata": {
        "colab": {
          "base_uri": "https://localhost:8080/",
          "height": 206
        },
        "id": "Ug5NRsr5A2D9",
        "outputId": "edb3a40a-36ec-4587-db06-e275caf4a325"
      },
      "source": [
        "new_df.corr()"
      ],
      "execution_count": 28,
      "outputs": [
        {
          "output_type": "execute_result",
          "data": {
            "text/html": [
              "<div>\n",
              "<style scoped>\n",
              "    .dataframe tbody tr th:only-of-type {\n",
              "        vertical-align: middle;\n",
              "    }\n",
              "\n",
              "    .dataframe tbody tr th {\n",
              "        vertical-align: top;\n",
              "    }\n",
              "\n",
              "    .dataframe thead th {\n",
              "        text-align: right;\n",
              "    }\n",
              "</style>\n",
              "<table border=\"1\" class=\"dataframe\">\n",
              "  <thead>\n",
              "    <tr style=\"text-align: right;\">\n",
              "      <th></th>\n",
              "      <th>income</th>\n",
              "      <th>age</th>\n",
              "      <th>experience</th>\n",
              "      <th>current_house_years</th>\n",
              "      <th>risk_flag</th>\n",
              "    </tr>\n",
              "  </thead>\n",
              "  <tbody>\n",
              "    <tr>\n",
              "      <th>income</th>\n",
              "      <td>1.000000</td>\n",
              "      <td>-0.000652</td>\n",
              "      <td>0.006422</td>\n",
              "      <td>-0.002397</td>\n",
              "      <td>-0.003091</td>\n",
              "    </tr>\n",
              "    <tr>\n",
              "      <th>age</th>\n",
              "      <td>-0.000652</td>\n",
              "      <td>1.000000</td>\n",
              "      <td>-0.001118</td>\n",
              "      <td>-0.020134</td>\n",
              "      <td>-0.021809</td>\n",
              "    </tr>\n",
              "    <tr>\n",
              "      <th>experience</th>\n",
              "      <td>0.006422</td>\n",
              "      <td>-0.001118</td>\n",
              "      <td>1.000000</td>\n",
              "      <td>0.019309</td>\n",
              "      <td>-0.034523</td>\n",
              "    </tr>\n",
              "    <tr>\n",
              "      <th>current_house_years</th>\n",
              "      <td>-0.002397</td>\n",
              "      <td>-0.020134</td>\n",
              "      <td>0.019309</td>\n",
              "      <td>1.000000</td>\n",
              "      <td>-0.004375</td>\n",
              "    </tr>\n",
              "    <tr>\n",
              "      <th>risk_flag</th>\n",
              "      <td>-0.003091</td>\n",
              "      <td>-0.021809</td>\n",
              "      <td>-0.034523</td>\n",
              "      <td>-0.004375</td>\n",
              "      <td>1.000000</td>\n",
              "    </tr>\n",
              "  </tbody>\n",
              "</table>\n",
              "</div>"
            ],
            "text/plain": [
              "                       income       age  ...  current_house_years  risk_flag\n",
              "income               1.000000 -0.000652  ...            -0.002397  -0.003091\n",
              "age                 -0.000652  1.000000  ...            -0.020134  -0.021809\n",
              "experience           0.006422 -0.001118  ...             0.019309  -0.034523\n",
              "current_house_years -0.002397 -0.020134  ...             1.000000  -0.004375\n",
              "risk_flag           -0.003091 -0.021809  ...            -0.004375   1.000000\n",
              "\n",
              "[5 rows x 5 columns]"
            ]
          },
          "metadata": {
            "tags": []
          },
          "execution_count": 28
        }
      ]
    },
    {
      "cell_type": "code",
      "metadata": {
        "id": "17yvxuCLBL87"
      },
      "source": [
        "new_df = pd.get_dummies(new_df,columns=['profession','car_ownership'])\n",
        "new_dftest = pd.get_dummies(new_dftest,columns=['profession','car_ownership'])"
      ],
      "execution_count": 29,
      "outputs": []
    },
    {
      "cell_type": "code",
      "metadata": {
        "colab": {
          "base_uri": "https://localhost:8080/"
        },
        "id": "DfD40ZHxBMeo",
        "outputId": "c61349ab-7262-4436-e950-77a906d83439"
      },
      "source": [
        "new_df.shape\n",
        "new_dftest.shape"
      ],
      "execution_count": 30,
      "outputs": [
        {
          "output_type": "execute_result",
          "data": {
            "text/plain": [
              "(28000, 57)"
            ]
          },
          "metadata": {
            "tags": []
          },
          "execution_count": 30
        }
      ]
    },
    {
      "cell_type": "code",
      "metadata": {
        "colab": {
          "base_uri": "https://localhost:8080/",
          "height": 226
        },
        "id": "_U5R9ZR1BMhq",
        "outputId": "39a09bc8-bb36-435a-f843-490ed6e4c76d"
      },
      "source": [
        "new_df.head()"
      ],
      "execution_count": 31,
      "outputs": [
        {
          "output_type": "execute_result",
          "data": {
            "text/html": [
              "<div>\n",
              "<style scoped>\n",
              "    .dataframe tbody tr th:only-of-type {\n",
              "        vertical-align: middle;\n",
              "    }\n",
              "\n",
              "    .dataframe tbody tr th {\n",
              "        vertical-align: top;\n",
              "    }\n",
              "\n",
              "    .dataframe thead th {\n",
              "        text-align: right;\n",
              "    }\n",
              "</style>\n",
              "<table border=\"1\" class=\"dataframe\">\n",
              "  <thead>\n",
              "    <tr style=\"text-align: right;\">\n",
              "      <th></th>\n",
              "      <th>income</th>\n",
              "      <th>age</th>\n",
              "      <th>experience</th>\n",
              "      <th>current_house_years</th>\n",
              "      <th>risk_flag</th>\n",
              "      <th>profession_Air_traffic_controller</th>\n",
              "      <th>profession_Analyst</th>\n",
              "      <th>profession_Architect</th>\n",
              "      <th>profession_Army_officer</th>\n",
              "      <th>profession_Artist</th>\n",
              "      <th>profession_Aviator</th>\n",
              "      <th>profession_Biomedical_Engineer</th>\n",
              "      <th>profession_Chartered_Accountant</th>\n",
              "      <th>profession_Chef</th>\n",
              "      <th>profession_Chemical_engineer</th>\n",
              "      <th>profession_Civil_engineer</th>\n",
              "      <th>profession_Civil_servant</th>\n",
              "      <th>profession_Comedian</th>\n",
              "      <th>profession_Computer_hardware_engineer</th>\n",
              "      <th>profession_Computer_operator</th>\n",
              "      <th>profession_Consultant</th>\n",
              "      <th>profession_Dentist</th>\n",
              "      <th>profession_Design_Engineer</th>\n",
              "      <th>profession_Designer</th>\n",
              "      <th>profession_Drafter</th>\n",
              "      <th>profession_Economist</th>\n",
              "      <th>profession_Engineer</th>\n",
              "      <th>profession_Fashion_Designer</th>\n",
              "      <th>profession_Financial_Analyst</th>\n",
              "      <th>profession_Firefighter</th>\n",
              "      <th>profession_Flight_attendant</th>\n",
              "      <th>profession_Geologist</th>\n",
              "      <th>profession_Graphic_Designer</th>\n",
              "      <th>profession_Hotel_Manager</th>\n",
              "      <th>profession_Industrial_Engineer</th>\n",
              "      <th>profession_Lawyer</th>\n",
              "      <th>profession_Librarian</th>\n",
              "      <th>profession_Magistrate</th>\n",
              "      <th>profession_Mechanical_engineer</th>\n",
              "      <th>profession_Microbiologist</th>\n",
              "      <th>profession_Official</th>\n",
              "      <th>profession_Petroleum_Engineer</th>\n",
              "      <th>profession_Physician</th>\n",
              "      <th>profession_Police_officer</th>\n",
              "      <th>profession_Politician</th>\n",
              "      <th>profession_Psychologist</th>\n",
              "      <th>profession_Scientist</th>\n",
              "      <th>profession_Secretary</th>\n",
              "      <th>profession_Software_Developer</th>\n",
              "      <th>profession_Statistician</th>\n",
              "      <th>profession_Surgeon</th>\n",
              "      <th>profession_Surveyor</th>\n",
              "      <th>profession_Technical_writer</th>\n",
              "      <th>profession_Technician</th>\n",
              "      <th>profession_Technology_specialist</th>\n",
              "      <th>profession_Web_designer</th>\n",
              "      <th>car_ownership_no</th>\n",
              "      <th>car_ownership_yes</th>\n",
              "    </tr>\n",
              "  </thead>\n",
              "  <tbody>\n",
              "    <tr>\n",
              "      <th>0</th>\n",
              "      <td>1303835</td>\n",
              "      <td>23</td>\n",
              "      <td>3</td>\n",
              "      <td>13</td>\n",
              "      <td>0</td>\n",
              "      <td>0</td>\n",
              "      <td>0</td>\n",
              "      <td>0</td>\n",
              "      <td>0</td>\n",
              "      <td>0</td>\n",
              "      <td>0</td>\n",
              "      <td>0</td>\n",
              "      <td>0</td>\n",
              "      <td>0</td>\n",
              "      <td>0</td>\n",
              "      <td>0</td>\n",
              "      <td>0</td>\n",
              "      <td>0</td>\n",
              "      <td>0</td>\n",
              "      <td>0</td>\n",
              "      <td>0</td>\n",
              "      <td>0</td>\n",
              "      <td>0</td>\n",
              "      <td>0</td>\n",
              "      <td>0</td>\n",
              "      <td>0</td>\n",
              "      <td>0</td>\n",
              "      <td>0</td>\n",
              "      <td>0</td>\n",
              "      <td>0</td>\n",
              "      <td>0</td>\n",
              "      <td>0</td>\n",
              "      <td>0</td>\n",
              "      <td>0</td>\n",
              "      <td>0</td>\n",
              "      <td>0</td>\n",
              "      <td>0</td>\n",
              "      <td>0</td>\n",
              "      <td>1</td>\n",
              "      <td>0</td>\n",
              "      <td>0</td>\n",
              "      <td>0</td>\n",
              "      <td>0</td>\n",
              "      <td>0</td>\n",
              "      <td>0</td>\n",
              "      <td>0</td>\n",
              "      <td>0</td>\n",
              "      <td>0</td>\n",
              "      <td>0</td>\n",
              "      <td>0</td>\n",
              "      <td>0</td>\n",
              "      <td>0</td>\n",
              "      <td>0</td>\n",
              "      <td>0</td>\n",
              "      <td>0</td>\n",
              "      <td>0</td>\n",
              "      <td>1</td>\n",
              "      <td>0</td>\n",
              "    </tr>\n",
              "    <tr>\n",
              "      <th>1</th>\n",
              "      <td>7574516</td>\n",
              "      <td>40</td>\n",
              "      <td>10</td>\n",
              "      <td>13</td>\n",
              "      <td>0</td>\n",
              "      <td>0</td>\n",
              "      <td>0</td>\n",
              "      <td>0</td>\n",
              "      <td>0</td>\n",
              "      <td>0</td>\n",
              "      <td>0</td>\n",
              "      <td>0</td>\n",
              "      <td>0</td>\n",
              "      <td>0</td>\n",
              "      <td>0</td>\n",
              "      <td>0</td>\n",
              "      <td>0</td>\n",
              "      <td>0</td>\n",
              "      <td>0</td>\n",
              "      <td>0</td>\n",
              "      <td>0</td>\n",
              "      <td>0</td>\n",
              "      <td>0</td>\n",
              "      <td>0</td>\n",
              "      <td>0</td>\n",
              "      <td>0</td>\n",
              "      <td>0</td>\n",
              "      <td>0</td>\n",
              "      <td>0</td>\n",
              "      <td>0</td>\n",
              "      <td>0</td>\n",
              "      <td>0</td>\n",
              "      <td>0</td>\n",
              "      <td>0</td>\n",
              "      <td>0</td>\n",
              "      <td>0</td>\n",
              "      <td>0</td>\n",
              "      <td>0</td>\n",
              "      <td>0</td>\n",
              "      <td>0</td>\n",
              "      <td>0</td>\n",
              "      <td>0</td>\n",
              "      <td>0</td>\n",
              "      <td>0</td>\n",
              "      <td>0</td>\n",
              "      <td>0</td>\n",
              "      <td>0</td>\n",
              "      <td>0</td>\n",
              "      <td>1</td>\n",
              "      <td>0</td>\n",
              "      <td>0</td>\n",
              "      <td>0</td>\n",
              "      <td>0</td>\n",
              "      <td>0</td>\n",
              "      <td>0</td>\n",
              "      <td>0</td>\n",
              "      <td>1</td>\n",
              "      <td>0</td>\n",
              "    </tr>\n",
              "    <tr>\n",
              "      <th>2</th>\n",
              "      <td>3991815</td>\n",
              "      <td>66</td>\n",
              "      <td>4</td>\n",
              "      <td>10</td>\n",
              "      <td>0</td>\n",
              "      <td>0</td>\n",
              "      <td>0</td>\n",
              "      <td>0</td>\n",
              "      <td>0</td>\n",
              "      <td>0</td>\n",
              "      <td>0</td>\n",
              "      <td>0</td>\n",
              "      <td>0</td>\n",
              "      <td>0</td>\n",
              "      <td>0</td>\n",
              "      <td>0</td>\n",
              "      <td>0</td>\n",
              "      <td>0</td>\n",
              "      <td>0</td>\n",
              "      <td>0</td>\n",
              "      <td>0</td>\n",
              "      <td>0</td>\n",
              "      <td>0</td>\n",
              "      <td>0</td>\n",
              "      <td>0</td>\n",
              "      <td>0</td>\n",
              "      <td>0</td>\n",
              "      <td>0</td>\n",
              "      <td>0</td>\n",
              "      <td>0</td>\n",
              "      <td>0</td>\n",
              "      <td>0</td>\n",
              "      <td>0</td>\n",
              "      <td>0</td>\n",
              "      <td>0</td>\n",
              "      <td>0</td>\n",
              "      <td>0</td>\n",
              "      <td>0</td>\n",
              "      <td>0</td>\n",
              "      <td>0</td>\n",
              "      <td>0</td>\n",
              "      <td>0</td>\n",
              "      <td>0</td>\n",
              "      <td>0</td>\n",
              "      <td>0</td>\n",
              "      <td>0</td>\n",
              "      <td>0</td>\n",
              "      <td>0</td>\n",
              "      <td>0</td>\n",
              "      <td>0</td>\n",
              "      <td>0</td>\n",
              "      <td>0</td>\n",
              "      <td>1</td>\n",
              "      <td>0</td>\n",
              "      <td>0</td>\n",
              "      <td>0</td>\n",
              "      <td>1</td>\n",
              "      <td>0</td>\n",
              "    </tr>\n",
              "    <tr>\n",
              "      <th>3</th>\n",
              "      <td>6256451</td>\n",
              "      <td>41</td>\n",
              "      <td>2</td>\n",
              "      <td>12</td>\n",
              "      <td>1</td>\n",
              "      <td>0</td>\n",
              "      <td>0</td>\n",
              "      <td>0</td>\n",
              "      <td>0</td>\n",
              "      <td>0</td>\n",
              "      <td>0</td>\n",
              "      <td>0</td>\n",
              "      <td>0</td>\n",
              "      <td>0</td>\n",
              "      <td>0</td>\n",
              "      <td>0</td>\n",
              "      <td>0</td>\n",
              "      <td>0</td>\n",
              "      <td>0</td>\n",
              "      <td>0</td>\n",
              "      <td>0</td>\n",
              "      <td>0</td>\n",
              "      <td>0</td>\n",
              "      <td>0</td>\n",
              "      <td>0</td>\n",
              "      <td>0</td>\n",
              "      <td>0</td>\n",
              "      <td>0</td>\n",
              "      <td>0</td>\n",
              "      <td>0</td>\n",
              "      <td>0</td>\n",
              "      <td>0</td>\n",
              "      <td>0</td>\n",
              "      <td>0</td>\n",
              "      <td>0</td>\n",
              "      <td>0</td>\n",
              "      <td>0</td>\n",
              "      <td>0</td>\n",
              "      <td>0</td>\n",
              "      <td>0</td>\n",
              "      <td>0</td>\n",
              "      <td>0</td>\n",
              "      <td>0</td>\n",
              "      <td>0</td>\n",
              "      <td>0</td>\n",
              "      <td>0</td>\n",
              "      <td>0</td>\n",
              "      <td>0</td>\n",
              "      <td>1</td>\n",
              "      <td>0</td>\n",
              "      <td>0</td>\n",
              "      <td>0</td>\n",
              "      <td>0</td>\n",
              "      <td>0</td>\n",
              "      <td>0</td>\n",
              "      <td>0</td>\n",
              "      <td>0</td>\n",
              "      <td>1</td>\n",
              "    </tr>\n",
              "    <tr>\n",
              "      <th>4</th>\n",
              "      <td>5768871</td>\n",
              "      <td>47</td>\n",
              "      <td>11</td>\n",
              "      <td>14</td>\n",
              "      <td>1</td>\n",
              "      <td>0</td>\n",
              "      <td>0</td>\n",
              "      <td>0</td>\n",
              "      <td>0</td>\n",
              "      <td>0</td>\n",
              "      <td>0</td>\n",
              "      <td>0</td>\n",
              "      <td>0</td>\n",
              "      <td>0</td>\n",
              "      <td>0</td>\n",
              "      <td>0</td>\n",
              "      <td>1</td>\n",
              "      <td>0</td>\n",
              "      <td>0</td>\n",
              "      <td>0</td>\n",
              "      <td>0</td>\n",
              "      <td>0</td>\n",
              "      <td>0</td>\n",
              "      <td>0</td>\n",
              "      <td>0</td>\n",
              "      <td>0</td>\n",
              "      <td>0</td>\n",
              "      <td>0</td>\n",
              "      <td>0</td>\n",
              "      <td>0</td>\n",
              "      <td>0</td>\n",
              "      <td>0</td>\n",
              "      <td>0</td>\n",
              "      <td>0</td>\n",
              "      <td>0</td>\n",
              "      <td>0</td>\n",
              "      <td>0</td>\n",
              "      <td>0</td>\n",
              "      <td>0</td>\n",
              "      <td>0</td>\n",
              "      <td>0</td>\n",
              "      <td>0</td>\n",
              "      <td>0</td>\n",
              "      <td>0</td>\n",
              "      <td>0</td>\n",
              "      <td>0</td>\n",
              "      <td>0</td>\n",
              "      <td>0</td>\n",
              "      <td>0</td>\n",
              "      <td>0</td>\n",
              "      <td>0</td>\n",
              "      <td>0</td>\n",
              "      <td>0</td>\n",
              "      <td>0</td>\n",
              "      <td>0</td>\n",
              "      <td>0</td>\n",
              "      <td>1</td>\n",
              "      <td>0</td>\n",
              "    </tr>\n",
              "  </tbody>\n",
              "</table>\n",
              "</div>"
            ],
            "text/plain": [
              "    income  age  ...  car_ownership_no  car_ownership_yes\n",
              "0  1303835   23  ...                 1                  0\n",
              "1  7574516   40  ...                 1                  0\n",
              "2  3991815   66  ...                 1                  0\n",
              "3  6256451   41  ...                 0                  1\n",
              "4  5768871   47  ...                 1                  0\n",
              "\n",
              "[5 rows x 58 columns]"
            ]
          },
          "metadata": {
            "tags": []
          },
          "execution_count": 31
        }
      ]
    },
    {
      "cell_type": "code",
      "metadata": {
        "colab": {
          "base_uri": "https://localhost:8080/",
          "height": 261
        },
        "id": "bELCmJFGBMkt",
        "outputId": "b0b3e869-5528-4759-bb77-6a63b7aeffea"
      },
      "source": [
        "new_dftest.head()"
      ],
      "execution_count": 32,
      "outputs": [
        {
          "output_type": "execute_result",
          "data": {
            "text/html": [
              "<div>\n",
              "<style scoped>\n",
              "    .dataframe tbody tr th:only-of-type {\n",
              "        vertical-align: middle;\n",
              "    }\n",
              "\n",
              "    .dataframe tbody tr th {\n",
              "        vertical-align: top;\n",
              "    }\n",
              "\n",
              "    .dataframe thead th {\n",
              "        text-align: right;\n",
              "    }\n",
              "</style>\n",
              "<table border=\"1\" class=\"dataframe\">\n",
              "  <thead>\n",
              "    <tr style=\"text-align: right;\">\n",
              "      <th></th>\n",
              "      <th>income</th>\n",
              "      <th>age</th>\n",
              "      <th>experience</th>\n",
              "      <th>current_house_years</th>\n",
              "      <th>profession_Air traffic controller</th>\n",
              "      <th>profession_Analyst</th>\n",
              "      <th>profession_Architect</th>\n",
              "      <th>profession_Army officer</th>\n",
              "      <th>profession_Artist</th>\n",
              "      <th>profession_Aviator</th>\n",
              "      <th>profession_Biomedical Engineer</th>\n",
              "      <th>profession_Chartered Accountant</th>\n",
              "      <th>profession_Chef</th>\n",
              "      <th>profession_Chemical engineer</th>\n",
              "      <th>profession_Civil engineer</th>\n",
              "      <th>profession_Civil servant</th>\n",
              "      <th>profession_Comedian</th>\n",
              "      <th>profession_Computer hardware engineer</th>\n",
              "      <th>profession_Computer operator</th>\n",
              "      <th>profession_Consultant</th>\n",
              "      <th>profession_Dentist</th>\n",
              "      <th>profession_Design Engineer</th>\n",
              "      <th>profession_Designer</th>\n",
              "      <th>profession_Drafter</th>\n",
              "      <th>profession_Economist</th>\n",
              "      <th>profession_Engineer</th>\n",
              "      <th>profession_Fashion Designer</th>\n",
              "      <th>profession_Financial Analyst</th>\n",
              "      <th>profession_Firefighter</th>\n",
              "      <th>profession_Flight attendant</th>\n",
              "      <th>profession_Geologist</th>\n",
              "      <th>profession_Graphic Designer</th>\n",
              "      <th>profession_Hotel Manager</th>\n",
              "      <th>profession_Industrial Engineer</th>\n",
              "      <th>profession_Lawyer</th>\n",
              "      <th>profession_Librarian</th>\n",
              "      <th>profession_Magistrate</th>\n",
              "      <th>profession_Mechanical engineer</th>\n",
              "      <th>profession_Microbiologist</th>\n",
              "      <th>profession_Official</th>\n",
              "      <th>profession_Petroleum Engineer</th>\n",
              "      <th>profession_Physician</th>\n",
              "      <th>profession_Police officer</th>\n",
              "      <th>profession_Politician</th>\n",
              "      <th>profession_Psychologist</th>\n",
              "      <th>profession_Scientist</th>\n",
              "      <th>profession_Secretary</th>\n",
              "      <th>profession_Software Developer</th>\n",
              "      <th>profession_Statistician</th>\n",
              "      <th>profession_Surgeon</th>\n",
              "      <th>profession_Surveyor</th>\n",
              "      <th>profession_Technical writer</th>\n",
              "      <th>profession_Technician</th>\n",
              "      <th>profession_Technology specialist</th>\n",
              "      <th>profession_Web designer</th>\n",
              "      <th>car_ownership_no</th>\n",
              "      <th>car_ownership_yes</th>\n",
              "    </tr>\n",
              "  </thead>\n",
              "  <tbody>\n",
              "    <tr>\n",
              "      <th>0</th>\n",
              "      <td>7393090</td>\n",
              "      <td>59</td>\n",
              "      <td>19</td>\n",
              "      <td>13</td>\n",
              "      <td>0</td>\n",
              "      <td>0</td>\n",
              "      <td>0</td>\n",
              "      <td>0</td>\n",
              "      <td>0</td>\n",
              "      <td>0</td>\n",
              "      <td>0</td>\n",
              "      <td>0</td>\n",
              "      <td>0</td>\n",
              "      <td>0</td>\n",
              "      <td>0</td>\n",
              "      <td>0</td>\n",
              "      <td>0</td>\n",
              "      <td>0</td>\n",
              "      <td>0</td>\n",
              "      <td>0</td>\n",
              "      <td>0</td>\n",
              "      <td>0</td>\n",
              "      <td>0</td>\n",
              "      <td>0</td>\n",
              "      <td>0</td>\n",
              "      <td>0</td>\n",
              "      <td>0</td>\n",
              "      <td>0</td>\n",
              "      <td>0</td>\n",
              "      <td>0</td>\n",
              "      <td>1</td>\n",
              "      <td>0</td>\n",
              "      <td>0</td>\n",
              "      <td>0</td>\n",
              "      <td>0</td>\n",
              "      <td>0</td>\n",
              "      <td>0</td>\n",
              "      <td>0</td>\n",
              "      <td>0</td>\n",
              "      <td>0</td>\n",
              "      <td>0</td>\n",
              "      <td>0</td>\n",
              "      <td>0</td>\n",
              "      <td>0</td>\n",
              "      <td>0</td>\n",
              "      <td>0</td>\n",
              "      <td>0</td>\n",
              "      <td>0</td>\n",
              "      <td>0</td>\n",
              "      <td>0</td>\n",
              "      <td>0</td>\n",
              "      <td>0</td>\n",
              "      <td>0</td>\n",
              "      <td>0</td>\n",
              "      <td>0</td>\n",
              "      <td>1</td>\n",
              "      <td>0</td>\n",
              "    </tr>\n",
              "    <tr>\n",
              "      <th>1</th>\n",
              "      <td>1215004</td>\n",
              "      <td>25</td>\n",
              "      <td>5</td>\n",
              "      <td>10</td>\n",
              "      <td>0</td>\n",
              "      <td>0</td>\n",
              "      <td>0</td>\n",
              "      <td>0</td>\n",
              "      <td>0</td>\n",
              "      <td>0</td>\n",
              "      <td>0</td>\n",
              "      <td>0</td>\n",
              "      <td>0</td>\n",
              "      <td>0</td>\n",
              "      <td>0</td>\n",
              "      <td>0</td>\n",
              "      <td>0</td>\n",
              "      <td>0</td>\n",
              "      <td>0</td>\n",
              "      <td>0</td>\n",
              "      <td>0</td>\n",
              "      <td>0</td>\n",
              "      <td>0</td>\n",
              "      <td>0</td>\n",
              "      <td>0</td>\n",
              "      <td>0</td>\n",
              "      <td>0</td>\n",
              "      <td>0</td>\n",
              "      <td>1</td>\n",
              "      <td>0</td>\n",
              "      <td>0</td>\n",
              "      <td>0</td>\n",
              "      <td>0</td>\n",
              "      <td>0</td>\n",
              "      <td>0</td>\n",
              "      <td>0</td>\n",
              "      <td>0</td>\n",
              "      <td>0</td>\n",
              "      <td>0</td>\n",
              "      <td>0</td>\n",
              "      <td>0</td>\n",
              "      <td>0</td>\n",
              "      <td>0</td>\n",
              "      <td>0</td>\n",
              "      <td>0</td>\n",
              "      <td>0</td>\n",
              "      <td>0</td>\n",
              "      <td>0</td>\n",
              "      <td>0</td>\n",
              "      <td>0</td>\n",
              "      <td>0</td>\n",
              "      <td>0</td>\n",
              "      <td>0</td>\n",
              "      <td>0</td>\n",
              "      <td>0</td>\n",
              "      <td>1</td>\n",
              "      <td>0</td>\n",
              "    </tr>\n",
              "    <tr>\n",
              "      <th>2</th>\n",
              "      <td>8901342</td>\n",
              "      <td>50</td>\n",
              "      <td>12</td>\n",
              "      <td>14</td>\n",
              "      <td>0</td>\n",
              "      <td>0</td>\n",
              "      <td>0</td>\n",
              "      <td>0</td>\n",
              "      <td>0</td>\n",
              "      <td>0</td>\n",
              "      <td>0</td>\n",
              "      <td>0</td>\n",
              "      <td>0</td>\n",
              "      <td>0</td>\n",
              "      <td>0</td>\n",
              "      <td>0</td>\n",
              "      <td>0</td>\n",
              "      <td>0</td>\n",
              "      <td>0</td>\n",
              "      <td>0</td>\n",
              "      <td>0</td>\n",
              "      <td>0</td>\n",
              "      <td>0</td>\n",
              "      <td>0</td>\n",
              "      <td>0</td>\n",
              "      <td>0</td>\n",
              "      <td>0</td>\n",
              "      <td>0</td>\n",
              "      <td>0</td>\n",
              "      <td>0</td>\n",
              "      <td>0</td>\n",
              "      <td>0</td>\n",
              "      <td>0</td>\n",
              "      <td>0</td>\n",
              "      <td>1</td>\n",
              "      <td>0</td>\n",
              "      <td>0</td>\n",
              "      <td>0</td>\n",
              "      <td>0</td>\n",
              "      <td>0</td>\n",
              "      <td>0</td>\n",
              "      <td>0</td>\n",
              "      <td>0</td>\n",
              "      <td>0</td>\n",
              "      <td>0</td>\n",
              "      <td>0</td>\n",
              "      <td>0</td>\n",
              "      <td>0</td>\n",
              "      <td>0</td>\n",
              "      <td>0</td>\n",
              "      <td>0</td>\n",
              "      <td>0</td>\n",
              "      <td>0</td>\n",
              "      <td>0</td>\n",
              "      <td>0</td>\n",
              "      <td>1</td>\n",
              "      <td>0</td>\n",
              "    </tr>\n",
              "    <tr>\n",
              "      <th>3</th>\n",
              "      <td>1944421</td>\n",
              "      <td>49</td>\n",
              "      <td>9</td>\n",
              "      <td>12</td>\n",
              "      <td>0</td>\n",
              "      <td>1</td>\n",
              "      <td>0</td>\n",
              "      <td>0</td>\n",
              "      <td>0</td>\n",
              "      <td>0</td>\n",
              "      <td>0</td>\n",
              "      <td>0</td>\n",
              "      <td>0</td>\n",
              "      <td>0</td>\n",
              "      <td>0</td>\n",
              "      <td>0</td>\n",
              "      <td>0</td>\n",
              "      <td>0</td>\n",
              "      <td>0</td>\n",
              "      <td>0</td>\n",
              "      <td>0</td>\n",
              "      <td>0</td>\n",
              "      <td>0</td>\n",
              "      <td>0</td>\n",
              "      <td>0</td>\n",
              "      <td>0</td>\n",
              "      <td>0</td>\n",
              "      <td>0</td>\n",
              "      <td>0</td>\n",
              "      <td>0</td>\n",
              "      <td>0</td>\n",
              "      <td>0</td>\n",
              "      <td>0</td>\n",
              "      <td>0</td>\n",
              "      <td>0</td>\n",
              "      <td>0</td>\n",
              "      <td>0</td>\n",
              "      <td>0</td>\n",
              "      <td>0</td>\n",
              "      <td>0</td>\n",
              "      <td>0</td>\n",
              "      <td>0</td>\n",
              "      <td>0</td>\n",
              "      <td>0</td>\n",
              "      <td>0</td>\n",
              "      <td>0</td>\n",
              "      <td>0</td>\n",
              "      <td>0</td>\n",
              "      <td>0</td>\n",
              "      <td>0</td>\n",
              "      <td>0</td>\n",
              "      <td>0</td>\n",
              "      <td>0</td>\n",
              "      <td>0</td>\n",
              "      <td>0</td>\n",
              "      <td>0</td>\n",
              "      <td>1</td>\n",
              "    </tr>\n",
              "    <tr>\n",
              "      <th>4</th>\n",
              "      <td>13429</td>\n",
              "      <td>25</td>\n",
              "      <td>18</td>\n",
              "      <td>11</td>\n",
              "      <td>0</td>\n",
              "      <td>0</td>\n",
              "      <td>0</td>\n",
              "      <td>0</td>\n",
              "      <td>0</td>\n",
              "      <td>0</td>\n",
              "      <td>0</td>\n",
              "      <td>0</td>\n",
              "      <td>0</td>\n",
              "      <td>0</td>\n",
              "      <td>0</td>\n",
              "      <td>0</td>\n",
              "      <td>1</td>\n",
              "      <td>0</td>\n",
              "      <td>0</td>\n",
              "      <td>0</td>\n",
              "      <td>0</td>\n",
              "      <td>0</td>\n",
              "      <td>0</td>\n",
              "      <td>0</td>\n",
              "      <td>0</td>\n",
              "      <td>0</td>\n",
              "      <td>0</td>\n",
              "      <td>0</td>\n",
              "      <td>0</td>\n",
              "      <td>0</td>\n",
              "      <td>0</td>\n",
              "      <td>0</td>\n",
              "      <td>0</td>\n",
              "      <td>0</td>\n",
              "      <td>0</td>\n",
              "      <td>0</td>\n",
              "      <td>0</td>\n",
              "      <td>0</td>\n",
              "      <td>0</td>\n",
              "      <td>0</td>\n",
              "      <td>0</td>\n",
              "      <td>0</td>\n",
              "      <td>0</td>\n",
              "      <td>0</td>\n",
              "      <td>0</td>\n",
              "      <td>0</td>\n",
              "      <td>0</td>\n",
              "      <td>0</td>\n",
              "      <td>0</td>\n",
              "      <td>0</td>\n",
              "      <td>0</td>\n",
              "      <td>0</td>\n",
              "      <td>0</td>\n",
              "      <td>0</td>\n",
              "      <td>0</td>\n",
              "      <td>0</td>\n",
              "      <td>1</td>\n",
              "    </tr>\n",
              "  </tbody>\n",
              "</table>\n",
              "</div>"
            ],
            "text/plain": [
              "    income  age  ...  car_ownership_no  car_ownership_yes\n",
              "0  7393090   59  ...                 1                  0\n",
              "1  1215004   25  ...                 1                  0\n",
              "2  8901342   50  ...                 1                  0\n",
              "3  1944421   49  ...                 0                  1\n",
              "4    13429   25  ...                 0                  1\n",
              "\n",
              "[5 rows x 57 columns]"
            ]
          },
          "metadata": {
            "tags": []
          },
          "execution_count": 32
        }
      ]
    },
    {
      "cell_type": "markdown",
      "metadata": {
        "id": "8XJmItFgFFbP"
      },
      "source": [
        "#Lets split the data into X,Y and standardize"
      ]
    },
    {
      "cell_type": "code",
      "metadata": {
        "id": "Cb3Oac_RFUZm"
      },
      "source": [
        "def check_mod(name,x,y):\n",
        "  for i in range(3):\n",
        "    xtrain,xtest,ytrain,ytest = train_test_split(x,y,stratify=Y)\n",
        "    mod = name\n",
        "    mod.fit(xtrain,ytrain)\n",
        "    ypred= mod.predict(xtest)\n",
        "    print('roc_auc:',roc_auc_score(ytest,ypred))"
      ],
      "execution_count": 44,
      "outputs": []
    },
    {
      "cell_type": "code",
      "metadata": {
        "id": "qngGEUclBPVC"
      },
      "source": [
        "X = new_df.drop('risk_flag',axis=1)\n",
        "Y = new_df['risk_flag']"
      ],
      "execution_count": 35,
      "outputs": []
    },
    {
      "cell_type": "code",
      "metadata": {
        "id": "nqKPFjRwBrnH"
      },
      "source": [
        "from sklearn.preprocessing import StandardScaler\n",
        "sc = StandardScaler()\n",
        "X_std = sc.fit_transform(X)"
      ],
      "execution_count": 38,
      "outputs": []
    },
    {
      "cell_type": "code",
      "metadata": {
        "colab": {
          "base_uri": "https://localhost:8080/",
          "height": 226
        },
        "id": "fc1Rqr3fCE60",
        "outputId": "437227ce-cee6-41ba-f970-37604c880080"
      },
      "source": [
        "X_std = pd.DataFrame(X_std,columns=X.columns)\n",
        "X_std.head()"
      ],
      "execution_count": 41,
      "outputs": [
        {
          "output_type": "execute_result",
          "data": {
            "text/html": [
              "<div>\n",
              "<style scoped>\n",
              "    .dataframe tbody tr th:only-of-type {\n",
              "        vertical-align: middle;\n",
              "    }\n",
              "\n",
              "    .dataframe tbody tr th {\n",
              "        vertical-align: top;\n",
              "    }\n",
              "\n",
              "    .dataframe thead th {\n",
              "        text-align: right;\n",
              "    }\n",
              "</style>\n",
              "<table border=\"1\" class=\"dataframe\">\n",
              "  <thead>\n",
              "    <tr style=\"text-align: right;\">\n",
              "      <th></th>\n",
              "      <th>income</th>\n",
              "      <th>age</th>\n",
              "      <th>experience</th>\n",
              "      <th>current_house_years</th>\n",
              "      <th>profession_Air_traffic_controller</th>\n",
              "      <th>profession_Analyst</th>\n",
              "      <th>profession_Architect</th>\n",
              "      <th>profession_Army_officer</th>\n",
              "      <th>profession_Artist</th>\n",
              "      <th>profession_Aviator</th>\n",
              "      <th>profession_Biomedical_Engineer</th>\n",
              "      <th>profession_Chartered_Accountant</th>\n",
              "      <th>profession_Chef</th>\n",
              "      <th>profession_Chemical_engineer</th>\n",
              "      <th>profession_Civil_engineer</th>\n",
              "      <th>profession_Civil_servant</th>\n",
              "      <th>profession_Comedian</th>\n",
              "      <th>profession_Computer_hardware_engineer</th>\n",
              "      <th>profession_Computer_operator</th>\n",
              "      <th>profession_Consultant</th>\n",
              "      <th>profession_Dentist</th>\n",
              "      <th>profession_Design_Engineer</th>\n",
              "      <th>profession_Designer</th>\n",
              "      <th>profession_Drafter</th>\n",
              "      <th>profession_Economist</th>\n",
              "      <th>profession_Engineer</th>\n",
              "      <th>profession_Fashion_Designer</th>\n",
              "      <th>profession_Financial_Analyst</th>\n",
              "      <th>profession_Firefighter</th>\n",
              "      <th>profession_Flight_attendant</th>\n",
              "      <th>profession_Geologist</th>\n",
              "      <th>profession_Graphic_Designer</th>\n",
              "      <th>profession_Hotel_Manager</th>\n",
              "      <th>profession_Industrial_Engineer</th>\n",
              "      <th>profession_Lawyer</th>\n",
              "      <th>profession_Librarian</th>\n",
              "      <th>profession_Magistrate</th>\n",
              "      <th>profession_Mechanical_engineer</th>\n",
              "      <th>profession_Microbiologist</th>\n",
              "      <th>profession_Official</th>\n",
              "      <th>profession_Petroleum_Engineer</th>\n",
              "      <th>profession_Physician</th>\n",
              "      <th>profession_Police_officer</th>\n",
              "      <th>profession_Politician</th>\n",
              "      <th>profession_Psychologist</th>\n",
              "      <th>profession_Scientist</th>\n",
              "      <th>profession_Secretary</th>\n",
              "      <th>profession_Software_Developer</th>\n",
              "      <th>profession_Statistician</th>\n",
              "      <th>profession_Surgeon</th>\n",
              "      <th>profession_Surveyor</th>\n",
              "      <th>profession_Technical_writer</th>\n",
              "      <th>profession_Technician</th>\n",
              "      <th>profession_Technology_specialist</th>\n",
              "      <th>profession_Web_designer</th>\n",
              "      <th>car_ownership_no</th>\n",
              "      <th>car_ownership_yes</th>\n",
              "    </tr>\n",
              "  </thead>\n",
              "  <tbody>\n",
              "    <tr>\n",
              "      <th>0</th>\n",
              "      <td>-1.283145</td>\n",
              "      <td>-1.579603</td>\n",
              "      <td>-1.180232</td>\n",
              "      <td>0.716356</td>\n",
              "      <td>-0.146304</td>\n",
              "      <td>-0.137381</td>\n",
              "      <td>-0.137216</td>\n",
              "      <td>-0.137276</td>\n",
              "      <td>-0.140247</td>\n",
              "      <td>-0.138724</td>\n",
              "      <td>-0.14411</td>\n",
              "      <td>-0.134733</td>\n",
              "      <td>-0.136885</td>\n",
              "      <td>-0.145225</td>\n",
              "      <td>-0.136599</td>\n",
              "      <td>-0.133507</td>\n",
              "      <td>-0.145993</td>\n",
              "      <td>-0.147587</td>\n",
              "      <td>-0.142132</td>\n",
              "      <td>-0.139465</td>\n",
              "      <td>-0.13908</td>\n",
              "      <td>-0.138292</td>\n",
              "      <td>-0.136327</td>\n",
              "      <td>-0.147404</td>\n",
              "      <td>-0.135949</td>\n",
              "      <td>-0.127772</td>\n",
              "      <td>-0.146629</td>\n",
              "      <td>-0.144683</td>\n",
              "      <td>-0.134947</td>\n",
              "      <td>-0.144125</td>\n",
              "      <td>-0.137441</td>\n",
              "      <td>-0.144669</td>\n",
              "      <td>-0.14484</td>\n",
              "      <td>-0.145865</td>\n",
              "      <td>-0.139613</td>\n",
              "      <td>-0.13678</td>\n",
              "      <td>-0.147376</td>\n",
              "      <td>6.877763</td>\n",
              "      <td>-0.14054</td>\n",
              "      <td>-0.128396</td>\n",
              "      <td>-0.142872</td>\n",
              "      <td>-0.1556</td>\n",
              "      <td>-0.142785</td>\n",
              "      <td>-0.141463</td>\n",
              "      <td>-0.147839</td>\n",
              "      <td>-0.139065</td>\n",
              "      <td>-0.143161</td>\n",
              "      <td>-0.143045</td>\n",
              "      <td>-0.153568</td>\n",
              "      <td>-0.138932</td>\n",
              "      <td>-0.138069</td>\n",
              "      <td>-0.145083</td>\n",
              "      <td>-0.140291</td>\n",
              "      <td>-0.138411</td>\n",
              "      <td>-0.147937</td>\n",
              "      <td>0.657129</td>\n",
              "      <td>-0.657129</td>\n",
              "    </tr>\n",
              "    <tr>\n",
              "      <th>1</th>\n",
              "      <td>0.895457</td>\n",
              "      <td>-0.583343</td>\n",
              "      <td>-0.014067</td>\n",
              "      <td>0.716356</td>\n",
              "      <td>-0.146304</td>\n",
              "      <td>-0.137381</td>\n",
              "      <td>-0.137216</td>\n",
              "      <td>-0.137276</td>\n",
              "      <td>-0.140247</td>\n",
              "      <td>-0.138724</td>\n",
              "      <td>-0.14411</td>\n",
              "      <td>-0.134733</td>\n",
              "      <td>-0.136885</td>\n",
              "      <td>-0.145225</td>\n",
              "      <td>-0.136599</td>\n",
              "      <td>-0.133507</td>\n",
              "      <td>-0.145993</td>\n",
              "      <td>-0.147587</td>\n",
              "      <td>-0.142132</td>\n",
              "      <td>-0.139465</td>\n",
              "      <td>-0.13908</td>\n",
              "      <td>-0.138292</td>\n",
              "      <td>-0.136327</td>\n",
              "      <td>-0.147404</td>\n",
              "      <td>-0.135949</td>\n",
              "      <td>-0.127772</td>\n",
              "      <td>-0.146629</td>\n",
              "      <td>-0.144683</td>\n",
              "      <td>-0.134947</td>\n",
              "      <td>-0.144125</td>\n",
              "      <td>-0.137441</td>\n",
              "      <td>-0.144669</td>\n",
              "      <td>-0.14484</td>\n",
              "      <td>-0.145865</td>\n",
              "      <td>-0.139613</td>\n",
              "      <td>-0.13678</td>\n",
              "      <td>-0.147376</td>\n",
              "      <td>-0.145396</td>\n",
              "      <td>-0.14054</td>\n",
              "      <td>-0.128396</td>\n",
              "      <td>-0.142872</td>\n",
              "      <td>-0.1556</td>\n",
              "      <td>-0.142785</td>\n",
              "      <td>-0.141463</td>\n",
              "      <td>-0.147839</td>\n",
              "      <td>-0.139065</td>\n",
              "      <td>-0.143161</td>\n",
              "      <td>6.990806</td>\n",
              "      <td>-0.153568</td>\n",
              "      <td>-0.138932</td>\n",
              "      <td>-0.138069</td>\n",
              "      <td>-0.145083</td>\n",
              "      <td>-0.140291</td>\n",
              "      <td>-0.138411</td>\n",
              "      <td>-0.147937</td>\n",
              "      <td>0.657129</td>\n",
              "      <td>-0.657129</td>\n",
              "    </tr>\n",
              "    <tr>\n",
              "      <th>2</th>\n",
              "      <td>-0.349269</td>\n",
              "      <td>0.940347</td>\n",
              "      <td>-1.013637</td>\n",
              "      <td>-1.427981</td>\n",
              "      <td>-0.146304</td>\n",
              "      <td>-0.137381</td>\n",
              "      <td>-0.137216</td>\n",
              "      <td>-0.137276</td>\n",
              "      <td>-0.140247</td>\n",
              "      <td>-0.138724</td>\n",
              "      <td>-0.14411</td>\n",
              "      <td>-0.134733</td>\n",
              "      <td>-0.136885</td>\n",
              "      <td>-0.145225</td>\n",
              "      <td>-0.136599</td>\n",
              "      <td>-0.133507</td>\n",
              "      <td>-0.145993</td>\n",
              "      <td>-0.147587</td>\n",
              "      <td>-0.142132</td>\n",
              "      <td>-0.139465</td>\n",
              "      <td>-0.13908</td>\n",
              "      <td>-0.138292</td>\n",
              "      <td>-0.136327</td>\n",
              "      <td>-0.147404</td>\n",
              "      <td>-0.135949</td>\n",
              "      <td>-0.127772</td>\n",
              "      <td>-0.146629</td>\n",
              "      <td>-0.144683</td>\n",
              "      <td>-0.134947</td>\n",
              "      <td>-0.144125</td>\n",
              "      <td>-0.137441</td>\n",
              "      <td>-0.144669</td>\n",
              "      <td>-0.14484</td>\n",
              "      <td>-0.145865</td>\n",
              "      <td>-0.139613</td>\n",
              "      <td>-0.13678</td>\n",
              "      <td>-0.147376</td>\n",
              "      <td>-0.145396</td>\n",
              "      <td>-0.14054</td>\n",
              "      <td>-0.128396</td>\n",
              "      <td>-0.142872</td>\n",
              "      <td>-0.1556</td>\n",
              "      <td>-0.142785</td>\n",
              "      <td>-0.141463</td>\n",
              "      <td>-0.147839</td>\n",
              "      <td>-0.139065</td>\n",
              "      <td>-0.143161</td>\n",
              "      <td>-0.143045</td>\n",
              "      <td>-0.153568</td>\n",
              "      <td>-0.138932</td>\n",
              "      <td>-0.138069</td>\n",
              "      <td>6.892618</td>\n",
              "      <td>-0.140291</td>\n",
              "      <td>-0.138411</td>\n",
              "      <td>-0.147937</td>\n",
              "      <td>0.657129</td>\n",
              "      <td>-0.657129</td>\n",
              "    </tr>\n",
              "    <tr>\n",
              "      <th>3</th>\n",
              "      <td>0.437526</td>\n",
              "      <td>-0.524740</td>\n",
              "      <td>-1.346827</td>\n",
              "      <td>0.001577</td>\n",
              "      <td>-0.146304</td>\n",
              "      <td>-0.137381</td>\n",
              "      <td>-0.137216</td>\n",
              "      <td>-0.137276</td>\n",
              "      <td>-0.140247</td>\n",
              "      <td>-0.138724</td>\n",
              "      <td>-0.14411</td>\n",
              "      <td>-0.134733</td>\n",
              "      <td>-0.136885</td>\n",
              "      <td>-0.145225</td>\n",
              "      <td>-0.136599</td>\n",
              "      <td>-0.133507</td>\n",
              "      <td>-0.145993</td>\n",
              "      <td>-0.147587</td>\n",
              "      <td>-0.142132</td>\n",
              "      <td>-0.139465</td>\n",
              "      <td>-0.13908</td>\n",
              "      <td>-0.138292</td>\n",
              "      <td>-0.136327</td>\n",
              "      <td>-0.147404</td>\n",
              "      <td>-0.135949</td>\n",
              "      <td>-0.127772</td>\n",
              "      <td>-0.146629</td>\n",
              "      <td>-0.144683</td>\n",
              "      <td>-0.134947</td>\n",
              "      <td>-0.144125</td>\n",
              "      <td>-0.137441</td>\n",
              "      <td>-0.144669</td>\n",
              "      <td>-0.14484</td>\n",
              "      <td>-0.145865</td>\n",
              "      <td>-0.139613</td>\n",
              "      <td>-0.13678</td>\n",
              "      <td>-0.147376</td>\n",
              "      <td>-0.145396</td>\n",
              "      <td>-0.14054</td>\n",
              "      <td>-0.128396</td>\n",
              "      <td>-0.142872</td>\n",
              "      <td>-0.1556</td>\n",
              "      <td>-0.142785</td>\n",
              "      <td>-0.141463</td>\n",
              "      <td>-0.147839</td>\n",
              "      <td>-0.139065</td>\n",
              "      <td>-0.143161</td>\n",
              "      <td>6.990806</td>\n",
              "      <td>-0.153568</td>\n",
              "      <td>-0.138932</td>\n",
              "      <td>-0.138069</td>\n",
              "      <td>-0.145083</td>\n",
              "      <td>-0.140291</td>\n",
              "      <td>-0.138411</td>\n",
              "      <td>-0.147937</td>\n",
              "      <td>-1.521772</td>\n",
              "      <td>1.521772</td>\n",
              "    </tr>\n",
              "    <tr>\n",
              "      <th>4</th>\n",
              "      <td>0.268128</td>\n",
              "      <td>-0.173119</td>\n",
              "      <td>0.152528</td>\n",
              "      <td>1.431135</td>\n",
              "      <td>-0.146304</td>\n",
              "      <td>-0.137381</td>\n",
              "      <td>-0.137216</td>\n",
              "      <td>-0.137276</td>\n",
              "      <td>-0.140247</td>\n",
              "      <td>-0.138724</td>\n",
              "      <td>-0.14411</td>\n",
              "      <td>-0.134733</td>\n",
              "      <td>-0.136885</td>\n",
              "      <td>-0.145225</td>\n",
              "      <td>-0.136599</td>\n",
              "      <td>7.490261</td>\n",
              "      <td>-0.145993</td>\n",
              "      <td>-0.147587</td>\n",
              "      <td>-0.142132</td>\n",
              "      <td>-0.139465</td>\n",
              "      <td>-0.13908</td>\n",
              "      <td>-0.138292</td>\n",
              "      <td>-0.136327</td>\n",
              "      <td>-0.147404</td>\n",
              "      <td>-0.135949</td>\n",
              "      <td>-0.127772</td>\n",
              "      <td>-0.146629</td>\n",
              "      <td>-0.144683</td>\n",
              "      <td>-0.134947</td>\n",
              "      <td>-0.144125</td>\n",
              "      <td>-0.137441</td>\n",
              "      <td>-0.144669</td>\n",
              "      <td>-0.14484</td>\n",
              "      <td>-0.145865</td>\n",
              "      <td>-0.139613</td>\n",
              "      <td>-0.13678</td>\n",
              "      <td>-0.147376</td>\n",
              "      <td>-0.145396</td>\n",
              "      <td>-0.14054</td>\n",
              "      <td>-0.128396</td>\n",
              "      <td>-0.142872</td>\n",
              "      <td>-0.1556</td>\n",
              "      <td>-0.142785</td>\n",
              "      <td>-0.141463</td>\n",
              "      <td>-0.147839</td>\n",
              "      <td>-0.139065</td>\n",
              "      <td>-0.143161</td>\n",
              "      <td>-0.143045</td>\n",
              "      <td>-0.153568</td>\n",
              "      <td>-0.138932</td>\n",
              "      <td>-0.138069</td>\n",
              "      <td>-0.145083</td>\n",
              "      <td>-0.140291</td>\n",
              "      <td>-0.138411</td>\n",
              "      <td>-0.147937</td>\n",
              "      <td>0.657129</td>\n",
              "      <td>-0.657129</td>\n",
              "    </tr>\n",
              "  </tbody>\n",
              "</table>\n",
              "</div>"
            ],
            "text/plain": [
              "     income       age  ...  car_ownership_no  car_ownership_yes\n",
              "0 -1.283145 -1.579603  ...          0.657129          -0.657129\n",
              "1  0.895457 -0.583343  ...          0.657129          -0.657129\n",
              "2 -0.349269  0.940347  ...          0.657129          -0.657129\n",
              "3  0.437526 -0.524740  ...         -1.521772           1.521772\n",
              "4  0.268128 -0.173119  ...          0.657129          -0.657129\n",
              "\n",
              "[5 rows x 57 columns]"
            ]
          },
          "metadata": {
            "tags": []
          },
          "execution_count": 41
        }
      ]
    },
    {
      "cell_type": "code",
      "metadata": {
        "id": "2e3yxDDHMFdj"
      },
      "source": [
        "from sklearn.preprocessing import Normalizer\n",
        "nm = Normalizer()\n",
        "X_nm = nm.fit_transform(X)"
      ],
      "execution_count": 51,
      "outputs": []
    },
    {
      "cell_type": "code",
      "metadata": {
        "colab": {
          "base_uri": "https://localhost:8080/",
          "height": 226
        },
        "id": "OolxO5jUMVNp",
        "outputId": "3685efe0-1259-439f-88f8-9b089a085d5b"
      },
      "source": [
        "X_nm = pd.DataFrame(X_nm,columns=X.columns)\n",
        "X_nm.head()"
      ],
      "execution_count": 52,
      "outputs": [
        {
          "output_type": "execute_result",
          "data": {
            "text/html": [
              "<div>\n",
              "<style scoped>\n",
              "    .dataframe tbody tr th:only-of-type {\n",
              "        vertical-align: middle;\n",
              "    }\n",
              "\n",
              "    .dataframe tbody tr th {\n",
              "        vertical-align: top;\n",
              "    }\n",
              "\n",
              "    .dataframe thead th {\n",
              "        text-align: right;\n",
              "    }\n",
              "</style>\n",
              "<table border=\"1\" class=\"dataframe\">\n",
              "  <thead>\n",
              "    <tr style=\"text-align: right;\">\n",
              "      <th></th>\n",
              "      <th>income</th>\n",
              "      <th>age</th>\n",
              "      <th>experience</th>\n",
              "      <th>current_house_years</th>\n",
              "      <th>profession_Air_traffic_controller</th>\n",
              "      <th>profession_Analyst</th>\n",
              "      <th>profession_Architect</th>\n",
              "      <th>profession_Army_officer</th>\n",
              "      <th>profession_Artist</th>\n",
              "      <th>profession_Aviator</th>\n",
              "      <th>profession_Biomedical_Engineer</th>\n",
              "      <th>profession_Chartered_Accountant</th>\n",
              "      <th>profession_Chef</th>\n",
              "      <th>profession_Chemical_engineer</th>\n",
              "      <th>profession_Civil_engineer</th>\n",
              "      <th>profession_Civil_servant</th>\n",
              "      <th>profession_Comedian</th>\n",
              "      <th>profession_Computer_hardware_engineer</th>\n",
              "      <th>profession_Computer_operator</th>\n",
              "      <th>profession_Consultant</th>\n",
              "      <th>profession_Dentist</th>\n",
              "      <th>profession_Design_Engineer</th>\n",
              "      <th>profession_Designer</th>\n",
              "      <th>profession_Drafter</th>\n",
              "      <th>profession_Economist</th>\n",
              "      <th>profession_Engineer</th>\n",
              "      <th>profession_Fashion_Designer</th>\n",
              "      <th>profession_Financial_Analyst</th>\n",
              "      <th>profession_Firefighter</th>\n",
              "      <th>profession_Flight_attendant</th>\n",
              "      <th>profession_Geologist</th>\n",
              "      <th>profession_Graphic_Designer</th>\n",
              "      <th>profession_Hotel_Manager</th>\n",
              "      <th>profession_Industrial_Engineer</th>\n",
              "      <th>profession_Lawyer</th>\n",
              "      <th>profession_Librarian</th>\n",
              "      <th>profession_Magistrate</th>\n",
              "      <th>profession_Mechanical_engineer</th>\n",
              "      <th>profession_Microbiologist</th>\n",
              "      <th>profession_Official</th>\n",
              "      <th>profession_Petroleum_Engineer</th>\n",
              "      <th>profession_Physician</th>\n",
              "      <th>profession_Police_officer</th>\n",
              "      <th>profession_Politician</th>\n",
              "      <th>profession_Psychologist</th>\n",
              "      <th>profession_Scientist</th>\n",
              "      <th>profession_Secretary</th>\n",
              "      <th>profession_Software_Developer</th>\n",
              "      <th>profession_Statistician</th>\n",
              "      <th>profession_Surgeon</th>\n",
              "      <th>profession_Surveyor</th>\n",
              "      <th>profession_Technical_writer</th>\n",
              "      <th>profession_Technician</th>\n",
              "      <th>profession_Technology_specialist</th>\n",
              "      <th>profession_Web_designer</th>\n",
              "      <th>car_ownership_no</th>\n",
              "      <th>car_ownership_yes</th>\n",
              "    </tr>\n",
              "  </thead>\n",
              "  <tbody>\n",
              "    <tr>\n",
              "      <th>0</th>\n",
              "      <td>1.0</td>\n",
              "      <td>0.000018</td>\n",
              "      <td>2.300905e-06</td>\n",
              "      <td>0.000010</td>\n",
              "      <td>0.0</td>\n",
              "      <td>0.0</td>\n",
              "      <td>0.0</td>\n",
              "      <td>0.0</td>\n",
              "      <td>0.0</td>\n",
              "      <td>0.0</td>\n",
              "      <td>0.0</td>\n",
              "      <td>0.0</td>\n",
              "      <td>0.0</td>\n",
              "      <td>0.0</td>\n",
              "      <td>0.0</td>\n",
              "      <td>0.000000e+00</td>\n",
              "      <td>0.0</td>\n",
              "      <td>0.0</td>\n",
              "      <td>0.0</td>\n",
              "      <td>0.0</td>\n",
              "      <td>0.0</td>\n",
              "      <td>0.0</td>\n",
              "      <td>0.0</td>\n",
              "      <td>0.0</td>\n",
              "      <td>0.0</td>\n",
              "      <td>0.0</td>\n",
              "      <td>0.0</td>\n",
              "      <td>0.0</td>\n",
              "      <td>0.0</td>\n",
              "      <td>0.0</td>\n",
              "      <td>0.0</td>\n",
              "      <td>0.0</td>\n",
              "      <td>0.0</td>\n",
              "      <td>0.0</td>\n",
              "      <td>0.0</td>\n",
              "      <td>0.0</td>\n",
              "      <td>0.0</td>\n",
              "      <td>7.669682e-07</td>\n",
              "      <td>0.0</td>\n",
              "      <td>0.0</td>\n",
              "      <td>0.0</td>\n",
              "      <td>0.0</td>\n",
              "      <td>0.0</td>\n",
              "      <td>0.0</td>\n",
              "      <td>0.0</td>\n",
              "      <td>0.0</td>\n",
              "      <td>0.0</td>\n",
              "      <td>0.000000e+00</td>\n",
              "      <td>0.0</td>\n",
              "      <td>0.0</td>\n",
              "      <td>0.0</td>\n",
              "      <td>0.000000e+00</td>\n",
              "      <td>0.0</td>\n",
              "      <td>0.0</td>\n",
              "      <td>0.0</td>\n",
              "      <td>7.669682e-07</td>\n",
              "      <td>0.000000e+00</td>\n",
              "    </tr>\n",
              "    <tr>\n",
              "      <th>1</th>\n",
              "      <td>1.0</td>\n",
              "      <td>0.000005</td>\n",
              "      <td>1.320216e-06</td>\n",
              "      <td>0.000002</td>\n",
              "      <td>0.0</td>\n",
              "      <td>0.0</td>\n",
              "      <td>0.0</td>\n",
              "      <td>0.0</td>\n",
              "      <td>0.0</td>\n",
              "      <td>0.0</td>\n",
              "      <td>0.0</td>\n",
              "      <td>0.0</td>\n",
              "      <td>0.0</td>\n",
              "      <td>0.0</td>\n",
              "      <td>0.0</td>\n",
              "      <td>0.000000e+00</td>\n",
              "      <td>0.0</td>\n",
              "      <td>0.0</td>\n",
              "      <td>0.0</td>\n",
              "      <td>0.0</td>\n",
              "      <td>0.0</td>\n",
              "      <td>0.0</td>\n",
              "      <td>0.0</td>\n",
              "      <td>0.0</td>\n",
              "      <td>0.0</td>\n",
              "      <td>0.0</td>\n",
              "      <td>0.0</td>\n",
              "      <td>0.0</td>\n",
              "      <td>0.0</td>\n",
              "      <td>0.0</td>\n",
              "      <td>0.0</td>\n",
              "      <td>0.0</td>\n",
              "      <td>0.0</td>\n",
              "      <td>0.0</td>\n",
              "      <td>0.0</td>\n",
              "      <td>0.0</td>\n",
              "      <td>0.0</td>\n",
              "      <td>0.000000e+00</td>\n",
              "      <td>0.0</td>\n",
              "      <td>0.0</td>\n",
              "      <td>0.0</td>\n",
              "      <td>0.0</td>\n",
              "      <td>0.0</td>\n",
              "      <td>0.0</td>\n",
              "      <td>0.0</td>\n",
              "      <td>0.0</td>\n",
              "      <td>0.0</td>\n",
              "      <td>1.320216e-07</td>\n",
              "      <td>0.0</td>\n",
              "      <td>0.0</td>\n",
              "      <td>0.0</td>\n",
              "      <td>0.000000e+00</td>\n",
              "      <td>0.0</td>\n",
              "      <td>0.0</td>\n",
              "      <td>0.0</td>\n",
              "      <td>1.320216e-07</td>\n",
              "      <td>0.000000e+00</td>\n",
              "    </tr>\n",
              "    <tr>\n",
              "      <th>2</th>\n",
              "      <td>1.0</td>\n",
              "      <td>0.000017</td>\n",
              "      <td>1.002050e-06</td>\n",
              "      <td>0.000003</td>\n",
              "      <td>0.0</td>\n",
              "      <td>0.0</td>\n",
              "      <td>0.0</td>\n",
              "      <td>0.0</td>\n",
              "      <td>0.0</td>\n",
              "      <td>0.0</td>\n",
              "      <td>0.0</td>\n",
              "      <td>0.0</td>\n",
              "      <td>0.0</td>\n",
              "      <td>0.0</td>\n",
              "      <td>0.0</td>\n",
              "      <td>0.000000e+00</td>\n",
              "      <td>0.0</td>\n",
              "      <td>0.0</td>\n",
              "      <td>0.0</td>\n",
              "      <td>0.0</td>\n",
              "      <td>0.0</td>\n",
              "      <td>0.0</td>\n",
              "      <td>0.0</td>\n",
              "      <td>0.0</td>\n",
              "      <td>0.0</td>\n",
              "      <td>0.0</td>\n",
              "      <td>0.0</td>\n",
              "      <td>0.0</td>\n",
              "      <td>0.0</td>\n",
              "      <td>0.0</td>\n",
              "      <td>0.0</td>\n",
              "      <td>0.0</td>\n",
              "      <td>0.0</td>\n",
              "      <td>0.0</td>\n",
              "      <td>0.0</td>\n",
              "      <td>0.0</td>\n",
              "      <td>0.0</td>\n",
              "      <td>0.000000e+00</td>\n",
              "      <td>0.0</td>\n",
              "      <td>0.0</td>\n",
              "      <td>0.0</td>\n",
              "      <td>0.0</td>\n",
              "      <td>0.0</td>\n",
              "      <td>0.0</td>\n",
              "      <td>0.0</td>\n",
              "      <td>0.0</td>\n",
              "      <td>0.0</td>\n",
              "      <td>0.000000e+00</td>\n",
              "      <td>0.0</td>\n",
              "      <td>0.0</td>\n",
              "      <td>0.0</td>\n",
              "      <td>2.505126e-07</td>\n",
              "      <td>0.0</td>\n",
              "      <td>0.0</td>\n",
              "      <td>0.0</td>\n",
              "      <td>2.505126e-07</td>\n",
              "      <td>0.000000e+00</td>\n",
              "    </tr>\n",
              "    <tr>\n",
              "      <th>3</th>\n",
              "      <td>1.0</td>\n",
              "      <td>0.000007</td>\n",
              "      <td>3.196700e-07</td>\n",
              "      <td>0.000002</td>\n",
              "      <td>0.0</td>\n",
              "      <td>0.0</td>\n",
              "      <td>0.0</td>\n",
              "      <td>0.0</td>\n",
              "      <td>0.0</td>\n",
              "      <td>0.0</td>\n",
              "      <td>0.0</td>\n",
              "      <td>0.0</td>\n",
              "      <td>0.0</td>\n",
              "      <td>0.0</td>\n",
              "      <td>0.0</td>\n",
              "      <td>0.000000e+00</td>\n",
              "      <td>0.0</td>\n",
              "      <td>0.0</td>\n",
              "      <td>0.0</td>\n",
              "      <td>0.0</td>\n",
              "      <td>0.0</td>\n",
              "      <td>0.0</td>\n",
              "      <td>0.0</td>\n",
              "      <td>0.0</td>\n",
              "      <td>0.0</td>\n",
              "      <td>0.0</td>\n",
              "      <td>0.0</td>\n",
              "      <td>0.0</td>\n",
              "      <td>0.0</td>\n",
              "      <td>0.0</td>\n",
              "      <td>0.0</td>\n",
              "      <td>0.0</td>\n",
              "      <td>0.0</td>\n",
              "      <td>0.0</td>\n",
              "      <td>0.0</td>\n",
              "      <td>0.0</td>\n",
              "      <td>0.0</td>\n",
              "      <td>0.000000e+00</td>\n",
              "      <td>0.0</td>\n",
              "      <td>0.0</td>\n",
              "      <td>0.0</td>\n",
              "      <td>0.0</td>\n",
              "      <td>0.0</td>\n",
              "      <td>0.0</td>\n",
              "      <td>0.0</td>\n",
              "      <td>0.0</td>\n",
              "      <td>0.0</td>\n",
              "      <td>1.598350e-07</td>\n",
              "      <td>0.0</td>\n",
              "      <td>0.0</td>\n",
              "      <td>0.0</td>\n",
              "      <td>0.000000e+00</td>\n",
              "      <td>0.0</td>\n",
              "      <td>0.0</td>\n",
              "      <td>0.0</td>\n",
              "      <td>0.000000e+00</td>\n",
              "      <td>1.598350e-07</td>\n",
              "    </tr>\n",
              "    <tr>\n",
              "      <th>4</th>\n",
              "      <td>1.0</td>\n",
              "      <td>0.000008</td>\n",
              "      <td>1.906786e-06</td>\n",
              "      <td>0.000002</td>\n",
              "      <td>0.0</td>\n",
              "      <td>0.0</td>\n",
              "      <td>0.0</td>\n",
              "      <td>0.0</td>\n",
              "      <td>0.0</td>\n",
              "      <td>0.0</td>\n",
              "      <td>0.0</td>\n",
              "      <td>0.0</td>\n",
              "      <td>0.0</td>\n",
              "      <td>0.0</td>\n",
              "      <td>0.0</td>\n",
              "      <td>1.733441e-07</td>\n",
              "      <td>0.0</td>\n",
              "      <td>0.0</td>\n",
              "      <td>0.0</td>\n",
              "      <td>0.0</td>\n",
              "      <td>0.0</td>\n",
              "      <td>0.0</td>\n",
              "      <td>0.0</td>\n",
              "      <td>0.0</td>\n",
              "      <td>0.0</td>\n",
              "      <td>0.0</td>\n",
              "      <td>0.0</td>\n",
              "      <td>0.0</td>\n",
              "      <td>0.0</td>\n",
              "      <td>0.0</td>\n",
              "      <td>0.0</td>\n",
              "      <td>0.0</td>\n",
              "      <td>0.0</td>\n",
              "      <td>0.0</td>\n",
              "      <td>0.0</td>\n",
              "      <td>0.0</td>\n",
              "      <td>0.0</td>\n",
              "      <td>0.000000e+00</td>\n",
              "      <td>0.0</td>\n",
              "      <td>0.0</td>\n",
              "      <td>0.0</td>\n",
              "      <td>0.0</td>\n",
              "      <td>0.0</td>\n",
              "      <td>0.0</td>\n",
              "      <td>0.0</td>\n",
              "      <td>0.0</td>\n",
              "      <td>0.0</td>\n",
              "      <td>0.000000e+00</td>\n",
              "      <td>0.0</td>\n",
              "      <td>0.0</td>\n",
              "      <td>0.0</td>\n",
              "      <td>0.000000e+00</td>\n",
              "      <td>0.0</td>\n",
              "      <td>0.0</td>\n",
              "      <td>0.0</td>\n",
              "      <td>1.733441e-07</td>\n",
              "      <td>0.000000e+00</td>\n",
              "    </tr>\n",
              "  </tbody>\n",
              "</table>\n",
              "</div>"
            ],
            "text/plain": [
              "   income       age  ...  car_ownership_no  car_ownership_yes\n",
              "0     1.0  0.000018  ...      7.669682e-07       0.000000e+00\n",
              "1     1.0  0.000005  ...      1.320216e-07       0.000000e+00\n",
              "2     1.0  0.000017  ...      2.505126e-07       0.000000e+00\n",
              "3     1.0  0.000007  ...      0.000000e+00       1.598350e-07\n",
              "4     1.0  0.000008  ...      1.733441e-07       0.000000e+00\n",
              "\n",
              "[5 rows x 57 columns]"
            ]
          },
          "metadata": {
            "tags": []
          },
          "execution_count": 52
        }
      ]
    },
    {
      "cell_type": "markdown",
      "metadata": {
        "id": "7wMFgNvSCT1g"
      },
      "source": [
        "#Lets try Logistic model and check"
      ]
    },
    {
      "cell_type": "code",
      "metadata": {
        "colab": {
          "base_uri": "https://localhost:8080/"
        },
        "id": "Uy4-AfE6CexG",
        "outputId": "c426d2a1-4345-4325-afb3-8a53d3b4542f"
      },
      "source": [
        "from sklearn.linear_model import LogisticRegression\n",
        "check_mod(LogisticRegression(),X_std,Y)"
      ],
      "execution_count": 45,
      "outputs": [
        {
          "output_type": "stream",
          "text": [
            "roc_auc: 0.5\n",
            "roc_auc: 0.5\n",
            "roc_auc: 0.5\n"
          ],
          "name": "stdout"
        }
      ]
    },
    {
      "cell_type": "code",
      "metadata": {
        "colab": {
          "base_uri": "https://localhost:8080/"
        },
        "id": "gg_fazXdMkPo",
        "outputId": "257421cf-3609-4b29-b9db-5f3bf00bdb7c"
      },
      "source": [
        "from sklearn.linear_model import LogisticRegression\n",
        "check_mod(LogisticRegression(),X_nm,Y)"
      ],
      "execution_count": 53,
      "outputs": [
        {
          "output_type": "stream",
          "text": [
            "roc_auc: 0.5\n",
            "roc_auc: 0.5\n",
            "roc_auc: 0.5\n"
          ],
          "name": "stdout"
        }
      ]
    },
    {
      "cell_type": "code",
      "metadata": {
        "id": "qLVnQntDCfRy"
      },
      "source": [
        "from sklearn.model_selection import GridSearchCV\n",
        "from sklearn.linear_model import Lasso\n",
        "alpha_values = {'alpha' : list(np.arange(-0.1,0.1,0.02))}\n",
        "LassoCV = GridSearchCV(Lasso(),alpha_values,scoring = 'roc_auc',cv = 3)"
      ],
      "execution_count": 54,
      "outputs": []
    },
    {
      "cell_type": "code",
      "metadata": {
        "id": "nL_GkSORFmZH"
      },
      "source": [
        "xtrain1,xtest1,ytrain1,ytest1 = train_test_split(X_nm,Y,stratify=Y)"
      ],
      "execution_count": 55,
      "outputs": []
    },
    {
      "cell_type": "code",
      "metadata": {
        "colab": {
          "base_uri": "https://localhost:8080/"
        },
        "id": "C_JSD1enCfUm",
        "outputId": "f077391d-fc27-4a11-dc8a-3308b3c55b39"
      },
      "source": [
        "LassoCV.fit(xtrain1,ytrain1).best_params_"
      ],
      "execution_count": 56,
      "outputs": [
        {
          "output_type": "stream",
          "text": [
            "/usr/local/lib/python3.7/dist-packages/sklearn/linear_model/_coordinate_descent.py:476: ConvergenceWarning: Objective did not converge. You might want to increase the number of iterations. Duality gap: 6784.847612091107, tolerance: 1.3619633134920912\n",
            "  positive)\n",
            "/usr/local/lib/python3.7/dist-packages/sklearn/linear_model/_coordinate_descent.py:476: ConvergenceWarning: Objective did not converge. You might want to increase the number of iterations. Duality gap: 6763.504261683933, tolerance: 1.3575154158729634\n",
            "  positive)\n",
            "/usr/local/lib/python3.7/dist-packages/sklearn/linear_model/_coordinate_descent.py:476: ConvergenceWarning: Objective did not converge. You might want to increase the number of iterations. Duality gap: 6765.132749438519, tolerance: 1.358043421428506\n",
            "  positive)\n",
            "/usr/local/lib/python3.7/dist-packages/sklearn/linear_model/_coordinate_descent.py:476: ConvergenceWarning: Objective did not converge. You might want to increase the number of iterations. Duality gap: 10158.420443865463, tolerance: 2.038761900000054\n",
            "  positive)\n"
          ],
          "name": "stderr"
        },
        {
          "output_type": "execute_result",
          "data": {
            "text/plain": [
              "{'alpha': 1.3877787807814457e-17}"
            ]
          },
          "metadata": {
            "tags": []
          },
          "execution_count": 56
        }
      ]
    },
    {
      "cell_type": "code",
      "metadata": {
        "colab": {
          "base_uri": "https://localhost:8080/"
        },
        "id": "4Y_w4BtVCfXQ",
        "outputId": "7cd86269-a9a8-4251-a1a1-5586cc126f9a"
      },
      "source": [
        "Las1 = Lasso(alpha=0)\n",
        "Las1.fit(xtrain1,ytrain1)\n",
        "best_Lasso_coeff = Las1.coef_\n",
        "best_Lasso_coeff"
      ],
      "execution_count": 57,
      "outputs": [
        {
          "output_type": "stream",
          "text": [
            "/usr/local/lib/python3.7/dist-packages/ipykernel_launcher.py:2: UserWarning: With alpha=0, this algorithm does not converge well. You are advised to use the LinearRegression estimator\n",
            "  \n",
            "/usr/local/lib/python3.7/dist-packages/sklearn/linear_model/_coordinate_descent.py:476: UserWarning: Coordinate descent with no regularization may lead to unexpected results and is discouraged.\n",
            "  positive)\n",
            "/usr/local/lib/python3.7/dist-packages/sklearn/linear_model/_coordinate_descent.py:476: ConvergenceWarning: Objective did not converge. You might want to increase the number of iterations. Duality gap: 10158.421148003115, tolerance: 2.038761900000054\n",
            "  positive)\n"
          ],
          "name": "stderr"
        },
        {
          "output_type": "execute_result",
          "data": {
            "text/plain": [
              "array([-2.59599882e+03, -1.07812203e+02, -5.84177255e+01, -5.50876683e+02,\n",
              "        1.20189044e+04,  1.57288371e+04,  1.30945490e+04,  1.04316894e+04,\n",
              "        7.73220702e+03,  3.05943310e+04,  5.04160836e+03,  3.11716890e+04,\n",
              "        1.36209171e+04,  7.01806024e+03,  1.51614618e+04,  1.22661852e+04,\n",
              "        8.63749937e+03,  4.70873114e+03,  1.36913692e+04,  2.55278707e+04,\n",
              "        1.54673727e+04,  9.73390883e+03,  9.09100240e+03,  3.81670281e+04,\n",
              "        8.36861802e+03,  1.21455732e+04,  1.61481835e+04,  2.21780485e+04,\n",
              "        1.54258543e+04,  2.82511283e+04,  2.90684409e+04,  1.64954417e+04,\n",
              "        3.24039472e+04,  1.29425163e+01,  2.28747832e+04,  4.88083673e+03,\n",
              "        9.82480772e+03,  2.10847308e+04,  1.02912905e+04,  9.76121040e+03,\n",
              "        1.87872031e+04,  1.30914771e+04,  2.06366689e+04,  3.01430662e+04,\n",
              "        2.93408188e+04,  8.33055112e+03,  1.13180868e+03,  2.10337794e+04,\n",
              "        6.83796648e+03,  8.00752001e+03,  2.26111509e+04,  1.59839700e+04,\n",
              "        1.08423583e+04,  2.31851119e+04,  1.36836215e+04, -1.15406861e+03,\n",
              "        1.90972134e+03])"
            ]
          },
          "metadata": {
            "tags": []
          },
          "execution_count": 57
        }
      ]
    },
    {
      "cell_type": "code",
      "metadata": {
        "colab": {
          "base_uri": "https://localhost:8080/"
        },
        "id": "j5O595HDOXlM",
        "outputId": "78f39209-50f6-4b78-fe6f-8b1ea7fdc14d"
      },
      "source": [
        "from sklearn.ensemble import GradientBoostingClassifier\n",
        "gbc = GradientBoostingClassifier()\n",
        "check_mod(gbc,X_nm,Y)"
      ],
      "execution_count": 59,
      "outputs": [
        {
          "output_type": "stream",
          "text": [
            "roc_auc: 0.5023523835716176\n",
            "roc_auc: 0.5018271383235089\n",
            "roc_auc: 0.5020104848928166\n"
          ],
          "name": "stdout"
        }
      ]
    },
    {
      "cell_type": "code",
      "metadata": {
        "colab": {
          "base_uri": "https://localhost:8080/"
        },
        "id": "XBiBy6OKCfZh",
        "outputId": "08a0ab25-4654-4cc4-f8d3-edd60fa6a4e0"
      },
      "source": [
        "check_mod(gbc,X_std,Y)"
      ],
      "execution_count": 60,
      "outputs": [
        {
          "output_type": "stream",
          "text": [
            "roc_auc: 0.5017433374637813\n",
            "roc_auc: 0.5009780936165229\n",
            "roc_auc: 0.5008671439269098\n"
          ],
          "name": "stdout"
        }
      ]
    },
    {
      "cell_type": "code",
      "metadata": {
        "colab": {
          "base_uri": "https://localhost:8080/"
        },
        "id": "IDpfBOlESKme",
        "outputId": "0aa6f206-0e72-4812-b90c-21a4c06aa38b"
      },
      "source": [
        "from sklearn.tree import DecisionTreeClassifier\n",
        "for i in range(3,40):\n",
        "  dt = DecisionTreeClassifier(max_depth=i)\n",
        "  print('depth:',i)\n",
        "  check_mod(dt,X_std,Y)"
      ],
      "execution_count": 64,
      "outputs": [
        {
          "output_type": "stream",
          "text": [
            "depth: 3\n",
            "roc_auc: 0.5009961928364465\n",
            "roc_auc: 0.501134291355945\n",
            "roc_auc: 0.5016721177691225\n",
            "depth: 4\n",
            "roc_auc: 0.5026706649756403\n",
            "roc_auc: 0.5030849605341359\n",
            "roc_auc: 0.5018361879334707\n",
            "depth: 5\n",
            "roc_auc: 0.5049030492476831\n",
            "roc_auc: 0.5085880062796936\n",
            "roc_auc: 0.5045485694038132\n",
            "depth: 6\n",
            "roc_auc: 0.5157914958092948\n",
            "roc_auc: 0.511583647899247\n",
            "roc_auc: 0.5134241767025369\n",
            "depth: 7\n",
            "roc_auc: 0.5160314944084446\n",
            "roc_auc: 0.5164276907470166\n",
            "roc_auc: 0.5206910135018709\n",
            "depth: 8\n",
            "roc_auc: 0.5226463914202046\n",
            "roc_auc: 0.5184212536049452\n",
            "roc_auc: 0.5230256657238886\n",
            "depth: 9\n",
            "roc_auc: 0.5298002920301778\n",
            "roc_auc: 0.5312658873996026\n",
            "roc_auc: 0.5320787336667416\n",
            "depth: 10\n",
            "roc_auc: 0.5421240214465456\n",
            "roc_auc: 0.5465455284405697\n",
            "roc_auc: 0.5347970010622624\n",
            "depth: 11\n",
            "roc_auc: 0.5534802519117117\n",
            "roc_auc: 0.5466166745611638\n",
            "roc_auc: 0.5404227683477899\n",
            "depth: 12\n",
            "roc_auc: 0.5624892489897912\n",
            "roc_auc: 0.5516083069827821\n",
            "roc_auc: 0.565117829600406\n",
            "depth: 13\n",
            "roc_auc: 0.584619444771849\n",
            "roc_auc: 0.573171541022029\n",
            "roc_auc: 0.5731652136524623\n",
            "depth: 14\n",
            "roc_auc: 0.5830275963073471\n",
            "roc_auc: 0.5894556151946925\n",
            "roc_auc: 0.5754235695693548\n",
            "depth: 15\n",
            "roc_auc: 0.5931830244620522\n",
            "roc_auc: 0.5956314221881427\n",
            "roc_auc: 0.5827270462529244\n",
            "depth: 16\n",
            "roc_auc: 0.6023388017992685\n",
            "roc_auc: 0.6136926778943632\n",
            "roc_auc: 0.5927093546333193\n",
            "depth: 17\n",
            "roc_auc: 0.6113091724933648\n",
            "roc_auc: 0.5957399439336197\n",
            "roc_auc: 0.6152408233644154\n",
            "depth: 18\n",
            "roc_auc: 0.6128215609679581\n",
            "roc_auc: 0.6358212550469968\n",
            "roc_auc: 0.6230285645420389\n",
            "depth: 19\n",
            "roc_auc: 0.6260545186762614\n",
            "roc_auc: 0.6245928963063317\n",
            "roc_auc: 0.6393701000592567\n",
            "depth: 20\n",
            "roc_auc: 0.6499119392019246\n",
            "roc_auc: 0.6356587299380079\n",
            "roc_auc: 0.6445552322711151\n",
            "depth: 21\n",
            "roc_auc: 0.6554098347629509\n",
            "roc_auc: 0.6439548679029169\n",
            "roc_auc: 0.6437207552289455\n",
            "depth: 22\n",
            "roc_auc: 0.6604910803954105\n",
            "roc_auc: 0.6399212433781502\n",
            "roc_auc: 0.6513305943180516\n",
            "depth: 23\n",
            "roc_auc: 0.6843125967774855\n",
            "roc_auc: 0.6502380930308733\n",
            "roc_auc: 0.6431840324267389\n",
            "depth: 24\n",
            "roc_auc: 0.6655778440827249\n",
            "roc_auc: 0.6675694204409058\n",
            "roc_auc: 0.681113228572694\n",
            "depth: 25\n",
            "roc_auc: 0.6689256111760771\n",
            "roc_auc: 0.6856935819724707\n",
            "roc_auc: 0.6807449168046548\n",
            "depth: 26\n",
            "roc_auc: 0.6915802428915314\n",
            "roc_auc: 0.6878236247204739\n",
            "roc_auc: 0.6837256228890681\n",
            "depth: 27\n",
            "roc_auc: 0.7066733001043427\n",
            "roc_auc: 0.6867948385733518\n",
            "roc_auc: 0.6905922903503348\n",
            "depth: 28\n",
            "roc_auc: 0.7020071593450907\n",
            "roc_auc: 0.69928889194957\n",
            "roc_auc: 0.6933967129756545\n",
            "depth: 29\n",
            "roc_auc: 0.6939226939644104\n",
            "roc_auc: 0.7004467270062287\n",
            "roc_auc: 0.698206911753648\n",
            "depth: 30\n",
            "roc_auc: 0.6998990416683774\n",
            "roc_auc: 0.708201801299112\n",
            "roc_auc: 0.7302371601117326\n",
            "depth: 31\n",
            "roc_auc: 0.7184130721689473\n",
            "roc_auc: 0.7023560475600411\n",
            "roc_auc: 0.7042410886724929\n",
            "depth: 32\n",
            "roc_auc: 0.7195745123547778\n",
            "roc_auc: 0.709090134556664\n",
            "roc_auc: 0.7180129764049447\n",
            "depth: 33\n",
            "roc_auc: 0.7223269916903978\n",
            "roc_auc: 0.7299177015226741\n",
            "roc_auc: 0.7068396510646977\n",
            "depth: 34\n",
            "roc_auc: 0.7274991012927993\n",
            "roc_auc: 0.7172284561527268\n",
            "roc_auc: 0.7150689102047668\n",
            "depth: 35\n",
            "roc_auc: 0.7354478225240525\n",
            "roc_auc: 0.7280122068202275\n",
            "roc_auc: 0.7222502539408843\n",
            "depth: 36\n",
            "roc_auc: 0.7311974488045906\n",
            "roc_auc: 0.7319887378707637\n",
            "roc_auc: 0.7370152443990639\n",
            "depth: 37\n",
            "roc_auc: 0.7227223051401931\n",
            "roc_auc: 0.7348662195423604\n",
            "roc_auc: 0.7129092171086776\n",
            "depth: 38\n",
            "roc_auc: 0.739251086652149\n",
            "roc_auc: 0.7380967095765327\n",
            "roc_auc: 0.744399284683513\n",
            "depth: 39\n",
            "roc_auc: 0.7280022743214889\n",
            "roc_auc: 0.7318025954869963\n",
            "roc_auc: 0.7039399500255523\n"
          ],
          "name": "stdout"
        }
      ]
    },
    {
      "cell_type": "code",
      "metadata": {
        "colab": {
          "base_uri": "https://localhost:8080/"
        },
        "id": "XtMzz-AIT_MJ",
        "outputId": "1bff14f6-526e-4a25-98e7-2367d6b52d4d"
      },
      "source": [
        "for i in range(40,60):\n",
        "  dt = DecisionTreeClassifier(max_depth=i)\n",
        "  print('depth:',i)\n",
        "  check_mod(dt,X_std,Y)"
      ],
      "execution_count": 65,
      "outputs": [
        {
          "output_type": "stream",
          "text": [
            "depth: 40\n",
            "roc_auc: 0.7394514288304093\n",
            "roc_auc: 0.7309773887769827\n",
            "roc_auc: 0.7403531525677421\n",
            "depth: 41\n",
            "roc_auc: 0.7205706316171594\n",
            "roc_auc: 0.7402342568791381\n",
            "roc_auc: 0.728023537226196\n",
            "depth: 42\n",
            "roc_auc: 0.7449460871325877\n",
            "roc_auc: 0.7211072808453013\n",
            "roc_auc: 0.7387997833390941\n",
            "depth: 43\n",
            "roc_auc: 0.7370525464498823\n",
            "roc_auc: 0.7384575167899694\n",
            "roc_auc: 0.7430840011283317\n",
            "depth: 44\n",
            "roc_auc: 0.7510865050009027\n",
            "roc_auc: 0.7395765047404506\n",
            "roc_auc: 0.7457526796042244\n",
            "depth: 45\n",
            "roc_auc: 0.7308562858664369\n",
            "roc_auc: 0.7358635895638427\n",
            "roc_auc: 0.7451754174923515\n",
            "depth: 46\n",
            "roc_auc: 0.7450460007124914\n",
            "roc_auc: 0.7428152350698725\n",
            "roc_auc: 0.736651494223038\n",
            "depth: 47\n",
            "roc_auc: 0.7362586087173789\n",
            "roc_auc: 0.7438987603211537\n",
            "roc_auc: 0.7271386619496863\n",
            "depth: 48\n",
            "roc_auc: 0.741307555335422\n",
            "roc_auc: 0.7452301565965108\n",
            "roc_auc: 0.7470112375554988\n",
            "depth: 49\n",
            "roc_auc: 0.7424375058215479\n",
            "roc_auc: 0.7473042830553189\n",
            "roc_auc: 0.7379337430231554\n",
            "depth: 50\n",
            "roc_auc: 0.7419657489184981\n",
            "roc_auc: 0.7452147796169822\n",
            "roc_auc: 0.7412536255459748\n",
            "depth: 51\n",
            "roc_auc: 0.7453312473614501\n",
            "roc_auc: 0.7424127113617338\n",
            "roc_auc: 0.7371764451748878\n",
            "depth: 52\n",
            "roc_auc: 0.7548693891130691\n",
            "roc_auc: 0.7436004910627376\n",
            "roc_auc: 0.7481096983419202\n",
            "depth: 53\n",
            "roc_auc: 0.7452823941824692\n",
            "roc_auc: 0.7474046380796111\n",
            "roc_auc: 0.7419177786282939\n",
            "depth: 54\n",
            "roc_auc: 0.7432975866382436\n",
            "roc_auc: 0.7430834861098787\n",
            "roc_auc: 0.7467814657513464\n",
            "depth: 55\n",
            "roc_auc: 0.7451117023522953\n",
            "roc_auc: 0.740829838933129\n",
            "roc_auc: 0.747150513260033\n",
            "depth: 56\n",
            "roc_auc: 0.743212093575027\n",
            "roc_auc: 0.7439754244966026\n",
            "roc_auc: 0.7410875688818788\n",
            "depth: 57\n",
            "roc_auc: 0.7481199251369176\n",
            "roc_auc: 0.7438487299571371\n",
            "roc_auc: 0.7467813921772818\n",
            "depth: 58\n",
            "roc_auc: 0.7375792631792855\n",
            "roc_auc: 0.7451879986574205\n",
            "roc_auc: 0.7466732383021284\n",
            "depth: 59\n",
            "roc_auc: 0.7446863706840903\n",
            "roc_auc: 0.7438180495721447\n",
            "roc_auc: 0.746278219148592\n"
          ],
          "name": "stdout"
        }
      ]
    },
    {
      "cell_type": "code",
      "metadata": {
        "colab": {
          "base_uri": "https://localhost:8080/"
        },
        "id": "7RX5gPmsVJBm",
        "outputId": "33ac639b-9626-45f5-d512-785421e6177f"
      },
      "source": [
        "from sklearn.ensemble import RandomForestClassifier\n",
        "for i in np.arange(0.1,0.7,0.1):\n",
        "  rf = RandomForestClassifier(n_estimators=50,max_features=i)\n",
        "  print('max f:',i)\n",
        "  check_mod(rf,X_std,Y)"
      ],
      "execution_count": 69,
      "outputs": [
        {
          "output_type": "stream",
          "text": [
            "max f: 0.1\n",
            "roc_auc: 0.7430764965737294\n",
            "roc_auc: 0.7430965822934006\n",
            "roc_auc: 0.7393592405273023\n",
            "max f: 0.2\n",
            "roc_auc: 0.7424080761956557\n",
            "roc_auc: 0.7466623493405483\n",
            "roc_auc: 0.7362802394924096\n",
            "max f: 0.30000000000000004\n",
            "roc_auc: 0.741059390015087\n",
            "roc_auc: 0.74576614365807\n",
            "roc_auc: 0.7429227267784433\n",
            "max f: 0.4\n",
            "roc_auc: 0.7447970996515091\n",
            "roc_auc: 0.7418726041525496\n",
            "roc_auc: 0.742733052839569\n",
            "max f: 0.5\n",
            "roc_auc: 0.7410462938315652\n",
            "roc_auc: 0.7451342160161026\n",
            "roc_auc: 0.74489774897206\n",
            "max f: 0.6\n",
            "roc_auc: 0.7431311621038239\n",
            "roc_auc: 0.7416105333339807\n",
            "roc_auc: 0.7403531525677421\n"
          ],
          "name": "stdout"
        }
      ]
    },
    {
      "cell_type": "code",
      "metadata": {
        "id": "v1iHP6v5VpRA"
      },
      "source": [
        ""
      ],
      "execution_count": null,
      "outputs": []
    }
  ]
}