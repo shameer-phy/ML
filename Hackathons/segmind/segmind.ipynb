{
  "nbformat": 4,
  "nbformat_minor": 0,
  "metadata": {
    "colab": {
      "name": "segmind.ipynb",
      "provenance": [],
      "collapsed_sections": [],
      "authorship_tag": "ABX9TyNjB0JjhXS8iQGVBgLzDMwM",
      "include_colab_link": true
    },
    "kernelspec": {
      "name": "python3",
      "display_name": "Python 3"
    },
    "language_info": {
      "name": "python"
    }
  },
  "cells": [
    {
      "cell_type": "markdown",
      "metadata": {
        "id": "view-in-github",
        "colab_type": "text"
      },
      "source": [
        "<a href=\"https://colab.research.google.com/github/shameer-phy/ML/blob/main/Hackathons/segmind/segmind.ipynb\" target=\"_parent\"><img src=\"https://colab.research.google.com/assets/colab-badge.svg\" alt=\"Open In Colab\"/></a>"
      ]
    },
    {
      "cell_type": "code",
      "metadata": {
        "id": "mRaU5stltDf9"
      },
      "source": [
        "import pandas as pd\n",
        "import numpy as np\n",
        "from sklearn.model_selection import train_test_split\n",
        "from sklearn.metrics import mean_squared_error"
      ],
      "execution_count": 6,
      "outputs": []
    },
    {
      "cell_type": "code",
      "metadata": {
        "colab": {
          "base_uri": "https://localhost:8080/"
        },
        "id": "47Xyz7FEtyNv",
        "outputId": "cc7f3dc9-9a73-4226-c5b7-53c89401f636"
      },
      "source": [
        "from google.colab import drive \n",
        "\n",
        "drive.mount(\"/content/gdrive\") "
      ],
      "execution_count": 1,
      "outputs": [
        {
          "output_type": "stream",
          "text": [
            "Mounted at /content/gdrive\n"
          ],
          "name": "stdout"
        }
      ]
    },
    {
      "cell_type": "code",
      "metadata": {
        "colab": {
          "base_uri": "https://localhost:8080/"
        },
        "id": "L0Jq0m9_tzVw",
        "outputId": "76315955-2b71-4fa6-cfd4-124b85331c2e"
      },
      "source": [
        "# Lets read the training dataset and tes dataset\n",
        "\n",
        "df = pd.read_csv('/content/gdrive/My Drive/Datasets/segmind/TRAIN.csv')\n",
        " \n",
        "df_test = pd.read_csv('/content/gdrive/My Drive/Datasets/segmind/TEST.csv')\n"
      ],
      "execution_count": 7,
      "outputs": [
        {
          "output_type": "stream",
          "text": [
            "/usr/local/lib/python3.7/dist-packages/IPython/core/interactiveshell.py:2718: DtypeWarning: Columns (7) have mixed types.Specify dtype option on import or set low_memory=False.\n",
            "  interactivity=interactivity, compiler=compiler, result=result)\n"
          ],
          "name": "stderr"
        }
      ]
    },
    {
      "cell_type": "code",
      "metadata": {
        "colab": {
          "base_uri": "https://localhost:8080/"
        },
        "id": "sV2nqraQtzYk",
        "outputId": "3370bafe-3785-4e8f-f378-cbcb8007de5a"
      },
      "source": [
        "df.shape"
      ],
      "execution_count": 8,
      "outputs": [
        {
          "output_type": "execute_result",
          "data": {
            "text/plain": [
              "(712046, 9)"
            ]
          },
          "metadata": {
            "tags": []
          },
          "execution_count": 8
        }
      ]
    },
    {
      "cell_type": "code",
      "metadata": {
        "colab": {
          "base_uri": "https://localhost:8080/"
        },
        "id": "CEpS1sCKtzbM",
        "outputId": "5a244dc5-3bc2-4945-8752-1817b5e20a42"
      },
      "source": [
        "df_test.shape"
      ],
      "execution_count": null,
      "outputs": [
        {
          "output_type": "execute_result",
          "data": {
            "text/plain": [
              "(305163, 7)"
            ]
          },
          "metadata": {
            "tags": []
          },
          "execution_count": 6
        }
      ]
    },
    {
      "cell_type": "code",
      "metadata": {
        "colab": {
          "base_uri": "https://localhost:8080/"
        },
        "id": "xUNQiD1-urca",
        "outputId": "7d37b22a-a232-4119-c93d-67c85076dfef"
      },
      "source": [
        "df.columns"
      ],
      "execution_count": null,
      "outputs": [
        {
          "output_type": "execute_result",
          "data": {
            "text/plain": [
              "Index(['Store', 'DayOfWeek', 'Date', 'Sales', 'Customers', 'Open', 'Promo',\n",
              "       'StateHoliday', 'SchoolHoliday'],\n",
              "      dtype='object')"
            ]
          },
          "metadata": {
            "tags": []
          },
          "execution_count": 7
        }
      ]
    },
    {
      "cell_type": "code",
      "metadata": {
        "colab": {
          "base_uri": "https://localhost:8080/"
        },
        "id": "hfAytTvJusvM",
        "outputId": "e5a6bf6f-3955-48be-cdec-4d0be79e5ce7"
      },
      "source": [
        "df_test.columns"
      ],
      "execution_count": null,
      "outputs": [
        {
          "output_type": "execute_result",
          "data": {
            "text/plain": [
              "Index(['Store', 'DayOfWeek', 'Date', 'Open', 'Promo', 'StateHoliday',\n",
              "       'SchoolHoliday'],\n",
              "      dtype='object')"
            ]
          },
          "metadata": {
            "tags": []
          },
          "execution_count": 8
        }
      ]
    },
    {
      "cell_type": "code",
      "metadata": {
        "colab": {
          "base_uri": "https://localhost:8080/",
          "height": 206
        },
        "id": "UK9N9Doquxn3",
        "outputId": "05152402-226b-465c-853c-ce081aff0564"
      },
      "source": [
        "df.head()\n",
        "df.tail()"
      ],
      "execution_count": null,
      "outputs": [
        {
          "output_type": "execute_result",
          "data": {
            "text/html": [
              "<div>\n",
              "<style scoped>\n",
              "    .dataframe tbody tr th:only-of-type {\n",
              "        vertical-align: middle;\n",
              "    }\n",
              "\n",
              "    .dataframe tbody tr th {\n",
              "        vertical-align: top;\n",
              "    }\n",
              "\n",
              "    .dataframe thead th {\n",
              "        text-align: right;\n",
              "    }\n",
              "</style>\n",
              "<table border=\"1\" class=\"dataframe\">\n",
              "  <thead>\n",
              "    <tr style=\"text-align: right;\">\n",
              "      <th></th>\n",
              "      <th>Store</th>\n",
              "      <th>DayOfWeek</th>\n",
              "      <th>Date</th>\n",
              "      <th>Sales</th>\n",
              "      <th>Customers</th>\n",
              "      <th>Open</th>\n",
              "      <th>Promo</th>\n",
              "      <th>StateHoliday</th>\n",
              "      <th>SchoolHoliday</th>\n",
              "    </tr>\n",
              "  </thead>\n",
              "  <tbody>\n",
              "    <tr>\n",
              "      <th>712041</th>\n",
              "      <td>342</td>\n",
              "      <td>2</td>\n",
              "      <td>2013-10-01</td>\n",
              "      <td>10182</td>\n",
              "      <td>836</td>\n",
              "      <td>1</td>\n",
              "      <td>0</td>\n",
              "      <td>0</td>\n",
              "      <td>0</td>\n",
              "    </tr>\n",
              "    <tr>\n",
              "      <th>712042</th>\n",
              "      <td>343</td>\n",
              "      <td>2</td>\n",
              "      <td>2013-10-01</td>\n",
              "      <td>5352</td>\n",
              "      <td>588</td>\n",
              "      <td>1</td>\n",
              "      <td>0</td>\n",
              "      <td>0</td>\n",
              "      <td>0</td>\n",
              "    </tr>\n",
              "    <tr>\n",
              "      <th>712043</th>\n",
              "      <td>344</td>\n",
              "      <td>2</td>\n",
              "      <td>2013-10-01</td>\n",
              "      <td>6652</td>\n",
              "      <td>1043</td>\n",
              "      <td>1</td>\n",
              "      <td>0</td>\n",
              "      <td>0</td>\n",
              "      <td>1</td>\n",
              "    </tr>\n",
              "    <tr>\n",
              "      <th>712044</th>\n",
              "      <td>345</td>\n",
              "      <td>2</td>\n",
              "      <td>2013-10-01</td>\n",
              "      <td>3842</td>\n",
              "      <td>475</td>\n",
              "      <td>1</td>\n",
              "      <td>0</td>\n",
              "      <td>0</td>\n",
              "      <td>0</td>\n",
              "    </tr>\n",
              "    <tr>\n",
              "      <th>712045</th>\n",
              "      <td>346</td>\n",
              "      <td>2</td>\n",
              "      <td>2013-10-01</td>\n",
              "      <td>6143</td>\n",
              "      <td>599</td>\n",
              "      <td>1</td>\n",
              "      <td>0</td>\n",
              "      <td>0</td>\n",
              "      <td>0</td>\n",
              "    </tr>\n",
              "  </tbody>\n",
              "</table>\n",
              "</div>"
            ],
            "text/plain": [
              "        Store  DayOfWeek        Date  ...  Promo  StateHoliday  SchoolHoliday\n",
              "712041    342          2  2013-10-01  ...      0             0              0\n",
              "712042    343          2  2013-10-01  ...      0             0              0\n",
              "712043    344          2  2013-10-01  ...      0             0              1\n",
              "712044    345          2  2013-10-01  ...      0             0              0\n",
              "712045    346          2  2013-10-01  ...      0             0              0\n",
              "\n",
              "[5 rows x 9 columns]"
            ]
          },
          "metadata": {
            "tags": []
          },
          "execution_count": 9
        }
      ]
    },
    {
      "cell_type": "code",
      "metadata": {
        "colab": {
          "base_uri": "https://localhost:8080/"
        },
        "id": "mESQeqbWu8MW",
        "outputId": "1a4ac19d-5dc2-401f-893e-4fc5aae5d868"
      },
      "source": [
        "print(df.shape)\n",
        "df.nunique()"
      ],
      "execution_count": null,
      "outputs": [
        {
          "output_type": "stream",
          "text": [
            "(712046, 9)\n"
          ],
          "name": "stdout"
        },
        {
          "output_type": "execute_result",
          "data": {
            "text/plain": [
              "Store             1115\n",
              "DayOfWeek            7\n",
              "Date               669\n",
              "Sales            20727\n",
              "Customers         3956\n",
              "Open                 2\n",
              "Promo                2\n",
              "StateHoliday         5\n",
              "SchoolHoliday        2\n",
              "dtype: int64"
            ]
          },
          "metadata": {
            "tags": []
          },
          "execution_count": 10
        }
      ]
    },
    {
      "cell_type": "code",
      "metadata": {
        "colab": {
          "base_uri": "https://localhost:8080/"
        },
        "id": "OR-NYBgOwymK",
        "outputId": "e6d2bcaf-0731-46bb-a87f-1f37a1ad0c09"
      },
      "source": [
        "df.dtypes"
      ],
      "execution_count": null,
      "outputs": [
        {
          "output_type": "execute_result",
          "data": {
            "text/plain": [
              "Store             int64\n",
              "DayOfWeek         int64\n",
              "Date             object\n",
              "Sales             int64\n",
              "Customers         int64\n",
              "Open              int64\n",
              "Promo             int64\n",
              "StateHoliday     object\n",
              "SchoolHoliday     int64\n",
              "dtype: object"
            ]
          },
          "metadata": {
            "tags": []
          },
          "execution_count": 11
        }
      ]
    },
    {
      "cell_type": "code",
      "metadata": {
        "colab": {
          "base_uri": "https://localhost:8080/"
        },
        "id": "3F9jN6iJvSUq",
        "outputId": "df87db07-d68d-471e-ca03-e7c13160c97e"
      },
      "source": [
        "df.StateHoliday.value_counts()"
      ],
      "execution_count": 9,
      "outputs": [
        {
          "output_type": "execute_result",
          "data": {
            "text/plain": [
              "0    557868\n",
              "0    131072\n",
              "a     14546\n",
              "b      4460\n",
              "c      4100\n",
              "Name: StateHoliday, dtype: int64"
            ]
          },
          "metadata": {
            "tags": []
          },
          "execution_count": 9
        }
      ]
    },
    {
      "cell_type": "code",
      "metadata": {
        "id": "0h0TKLG4zGFD"
      },
      "source": [
        "df['StateHoliday'] = df['StateHoliday'].str.strip()"
      ],
      "execution_count": 10,
      "outputs": []
    },
    {
      "cell_type": "code",
      "metadata": {
        "colab": {
          "base_uri": "https://localhost:8080/"
        },
        "id": "JogAsf-F0fuv",
        "outputId": "d71f20a5-dd4c-45e9-8a42-d9d580c43ccb"
      },
      "source": [
        "df.StateHoliday.value_counts()"
      ],
      "execution_count": 11,
      "outputs": [
        {
          "output_type": "execute_result",
          "data": {
            "text/plain": [
              "0    557868\n",
              "a     14546\n",
              "b      4460\n",
              "c      4100\n",
              "Name: StateHoliday, dtype: int64"
            ]
          },
          "metadata": {
            "tags": []
          },
          "execution_count": 11
        }
      ]
    },
    {
      "cell_type": "code",
      "metadata": {
        "colab": {
          "base_uri": "https://localhost:8080/"
        },
        "id": "NQMRbc_twCN5",
        "outputId": "42510d95-56c5-4b9c-bb3e-3ec2a01fea28"
      },
      "source": [
        "df.isnull().sum()"
      ],
      "execution_count": null,
      "outputs": [
        {
          "output_type": "execute_result",
          "data": {
            "text/plain": [
              "Store            0\n",
              "DayOfWeek        0\n",
              "Date             0\n",
              "Sales            0\n",
              "Customers        0\n",
              "Open             0\n",
              "Promo            0\n",
              "StateHoliday     0\n",
              "SchoolHoliday    0\n",
              "dtype: int64"
            ]
          },
          "metadata": {
            "tags": []
          },
          "execution_count": 13
        }
      ]
    },
    {
      "cell_type": "code",
      "metadata": {
        "id": "EOSyvguHi5nW"
      },
      "source": [
        "df_cp1 = df.copy()\n",
        "dftest_cp1 = df_test.copy()"
      ],
      "execution_count": 12,
      "outputs": []
    },
    {
      "cell_type": "code",
      "metadata": {
        "id": "b991eVXrw3Z6"
      },
      "source": [
        "def convdt(df):\n",
        "  df['Date'] = pd.to_datetime(df['Date'])\n",
        "  df['Year'] = df['Date'].dt.year\n",
        "  df['Month'] = df['Date'].dt.month\n",
        "  df['Day'] = df['Date'].dt.day\n",
        "  df = df.drop('Date',axis=1)\n",
        "def output(yp,name):\n",
        "  #function to write report\n",
        "  report = pd.DataFrame(yp,columns=['Sales'])\n",
        "  report.to_csv('/content/gdrive/My Drive/Datasets/segmind/' + name )"
      ],
      "execution_count": 13,
      "outputs": []
    },
    {
      "cell_type": "code",
      "metadata": {
        "colab": {
          "base_uri": "https://localhost:8080/",
          "height": 206
        },
        "id": "4l2XUwBcigsW",
        "outputId": "ea32e829-c495-4077-a229-668ded2a9c4d"
      },
      "source": [
        "df_cp1.head()\n",
        "convdt(df_cp1)\n",
        "df_cp1.head()"
      ],
      "execution_count": 14,
      "outputs": [
        {
          "output_type": "execute_result",
          "data": {
            "text/html": [
              "<div>\n",
              "<style scoped>\n",
              "    .dataframe tbody tr th:only-of-type {\n",
              "        vertical-align: middle;\n",
              "    }\n",
              "\n",
              "    .dataframe tbody tr th {\n",
              "        vertical-align: top;\n",
              "    }\n",
              "\n",
              "    .dataframe thead th {\n",
              "        text-align: right;\n",
              "    }\n",
              "</style>\n",
              "<table border=\"1\" class=\"dataframe\">\n",
              "  <thead>\n",
              "    <tr style=\"text-align: right;\">\n",
              "      <th></th>\n",
              "      <th>Store</th>\n",
              "      <th>DayOfWeek</th>\n",
              "      <th>Date</th>\n",
              "      <th>Sales</th>\n",
              "      <th>Customers</th>\n",
              "      <th>Open</th>\n",
              "      <th>Promo</th>\n",
              "      <th>StateHoliday</th>\n",
              "      <th>SchoolHoliday</th>\n",
              "      <th>Year</th>\n",
              "      <th>Month</th>\n",
              "      <th>Day</th>\n",
              "    </tr>\n",
              "  </thead>\n",
              "  <tbody>\n",
              "    <tr>\n",
              "      <th>0</th>\n",
              "      <td>1</td>\n",
              "      <td>5</td>\n",
              "      <td>2015-07-31</td>\n",
              "      <td>5263</td>\n",
              "      <td>555</td>\n",
              "      <td>1</td>\n",
              "      <td>1</td>\n",
              "      <td>0</td>\n",
              "      <td>1</td>\n",
              "      <td>2015</td>\n",
              "      <td>7</td>\n",
              "      <td>31</td>\n",
              "    </tr>\n",
              "    <tr>\n",
              "      <th>1</th>\n",
              "      <td>2</td>\n",
              "      <td>5</td>\n",
              "      <td>2015-07-31</td>\n",
              "      <td>6064</td>\n",
              "      <td>625</td>\n",
              "      <td>1</td>\n",
              "      <td>1</td>\n",
              "      <td>0</td>\n",
              "      <td>1</td>\n",
              "      <td>2015</td>\n",
              "      <td>7</td>\n",
              "      <td>31</td>\n",
              "    </tr>\n",
              "    <tr>\n",
              "      <th>2</th>\n",
              "      <td>3</td>\n",
              "      <td>5</td>\n",
              "      <td>2015-07-31</td>\n",
              "      <td>8314</td>\n",
              "      <td>821</td>\n",
              "      <td>1</td>\n",
              "      <td>1</td>\n",
              "      <td>0</td>\n",
              "      <td>1</td>\n",
              "      <td>2015</td>\n",
              "      <td>7</td>\n",
              "      <td>31</td>\n",
              "    </tr>\n",
              "    <tr>\n",
              "      <th>3</th>\n",
              "      <td>4</td>\n",
              "      <td>5</td>\n",
              "      <td>2015-07-31</td>\n",
              "      <td>13995</td>\n",
              "      <td>1498</td>\n",
              "      <td>1</td>\n",
              "      <td>1</td>\n",
              "      <td>0</td>\n",
              "      <td>1</td>\n",
              "      <td>2015</td>\n",
              "      <td>7</td>\n",
              "      <td>31</td>\n",
              "    </tr>\n",
              "    <tr>\n",
              "      <th>4</th>\n",
              "      <td>5</td>\n",
              "      <td>5</td>\n",
              "      <td>2015-07-31</td>\n",
              "      <td>4822</td>\n",
              "      <td>559</td>\n",
              "      <td>1</td>\n",
              "      <td>1</td>\n",
              "      <td>0</td>\n",
              "      <td>1</td>\n",
              "      <td>2015</td>\n",
              "      <td>7</td>\n",
              "      <td>31</td>\n",
              "    </tr>\n",
              "  </tbody>\n",
              "</table>\n",
              "</div>"
            ],
            "text/plain": [
              "   Store  DayOfWeek       Date  Sales  ...  SchoolHoliday  Year  Month Day\n",
              "0      1          5 2015-07-31   5263  ...              1  2015      7  31\n",
              "1      2          5 2015-07-31   6064  ...              1  2015      7  31\n",
              "2      3          5 2015-07-31   8314  ...              1  2015      7  31\n",
              "3      4          5 2015-07-31  13995  ...              1  2015      7  31\n",
              "4      5          5 2015-07-31   4822  ...              1  2015      7  31\n",
              "\n",
              "[5 rows x 12 columns]"
            ]
          },
          "metadata": {
            "tags": []
          },
          "execution_count": 14
        }
      ]
    },
    {
      "cell_type": "code",
      "metadata": {
        "id": "89dWZzy6jP6c"
      },
      "source": [
        "df_cp1 = df_cp1.drop('Date',axis=1)"
      ],
      "execution_count": 15,
      "outputs": []
    },
    {
      "cell_type": "code",
      "metadata": {
        "id": "Qfs40oZgjI0w"
      },
      "source": [
        "df_cp1.nunique()\n",
        "num_cols = ['Store', 'Sales', 'Customers']"
      ],
      "execution_count": 16,
      "outputs": []
    },
    {
      "cell_type": "code",
      "metadata": {
        "id": "s8k8gzp6kEAQ"
      },
      "source": [
        "df_cp2 = pd.get_dummies(df_cp1,columns=[x for x in df_cp1.columns if x not in num_cols])"
      ],
      "execution_count": 17,
      "outputs": []
    },
    {
      "cell_type": "code",
      "metadata": {
        "colab": {
          "base_uri": "https://localhost:8080/",
          "height": 273
        },
        "id": "IEhdZhPOoM2j",
        "outputId": "7f8e641d-cd31-4137-d5af-93580e2f2807"
      },
      "source": [
        "df_cp2.head()"
      ],
      "execution_count": null,
      "outputs": [
        {
          "output_type": "execute_result",
          "data": {
            "text/html": [
              "<div>\n",
              "<style scoped>\n",
              "    .dataframe tbody tr th:only-of-type {\n",
              "        vertical-align: middle;\n",
              "    }\n",
              "\n",
              "    .dataframe tbody tr th {\n",
              "        vertical-align: top;\n",
              "    }\n",
              "\n",
              "    .dataframe thead th {\n",
              "        text-align: right;\n",
              "    }\n",
              "</style>\n",
              "<table border=\"1\" class=\"dataframe\">\n",
              "  <thead>\n",
              "    <tr style=\"text-align: right;\">\n",
              "      <th></th>\n",
              "      <th>Store</th>\n",
              "      <th>Sales</th>\n",
              "      <th>Customers</th>\n",
              "      <th>DayOfWeek_1</th>\n",
              "      <th>DayOfWeek_2</th>\n",
              "      <th>DayOfWeek_3</th>\n",
              "      <th>DayOfWeek_4</th>\n",
              "      <th>DayOfWeek_5</th>\n",
              "      <th>DayOfWeek_6</th>\n",
              "      <th>DayOfWeek_7</th>\n",
              "      <th>Date_2013-10-01 00:00:00</th>\n",
              "      <th>Date_2013-10-02 00:00:00</th>\n",
              "      <th>Date_2013-10-03 00:00:00</th>\n",
              "      <th>Date_2013-10-04 00:00:00</th>\n",
              "      <th>Date_2013-10-05 00:00:00</th>\n",
              "      <th>Date_2013-10-06 00:00:00</th>\n",
              "      <th>Date_2013-10-07 00:00:00</th>\n",
              "      <th>Date_2013-10-08 00:00:00</th>\n",
              "      <th>Date_2013-10-09 00:00:00</th>\n",
              "      <th>Date_2013-10-10 00:00:00</th>\n",
              "      <th>Date_2013-10-11 00:00:00</th>\n",
              "      <th>Date_2013-10-12 00:00:00</th>\n",
              "      <th>Date_2013-10-13 00:00:00</th>\n",
              "      <th>Date_2013-10-14 00:00:00</th>\n",
              "      <th>Date_2013-10-15 00:00:00</th>\n",
              "      <th>Date_2013-10-16 00:00:00</th>\n",
              "      <th>Date_2013-10-17 00:00:00</th>\n",
              "      <th>Date_2013-10-18 00:00:00</th>\n",
              "      <th>Date_2013-10-19 00:00:00</th>\n",
              "      <th>Date_2013-10-20 00:00:00</th>\n",
              "      <th>Date_2013-10-21 00:00:00</th>\n",
              "      <th>Date_2013-10-22 00:00:00</th>\n",
              "      <th>Date_2013-10-23 00:00:00</th>\n",
              "      <th>Date_2013-10-24 00:00:00</th>\n",
              "      <th>Date_2013-10-25 00:00:00</th>\n",
              "      <th>Date_2013-10-26 00:00:00</th>\n",
              "      <th>Date_2013-10-27 00:00:00</th>\n",
              "      <th>Date_2013-10-28 00:00:00</th>\n",
              "      <th>Date_2013-10-29 00:00:00</th>\n",
              "      <th>Date_2013-10-30 00:00:00</th>\n",
              "      <th>...</th>\n",
              "      <th>Month_4</th>\n",
              "      <th>Month_5</th>\n",
              "      <th>Month_6</th>\n",
              "      <th>Month_7</th>\n",
              "      <th>Month_8</th>\n",
              "      <th>Month_9</th>\n",
              "      <th>Month_10</th>\n",
              "      <th>Month_11</th>\n",
              "      <th>Month_12</th>\n",
              "      <th>Day_1</th>\n",
              "      <th>Day_2</th>\n",
              "      <th>Day_3</th>\n",
              "      <th>Day_4</th>\n",
              "      <th>Day_5</th>\n",
              "      <th>Day_6</th>\n",
              "      <th>Day_7</th>\n",
              "      <th>Day_8</th>\n",
              "      <th>Day_9</th>\n",
              "      <th>Day_10</th>\n",
              "      <th>Day_11</th>\n",
              "      <th>Day_12</th>\n",
              "      <th>Day_13</th>\n",
              "      <th>Day_14</th>\n",
              "      <th>Day_15</th>\n",
              "      <th>Day_16</th>\n",
              "      <th>Day_17</th>\n",
              "      <th>Day_18</th>\n",
              "      <th>Day_19</th>\n",
              "      <th>Day_20</th>\n",
              "      <th>Day_21</th>\n",
              "      <th>Day_22</th>\n",
              "      <th>Day_23</th>\n",
              "      <th>Day_24</th>\n",
              "      <th>Day_25</th>\n",
              "      <th>Day_26</th>\n",
              "      <th>Day_27</th>\n",
              "      <th>Day_28</th>\n",
              "      <th>Day_29</th>\n",
              "      <th>Day_30</th>\n",
              "      <th>Day_31</th>\n",
              "    </tr>\n",
              "  </thead>\n",
              "  <tbody>\n",
              "    <tr>\n",
              "      <th>0</th>\n",
              "      <td>1</td>\n",
              "      <td>5263</td>\n",
              "      <td>555</td>\n",
              "      <td>0</td>\n",
              "      <td>0</td>\n",
              "      <td>0</td>\n",
              "      <td>0</td>\n",
              "      <td>1</td>\n",
              "      <td>0</td>\n",
              "      <td>0</td>\n",
              "      <td>0</td>\n",
              "      <td>0</td>\n",
              "      <td>0</td>\n",
              "      <td>0</td>\n",
              "      <td>0</td>\n",
              "      <td>0</td>\n",
              "      <td>0</td>\n",
              "      <td>0</td>\n",
              "      <td>0</td>\n",
              "      <td>0</td>\n",
              "      <td>0</td>\n",
              "      <td>0</td>\n",
              "      <td>0</td>\n",
              "      <td>0</td>\n",
              "      <td>0</td>\n",
              "      <td>0</td>\n",
              "      <td>0</td>\n",
              "      <td>0</td>\n",
              "      <td>0</td>\n",
              "      <td>0</td>\n",
              "      <td>0</td>\n",
              "      <td>0</td>\n",
              "      <td>0</td>\n",
              "      <td>0</td>\n",
              "      <td>0</td>\n",
              "      <td>0</td>\n",
              "      <td>0</td>\n",
              "      <td>0</td>\n",
              "      <td>0</td>\n",
              "      <td>0</td>\n",
              "      <td>...</td>\n",
              "      <td>0</td>\n",
              "      <td>0</td>\n",
              "      <td>0</td>\n",
              "      <td>1</td>\n",
              "      <td>0</td>\n",
              "      <td>0</td>\n",
              "      <td>0</td>\n",
              "      <td>0</td>\n",
              "      <td>0</td>\n",
              "      <td>0</td>\n",
              "      <td>0</td>\n",
              "      <td>0</td>\n",
              "      <td>0</td>\n",
              "      <td>0</td>\n",
              "      <td>0</td>\n",
              "      <td>0</td>\n",
              "      <td>0</td>\n",
              "      <td>0</td>\n",
              "      <td>0</td>\n",
              "      <td>0</td>\n",
              "      <td>0</td>\n",
              "      <td>0</td>\n",
              "      <td>0</td>\n",
              "      <td>0</td>\n",
              "      <td>0</td>\n",
              "      <td>0</td>\n",
              "      <td>0</td>\n",
              "      <td>0</td>\n",
              "      <td>0</td>\n",
              "      <td>0</td>\n",
              "      <td>0</td>\n",
              "      <td>0</td>\n",
              "      <td>0</td>\n",
              "      <td>0</td>\n",
              "      <td>0</td>\n",
              "      <td>0</td>\n",
              "      <td>0</td>\n",
              "      <td>0</td>\n",
              "      <td>0</td>\n",
              "      <td>1</td>\n",
              "    </tr>\n",
              "    <tr>\n",
              "      <th>1</th>\n",
              "      <td>2</td>\n",
              "      <td>6064</td>\n",
              "      <td>625</td>\n",
              "      <td>0</td>\n",
              "      <td>0</td>\n",
              "      <td>0</td>\n",
              "      <td>0</td>\n",
              "      <td>1</td>\n",
              "      <td>0</td>\n",
              "      <td>0</td>\n",
              "      <td>0</td>\n",
              "      <td>0</td>\n",
              "      <td>0</td>\n",
              "      <td>0</td>\n",
              "      <td>0</td>\n",
              "      <td>0</td>\n",
              "      <td>0</td>\n",
              "      <td>0</td>\n",
              "      <td>0</td>\n",
              "      <td>0</td>\n",
              "      <td>0</td>\n",
              "      <td>0</td>\n",
              "      <td>0</td>\n",
              "      <td>0</td>\n",
              "      <td>0</td>\n",
              "      <td>0</td>\n",
              "      <td>0</td>\n",
              "      <td>0</td>\n",
              "      <td>0</td>\n",
              "      <td>0</td>\n",
              "      <td>0</td>\n",
              "      <td>0</td>\n",
              "      <td>0</td>\n",
              "      <td>0</td>\n",
              "      <td>0</td>\n",
              "      <td>0</td>\n",
              "      <td>0</td>\n",
              "      <td>0</td>\n",
              "      <td>0</td>\n",
              "      <td>0</td>\n",
              "      <td>...</td>\n",
              "      <td>0</td>\n",
              "      <td>0</td>\n",
              "      <td>0</td>\n",
              "      <td>1</td>\n",
              "      <td>0</td>\n",
              "      <td>0</td>\n",
              "      <td>0</td>\n",
              "      <td>0</td>\n",
              "      <td>0</td>\n",
              "      <td>0</td>\n",
              "      <td>0</td>\n",
              "      <td>0</td>\n",
              "      <td>0</td>\n",
              "      <td>0</td>\n",
              "      <td>0</td>\n",
              "      <td>0</td>\n",
              "      <td>0</td>\n",
              "      <td>0</td>\n",
              "      <td>0</td>\n",
              "      <td>0</td>\n",
              "      <td>0</td>\n",
              "      <td>0</td>\n",
              "      <td>0</td>\n",
              "      <td>0</td>\n",
              "      <td>0</td>\n",
              "      <td>0</td>\n",
              "      <td>0</td>\n",
              "      <td>0</td>\n",
              "      <td>0</td>\n",
              "      <td>0</td>\n",
              "      <td>0</td>\n",
              "      <td>0</td>\n",
              "      <td>0</td>\n",
              "      <td>0</td>\n",
              "      <td>0</td>\n",
              "      <td>0</td>\n",
              "      <td>0</td>\n",
              "      <td>0</td>\n",
              "      <td>0</td>\n",
              "      <td>1</td>\n",
              "    </tr>\n",
              "    <tr>\n",
              "      <th>2</th>\n",
              "      <td>3</td>\n",
              "      <td>8314</td>\n",
              "      <td>821</td>\n",
              "      <td>0</td>\n",
              "      <td>0</td>\n",
              "      <td>0</td>\n",
              "      <td>0</td>\n",
              "      <td>1</td>\n",
              "      <td>0</td>\n",
              "      <td>0</td>\n",
              "      <td>0</td>\n",
              "      <td>0</td>\n",
              "      <td>0</td>\n",
              "      <td>0</td>\n",
              "      <td>0</td>\n",
              "      <td>0</td>\n",
              "      <td>0</td>\n",
              "      <td>0</td>\n",
              "      <td>0</td>\n",
              "      <td>0</td>\n",
              "      <td>0</td>\n",
              "      <td>0</td>\n",
              "      <td>0</td>\n",
              "      <td>0</td>\n",
              "      <td>0</td>\n",
              "      <td>0</td>\n",
              "      <td>0</td>\n",
              "      <td>0</td>\n",
              "      <td>0</td>\n",
              "      <td>0</td>\n",
              "      <td>0</td>\n",
              "      <td>0</td>\n",
              "      <td>0</td>\n",
              "      <td>0</td>\n",
              "      <td>0</td>\n",
              "      <td>0</td>\n",
              "      <td>0</td>\n",
              "      <td>0</td>\n",
              "      <td>0</td>\n",
              "      <td>0</td>\n",
              "      <td>...</td>\n",
              "      <td>0</td>\n",
              "      <td>0</td>\n",
              "      <td>0</td>\n",
              "      <td>1</td>\n",
              "      <td>0</td>\n",
              "      <td>0</td>\n",
              "      <td>0</td>\n",
              "      <td>0</td>\n",
              "      <td>0</td>\n",
              "      <td>0</td>\n",
              "      <td>0</td>\n",
              "      <td>0</td>\n",
              "      <td>0</td>\n",
              "      <td>0</td>\n",
              "      <td>0</td>\n",
              "      <td>0</td>\n",
              "      <td>0</td>\n",
              "      <td>0</td>\n",
              "      <td>0</td>\n",
              "      <td>0</td>\n",
              "      <td>0</td>\n",
              "      <td>0</td>\n",
              "      <td>0</td>\n",
              "      <td>0</td>\n",
              "      <td>0</td>\n",
              "      <td>0</td>\n",
              "      <td>0</td>\n",
              "      <td>0</td>\n",
              "      <td>0</td>\n",
              "      <td>0</td>\n",
              "      <td>0</td>\n",
              "      <td>0</td>\n",
              "      <td>0</td>\n",
              "      <td>0</td>\n",
              "      <td>0</td>\n",
              "      <td>0</td>\n",
              "      <td>0</td>\n",
              "      <td>0</td>\n",
              "      <td>0</td>\n",
              "      <td>1</td>\n",
              "    </tr>\n",
              "    <tr>\n",
              "      <th>3</th>\n",
              "      <td>4</td>\n",
              "      <td>13995</td>\n",
              "      <td>1498</td>\n",
              "      <td>0</td>\n",
              "      <td>0</td>\n",
              "      <td>0</td>\n",
              "      <td>0</td>\n",
              "      <td>1</td>\n",
              "      <td>0</td>\n",
              "      <td>0</td>\n",
              "      <td>0</td>\n",
              "      <td>0</td>\n",
              "      <td>0</td>\n",
              "      <td>0</td>\n",
              "      <td>0</td>\n",
              "      <td>0</td>\n",
              "      <td>0</td>\n",
              "      <td>0</td>\n",
              "      <td>0</td>\n",
              "      <td>0</td>\n",
              "      <td>0</td>\n",
              "      <td>0</td>\n",
              "      <td>0</td>\n",
              "      <td>0</td>\n",
              "      <td>0</td>\n",
              "      <td>0</td>\n",
              "      <td>0</td>\n",
              "      <td>0</td>\n",
              "      <td>0</td>\n",
              "      <td>0</td>\n",
              "      <td>0</td>\n",
              "      <td>0</td>\n",
              "      <td>0</td>\n",
              "      <td>0</td>\n",
              "      <td>0</td>\n",
              "      <td>0</td>\n",
              "      <td>0</td>\n",
              "      <td>0</td>\n",
              "      <td>0</td>\n",
              "      <td>0</td>\n",
              "      <td>...</td>\n",
              "      <td>0</td>\n",
              "      <td>0</td>\n",
              "      <td>0</td>\n",
              "      <td>1</td>\n",
              "      <td>0</td>\n",
              "      <td>0</td>\n",
              "      <td>0</td>\n",
              "      <td>0</td>\n",
              "      <td>0</td>\n",
              "      <td>0</td>\n",
              "      <td>0</td>\n",
              "      <td>0</td>\n",
              "      <td>0</td>\n",
              "      <td>0</td>\n",
              "      <td>0</td>\n",
              "      <td>0</td>\n",
              "      <td>0</td>\n",
              "      <td>0</td>\n",
              "      <td>0</td>\n",
              "      <td>0</td>\n",
              "      <td>0</td>\n",
              "      <td>0</td>\n",
              "      <td>0</td>\n",
              "      <td>0</td>\n",
              "      <td>0</td>\n",
              "      <td>0</td>\n",
              "      <td>0</td>\n",
              "      <td>0</td>\n",
              "      <td>0</td>\n",
              "      <td>0</td>\n",
              "      <td>0</td>\n",
              "      <td>0</td>\n",
              "      <td>0</td>\n",
              "      <td>0</td>\n",
              "      <td>0</td>\n",
              "      <td>0</td>\n",
              "      <td>0</td>\n",
              "      <td>0</td>\n",
              "      <td>0</td>\n",
              "      <td>1</td>\n",
              "    </tr>\n",
              "    <tr>\n",
              "      <th>4</th>\n",
              "      <td>5</td>\n",
              "      <td>4822</td>\n",
              "      <td>559</td>\n",
              "      <td>0</td>\n",
              "      <td>0</td>\n",
              "      <td>0</td>\n",
              "      <td>0</td>\n",
              "      <td>1</td>\n",
              "      <td>0</td>\n",
              "      <td>0</td>\n",
              "      <td>0</td>\n",
              "      <td>0</td>\n",
              "      <td>0</td>\n",
              "      <td>0</td>\n",
              "      <td>0</td>\n",
              "      <td>0</td>\n",
              "      <td>0</td>\n",
              "      <td>0</td>\n",
              "      <td>0</td>\n",
              "      <td>0</td>\n",
              "      <td>0</td>\n",
              "      <td>0</td>\n",
              "      <td>0</td>\n",
              "      <td>0</td>\n",
              "      <td>0</td>\n",
              "      <td>0</td>\n",
              "      <td>0</td>\n",
              "      <td>0</td>\n",
              "      <td>0</td>\n",
              "      <td>0</td>\n",
              "      <td>0</td>\n",
              "      <td>0</td>\n",
              "      <td>0</td>\n",
              "      <td>0</td>\n",
              "      <td>0</td>\n",
              "      <td>0</td>\n",
              "      <td>0</td>\n",
              "      <td>0</td>\n",
              "      <td>0</td>\n",
              "      <td>0</td>\n",
              "      <td>...</td>\n",
              "      <td>0</td>\n",
              "      <td>0</td>\n",
              "      <td>0</td>\n",
              "      <td>1</td>\n",
              "      <td>0</td>\n",
              "      <td>0</td>\n",
              "      <td>0</td>\n",
              "      <td>0</td>\n",
              "      <td>0</td>\n",
              "      <td>0</td>\n",
              "      <td>0</td>\n",
              "      <td>0</td>\n",
              "      <td>0</td>\n",
              "      <td>0</td>\n",
              "      <td>0</td>\n",
              "      <td>0</td>\n",
              "      <td>0</td>\n",
              "      <td>0</td>\n",
              "      <td>0</td>\n",
              "      <td>0</td>\n",
              "      <td>0</td>\n",
              "      <td>0</td>\n",
              "      <td>0</td>\n",
              "      <td>0</td>\n",
              "      <td>0</td>\n",
              "      <td>0</td>\n",
              "      <td>0</td>\n",
              "      <td>0</td>\n",
              "      <td>0</td>\n",
              "      <td>0</td>\n",
              "      <td>0</td>\n",
              "      <td>0</td>\n",
              "      <td>0</td>\n",
              "      <td>0</td>\n",
              "      <td>0</td>\n",
              "      <td>0</td>\n",
              "      <td>0</td>\n",
              "      <td>0</td>\n",
              "      <td>0</td>\n",
              "      <td>1</td>\n",
              "    </tr>\n",
              "  </tbody>\n",
              "</table>\n",
              "<p>5 rows × 736 columns</p>\n",
              "</div>"
            ],
            "text/plain": [
              "   Store  Sales  Customers  DayOfWeek_1  ...  Day_28  Day_29  Day_30  Day_31\n",
              "0      1   5263        555            0  ...       0       0       0       1\n",
              "1      2   6064        625            0  ...       0       0       0       1\n",
              "2      3   8314        821            0  ...       0       0       0       1\n",
              "3      4  13995       1498            0  ...       0       0       0       1\n",
              "4      5   4822        559            0  ...       0       0       0       1\n",
              "\n",
              "[5 rows x 736 columns]"
            ]
          },
          "metadata": {
            "tags": []
          },
          "execution_count": 9
        }
      ]
    },
    {
      "cell_type": "code",
      "metadata": {
        "colab": {
          "base_uri": "https://localhost:8080/",
          "height": 443
        },
        "id": "nbd3GYtypYQT",
        "outputId": "ccc50d99-7a22-4ba4-c340-3d788f8a8e24"
      },
      "source": [
        "df_cp2.corr()"
      ],
      "execution_count": null,
      "outputs": [
        {
          "output_type": "execute_result",
          "data": {
            "text/html": [
              "<div>\n",
              "<style scoped>\n",
              "    .dataframe tbody tr th:only-of-type {\n",
              "        vertical-align: middle;\n",
              "    }\n",
              "\n",
              "    .dataframe tbody tr th {\n",
              "        vertical-align: top;\n",
              "    }\n",
              "\n",
              "    .dataframe thead th {\n",
              "        text-align: right;\n",
              "    }\n",
              "</style>\n",
              "<table border=\"1\" class=\"dataframe\">\n",
              "  <thead>\n",
              "    <tr style=\"text-align: right;\">\n",
              "      <th></th>\n",
              "      <th>Store</th>\n",
              "      <th>Sales</th>\n",
              "      <th>Customers</th>\n",
              "      <th>DayOfWeek_1</th>\n",
              "      <th>DayOfWeek_2</th>\n",
              "      <th>DayOfWeek_3</th>\n",
              "      <th>DayOfWeek_4</th>\n",
              "      <th>DayOfWeek_5</th>\n",
              "      <th>DayOfWeek_6</th>\n",
              "      <th>DayOfWeek_7</th>\n",
              "      <th>Open_0</th>\n",
              "      <th>Open_1</th>\n",
              "      <th>Promo_0</th>\n",
              "      <th>Promo_1</th>\n",
              "      <th>StateHoliday_0</th>\n",
              "      <th>StateHoliday_0</th>\n",
              "      <th>StateHoliday_a</th>\n",
              "      <th>StateHoliday_b</th>\n",
              "      <th>StateHoliday_c</th>\n",
              "      <th>SchoolHoliday_0</th>\n",
              "      <th>SchoolHoliday_1</th>\n",
              "      <th>Year_2013</th>\n",
              "      <th>Year_2014</th>\n",
              "      <th>Year_2015</th>\n",
              "      <th>Month_1</th>\n",
              "      <th>Month_2</th>\n",
              "      <th>Month_3</th>\n",
              "      <th>Month_4</th>\n",
              "      <th>Month_5</th>\n",
              "      <th>Month_6</th>\n",
              "      <th>Month_7</th>\n",
              "      <th>Month_8</th>\n",
              "      <th>Month_9</th>\n",
              "      <th>Month_10</th>\n",
              "      <th>Month_11</th>\n",
              "      <th>Month_12</th>\n",
              "      <th>Day_1</th>\n",
              "      <th>Day_2</th>\n",
              "      <th>Day_3</th>\n",
              "      <th>Day_4</th>\n",
              "      <th>Day_5</th>\n",
              "      <th>Day_6</th>\n",
              "      <th>Day_7</th>\n",
              "      <th>Day_8</th>\n",
              "      <th>Day_9</th>\n",
              "      <th>Day_10</th>\n",
              "      <th>Day_11</th>\n",
              "      <th>Day_12</th>\n",
              "      <th>Day_13</th>\n",
              "      <th>Day_14</th>\n",
              "      <th>Day_15</th>\n",
              "      <th>Day_16</th>\n",
              "      <th>Day_17</th>\n",
              "      <th>Day_18</th>\n",
              "      <th>Day_19</th>\n",
              "      <th>Day_20</th>\n",
              "      <th>Day_21</th>\n",
              "      <th>Day_22</th>\n",
              "      <th>Day_23</th>\n",
              "      <th>Day_24</th>\n",
              "      <th>Day_25</th>\n",
              "      <th>Day_26</th>\n",
              "      <th>Day_27</th>\n",
              "      <th>Day_28</th>\n",
              "      <th>Day_29</th>\n",
              "      <th>Day_30</th>\n",
              "      <th>Day_31</th>\n",
              "    </tr>\n",
              "  </thead>\n",
              "  <tbody>\n",
              "    <tr>\n",
              "      <th>Store</th>\n",
              "      <td>1.000000</td>\n",
              "      <td>0.003725</td>\n",
              "      <td>0.023597</td>\n",
              "      <td>0.000231</td>\n",
              "      <td>-0.001400</td>\n",
              "      <td>0.000255</td>\n",
              "      <td>0.000224</td>\n",
              "      <td>0.000224</td>\n",
              "      <td>0.000231</td>\n",
              "      <td>0.000231</td>\n",
              "      <td>0.000475</td>\n",
              "      <td>-0.000475</td>\n",
              "      <td>-0.000540</td>\n",
              "      <td>0.000540</td>\n",
              "      <td>0.000502</td>\n",
              "      <td>-0.000825</td>\n",
              "      <td>0.000994</td>\n",
              "      <td>-0.000105</td>\n",
              "      <td>0.000173</td>\n",
              "      <td>-0.001498</td>\n",
              "      <td>0.001498</td>\n",
              "      <td>-0.002200</td>\n",
              "      <td>0.002425</td>\n",
              "      <td>-0.000936</td>\n",
              "      <td>-0.000436</td>\n",
              "      <td>-0.000412</td>\n",
              "      <td>-0.000436</td>\n",
              "      <td>-0.000428</td>\n",
              "      <td>-0.000436</td>\n",
              "      <td>-0.000428</td>\n",
              "      <td>0.000712</td>\n",
              "      <td>0.001354</td>\n",
              "      <td>0.001331</td>\n",
              "      <td>-0.001326</td>\n",
              "      <td>0.000699</td>\n",
              "      <td>0.000712</td>\n",
              "      <td>-0.003191</td>\n",
              "      <td>0.000104</td>\n",
              "      <td>0.000104</td>\n",
              "      <td>0.000104</td>\n",
              "      <td>0.000104</td>\n",
              "      <td>0.000104</td>\n",
              "      <td>0.000104</td>\n",
              "      <td>0.000104</td>\n",
              "      <td>0.000104</td>\n",
              "      <td>0.000104</td>\n",
              "      <td>0.000104</td>\n",
              "      <td>0.000104</td>\n",
              "      <td>0.000104</td>\n",
              "      <td>0.000104</td>\n",
              "      <td>0.000104</td>\n",
              "      <td>0.000104</td>\n",
              "      <td>0.000104</td>\n",
              "      <td>0.000104</td>\n",
              "      <td>0.000104</td>\n",
              "      <td>0.000104</td>\n",
              "      <td>0.000104</td>\n",
              "      <td>0.000104</td>\n",
              "      <td>0.000104</td>\n",
              "      <td>0.000104</td>\n",
              "      <td>0.000104</td>\n",
              "      <td>0.000104</td>\n",
              "      <td>0.000104</td>\n",
              "      <td>0.000104</td>\n",
              "      <td>0.000133</td>\n",
              "      <td>0.000133</td>\n",
              "      <td>0.000115</td>\n",
              "    </tr>\n",
              "    <tr>\n",
              "      <th>Sales</th>\n",
              "      <td>0.003725</td>\n",
              "      <td>1.000000</td>\n",
              "      <td>0.893174</td>\n",
              "      <td>0.221302</td>\n",
              "      <td>0.136684</td>\n",
              "      <td>0.084675</td>\n",
              "      <td>0.040731</td>\n",
              "      <td>0.093754</td>\n",
              "      <td>0.009815</td>\n",
              "      <td>-0.587994</td>\n",
              "      <td>-0.681612</td>\n",
              "      <td>0.681612</td>\n",
              "      <td>-0.453403</td>\n",
              "      <td>0.453403</td>\n",
              "      <td>-0.016794</td>\n",
              "      <td>0.128743</td>\n",
              "      <td>-0.205723</td>\n",
              "      <td>-0.114525</td>\n",
              "      <td>-0.110763</td>\n",
              "      <td>-0.077300</td>\n",
              "      <td>0.077300</td>\n",
              "      <td>0.013357</td>\n",
              "      <td>-0.010408</td>\n",
              "      <td>0.001109</td>\n",
              "      <td>-0.023412</td>\n",
              "      <td>-0.011978</td>\n",
              "      <td>-0.008819</td>\n",
              "      <td>-0.000465</td>\n",
              "      <td>-0.026752</td>\n",
              "      <td>0.005611</td>\n",
              "      <td>0.016398</td>\n",
              "      <td>-0.011705</td>\n",
              "      <td>-0.000361</td>\n",
              "      <td>-0.027090</td>\n",
              "      <td>0.010673</td>\n",
              "      <td>0.076255</td>\n",
              "      <td>-0.048035</td>\n",
              "      <td>0.068201</td>\n",
              "      <td>0.007207</td>\n",
              "      <td>0.052913</td>\n",
              "      <td>0.031185</td>\n",
              "      <td>0.007983</td>\n",
              "      <td>0.020370</td>\n",
              "      <td>-0.019940</td>\n",
              "      <td>-0.028978</td>\n",
              "      <td>-0.017420</td>\n",
              "      <td>-0.019141</td>\n",
              "      <td>-0.041256</td>\n",
              "      <td>-0.006083</td>\n",
              "      <td>-0.012680</td>\n",
              "      <td>0.001304</td>\n",
              "      <td>0.041719</td>\n",
              "      <td>0.036156</td>\n",
              "      <td>0.029480</td>\n",
              "      <td>0.000981</td>\n",
              "      <td>0.021325</td>\n",
              "      <td>-0.013688</td>\n",
              "      <td>-0.026110</td>\n",
              "      <td>-0.006322</td>\n",
              "      <td>-0.036847</td>\n",
              "      <td>-0.065262</td>\n",
              "      <td>-0.069278</td>\n",
              "      <td>-0.008034</td>\n",
              "      <td>0.008656</td>\n",
              "      <td>0.003181</td>\n",
              "      <td>0.081900</td>\n",
              "      <td>0.012650</td>\n",
              "    </tr>\n",
              "    <tr>\n",
              "      <th>Customers</th>\n",
              "      <td>0.023597</td>\n",
              "      <td>0.893174</td>\n",
              "      <td>1.000000</td>\n",
              "      <td>0.162377</td>\n",
              "      <td>0.117113</td>\n",
              "      <td>0.078964</td>\n",
              "      <td>0.048161</td>\n",
              "      <td>0.091197</td>\n",
              "      <td>0.023551</td>\n",
              "      <td>-0.522384</td>\n",
              "      <td>-0.619465</td>\n",
              "      <td>0.619465</td>\n",
              "      <td>-0.315534</td>\n",
              "      <td>0.315534</td>\n",
              "      <td>0.004259</td>\n",
              "      <td>0.096577</td>\n",
              "      <td>-0.183033</td>\n",
              "      <td>-0.101769</td>\n",
              "      <td>-0.099227</td>\n",
              "      <td>-0.066068</td>\n",
              "      <td>0.066068</td>\n",
              "      <td>0.010941</td>\n",
              "      <td>0.011879</td>\n",
              "      <td>-0.020730</td>\n",
              "      <td>-0.021260</td>\n",
              "      <td>-0.004044</td>\n",
              "      <td>-0.008170</td>\n",
              "      <td>-0.002886</td>\n",
              "      <td>-0.024339</td>\n",
              "      <td>-0.004680</td>\n",
              "      <td>0.010619</td>\n",
              "      <td>0.000375</td>\n",
              "      <td>0.011909</td>\n",
              "      <td>-0.005399</td>\n",
              "      <td>0.010615</td>\n",
              "      <td>0.043499</td>\n",
              "      <td>-0.054808</td>\n",
              "      <td>0.045454</td>\n",
              "      <td>-0.007419</td>\n",
              "      <td>0.035640</td>\n",
              "      <td>0.015671</td>\n",
              "      <td>0.001828</td>\n",
              "      <td>0.018092</td>\n",
              "      <td>-0.012185</td>\n",
              "      <td>-0.016335</td>\n",
              "      <td>-0.001613</td>\n",
              "      <td>-0.000248</td>\n",
              "      <td>-0.022972</td>\n",
              "      <td>0.002571</td>\n",
              "      <td>-0.008049</td>\n",
              "      <td>-0.003091</td>\n",
              "      <td>0.024301</td>\n",
              "      <td>0.024979</td>\n",
              "      <td>0.018584</td>\n",
              "      <td>-0.002470</td>\n",
              "      <td>0.016744</td>\n",
              "      <td>-0.008676</td>\n",
              "      <td>-0.014523</td>\n",
              "      <td>0.006693</td>\n",
              "      <td>-0.018735</td>\n",
              "      <td>-0.043877</td>\n",
              "      <td>-0.050267</td>\n",
              "      <td>-0.002098</td>\n",
              "      <td>0.007258</td>\n",
              "      <td>-0.004601</td>\n",
              "      <td>0.054123</td>\n",
              "      <td>0.001930</td>\n",
              "    </tr>\n",
              "    <tr>\n",
              "      <th>DayOfWeek_1</th>\n",
              "      <td>0.000231</td>\n",
              "      <td>0.221302</td>\n",
              "      <td>0.162377</td>\n",
              "      <td>1.000000</td>\n",
              "      <td>-0.165916</td>\n",
              "      <td>-0.166649</td>\n",
              "      <td>-0.166820</td>\n",
              "      <td>-0.166820</td>\n",
              "      <td>-0.165758</td>\n",
              "      <td>-0.165758</td>\n",
              "      <td>-0.133768</td>\n",
              "      <td>0.133768</td>\n",
              "      <td>-0.130950</td>\n",
              "      <td>0.130950</td>\n",
              "      <td>0.007762</td>\n",
              "      <td>-0.021788</td>\n",
              "      <td>0.013381</td>\n",
              "      <td>0.081340</td>\n",
              "      <td>-0.030983</td>\n",
              "      <td>-0.066071</td>\n",
              "      <td>0.066071</td>\n",
              "      <td>0.000214</td>\n",
              "      <td>0.001143</td>\n",
              "      <td>-0.001371</td>\n",
              "      <td>-0.012353</td>\n",
              "      <td>0.000593</td>\n",
              "      <td>0.017935</td>\n",
              "      <td>-0.008165</td>\n",
              "      <td>-0.012353</td>\n",
              "      <td>0.022570</td>\n",
              "      <td>-0.011793</td>\n",
              "      <td>-0.007760</td>\n",
              "      <td>0.014193</td>\n",
              "      <td>-0.010307</td>\n",
              "      <td>-0.007796</td>\n",
              "      <td>0.017122</td>\n",
              "      <td>-0.005495</td>\n",
              "      <td>0.025365</td>\n",
              "      <td>-0.003815</td>\n",
              "      <td>-0.003815</td>\n",
              "      <td>-0.024884</td>\n",
              "      <td>0.021309</td>\n",
              "      <td>-0.003815</td>\n",
              "      <td>-0.007871</td>\n",
              "      <td>0.025365</td>\n",
              "      <td>-0.003815</td>\n",
              "      <td>-0.003815</td>\n",
              "      <td>-0.024884</td>\n",
              "      <td>0.021309</td>\n",
              "      <td>-0.003815</td>\n",
              "      <td>-0.007871</td>\n",
              "      <td>0.025365</td>\n",
              "      <td>-0.003815</td>\n",
              "      <td>-0.003815</td>\n",
              "      <td>-0.024884</td>\n",
              "      <td>0.021309</td>\n",
              "      <td>-0.003815</td>\n",
              "      <td>-0.007871</td>\n",
              "      <td>0.025365</td>\n",
              "      <td>-0.003815</td>\n",
              "      <td>-0.003815</td>\n",
              "      <td>-0.024884</td>\n",
              "      <td>0.021309</td>\n",
              "      <td>-0.003815</td>\n",
              "      <td>-0.000763</td>\n",
              "      <td>0.007751</td>\n",
              "      <td>-0.024631</td>\n",
              "    </tr>\n",
              "    <tr>\n",
              "      <th>DayOfWeek_2</th>\n",
              "      <td>-0.001400</td>\n",
              "      <td>0.136684</td>\n",
              "      <td>0.117113</td>\n",
              "      <td>-0.165916</td>\n",
              "      <td>1.000000</td>\n",
              "      <td>-0.166808</td>\n",
              "      <td>-0.166980</td>\n",
              "      <td>-0.166980</td>\n",
              "      <td>-0.165916</td>\n",
              "      <td>-0.165916</td>\n",
              "      <td>-0.180672</td>\n",
              "      <td>0.180672</td>\n",
              "      <td>-0.128848</td>\n",
              "      <td>0.128848</td>\n",
              "      <td>0.007439</td>\n",
              "      <td>0.022092</td>\n",
              "      <td>-0.050073</td>\n",
              "      <td>-0.032354</td>\n",
              "      <td>-0.031013</td>\n",
              "      <td>-0.074312</td>\n",
              "      <td>0.074312</td>\n",
              "      <td>0.003913</td>\n",
              "      <td>-0.001007</td>\n",
              "      <td>-0.001841</td>\n",
              "      <td>-0.012563</td>\n",
              "      <td>0.000386</td>\n",
              "      <td>0.002570</td>\n",
              "      <td>0.006983</td>\n",
              "      <td>-0.012563</td>\n",
              "      <td>0.006983</td>\n",
              "      <td>0.001185</td>\n",
              "      <td>-0.007892</td>\n",
              "      <td>0.014049</td>\n",
              "      <td>-0.005604</td>\n",
              "      <td>-0.007996</td>\n",
              "      <td>0.016901</td>\n",
              "      <td>-0.019091</td>\n",
              "      <td>-0.007989</td>\n",
              "      <td>0.025224</td>\n",
              "      <td>-0.003936</td>\n",
              "      <td>-0.003936</td>\n",
              "      <td>-0.024990</td>\n",
              "      <td>0.021171</td>\n",
              "      <td>-0.003936</td>\n",
              "      <td>-0.007989</td>\n",
              "      <td>0.025224</td>\n",
              "      <td>-0.003936</td>\n",
              "      <td>-0.003936</td>\n",
              "      <td>-0.024990</td>\n",
              "      <td>0.021171</td>\n",
              "      <td>-0.003936</td>\n",
              "      <td>-0.007989</td>\n",
              "      <td>0.025224</td>\n",
              "      <td>-0.003936</td>\n",
              "      <td>-0.003936</td>\n",
              "      <td>-0.024990</td>\n",
              "      <td>0.021171</td>\n",
              "      <td>-0.003936</td>\n",
              "      <td>-0.007989</td>\n",
              "      <td>0.025224</td>\n",
              "      <td>-0.003936</td>\n",
              "      <td>-0.003936</td>\n",
              "      <td>-0.024990</td>\n",
              "      <td>0.021171</td>\n",
              "      <td>0.003375</td>\n",
              "      <td>-0.000879</td>\n",
              "      <td>0.007823</td>\n",
              "    </tr>\n",
              "    <tr>\n",
              "      <th>...</th>\n",
              "      <td>...</td>\n",
              "      <td>...</td>\n",
              "      <td>...</td>\n",
              "      <td>...</td>\n",
              "      <td>...</td>\n",
              "      <td>...</td>\n",
              "      <td>...</td>\n",
              "      <td>...</td>\n",
              "      <td>...</td>\n",
              "      <td>...</td>\n",
              "      <td>...</td>\n",
              "      <td>...</td>\n",
              "      <td>...</td>\n",
              "      <td>...</td>\n",
              "      <td>...</td>\n",
              "      <td>...</td>\n",
              "      <td>...</td>\n",
              "      <td>...</td>\n",
              "      <td>...</td>\n",
              "      <td>...</td>\n",
              "      <td>...</td>\n",
              "      <td>...</td>\n",
              "      <td>...</td>\n",
              "      <td>...</td>\n",
              "      <td>...</td>\n",
              "      <td>...</td>\n",
              "      <td>...</td>\n",
              "      <td>...</td>\n",
              "      <td>...</td>\n",
              "      <td>...</td>\n",
              "      <td>...</td>\n",
              "      <td>...</td>\n",
              "      <td>...</td>\n",
              "      <td>...</td>\n",
              "      <td>...</td>\n",
              "      <td>...</td>\n",
              "      <td>...</td>\n",
              "      <td>...</td>\n",
              "      <td>...</td>\n",
              "      <td>...</td>\n",
              "      <td>...</td>\n",
              "      <td>...</td>\n",
              "      <td>...</td>\n",
              "      <td>...</td>\n",
              "      <td>...</td>\n",
              "      <td>...</td>\n",
              "      <td>...</td>\n",
              "      <td>...</td>\n",
              "      <td>...</td>\n",
              "      <td>...</td>\n",
              "      <td>...</td>\n",
              "      <td>...</td>\n",
              "      <td>...</td>\n",
              "      <td>...</td>\n",
              "      <td>...</td>\n",
              "      <td>...</td>\n",
              "      <td>...</td>\n",
              "      <td>...</td>\n",
              "      <td>...</td>\n",
              "      <td>...</td>\n",
              "      <td>...</td>\n",
              "      <td>...</td>\n",
              "      <td>...</td>\n",
              "      <td>...</td>\n",
              "      <td>...</td>\n",
              "      <td>...</td>\n",
              "      <td>...</td>\n",
              "    </tr>\n",
              "    <tr>\n",
              "      <th>Day_27</th>\n",
              "      <td>0.000104</td>\n",
              "      <td>-0.008034</td>\n",
              "      <td>-0.002098</td>\n",
              "      <td>0.021309</td>\n",
              "      <td>-0.024990</td>\n",
              "      <td>-0.004492</td>\n",
              "      <td>-0.004622</td>\n",
              "      <td>0.024426</td>\n",
              "      <td>-0.007871</td>\n",
              "      <td>-0.003815</td>\n",
              "      <td>-0.019292</td>\n",
              "      <td>0.019292</td>\n",
              "      <td>0.075287</td>\n",
              "      <td>-0.075287</td>\n",
              "      <td>-0.004399</td>\n",
              "      <td>0.018678</td>\n",
              "      <td>-0.026649</td>\n",
              "      <td>-0.014651</td>\n",
              "      <td>-0.014044</td>\n",
              "      <td>0.013598</td>\n",
              "      <td>-0.013598</td>\n",
              "      <td>-0.000179</td>\n",
              "      <td>-0.000193</td>\n",
              "      <td>0.000338</td>\n",
              "      <td>-0.001241</td>\n",
              "      <td>0.004831</td>\n",
              "      <td>-0.001241</td>\n",
              "      <td>0.000722</td>\n",
              "      <td>-0.001241</td>\n",
              "      <td>0.000722</td>\n",
              "      <td>-0.001184</td>\n",
              "      <td>-0.000779</td>\n",
              "      <td>0.000454</td>\n",
              "      <td>-0.000488</td>\n",
              "      <td>0.000689</td>\n",
              "      <td>-0.001184</td>\n",
              "      <td>-0.033473</td>\n",
              "      <td>-0.034055</td>\n",
              "      <td>-0.034055</td>\n",
              "      <td>-0.034055</td>\n",
              "      <td>-0.034055</td>\n",
              "      <td>-0.034055</td>\n",
              "      <td>-0.034055</td>\n",
              "      <td>-0.034055</td>\n",
              "      <td>-0.034055</td>\n",
              "      <td>-0.034055</td>\n",
              "      <td>-0.034055</td>\n",
              "      <td>-0.034055</td>\n",
              "      <td>-0.034055</td>\n",
              "      <td>-0.034055</td>\n",
              "      <td>-0.034055</td>\n",
              "      <td>-0.034055</td>\n",
              "      <td>-0.034055</td>\n",
              "      <td>-0.034055</td>\n",
              "      <td>-0.034055</td>\n",
              "      <td>-0.034055</td>\n",
              "      <td>-0.034055</td>\n",
              "      <td>-0.034055</td>\n",
              "      <td>-0.034055</td>\n",
              "      <td>-0.034055</td>\n",
              "      <td>-0.034055</td>\n",
              "      <td>-0.034055</td>\n",
              "      <td>1.000000</td>\n",
              "      <td>-0.034055</td>\n",
              "      <td>-0.032343</td>\n",
              "      <td>-0.032343</td>\n",
              "      <td>-0.025919</td>\n",
              "    </tr>\n",
              "    <tr>\n",
              "      <th>Day_28</th>\n",
              "      <td>0.000104</td>\n",
              "      <td>0.008656</td>\n",
              "      <td>0.007258</td>\n",
              "      <td>-0.003815</td>\n",
              "      <td>0.021171</td>\n",
              "      <td>-0.025480</td>\n",
              "      <td>-0.004622</td>\n",
              "      <td>-0.004622</td>\n",
              "      <td>0.025365</td>\n",
              "      <td>-0.007871</td>\n",
              "      <td>-0.022821</td>\n",
              "      <td>0.022821</td>\n",
              "      <td>0.042061</td>\n",
              "      <td>-0.042061</td>\n",
              "      <td>-0.004399</td>\n",
              "      <td>0.018678</td>\n",
              "      <td>-0.026649</td>\n",
              "      <td>-0.014651</td>\n",
              "      <td>-0.014044</td>\n",
              "      <td>0.000090</td>\n",
              "      <td>-0.000090</td>\n",
              "      <td>-0.000179</td>\n",
              "      <td>-0.000193</td>\n",
              "      <td>0.000338</td>\n",
              "      <td>-0.001241</td>\n",
              "      <td>0.004831</td>\n",
              "      <td>-0.001241</td>\n",
              "      <td>0.000722</td>\n",
              "      <td>-0.001241</td>\n",
              "      <td>0.000722</td>\n",
              "      <td>-0.001184</td>\n",
              "      <td>-0.000779</td>\n",
              "      <td>0.000454</td>\n",
              "      <td>-0.000488</td>\n",
              "      <td>0.000689</td>\n",
              "      <td>-0.001184</td>\n",
              "      <td>-0.033473</td>\n",
              "      <td>-0.034055</td>\n",
              "      <td>-0.034055</td>\n",
              "      <td>-0.034055</td>\n",
              "      <td>-0.034055</td>\n",
              "      <td>-0.034055</td>\n",
              "      <td>-0.034055</td>\n",
              "      <td>-0.034055</td>\n",
              "      <td>-0.034055</td>\n",
              "      <td>-0.034055</td>\n",
              "      <td>-0.034055</td>\n",
              "      <td>-0.034055</td>\n",
              "      <td>-0.034055</td>\n",
              "      <td>-0.034055</td>\n",
              "      <td>-0.034055</td>\n",
              "      <td>-0.034055</td>\n",
              "      <td>-0.034055</td>\n",
              "      <td>-0.034055</td>\n",
              "      <td>-0.034055</td>\n",
              "      <td>-0.034055</td>\n",
              "      <td>-0.034055</td>\n",
              "      <td>-0.034055</td>\n",
              "      <td>-0.034055</td>\n",
              "      <td>-0.034055</td>\n",
              "      <td>-0.034055</td>\n",
              "      <td>-0.034055</td>\n",
              "      <td>-0.034055</td>\n",
              "      <td>1.000000</td>\n",
              "      <td>-0.032343</td>\n",
              "      <td>-0.032343</td>\n",
              "      <td>-0.025919</td>\n",
              "    </tr>\n",
              "    <tr>\n",
              "      <th>Day_29</th>\n",
              "      <td>0.000133</td>\n",
              "      <td>0.003181</td>\n",
              "      <td>-0.004601</td>\n",
              "      <td>-0.000763</td>\n",
              "      <td>0.003375</td>\n",
              "      <td>0.029092</td>\n",
              "      <td>-0.019315</td>\n",
              "      <td>0.002696</td>\n",
              "      <td>-0.022875</td>\n",
              "      <td>0.007751</td>\n",
              "      <td>0.015830</td>\n",
              "      <td>-0.015830</td>\n",
              "      <td>0.010740</td>\n",
              "      <td>-0.010740</td>\n",
              "      <td>-0.019631</td>\n",
              "      <td>0.009921</td>\n",
              "      <td>0.039790</td>\n",
              "      <td>-0.013914</td>\n",
              "      <td>-0.013338</td>\n",
              "      <td>-0.030445</td>\n",
              "      <td>0.030445</td>\n",
              "      <td>0.007335</td>\n",
              "      <td>0.000721</td>\n",
              "      <td>-0.006217</td>\n",
              "      <td>0.004737</td>\n",
              "      <td>-0.054337</td>\n",
              "      <td>0.004737</td>\n",
              "      <td>0.006689</td>\n",
              "      <td>0.004737</td>\n",
              "      <td>0.006689</td>\n",
              "      <td>0.004523</td>\n",
              "      <td>0.002976</td>\n",
              "      <td>0.004206</td>\n",
              "      <td>0.005215</td>\n",
              "      <td>0.006386</td>\n",
              "      <td>0.004523</td>\n",
              "      <td>-0.031790</td>\n",
              "      <td>-0.032343</td>\n",
              "      <td>-0.032343</td>\n",
              "      <td>-0.032343</td>\n",
              "      <td>-0.032343</td>\n",
              "      <td>-0.032343</td>\n",
              "      <td>-0.032343</td>\n",
              "      <td>-0.032343</td>\n",
              "      <td>-0.032343</td>\n",
              "      <td>-0.032343</td>\n",
              "      <td>-0.032343</td>\n",
              "      <td>-0.032343</td>\n",
              "      <td>-0.032343</td>\n",
              "      <td>-0.032343</td>\n",
              "      <td>-0.032343</td>\n",
              "      <td>-0.032343</td>\n",
              "      <td>-0.032343</td>\n",
              "      <td>-0.032343</td>\n",
              "      <td>-0.032343</td>\n",
              "      <td>-0.032343</td>\n",
              "      <td>-0.032343</td>\n",
              "      <td>-0.032343</td>\n",
              "      <td>-0.032343</td>\n",
              "      <td>-0.032343</td>\n",
              "      <td>-0.032343</td>\n",
              "      <td>-0.032343</td>\n",
              "      <td>-0.032343</td>\n",
              "      <td>-0.032343</td>\n",
              "      <td>1.000000</td>\n",
              "      <td>-0.030717</td>\n",
              "      <td>-0.024616</td>\n",
              "    </tr>\n",
              "    <tr>\n",
              "      <th>Day_30</th>\n",
              "      <td>0.000133</td>\n",
              "      <td>0.081900</td>\n",
              "      <td>0.054123</td>\n",
              "      <td>0.007751</td>\n",
              "      <td>-0.000879</td>\n",
              "      <td>0.002824</td>\n",
              "      <td>0.028945</td>\n",
              "      <td>-0.019315</td>\n",
              "      <td>0.003494</td>\n",
              "      <td>-0.022875</td>\n",
              "      <td>-0.035341</td>\n",
              "      <td>0.035341</td>\n",
              "      <td>-0.027194</td>\n",
              "      <td>0.027194</td>\n",
              "      <td>-0.019631</td>\n",
              "      <td>0.032279</td>\n",
              "      <td>-0.025310</td>\n",
              "      <td>-0.013914</td>\n",
              "      <td>-0.013338</td>\n",
              "      <td>-0.069518</td>\n",
              "      <td>0.069518</td>\n",
              "      <td>0.007335</td>\n",
              "      <td>0.000721</td>\n",
              "      <td>-0.006217</td>\n",
              "      <td>0.004737</td>\n",
              "      <td>-0.054337</td>\n",
              "      <td>0.004737</td>\n",
              "      <td>0.006689</td>\n",
              "      <td>0.004737</td>\n",
              "      <td>0.006689</td>\n",
              "      <td>0.004523</td>\n",
              "      <td>0.002976</td>\n",
              "      <td>0.004206</td>\n",
              "      <td>0.005215</td>\n",
              "      <td>0.006386</td>\n",
              "      <td>0.004523</td>\n",
              "      <td>-0.031790</td>\n",
              "      <td>-0.032343</td>\n",
              "      <td>-0.032343</td>\n",
              "      <td>-0.032343</td>\n",
              "      <td>-0.032343</td>\n",
              "      <td>-0.032343</td>\n",
              "      <td>-0.032343</td>\n",
              "      <td>-0.032343</td>\n",
              "      <td>-0.032343</td>\n",
              "      <td>-0.032343</td>\n",
              "      <td>-0.032343</td>\n",
              "      <td>-0.032343</td>\n",
              "      <td>-0.032343</td>\n",
              "      <td>-0.032343</td>\n",
              "      <td>-0.032343</td>\n",
              "      <td>-0.032343</td>\n",
              "      <td>-0.032343</td>\n",
              "      <td>-0.032343</td>\n",
              "      <td>-0.032343</td>\n",
              "      <td>-0.032343</td>\n",
              "      <td>-0.032343</td>\n",
              "      <td>-0.032343</td>\n",
              "      <td>-0.032343</td>\n",
              "      <td>-0.032343</td>\n",
              "      <td>-0.032343</td>\n",
              "      <td>-0.032343</td>\n",
              "      <td>-0.032343</td>\n",
              "      <td>-0.032343</td>\n",
              "      <td>-0.030717</td>\n",
              "      <td>1.000000</td>\n",
              "      <td>-0.024616</td>\n",
              "    </tr>\n",
              "    <tr>\n",
              "      <th>Day_31</th>\n",
              "      <td>0.000115</td>\n",
              "      <td>0.012650</td>\n",
              "      <td>0.001930</td>\n",
              "      <td>-0.024631</td>\n",
              "      <td>0.007823</td>\n",
              "      <td>-0.030298</td>\n",
              "      <td>0.002028</td>\n",
              "      <td>0.034433</td>\n",
              "      <td>0.007922</td>\n",
              "      <td>0.002667</td>\n",
              "      <td>-0.000903</td>\n",
              "      <td>0.000903</td>\n",
              "      <td>0.020218</td>\n",
              "      <td>-0.020218</td>\n",
              "      <td>0.011822</td>\n",
              "      <td>-0.008326</td>\n",
              "      <td>0.003791</td>\n",
              "      <td>-0.011151</td>\n",
              "      <td>-0.010689</td>\n",
              "      <td>-0.092028</td>\n",
              "      <td>0.092028</td>\n",
              "      <td>0.007585</td>\n",
              "      <td>-0.003011</td>\n",
              "      <td>-0.002445</td>\n",
              "      <td>0.030741</td>\n",
              "      <td>-0.043545</td>\n",
              "      <td>0.030741</td>\n",
              "      <td>-0.045229</td>\n",
              "      <td>0.030741</td>\n",
              "      <td>-0.045229</td>\n",
              "      <td>0.029347</td>\n",
              "      <td>0.019311</td>\n",
              "      <td>-0.028443</td>\n",
              "      <td>0.030044</td>\n",
              "      <td>-0.043185</td>\n",
              "      <td>0.029347</td>\n",
              "      <td>-0.025477</td>\n",
              "      <td>-0.025919</td>\n",
              "      <td>-0.025919</td>\n",
              "      <td>-0.025919</td>\n",
              "      <td>-0.025919</td>\n",
              "      <td>-0.025919</td>\n",
              "      <td>-0.025919</td>\n",
              "      <td>-0.025919</td>\n",
              "      <td>-0.025919</td>\n",
              "      <td>-0.025919</td>\n",
              "      <td>-0.025919</td>\n",
              "      <td>-0.025919</td>\n",
              "      <td>-0.025919</td>\n",
              "      <td>-0.025919</td>\n",
              "      <td>-0.025919</td>\n",
              "      <td>-0.025919</td>\n",
              "      <td>-0.025919</td>\n",
              "      <td>-0.025919</td>\n",
              "      <td>-0.025919</td>\n",
              "      <td>-0.025919</td>\n",
              "      <td>-0.025919</td>\n",
              "      <td>-0.025919</td>\n",
              "      <td>-0.025919</td>\n",
              "      <td>-0.025919</td>\n",
              "      <td>-0.025919</td>\n",
              "      <td>-0.025919</td>\n",
              "      <td>-0.025919</td>\n",
              "      <td>-0.025919</td>\n",
              "      <td>-0.024616</td>\n",
              "      <td>-0.024616</td>\n",
              "      <td>1.000000</td>\n",
              "    </tr>\n",
              "  </tbody>\n",
              "</table>\n",
              "<p>67 rows × 67 columns</p>\n",
              "</div>"
            ],
            "text/plain": [
              "                Store     Sales  Customers  ...    Day_29    Day_30    Day_31\n",
              "Store        1.000000  0.003725   0.023597  ...  0.000133  0.000133  0.000115\n",
              "Sales        0.003725  1.000000   0.893174  ...  0.003181  0.081900  0.012650\n",
              "Customers    0.023597  0.893174   1.000000  ... -0.004601  0.054123  0.001930\n",
              "DayOfWeek_1  0.000231  0.221302   0.162377  ... -0.000763  0.007751 -0.024631\n",
              "DayOfWeek_2 -0.001400  0.136684   0.117113  ...  0.003375 -0.000879  0.007823\n",
              "...               ...       ...        ...  ...       ...       ...       ...\n",
              "Day_27       0.000104 -0.008034  -0.002098  ... -0.032343 -0.032343 -0.025919\n",
              "Day_28       0.000104  0.008656   0.007258  ... -0.032343 -0.032343 -0.025919\n",
              "Day_29       0.000133  0.003181  -0.004601  ...  1.000000 -0.030717 -0.024616\n",
              "Day_30       0.000133  0.081900   0.054123  ... -0.030717  1.000000 -0.024616\n",
              "Day_31       0.000115  0.012650   0.001930  ... -0.024616 -0.024616  1.000000\n",
              "\n",
              "[67 rows x 67 columns]"
            ]
          },
          "metadata": {
            "tags": []
          },
          "execution_count": 20
        }
      ]
    },
    {
      "cell_type": "markdown",
      "metadata": {
        "id": "kM7PYivfqLkR"
      },
      "source": [
        "##Lets split X, Y and Train and test sets"
      ]
    },
    {
      "cell_type": "code",
      "metadata": {
        "id": "We85nuCNqQzq"
      },
      "source": [
        "X = df_cp2.drop('Sales',axis=1)\n",
        "Y = df_cp2['Sales']"
      ],
      "execution_count": 18,
      "outputs": []
    },
    {
      "cell_type": "code",
      "metadata": {
        "id": "-orNC18RqdUi"
      },
      "source": [
        "from sklearn.preprocessing import StandardScaler\n",
        "sc = StandardScaler()\n",
        "X_std = sc.fit_transform(X)"
      ],
      "execution_count": 19,
      "outputs": []
    },
    {
      "cell_type": "code",
      "metadata": {
        "colab": {
          "base_uri": "https://localhost:8080/",
          "height": 226
        },
        "id": "gaJ6H535qvd6",
        "outputId": "57c851b7-4648-445a-8955-159913ad054f"
      },
      "source": [
        "X_std = pd.DataFrame(X_std,columns=X.columns)\n",
        "X_std.head()"
      ],
      "execution_count": 20,
      "outputs": [
        {
          "output_type": "execute_result",
          "data": {
            "text/html": [
              "<div>\n",
              "<style scoped>\n",
              "    .dataframe tbody tr th:only-of-type {\n",
              "        vertical-align: middle;\n",
              "    }\n",
              "\n",
              "    .dataframe tbody tr th {\n",
              "        vertical-align: top;\n",
              "    }\n",
              "\n",
              "    .dataframe thead th {\n",
              "        text-align: right;\n",
              "    }\n",
              "</style>\n",
              "<table border=\"1\" class=\"dataframe\">\n",
              "  <thead>\n",
              "    <tr style=\"text-align: right;\">\n",
              "      <th></th>\n",
              "      <th>Store</th>\n",
              "      <th>Customers</th>\n",
              "      <th>DayOfWeek_1</th>\n",
              "      <th>DayOfWeek_2</th>\n",
              "      <th>DayOfWeek_3</th>\n",
              "      <th>DayOfWeek_4</th>\n",
              "      <th>DayOfWeek_5</th>\n",
              "      <th>DayOfWeek_6</th>\n",
              "      <th>DayOfWeek_7</th>\n",
              "      <th>Open_0</th>\n",
              "      <th>Open_1</th>\n",
              "      <th>Promo_0</th>\n",
              "      <th>Promo_1</th>\n",
              "      <th>StateHoliday_0</th>\n",
              "      <th>StateHoliday_a</th>\n",
              "      <th>StateHoliday_b</th>\n",
              "      <th>StateHoliday_c</th>\n",
              "      <th>SchoolHoliday_0</th>\n",
              "      <th>SchoolHoliday_1</th>\n",
              "      <th>Year_2013</th>\n",
              "      <th>Year_2014</th>\n",
              "      <th>Year_2015</th>\n",
              "      <th>Month_1</th>\n",
              "      <th>Month_2</th>\n",
              "      <th>Month_3</th>\n",
              "      <th>Month_4</th>\n",
              "      <th>Month_5</th>\n",
              "      <th>Month_6</th>\n",
              "      <th>Month_7</th>\n",
              "      <th>Month_8</th>\n",
              "      <th>Month_9</th>\n",
              "      <th>Month_10</th>\n",
              "      <th>Month_11</th>\n",
              "      <th>Month_12</th>\n",
              "      <th>Day_1</th>\n",
              "      <th>Day_2</th>\n",
              "      <th>Day_3</th>\n",
              "      <th>Day_4</th>\n",
              "      <th>Day_5</th>\n",
              "      <th>Day_6</th>\n",
              "      <th>Day_7</th>\n",
              "      <th>Day_8</th>\n",
              "      <th>Day_9</th>\n",
              "      <th>Day_10</th>\n",
              "      <th>Day_11</th>\n",
              "      <th>Day_12</th>\n",
              "      <th>Day_13</th>\n",
              "      <th>Day_14</th>\n",
              "      <th>Day_15</th>\n",
              "      <th>Day_16</th>\n",
              "      <th>Day_17</th>\n",
              "      <th>Day_18</th>\n",
              "      <th>Day_19</th>\n",
              "      <th>Day_20</th>\n",
              "      <th>Day_21</th>\n",
              "      <th>Day_22</th>\n",
              "      <th>Day_23</th>\n",
              "      <th>Day_24</th>\n",
              "      <th>Day_25</th>\n",
              "      <th>Day_26</th>\n",
              "      <th>Day_27</th>\n",
              "      <th>Day_28</th>\n",
              "      <th>Day_29</th>\n",
              "      <th>Day_30</th>\n",
              "      <th>Day_31</th>\n",
              "    </tr>\n",
              "  </thead>\n",
              "  <tbody>\n",
              "    <tr>\n",
              "      <th>0</th>\n",
              "      <td>-1.731330</td>\n",
              "      <td>-0.177129</td>\n",
              "      <td>-0.407134</td>\n",
              "      <td>-0.407523</td>\n",
              "      <td>-0.409323</td>\n",
              "      <td>-0.409743</td>\n",
              "      <td>2.440551</td>\n",
              "      <td>-0.407134</td>\n",
              "      <td>-0.407134</td>\n",
              "      <td>-0.454854</td>\n",
              "      <td>0.454854</td>\n",
              "      <td>-1.275707</td>\n",
              "      <td>1.275707</td>\n",
              "      <td>0.525709</td>\n",
              "      <td>-0.144411</td>\n",
              "      <td>-0.079392</td>\n",
              "      <td>-0.076101</td>\n",
              "      <td>-2.192785</td>\n",
              "      <td>2.192785</td>\n",
              "      <td>-0.408459</td>\n",
              "      <td>-1.051406</td>\n",
              "      <td>1.418553</td>\n",
              "      <td>-0.327911</td>\n",
              "      <td>-0.310032</td>\n",
              "      <td>-0.327911</td>\n",
              "      <td>-0.322021</td>\n",
              "      <td>-0.327911</td>\n",
              "      <td>-0.322021</td>\n",
              "      <td>3.194448</td>\n",
              "      <td>-0.205995</td>\n",
              "      <td>-0.202507</td>\n",
              "      <td>-0.310959</td>\n",
              "      <td>-0.307467</td>\n",
              "      <td>-0.313043</td>\n",
              "      <td>-0.181387</td>\n",
              "      <td>-0.184539</td>\n",
              "      <td>-0.184539</td>\n",
              "      <td>-0.184539</td>\n",
              "      <td>-0.184539</td>\n",
              "      <td>-0.184539</td>\n",
              "      <td>-0.184539</td>\n",
              "      <td>-0.184539</td>\n",
              "      <td>-0.184539</td>\n",
              "      <td>-0.184539</td>\n",
              "      <td>-0.184539</td>\n",
              "      <td>-0.184539</td>\n",
              "      <td>-0.184539</td>\n",
              "      <td>-0.184539</td>\n",
              "      <td>-0.184539</td>\n",
              "      <td>-0.184539</td>\n",
              "      <td>-0.184539</td>\n",
              "      <td>-0.184539</td>\n",
              "      <td>-0.184539</td>\n",
              "      <td>-0.184539</td>\n",
              "      <td>-0.184539</td>\n",
              "      <td>-0.184539</td>\n",
              "      <td>-0.184539</td>\n",
              "      <td>-0.184539</td>\n",
              "      <td>-0.184539</td>\n",
              "      <td>-0.184539</td>\n",
              "      <td>-0.184539</td>\n",
              "      <td>-0.184539</td>\n",
              "      <td>-0.175262</td>\n",
              "      <td>-0.175262</td>\n",
              "      <td>7.119774</td>\n",
              "    </tr>\n",
              "    <tr>\n",
              "      <th>1</th>\n",
              "      <td>-1.728224</td>\n",
              "      <td>-0.027699</td>\n",
              "      <td>-0.407134</td>\n",
              "      <td>-0.407523</td>\n",
              "      <td>-0.409323</td>\n",
              "      <td>-0.409743</td>\n",
              "      <td>2.440551</td>\n",
              "      <td>-0.407134</td>\n",
              "      <td>-0.407134</td>\n",
              "      <td>-0.454854</td>\n",
              "      <td>0.454854</td>\n",
              "      <td>-1.275707</td>\n",
              "      <td>1.275707</td>\n",
              "      <td>0.525709</td>\n",
              "      <td>-0.144411</td>\n",
              "      <td>-0.079392</td>\n",
              "      <td>-0.076101</td>\n",
              "      <td>-2.192785</td>\n",
              "      <td>2.192785</td>\n",
              "      <td>-0.408459</td>\n",
              "      <td>-1.051406</td>\n",
              "      <td>1.418553</td>\n",
              "      <td>-0.327911</td>\n",
              "      <td>-0.310032</td>\n",
              "      <td>-0.327911</td>\n",
              "      <td>-0.322021</td>\n",
              "      <td>-0.327911</td>\n",
              "      <td>-0.322021</td>\n",
              "      <td>3.194448</td>\n",
              "      <td>-0.205995</td>\n",
              "      <td>-0.202507</td>\n",
              "      <td>-0.310959</td>\n",
              "      <td>-0.307467</td>\n",
              "      <td>-0.313043</td>\n",
              "      <td>-0.181387</td>\n",
              "      <td>-0.184539</td>\n",
              "      <td>-0.184539</td>\n",
              "      <td>-0.184539</td>\n",
              "      <td>-0.184539</td>\n",
              "      <td>-0.184539</td>\n",
              "      <td>-0.184539</td>\n",
              "      <td>-0.184539</td>\n",
              "      <td>-0.184539</td>\n",
              "      <td>-0.184539</td>\n",
              "      <td>-0.184539</td>\n",
              "      <td>-0.184539</td>\n",
              "      <td>-0.184539</td>\n",
              "      <td>-0.184539</td>\n",
              "      <td>-0.184539</td>\n",
              "      <td>-0.184539</td>\n",
              "      <td>-0.184539</td>\n",
              "      <td>-0.184539</td>\n",
              "      <td>-0.184539</td>\n",
              "      <td>-0.184539</td>\n",
              "      <td>-0.184539</td>\n",
              "      <td>-0.184539</td>\n",
              "      <td>-0.184539</td>\n",
              "      <td>-0.184539</td>\n",
              "      <td>-0.184539</td>\n",
              "      <td>-0.184539</td>\n",
              "      <td>-0.184539</td>\n",
              "      <td>-0.184539</td>\n",
              "      <td>-0.175262</td>\n",
              "      <td>-0.175262</td>\n",
              "      <td>7.119774</td>\n",
              "    </tr>\n",
              "    <tr>\n",
              "      <th>2</th>\n",
              "      <td>-1.725118</td>\n",
              "      <td>0.390706</td>\n",
              "      <td>-0.407134</td>\n",
              "      <td>-0.407523</td>\n",
              "      <td>-0.409323</td>\n",
              "      <td>-0.409743</td>\n",
              "      <td>2.440551</td>\n",
              "      <td>-0.407134</td>\n",
              "      <td>-0.407134</td>\n",
              "      <td>-0.454854</td>\n",
              "      <td>0.454854</td>\n",
              "      <td>-1.275707</td>\n",
              "      <td>1.275707</td>\n",
              "      <td>0.525709</td>\n",
              "      <td>-0.144411</td>\n",
              "      <td>-0.079392</td>\n",
              "      <td>-0.076101</td>\n",
              "      <td>-2.192785</td>\n",
              "      <td>2.192785</td>\n",
              "      <td>-0.408459</td>\n",
              "      <td>-1.051406</td>\n",
              "      <td>1.418553</td>\n",
              "      <td>-0.327911</td>\n",
              "      <td>-0.310032</td>\n",
              "      <td>-0.327911</td>\n",
              "      <td>-0.322021</td>\n",
              "      <td>-0.327911</td>\n",
              "      <td>-0.322021</td>\n",
              "      <td>3.194448</td>\n",
              "      <td>-0.205995</td>\n",
              "      <td>-0.202507</td>\n",
              "      <td>-0.310959</td>\n",
              "      <td>-0.307467</td>\n",
              "      <td>-0.313043</td>\n",
              "      <td>-0.181387</td>\n",
              "      <td>-0.184539</td>\n",
              "      <td>-0.184539</td>\n",
              "      <td>-0.184539</td>\n",
              "      <td>-0.184539</td>\n",
              "      <td>-0.184539</td>\n",
              "      <td>-0.184539</td>\n",
              "      <td>-0.184539</td>\n",
              "      <td>-0.184539</td>\n",
              "      <td>-0.184539</td>\n",
              "      <td>-0.184539</td>\n",
              "      <td>-0.184539</td>\n",
              "      <td>-0.184539</td>\n",
              "      <td>-0.184539</td>\n",
              "      <td>-0.184539</td>\n",
              "      <td>-0.184539</td>\n",
              "      <td>-0.184539</td>\n",
              "      <td>-0.184539</td>\n",
              "      <td>-0.184539</td>\n",
              "      <td>-0.184539</td>\n",
              "      <td>-0.184539</td>\n",
              "      <td>-0.184539</td>\n",
              "      <td>-0.184539</td>\n",
              "      <td>-0.184539</td>\n",
              "      <td>-0.184539</td>\n",
              "      <td>-0.184539</td>\n",
              "      <td>-0.184539</td>\n",
              "      <td>-0.184539</td>\n",
              "      <td>-0.175262</td>\n",
              "      <td>-0.175262</td>\n",
              "      <td>7.119774</td>\n",
              "    </tr>\n",
              "    <tr>\n",
              "      <th>3</th>\n",
              "      <td>-1.722012</td>\n",
              "      <td>1.835910</td>\n",
              "      <td>-0.407134</td>\n",
              "      <td>-0.407523</td>\n",
              "      <td>-0.409323</td>\n",
              "      <td>-0.409743</td>\n",
              "      <td>2.440551</td>\n",
              "      <td>-0.407134</td>\n",
              "      <td>-0.407134</td>\n",
              "      <td>-0.454854</td>\n",
              "      <td>0.454854</td>\n",
              "      <td>-1.275707</td>\n",
              "      <td>1.275707</td>\n",
              "      <td>0.525709</td>\n",
              "      <td>-0.144411</td>\n",
              "      <td>-0.079392</td>\n",
              "      <td>-0.076101</td>\n",
              "      <td>-2.192785</td>\n",
              "      <td>2.192785</td>\n",
              "      <td>-0.408459</td>\n",
              "      <td>-1.051406</td>\n",
              "      <td>1.418553</td>\n",
              "      <td>-0.327911</td>\n",
              "      <td>-0.310032</td>\n",
              "      <td>-0.327911</td>\n",
              "      <td>-0.322021</td>\n",
              "      <td>-0.327911</td>\n",
              "      <td>-0.322021</td>\n",
              "      <td>3.194448</td>\n",
              "      <td>-0.205995</td>\n",
              "      <td>-0.202507</td>\n",
              "      <td>-0.310959</td>\n",
              "      <td>-0.307467</td>\n",
              "      <td>-0.313043</td>\n",
              "      <td>-0.181387</td>\n",
              "      <td>-0.184539</td>\n",
              "      <td>-0.184539</td>\n",
              "      <td>-0.184539</td>\n",
              "      <td>-0.184539</td>\n",
              "      <td>-0.184539</td>\n",
              "      <td>-0.184539</td>\n",
              "      <td>-0.184539</td>\n",
              "      <td>-0.184539</td>\n",
              "      <td>-0.184539</td>\n",
              "      <td>-0.184539</td>\n",
              "      <td>-0.184539</td>\n",
              "      <td>-0.184539</td>\n",
              "      <td>-0.184539</td>\n",
              "      <td>-0.184539</td>\n",
              "      <td>-0.184539</td>\n",
              "      <td>-0.184539</td>\n",
              "      <td>-0.184539</td>\n",
              "      <td>-0.184539</td>\n",
              "      <td>-0.184539</td>\n",
              "      <td>-0.184539</td>\n",
              "      <td>-0.184539</td>\n",
              "      <td>-0.184539</td>\n",
              "      <td>-0.184539</td>\n",
              "      <td>-0.184539</td>\n",
              "      <td>-0.184539</td>\n",
              "      <td>-0.184539</td>\n",
              "      <td>-0.184539</td>\n",
              "      <td>-0.175262</td>\n",
              "      <td>-0.175262</td>\n",
              "      <td>7.119774</td>\n",
              "    </tr>\n",
              "    <tr>\n",
              "      <th>4</th>\n",
              "      <td>-1.718906</td>\n",
              "      <td>-0.168590</td>\n",
              "      <td>-0.407134</td>\n",
              "      <td>-0.407523</td>\n",
              "      <td>-0.409323</td>\n",
              "      <td>-0.409743</td>\n",
              "      <td>2.440551</td>\n",
              "      <td>-0.407134</td>\n",
              "      <td>-0.407134</td>\n",
              "      <td>-0.454854</td>\n",
              "      <td>0.454854</td>\n",
              "      <td>-1.275707</td>\n",
              "      <td>1.275707</td>\n",
              "      <td>0.525709</td>\n",
              "      <td>-0.144411</td>\n",
              "      <td>-0.079392</td>\n",
              "      <td>-0.076101</td>\n",
              "      <td>-2.192785</td>\n",
              "      <td>2.192785</td>\n",
              "      <td>-0.408459</td>\n",
              "      <td>-1.051406</td>\n",
              "      <td>1.418553</td>\n",
              "      <td>-0.327911</td>\n",
              "      <td>-0.310032</td>\n",
              "      <td>-0.327911</td>\n",
              "      <td>-0.322021</td>\n",
              "      <td>-0.327911</td>\n",
              "      <td>-0.322021</td>\n",
              "      <td>3.194448</td>\n",
              "      <td>-0.205995</td>\n",
              "      <td>-0.202507</td>\n",
              "      <td>-0.310959</td>\n",
              "      <td>-0.307467</td>\n",
              "      <td>-0.313043</td>\n",
              "      <td>-0.181387</td>\n",
              "      <td>-0.184539</td>\n",
              "      <td>-0.184539</td>\n",
              "      <td>-0.184539</td>\n",
              "      <td>-0.184539</td>\n",
              "      <td>-0.184539</td>\n",
              "      <td>-0.184539</td>\n",
              "      <td>-0.184539</td>\n",
              "      <td>-0.184539</td>\n",
              "      <td>-0.184539</td>\n",
              "      <td>-0.184539</td>\n",
              "      <td>-0.184539</td>\n",
              "      <td>-0.184539</td>\n",
              "      <td>-0.184539</td>\n",
              "      <td>-0.184539</td>\n",
              "      <td>-0.184539</td>\n",
              "      <td>-0.184539</td>\n",
              "      <td>-0.184539</td>\n",
              "      <td>-0.184539</td>\n",
              "      <td>-0.184539</td>\n",
              "      <td>-0.184539</td>\n",
              "      <td>-0.184539</td>\n",
              "      <td>-0.184539</td>\n",
              "      <td>-0.184539</td>\n",
              "      <td>-0.184539</td>\n",
              "      <td>-0.184539</td>\n",
              "      <td>-0.184539</td>\n",
              "      <td>-0.184539</td>\n",
              "      <td>-0.175262</td>\n",
              "      <td>-0.175262</td>\n",
              "      <td>7.119774</td>\n",
              "    </tr>\n",
              "  </tbody>\n",
              "</table>\n",
              "</div>"
            ],
            "text/plain": [
              "      Store  Customers  DayOfWeek_1  ...    Day_29    Day_30    Day_31\n",
              "0 -1.731330  -0.177129    -0.407134  ... -0.175262 -0.175262  7.119774\n",
              "1 -1.728224  -0.027699    -0.407134  ... -0.175262 -0.175262  7.119774\n",
              "2 -1.725118   0.390706    -0.407134  ... -0.175262 -0.175262  7.119774\n",
              "3 -1.722012   1.835910    -0.407134  ... -0.175262 -0.175262  7.119774\n",
              "4 -1.718906  -0.168590    -0.407134  ... -0.175262 -0.175262  7.119774\n",
              "\n",
              "[5 rows x 65 columns]"
            ]
          },
          "metadata": {
            "tags": []
          },
          "execution_count": 20
        }
      ]
    },
    {
      "cell_type": "code",
      "metadata": {
        "colab": {
          "base_uri": "https://localhost:8080/",
          "height": 1000
        },
        "id": "RVrT8F8qrjnT",
        "outputId": "469b5cfe-f68f-43ed-e546-fccea0fab5e4"
      },
      "source": [
        "df.hist(figsize=(15,15))"
      ],
      "execution_count": null,
      "outputs": [
        {
          "output_type": "execute_result",
          "data": {
            "text/plain": [
              "array([[<matplotlib.axes._subplots.AxesSubplot object at 0x7f38a9c62dd0>,\n",
              "        <matplotlib.axes._subplots.AxesSubplot object at 0x7f38ab96bad0>,\n",
              "        <matplotlib.axes._subplots.AxesSubplot object at 0x7f38a9b70b90>],\n",
              "       [<matplotlib.axes._subplots.AxesSubplot object at 0x7f38a9b32250>,\n",
              "        <matplotlib.axes._subplots.AxesSubplot object at 0x7f38a9b678d0>,\n",
              "        <matplotlib.axes._subplots.AxesSubplot object at 0x7f38a9b1cf50>],\n",
              "       [<matplotlib.axes._subplots.AxesSubplot object at 0x7f38a9ade690>,\n",
              "        <matplotlib.axes._subplots.AxesSubplot object at 0x7f38a9a92c50>,\n",
              "        <matplotlib.axes._subplots.AxesSubplot object at 0x7f38a9a92c90>]],\n",
              "      dtype=object)"
            ]
          },
          "metadata": {
            "tags": []
          },
          "execution_count": 24
        },
        {
          "output_type": "display_data",
          "data": {
            "image/png": "[encoded data removed]",
            "text/plain": [
              "<Figure size 1080x1080 with 9 Axes>"
            ]
          },
          "metadata": {
            "tags": [],
            "needs_background": "light"
          }
        }
      ]
    },
    {
      "cell_type": "markdown",
      "metadata": {
        "id": "iSJ2wj1qrGTP"
      },
      "source": [
        "#lets try Linear regression and check"
      ]
    },
    {
      "cell_type": "code",
      "metadata": {
        "colab": {
          "base_uri": "https://localhost:8080/"
        },
        "id": "gbe6YAlCrSsE",
        "outputId": "ff769c24-f93a-46db-d645-1ee19e361d50"
      },
      "source": [
        "from sklearn.linear_model import LinearRegression\n",
        "from sklearn.model_selection import cross_val_score\n",
        "lr = LinearRegression()\n",
        "scores = cross_val_score(lr,X_std,Y,scoring='neg_root_mean_squared_error')\n",
        "scores\n"
      ],
      "execution_count": null,
      "outputs": [
        {
          "output_type": "execute_result",
          "data": {
            "text/plain": [
              "array([-1.52286628e+03, -1.49284653e+03, -4.28125260e+15, -1.38795734e+03,\n",
              "       -1.75989607e+16])"
            ]
          },
          "metadata": {
            "tags": []
          },
          "execution_count": 20
        }
      ]
    },
    {
      "cell_type": "code",
      "metadata": {
        "colab": {
          "base_uri": "https://localhost:8080/"
        },
        "id": "M1HvOOFBtCsM",
        "outputId": "d0f93af2-4a9e-4330-d8f8-8b0b489c3184"
      },
      "source": [
        "scores = cross_val_score(lr,X_std,Y,scoring='neg_root_mean_squared_error',cv=3)\n",
        "scores"
      ],
      "execution_count": null,
      "outputs": [
        {
          "output_type": "execute_result",
          "data": {
            "text/plain": [
              "array([-1.16808923e+15, -9.66537768e+15, -1.77855930e+15])"
            ]
          },
          "metadata": {
            "tags": []
          },
          "execution_count": 52
        }
      ]
    },
    {
      "cell_type": "markdown",
      "metadata": {
        "id": "fa3kYLTJuCTG"
      },
      "source": [
        "##Lets apply Lasso and remove some columns"
      ]
    },
    {
      "cell_type": "code",
      "metadata": {
        "id": "cqTrFCpjuKCu"
      },
      "source": [
        "from sklearn.linear_model import Lasso\n",
        "from sklearn.model_selection import GridSearchCV"
      ],
      "execution_count": null,
      "outputs": []
    },
    {
      "cell_type": "code",
      "metadata": {
        "id": "T28MCh2outb_"
      },
      "source": [
        "alpha_values = {'alpha' : list(np.arange(-0.5,0.9,0.1))}\n",
        "LassoCV = GridSearchCV(Lasso(),alpha_values,scoring='neg_root_mean_squared_error',cv = 3)"
      ],
      "execution_count": null,
      "outputs": []
    },
    {
      "cell_type": "code",
      "metadata": {
        "id": "1733OU1Mvc9o"
      },
      "source": [
        "LassoCV.fit(X_std,Y).best_params_"
      ],
      "execution_count": null,
      "outputs": []
    },
    {
      "cell_type": "code",
      "metadata": {
        "colab": {
          "base_uri": "https://localhost:8080/"
        },
        "id": "7p2SxRL3vg1h",
        "outputId": "426e7146-a316-4ae4-ab8a-58d515114683"
      },
      "source": [
        "Las1 = Lasso(alpha=0.9)\n",
        "Las1.fit(X_std,Y)\n",
        "best_Lasso_coeff = Las1.coef_\n",
        "best_Lasso_coeff"
      ],
      "execution_count": null,
      "outputs": [
        {
          "output_type": "execute_result",
          "data": {
            "text/plain": [
              "array([-5.05670202e+01,  2.80202578e+03,  2.34813570e+02,  2.26386684e+01,\n",
              "       -3.74701958e+01, -5.73459465e+01,  0.00000000e+00,  9.41939519e+01,\n",
              "       -4.51135979e+02, -1.72341148e+02,  1.79377555e-11, -6.78856498e+02,\n",
              "        2.13070419e-11, -0.00000000e+00,  1.14260572e+01, -2.61040097e+02,\n",
              "       -1.88776583e+02, -1.35457938e+02, -3.20744239e+01,  3.71131613e-14,\n",
              "        0.00000000e+00, -2.49553883e+00,  7.30991844e+01, -1.92943447e+01,\n",
              "       -1.16494021e+01, -4.78109302e+00,  4.29116997e+01,  2.17103160e+01,\n",
              "        5.23495650e+01,  0.00000000e+00, -2.23707465e+01, -2.61300786e+01,\n",
              "       -4.38281650e+01,  3.37510758e+01,  2.34864738e+02,  4.10388462e+01,\n",
              "        6.83448248e+01,  2.60158236e+01,  2.11986136e+01,  1.23160056e+01,\n",
              "       -1.79398658e+01, -1.60065035e+01, -2.83634295e+01, -2.06036687e+01,\n",
              "       -1.67485156e+01, -1.92563765e+01, -6.12347812e+00,  5.84778216e+00,\n",
              "        5.25286095e+00,  2.73111298e+01,  3.62759004e+01,  7.69886868e+00,\n",
              "        0.00000000e+00, -1.37170366e+01, -1.85980161e+01, -2.62427526e+01,\n",
              "       -3.43688111e+01, -6.46817093e+00, -4.51467454e+01, -2.24246122e+01,\n",
              "       -4.15345361e+00,  1.05230529e+01,  2.47333056e+01,  4.82489144e+01,\n",
              "        1.20457397e+02,  5.99629645e+01])"
            ]
          },
          "metadata": {
            "tags": []
          },
          "execution_count": 60
        }
      ]
    },
    {
      "cell_type": "code",
      "metadata": {
        "id": "m804YmkD6icC"
      },
      "source": [
        "alpha_values = {'alpha' : list(np.arange(0.5,3.9,0.5))}\n",
        "LassoCV = GridSearchCV(Lasso(),alpha_values,scoring='neg_root_mean_squared_error',cv = 3)"
      ],
      "execution_count": null,
      "outputs": []
    },
    {
      "cell_type": "code",
      "metadata": {
        "colab": {
          "base_uri": "https://localhost:8080/"
        },
        "id": "ZhjUVZ3e7JEN",
        "outputId": "001853b9-2064-4ae6-8c39-8c7f6af57f80"
      },
      "source": [
        "LassoCV.fit(X_std,Y).best_params_"
      ],
      "execution_count": null,
      "outputs": [
        {
          "output_type": "execute_result",
          "data": {
            "text/plain": [
              "{'alpha': 3.5}"
            ]
          },
          "metadata": {
            "tags": []
          },
          "execution_count": 23
        }
      ]
    },
    {
      "cell_type": "code",
      "metadata": {
        "colab": {
          "base_uri": "https://localhost:8080/"
        },
        "id": "z63XWB7-7OSV",
        "outputId": "e0621c4a-736c-4140-eea4-b950a5c9e33a"
      },
      "source": [
        "Las1 = Lasso(alpha=3.5)\n",
        "Las1.fit(X_std,Y)\n",
        "best_Lasso_coeff = Las1.coef_\n",
        "best_Lasso_coeff"
      ],
      "execution_count": null,
      "outputs": [
        {
          "output_type": "execute_result",
          "data": {
            "text/plain": [
              "array([-4.79683868e+01,  2.80113223e+03,  2.33032010e+02,  2.14254038e+01,\n",
              "       -3.46220075e+01, -5.54221181e+01,  0.00000000e+00,  9.17418801e+01,\n",
              "       -4.14276180e+02, -2.11537823e+02,  5.51563705e-12, -6.78844839e+02,\n",
              "        1.08507766e-11, -0.00000000e+00,  2.33637959e+01, -2.38611358e+02,\n",
              "       -1.74277810e+02, -1.22772182e+02, -2.76269352e+01,  0.00000000e+00,\n",
              "        0.00000000e+00, -4.92933006e+00,  6.29664600e+01, -1.75504241e+01,\n",
              "       -7.66677747e+00, -2.14258146e+00,  3.78213760e+01,  1.63472370e+01,\n",
              "        4.72823170e+01,  0.00000000e+00, -1.60211967e+01, -2.21700006e+01,\n",
              "       -4.65267924e+01,  2.57488352e+01,  2.27207143e+02,  3.84036598e+01,\n",
              "        6.68918377e+01,  2.35247899e+01,  1.93259606e+01,  1.05315658e+01,\n",
              "       -1.50592507e+01, -1.23933538e+01, -2.50521464e+01, -1.75095923e+01,\n",
              "       -1.33724332e+01, -1.59593998e+01, -3.05800244e+00,  4.11498545e+00,\n",
              "        3.53985852e+00,  2.56551449e+01,  3.47066096e+01,  6.25465434e+00,\n",
              "        0.00000000e+00, -1.06779814e+01, -1.50700758e+01, -2.28905408e+01,\n",
              "       -3.07140214e+01, -2.65872682e+00, -4.13693101e+01, -1.96512372e+01,\n",
              "       -1.51393108e+00,  8.87276646e+00,  2.33083077e+01,  4.64907528e+01,\n",
              "        1.19281436e+02,  5.83301825e+01])"
            ]
          },
          "metadata": {
            "tags": []
          },
          "execution_count": 24
        }
      ]
    },
    {
      "cell_type": "markdown",
      "metadata": {
        "id": "EGO93rbL9LZr"
      },
      "source": [
        "## Lets try decision tree and check"
      ]
    },
    {
      "cell_type": "code",
      "metadata": {
        "colab": {
          "base_uri": "https://localhost:8080/"
        },
        "id": "wXQMCut39tcW",
        "outputId": "2e4d377c-1003-482b-fba0-0c9dae1ecc87"
      },
      "source": [
        "from sklearn.tree import DecisionTreeRegressor\n",
        "from sklearn.model_selection import cross_val_score\n",
        "dt = DecisionTreeRegressor()\n",
        "scores = cross_val_score(dt,X,Y,scoring='neg_root_mean_squared_error',cv=7)\n",
        "scores"
      ],
      "execution_count": null,
      "outputs": [
        {
          "output_type": "execute_result",
          "data": {
            "text/plain": [
              "array([-1040.03673351, -1088.48672901, -1298.63504344, -1034.64740235,\n",
              "       -1136.53925372,  -924.17280657, -1359.75160355])"
            ]
          },
          "metadata": {
            "tags": []
          },
          "execution_count": 26
        }
      ]
    },
    {
      "cell_type": "code",
      "metadata": {
        "id": "W6Ui3PJT-7kI"
      },
      "source": [
        "xnew = X.drop('Customers',axis=1)"
      ],
      "execution_count": null,
      "outputs": []
    },
    {
      "cell_type": "code",
      "metadata": {
        "colab": {
          "base_uri": "https://localhost:8080/"
        },
        "id": "bRVa8UPw_Cqc",
        "outputId": "523af8fb-5174-4e63-ba40-0db66c29c647"
      },
      "source": [
        "from sklearn.tree import DecisionTreeRegressor\n",
        "dt = DecisionTreeRegressor()\n",
        "scores = cross_val_score(dt,xnew,Y,scoring='neg_root_mean_squared_error',cv=7)\n",
        "scores"
      ],
      "execution_count": null,
      "outputs": [
        {
          "output_type": "execute_result",
          "data": {
            "text/plain": [
              "array([-1244.93793641, -1522.06351377, -1486.11159516, -1296.60975549,\n",
              "       -1461.41919182, -1240.50716021, -2097.5864181 ])"
            ]
          },
          "metadata": {
            "tags": []
          },
          "execution_count": 28
        }
      ]
    },
    {
      "cell_type": "code",
      "metadata": {
        "colab": {
          "base_uri": "https://localhost:8080/"
        },
        "id": "om0Ck1Dq-CoM",
        "outputId": "f487861c-6406-42d0-9ba8-d87c0ad767ff"
      },
      "source": [
        "for i in range(3,40):\n",
        "  dt = DecisionTreeRegressor(max_depth=i)\n",
        "  scores = cross_val_score(dt,X,Y,scoring='neg_root_mean_squared_error',cv=3)\n",
        "  print(i,':',scores, sum(scores)/len(scores))"
      ],
      "execution_count": null,
      "outputs": [
        {
          "output_type": "stream",
          "text": [
            "3 : [-1679.12587413 -1724.16748462 -1744.72286874] -1716.005409161711\n",
            "4 : [-1556.06675508 -1589.4100681  -1605.5986364 ] -1583.6918198587898\n",
            "5 : [-1464.05214465 -1495.86815296 -1505.18116721] -1488.367154938417\n",
            "6 : [-1427.69061607 -1441.66527126 -1454.32851312] -1441.2281334821157\n",
            "7 : [-1404.46650963 -1392.02876916 -1417.17302947] -1404.5561027529993\n",
            "8 : [-1382.02543476 -1355.81886182 -1380.41509725] -1372.7531312755928\n",
            "9 : [-1365.71602724 -1335.00689703 -1341.02518534] -1347.249369867222\n",
            "10 : [-1345.72679991 -1312.4603422  -1327.95393622] -1328.7136927779586\n",
            "11 : [-1319.17603845 -1294.20182653 -1300.99020457] -1304.7893565161705\n",
            "12 : [-1297.27162754 -1277.41668838 -1277.34019232] -1284.0095027456548\n",
            "13 : [-1279.2635033  -1273.82481491 -1249.73330205] -1267.607206751231\n",
            "14 : [-1258.48828157 -1257.93699051 -1235.46705708] -1250.6307763874004\n",
            "15 : [-1232.19474859 -1265.00742331 -1227.9754527 ] -1241.7258748662418\n",
            "16 : [-1209.03385958 -1251.13038667 -1219.85960876] -1226.6746183392436\n",
            "17 : [-1185.3513122 -1242.1174798 -1209.6121052] -1212.3602990668003\n",
            "18 : [-1165.71518957 -1240.47783099 -1226.24083772] -1210.8112860970025\n",
            "19 : [-1150.58991463 -1247.83186468 -1208.33871843] -1202.2534992467004\n",
            "20 : [-1135.33543422 -1230.98256345 -1200.18056603] -1188.832854568596\n",
            "21 : [-1124.56914506 -1222.37973119 -1214.9944446 ] -1187.3144402818534\n",
            "22 : [-1117.60999146 -1230.4297285  -1190.10711805] -1179.382279338803\n",
            "23 : [-1106.87561775 -1246.35811962 -1186.90322527] -1180.0456542117674\n",
            "24 : [-1097.12056697 -1231.80006309 -1189.94999557] -1172.9568752101893\n",
            "25 : [-1096.52995169 -1233.15593603 -1198.9786941 ] -1176.2215272740195\n",
            "26 : [-1091.49804928 -1245.82053595 -1186.02853766] -1174.4490409655396\n",
            "27 : [-1086.71756388 -1230.89204747 -1192.07335828] -1169.8943232088714\n",
            "28 : [-1090.4171454  -1243.2298599  -1204.00668306] -1179.2178961178743\n",
            "29 : [-1089.32015511 -1252.99956752 -1182.34600183] -1174.8885748178868\n",
            "30 : [-1088.6721854  -1245.74007894 -1201.97202991] -1178.7947647497533\n",
            "31 : [-1089.3335414  -1236.66593244 -1204.4279948 ] -1176.8091562113234\n",
            "32 : [-1090.7172131  -1234.39551439 -1199.93097705] -1175.0145681813926\n",
            "33 : [-1083.09978284 -1257.43705509 -1207.46594435] -1182.6675940972355\n",
            "34 : [-1082.04645522 -1241.97588507 -1192.38169984] -1172.1346800423064\n",
            "35 : [-1080.94413978 -1246.70537121 -1206.99406227] -1178.2145244218636\n",
            "36 : [-1084.76040944 -1255.4122738  -1189.82695264] -1176.6665452927675\n",
            "37 : [-1083.6572048  -1252.15425305 -1212.59656838] -1182.8026754116345\n",
            "38 : [-1078.03318551 -1247.6389364  -1187.62750174] -1171.099874548113\n",
            "39 : [-1078.84609504 -1244.60797462 -1183.83877298] -1169.0976142129223\n"
          ],
          "name": "stdout"
        }
      ]
    },
    {
      "cell_type": "code",
      "metadata": {
        "id": "J5wonggm-Jm5",
        "colab": {
          "base_uri": "https://localhost:8080/"
        },
        "outputId": "034bab6e-1d25-41f7-edf8-c98c4f5a24da"
      },
      "source": [
        "from sklearn.tree import DecisionTreeRegressor\n",
        "for i in range(20,30):\n",
        "  dt = DecisionTreeRegressor(max_depth=i)\n",
        "  scores = cross_val_score(dt,xnew,Y,scoring='neg_root_mean_squared_error',cv=7)\n",
        "  print(i,':',scores,sum(scores)/len(scores))"
      ],
      "execution_count": null,
      "outputs": [
        {
          "output_type": "stream",
          "text": [
            "20 : [-2227.02644481 -2284.61650779 -2422.42551231 -2169.03219063\n",
            " -2314.88811714 -2129.72141578 -2632.16124817] -2311.410205234623\n",
            "21 : [-2178.66446458 -2231.82014799 -2367.77410172 -2139.31899248\n",
            " -2268.60250841 -2083.33684458 -2572.58871462] -2263.157967769902\n",
            "22 : [-2116.9127287  -2232.10720577 -2439.93604687 -2089.61067183\n",
            " -2240.68570947 -2050.22056868 -2539.70900055] -2244.168847408555\n",
            "23 : [-2061.3066368  -2195.71676144 -2417.2526427  -2039.01274058\n",
            " -2204.0251122  -1996.18796105 -2528.48495171] -2205.998115210063\n",
            "24 : [-2034.93151569 -2139.44976188 -2410.86192612 -2004.13290349\n",
            " -2151.46248275 -1940.28377947 -2497.24057847] -2168.3375639796936\n",
            "25 : [-1961.42665204 -2101.24041762 -2190.92777419 -1957.21914347\n",
            " -2109.26483491 -1892.07587832 -2429.41287255] -2091.6525104388206\n",
            "27 : [-1870.16269307 -1940.18978754 -2102.40047067 -1876.41565526\n",
            " -2027.0402456  -1809.49508604 -2347.19272469] -1996.1280946982085\n",
            "28 : [-1796.20773802 -1891.40633893 -2032.32977285 -1841.6221884\n",
            " -1984.990113   -1776.01324113 -2397.26053647] -1959.9757041172456\n",
            "29 : [-1746.44387834 -1900.54054067 -2000.24425861 -1802.06911464\n",
            " -1935.52351524 -1731.72029545 -2349.23471481] -1923.6823311099454\n"
          ],
          "name": "stdout"
        }
      ]
    },
    {
      "cell_type": "code",
      "metadata": {
        "colab": {
          "base_uri": "https://localhost:8080/",
          "height": 647
        },
        "id": "vEmDrxXmqLeH",
        "outputId": "4ae1580c-df9a-48c0-fcc0-9441745c559b"
      },
      "source": [
        "from sklearn.tree import DecisionTreeRegressor\n",
        "for i in range(20,40):\n",
        "  dt = DecisionTreeRegressor(max_depth=i)\n",
        "  scores = cross_val_score(dt,X,Y,scoring='neg_root_mean_squared_error',cv=7)\n",
        "  print(i,':',scores,sum(scores)/len(scores))"
      ],
      "execution_count": null,
      "outputs": [
        {
          "output_type": "stream",
          "text": [
            "20 : [-1147.44854029 -1114.09843553 -1309.2382287  -1046.91285122\n",
            " -1156.64592283  -991.94030988 -1358.29250052] -1160.6538269974503\n",
            "21 : [-1125.08564907 -1102.93776102 -1316.95330296 -1038.51295213\n",
            " -1146.52663773  -972.19598139 -1381.04722377] -1154.751358294639\n",
            "22 : [-1110.54472122 -1088.5872011  -1305.86313634 -1036.51669154\n",
            " -1142.82687505  -967.5670325  -1352.37970467] -1143.4693374886467\n",
            "23 : [-1099.5092666  -1082.05471912 -1298.40537798 -1033.12560709\n",
            " -1139.73977967  -948.78978596 -1362.61150402] -1137.7480057768153\n",
            "24 : [-1089.93803594 -1083.03274134 -1299.93918605 -1034.19864116\n",
            " -1138.66358903  -940.7564268  -1380.12518283] -1138.093400451227\n",
            "25 : [-1077.39564791 -1078.01155761 -1300.43625254 -1026.19675992\n",
            " -1135.57129393  -937.74818271 -1349.08025277] -1129.205706770747\n",
            "26 : [-1071.99159674 -1073.60809572 -1307.22892519 -1034.09533488\n",
            " -1130.45641442  -932.53344158 -1356.35167851] -1129.4664981471453\n"
          ],
          "name": "stdout"
        },
        {
          "output_type": "error",
          "ename": "KeyboardInterrupt",
          "evalue": "ignored",
          "traceback": [
            "\u001b[0;31m---------------------------------------------------------------------------\u001b[0m",
            "\u001b[0;31mKeyboardInterrupt\u001b[0m                         Traceback (most recent call last)",
            "\u001b[0;32m<ipython-input-36-e09a78d459e6>\u001b[0m in \u001b[0;36m<module>\u001b[0;34m()\u001b[0m\n\u001b[1;32m      2\u001b[0m \u001b[0;32mfor\u001b[0m \u001b[0mi\u001b[0m \u001b[0;32min\u001b[0m \u001b[0mrange\u001b[0m\u001b[0;34m(\u001b[0m\u001b[0;36m20\u001b[0m\u001b[0;34m,\u001b[0m\u001b[0;36m40\u001b[0m\u001b[0;34m)\u001b[0m\u001b[0;34m:\u001b[0m\u001b[0;34m\u001b[0m\u001b[0;34m\u001b[0m\u001b[0m\n\u001b[1;32m      3\u001b[0m   \u001b[0mdt\u001b[0m \u001b[0;34m=\u001b[0m \u001b[0mDecisionTreeRegressor\u001b[0m\u001b[0;34m(\u001b[0m\u001b[0mmax_depth\u001b[0m\u001b[0;34m=\u001b[0m\u001b[0mi\u001b[0m\u001b[0;34m)\u001b[0m\u001b[0;34m\u001b[0m\u001b[0;34m\u001b[0m\u001b[0m\n\u001b[0;32m----> 4\u001b[0;31m   \u001b[0mscores\u001b[0m \u001b[0;34m=\u001b[0m \u001b[0mcross_val_score\u001b[0m\u001b[0;34m(\u001b[0m\u001b[0mdt\u001b[0m\u001b[0;34m,\u001b[0m\u001b[0mX\u001b[0m\u001b[0;34m,\u001b[0m\u001b[0mY\u001b[0m\u001b[0;34m,\u001b[0m\u001b[0mscoring\u001b[0m\u001b[0;34m=\u001b[0m\u001b[0;34m'neg_root_mean_squared_error'\u001b[0m\u001b[0;34m,\u001b[0m\u001b[0mcv\u001b[0m\u001b[0;34m=\u001b[0m\u001b[0;36m7\u001b[0m\u001b[0;34m)\u001b[0m\u001b[0;34m\u001b[0m\u001b[0;34m\u001b[0m\u001b[0m\n\u001b[0m\u001b[1;32m      5\u001b[0m   \u001b[0mprint\u001b[0m\u001b[0;34m(\u001b[0m\u001b[0mi\u001b[0m\u001b[0;34m,\u001b[0m\u001b[0;34m':'\u001b[0m\u001b[0;34m,\u001b[0m\u001b[0mscores\u001b[0m\u001b[0;34m,\u001b[0m\u001b[0msum\u001b[0m\u001b[0;34m(\u001b[0m\u001b[0mscores\u001b[0m\u001b[0;34m)\u001b[0m\u001b[0;34m/\u001b[0m\u001b[0mlen\u001b[0m\u001b[0;34m(\u001b[0m\u001b[0mscores\u001b[0m\u001b[0;34m)\u001b[0m\u001b[0;34m)\u001b[0m\u001b[0;34m\u001b[0m\u001b[0;34m\u001b[0m\u001b[0m\n",
            "\u001b[0;32m/usr/local/lib/python3.7/dist-packages/sklearn/model_selection/_validation.py\u001b[0m in \u001b[0;36mcross_val_score\u001b[0;34m(estimator, X, y, groups, scoring, cv, n_jobs, verbose, fit_params, pre_dispatch, error_score)\u001b[0m\n\u001b[1;32m    388\u001b[0m                                 \u001b[0mfit_params\u001b[0m\u001b[0;34m=\u001b[0m\u001b[0mfit_params\u001b[0m\u001b[0;34m,\u001b[0m\u001b[0;34m\u001b[0m\u001b[0;34m\u001b[0m\u001b[0m\n\u001b[1;32m    389\u001b[0m                                 \u001b[0mpre_dispatch\u001b[0m\u001b[0;34m=\u001b[0m\u001b[0mpre_dispatch\u001b[0m\u001b[0;34m,\u001b[0m\u001b[0;34m\u001b[0m\u001b[0;34m\u001b[0m\u001b[0m\n\u001b[0;32m--> 390\u001b[0;31m                                 error_score=error_score)\n\u001b[0m\u001b[1;32m    391\u001b[0m     \u001b[0;32mreturn\u001b[0m \u001b[0mcv_results\u001b[0m\u001b[0;34m[\u001b[0m\u001b[0;34m'test_score'\u001b[0m\u001b[0;34m]\u001b[0m\u001b[0;34m\u001b[0m\u001b[0;34m\u001b[0m\u001b[0m\n\u001b[1;32m    392\u001b[0m \u001b[0;34m\u001b[0m\u001b[0m\n",
            "\u001b[0;32m/usr/local/lib/python3.7/dist-packages/sklearn/model_selection/_validation.py\u001b[0m in \u001b[0;36mcross_validate\u001b[0;34m(estimator, X, y, groups, scoring, cv, n_jobs, verbose, fit_params, pre_dispatch, return_train_score, return_estimator, error_score)\u001b[0m\n\u001b[1;32m    234\u001b[0m             \u001b[0mreturn_times\u001b[0m\u001b[0;34m=\u001b[0m\u001b[0;32mTrue\u001b[0m\u001b[0;34m,\u001b[0m \u001b[0mreturn_estimator\u001b[0m\u001b[0;34m=\u001b[0m\u001b[0mreturn_estimator\u001b[0m\u001b[0;34m,\u001b[0m\u001b[0;34m\u001b[0m\u001b[0;34m\u001b[0m\u001b[0m\n\u001b[1;32m    235\u001b[0m             error_score=error_score)\n\u001b[0;32m--> 236\u001b[0;31m         for train, test in cv.split(X, y, groups))\n\u001b[0m\u001b[1;32m    237\u001b[0m \u001b[0;34m\u001b[0m\u001b[0m\n\u001b[1;32m    238\u001b[0m     \u001b[0mzipped_scores\u001b[0m \u001b[0;34m=\u001b[0m \u001b[0mlist\u001b[0m\u001b[0;34m(\u001b[0m\u001b[0mzip\u001b[0m\u001b[0;34m(\u001b[0m\u001b[0;34m*\u001b[0m\u001b[0mscores\u001b[0m\u001b[0;34m)\u001b[0m\u001b[0;34m)\u001b[0m\u001b[0;34m\u001b[0m\u001b[0;34m\u001b[0m\u001b[0m\n",
            "\u001b[0;32m/usr/local/lib/python3.7/dist-packages/joblib/parallel.py\u001b[0m in \u001b[0;36m__call__\u001b[0;34m(self, iterable)\u001b[0m\n\u001b[1;32m   1042\u001b[0m                 \u001b[0mself\u001b[0m\u001b[0;34m.\u001b[0m\u001b[0m_iterating\u001b[0m \u001b[0;34m=\u001b[0m \u001b[0mself\u001b[0m\u001b[0;34m.\u001b[0m\u001b[0m_original_iterator\u001b[0m \u001b[0;32mis\u001b[0m \u001b[0;32mnot\u001b[0m \u001b[0;32mNone\u001b[0m\u001b[0;34m\u001b[0m\u001b[0;34m\u001b[0m\u001b[0m\n\u001b[1;32m   1043\u001b[0m \u001b[0;34m\u001b[0m\u001b[0m\n\u001b[0;32m-> 1044\u001b[0;31m             \u001b[0;32mwhile\u001b[0m \u001b[0mself\u001b[0m\u001b[0;34m.\u001b[0m\u001b[0mdispatch_one_batch\u001b[0m\u001b[0;34m(\u001b[0m\u001b[0miterator\u001b[0m\u001b[0;34m)\u001b[0m\u001b[0;34m:\u001b[0m\u001b[0;34m\u001b[0m\u001b[0;34m\u001b[0m\u001b[0m\n\u001b[0m\u001b[1;32m   1045\u001b[0m                 \u001b[0;32mpass\u001b[0m\u001b[0;34m\u001b[0m\u001b[0;34m\u001b[0m\u001b[0m\n\u001b[1;32m   1046\u001b[0m \u001b[0;34m\u001b[0m\u001b[0m\n",
            "\u001b[0;32m/usr/local/lib/python3.7/dist-packages/joblib/parallel.py\u001b[0m in \u001b[0;36mdispatch_one_batch\u001b[0;34m(self, iterator)\u001b[0m\n\u001b[1;32m    857\u001b[0m                 \u001b[0;32mreturn\u001b[0m \u001b[0;32mFalse\u001b[0m\u001b[0;34m\u001b[0m\u001b[0;34m\u001b[0m\u001b[0m\n\u001b[1;32m    858\u001b[0m             \u001b[0;32melse\u001b[0m\u001b[0;34m:\u001b[0m\u001b[0;34m\u001b[0m\u001b[0;34m\u001b[0m\u001b[0m\n\u001b[0;32m--> 859\u001b[0;31m                 \u001b[0mself\u001b[0m\u001b[0;34m.\u001b[0m\u001b[0m_dispatch\u001b[0m\u001b[0;34m(\u001b[0m\u001b[0mtasks\u001b[0m\u001b[0;34m)\u001b[0m\u001b[0;34m\u001b[0m\u001b[0;34m\u001b[0m\u001b[0m\n\u001b[0m\u001b[1;32m    860\u001b[0m                 \u001b[0;32mreturn\u001b[0m \u001b[0;32mTrue\u001b[0m\u001b[0;34m\u001b[0m\u001b[0;34m\u001b[0m\u001b[0m\n\u001b[1;32m    861\u001b[0m \u001b[0;34m\u001b[0m\u001b[0m\n",
            "\u001b[0;32m/usr/local/lib/python3.7/dist-packages/joblib/parallel.py\u001b[0m in \u001b[0;36m_dispatch\u001b[0;34m(self, batch)\u001b[0m\n\u001b[1;32m    775\u001b[0m         \u001b[0;32mwith\u001b[0m \u001b[0mself\u001b[0m\u001b[0;34m.\u001b[0m\u001b[0m_lock\u001b[0m\u001b[0;34m:\u001b[0m\u001b[0;34m\u001b[0m\u001b[0;34m\u001b[0m\u001b[0m\n\u001b[1;32m    776\u001b[0m             \u001b[0mjob_idx\u001b[0m \u001b[0;34m=\u001b[0m \u001b[0mlen\u001b[0m\u001b[0;34m(\u001b[0m\u001b[0mself\u001b[0m\u001b[0;34m.\u001b[0m\u001b[0m_jobs\u001b[0m\u001b[0;34m)\u001b[0m\u001b[0;34m\u001b[0m\u001b[0;34m\u001b[0m\u001b[0m\n\u001b[0;32m--> 777\u001b[0;31m             \u001b[0mjob\u001b[0m \u001b[0;34m=\u001b[0m \u001b[0mself\u001b[0m\u001b[0;34m.\u001b[0m\u001b[0m_backend\u001b[0m\u001b[0;34m.\u001b[0m\u001b[0mapply_async\u001b[0m\u001b[0;34m(\u001b[0m\u001b[0mbatch\u001b[0m\u001b[0;34m,\u001b[0m \u001b[0mcallback\u001b[0m\u001b[0;34m=\u001b[0m\u001b[0mcb\u001b[0m\u001b[0;34m)\u001b[0m\u001b[0;34m\u001b[0m\u001b[0;34m\u001b[0m\u001b[0m\n\u001b[0m\u001b[1;32m    778\u001b[0m             \u001b[0;31m# A job can complete so quickly than its callback is\u001b[0m\u001b[0;34m\u001b[0m\u001b[0;34m\u001b[0m\u001b[0;34m\u001b[0m\u001b[0m\n\u001b[1;32m    779\u001b[0m             \u001b[0;31m# called before we get here, causing self._jobs to\u001b[0m\u001b[0;34m\u001b[0m\u001b[0;34m\u001b[0m\u001b[0;34m\u001b[0m\u001b[0m\n",
            "\u001b[0;32m/usr/local/lib/python3.7/dist-packages/joblib/_parallel_backends.py\u001b[0m in \u001b[0;36mapply_async\u001b[0;34m(self, func, callback)\u001b[0m\n\u001b[1;32m    206\u001b[0m     \u001b[0;32mdef\u001b[0m \u001b[0mapply_async\u001b[0m\u001b[0;34m(\u001b[0m\u001b[0mself\u001b[0m\u001b[0;34m,\u001b[0m \u001b[0mfunc\u001b[0m\u001b[0;34m,\u001b[0m \u001b[0mcallback\u001b[0m\u001b[0;34m=\u001b[0m\u001b[0;32mNone\u001b[0m\u001b[0;34m)\u001b[0m\u001b[0;34m:\u001b[0m\u001b[0;34m\u001b[0m\u001b[0;34m\u001b[0m\u001b[0m\n\u001b[1;32m    207\u001b[0m         \u001b[0;34m\"\"\"Schedule a func to be run\"\"\"\u001b[0m\u001b[0;34m\u001b[0m\u001b[0;34m\u001b[0m\u001b[0m\n\u001b[0;32m--> 208\u001b[0;31m         \u001b[0mresult\u001b[0m \u001b[0;34m=\u001b[0m \u001b[0mImmediateResult\u001b[0m\u001b[0;34m(\u001b[0m\u001b[0mfunc\u001b[0m\u001b[0;34m)\u001b[0m\u001b[0;34m\u001b[0m\u001b[0;34m\u001b[0m\u001b[0m\n\u001b[0m\u001b[1;32m    209\u001b[0m         \u001b[0;32mif\u001b[0m \u001b[0mcallback\u001b[0m\u001b[0;34m:\u001b[0m\u001b[0;34m\u001b[0m\u001b[0;34m\u001b[0m\u001b[0m\n\u001b[1;32m    210\u001b[0m             \u001b[0mcallback\u001b[0m\u001b[0;34m(\u001b[0m\u001b[0mresult\u001b[0m\u001b[0;34m)\u001b[0m\u001b[0;34m\u001b[0m\u001b[0;34m\u001b[0m\u001b[0m\n",
            "\u001b[0;32m/usr/local/lib/python3.7/dist-packages/joblib/_parallel_backends.py\u001b[0m in \u001b[0;36m__init__\u001b[0;34m(self, batch)\u001b[0m\n\u001b[1;32m    570\u001b[0m         \u001b[0;31m# Don't delay the application, to avoid keeping the input\u001b[0m\u001b[0;34m\u001b[0m\u001b[0;34m\u001b[0m\u001b[0;34m\u001b[0m\u001b[0m\n\u001b[1;32m    571\u001b[0m         \u001b[0;31m# arguments in memory\u001b[0m\u001b[0;34m\u001b[0m\u001b[0;34m\u001b[0m\u001b[0;34m\u001b[0m\u001b[0m\n\u001b[0;32m--> 572\u001b[0;31m         \u001b[0mself\u001b[0m\u001b[0;34m.\u001b[0m\u001b[0mresults\u001b[0m \u001b[0;34m=\u001b[0m \u001b[0mbatch\u001b[0m\u001b[0;34m(\u001b[0m\u001b[0;34m)\u001b[0m\u001b[0;34m\u001b[0m\u001b[0;34m\u001b[0m\u001b[0m\n\u001b[0m\u001b[1;32m    573\u001b[0m \u001b[0;34m\u001b[0m\u001b[0m\n\u001b[1;32m    574\u001b[0m     \u001b[0;32mdef\u001b[0m \u001b[0mget\u001b[0m\u001b[0;34m(\u001b[0m\u001b[0mself\u001b[0m\u001b[0;34m)\u001b[0m\u001b[0;34m:\u001b[0m\u001b[0;34m\u001b[0m\u001b[0;34m\u001b[0m\u001b[0m\n",
            "\u001b[0;32m/usr/local/lib/python3.7/dist-packages/joblib/parallel.py\u001b[0m in \u001b[0;36m__call__\u001b[0;34m(self)\u001b[0m\n\u001b[1;32m    261\u001b[0m         \u001b[0;32mwith\u001b[0m \u001b[0mparallel_backend\u001b[0m\u001b[0;34m(\u001b[0m\u001b[0mself\u001b[0m\u001b[0;34m.\u001b[0m\u001b[0m_backend\u001b[0m\u001b[0;34m,\u001b[0m \u001b[0mn_jobs\u001b[0m\u001b[0;34m=\u001b[0m\u001b[0mself\u001b[0m\u001b[0;34m.\u001b[0m\u001b[0m_n_jobs\u001b[0m\u001b[0;34m)\u001b[0m\u001b[0;34m:\u001b[0m\u001b[0;34m\u001b[0m\u001b[0;34m\u001b[0m\u001b[0m\n\u001b[1;32m    262\u001b[0m             return [func(*args, **kwargs)\n\u001b[0;32m--> 263\u001b[0;31m                     for func, args, kwargs in self.items]\n\u001b[0m\u001b[1;32m    264\u001b[0m \u001b[0;34m\u001b[0m\u001b[0m\n\u001b[1;32m    265\u001b[0m     \u001b[0;32mdef\u001b[0m \u001b[0m__reduce__\u001b[0m\u001b[0;34m(\u001b[0m\u001b[0mself\u001b[0m\u001b[0;34m)\u001b[0m\u001b[0;34m:\u001b[0m\u001b[0;34m\u001b[0m\u001b[0;34m\u001b[0m\u001b[0m\n",
            "\u001b[0;32m/usr/local/lib/python3.7/dist-packages/joblib/parallel.py\u001b[0m in \u001b[0;36m<listcomp>\u001b[0;34m(.0)\u001b[0m\n\u001b[1;32m    261\u001b[0m         \u001b[0;32mwith\u001b[0m \u001b[0mparallel_backend\u001b[0m\u001b[0;34m(\u001b[0m\u001b[0mself\u001b[0m\u001b[0;34m.\u001b[0m\u001b[0m_backend\u001b[0m\u001b[0;34m,\u001b[0m \u001b[0mn_jobs\u001b[0m\u001b[0;34m=\u001b[0m\u001b[0mself\u001b[0m\u001b[0;34m.\u001b[0m\u001b[0m_n_jobs\u001b[0m\u001b[0;34m)\u001b[0m\u001b[0;34m:\u001b[0m\u001b[0;34m\u001b[0m\u001b[0;34m\u001b[0m\u001b[0m\n\u001b[1;32m    262\u001b[0m             return [func(*args, **kwargs)\n\u001b[0;32m--> 263\u001b[0;31m                     for func, args, kwargs in self.items]\n\u001b[0m\u001b[1;32m    264\u001b[0m \u001b[0;34m\u001b[0m\u001b[0m\n\u001b[1;32m    265\u001b[0m     \u001b[0;32mdef\u001b[0m \u001b[0m__reduce__\u001b[0m\u001b[0;34m(\u001b[0m\u001b[0mself\u001b[0m\u001b[0;34m)\u001b[0m\u001b[0;34m:\u001b[0m\u001b[0;34m\u001b[0m\u001b[0;34m\u001b[0m\u001b[0m\n",
            "\u001b[0;32m/usr/local/lib/python3.7/dist-packages/sklearn/model_selection/_validation.py\u001b[0m in \u001b[0;36m_fit_and_score\u001b[0;34m(estimator, X, y, scorer, train, test, verbose, parameters, fit_params, return_train_score, return_parameters, return_n_test_samples, return_times, return_estimator, error_score)\u001b[0m\n\u001b[1;32m    513\u001b[0m             \u001b[0mestimator\u001b[0m\u001b[0;34m.\u001b[0m\u001b[0mfit\u001b[0m\u001b[0;34m(\u001b[0m\u001b[0mX_train\u001b[0m\u001b[0;34m,\u001b[0m \u001b[0;34m**\u001b[0m\u001b[0mfit_params\u001b[0m\u001b[0;34m)\u001b[0m\u001b[0;34m\u001b[0m\u001b[0;34m\u001b[0m\u001b[0m\n\u001b[1;32m    514\u001b[0m         \u001b[0;32melse\u001b[0m\u001b[0;34m:\u001b[0m\u001b[0;34m\u001b[0m\u001b[0;34m\u001b[0m\u001b[0m\n\u001b[0;32m--> 515\u001b[0;31m             \u001b[0mestimator\u001b[0m\u001b[0;34m.\u001b[0m\u001b[0mfit\u001b[0m\u001b[0;34m(\u001b[0m\u001b[0mX_train\u001b[0m\u001b[0;34m,\u001b[0m \u001b[0my_train\u001b[0m\u001b[0;34m,\u001b[0m \u001b[0;34m**\u001b[0m\u001b[0mfit_params\u001b[0m\u001b[0;34m)\u001b[0m\u001b[0;34m\u001b[0m\u001b[0;34m\u001b[0m\u001b[0m\n\u001b[0m\u001b[1;32m    516\u001b[0m \u001b[0;34m\u001b[0m\u001b[0m\n\u001b[1;32m    517\u001b[0m     \u001b[0;32mexcept\u001b[0m \u001b[0mException\u001b[0m \u001b[0;32mas\u001b[0m \u001b[0me\u001b[0m\u001b[0;34m:\u001b[0m\u001b[0;34m\u001b[0m\u001b[0;34m\u001b[0m\u001b[0m\n",
            "\u001b[0;32m/usr/local/lib/python3.7/dist-packages/sklearn/tree/_classes.py\u001b[0m in \u001b[0;36mfit\u001b[0;34m(self, X, y, sample_weight, check_input, X_idx_sorted)\u001b[0m\n\u001b[1;32m   1223\u001b[0m             \u001b[0msample_weight\u001b[0m\u001b[0;34m=\u001b[0m\u001b[0msample_weight\u001b[0m\u001b[0;34m,\u001b[0m\u001b[0;34m\u001b[0m\u001b[0;34m\u001b[0m\u001b[0m\n\u001b[1;32m   1224\u001b[0m             \u001b[0mcheck_input\u001b[0m\u001b[0;34m=\u001b[0m\u001b[0mcheck_input\u001b[0m\u001b[0;34m,\u001b[0m\u001b[0;34m\u001b[0m\u001b[0;34m\u001b[0m\u001b[0m\n\u001b[0;32m-> 1225\u001b[0;31m             X_idx_sorted=X_idx_sorted)\n\u001b[0m\u001b[1;32m   1226\u001b[0m         \u001b[0;32mreturn\u001b[0m \u001b[0mself\u001b[0m\u001b[0;34m\u001b[0m\u001b[0;34m\u001b[0m\u001b[0m\n\u001b[1;32m   1227\u001b[0m \u001b[0;34m\u001b[0m\u001b[0m\n",
            "\u001b[0;32m/usr/local/lib/python3.7/dist-packages/sklearn/tree/_classes.py\u001b[0m in \u001b[0;36mfit\u001b[0;34m(self, X, y, sample_weight, check_input, X_idx_sorted)\u001b[0m\n\u001b[1;32m    365\u001b[0m                                            min_impurity_split)\n\u001b[1;32m    366\u001b[0m \u001b[0;34m\u001b[0m\u001b[0m\n\u001b[0;32m--> 367\u001b[0;31m         \u001b[0mbuilder\u001b[0m\u001b[0;34m.\u001b[0m\u001b[0mbuild\u001b[0m\u001b[0;34m(\u001b[0m\u001b[0mself\u001b[0m\u001b[0;34m.\u001b[0m\u001b[0mtree_\u001b[0m\u001b[0;34m,\u001b[0m \u001b[0mX\u001b[0m\u001b[0;34m,\u001b[0m \u001b[0my\u001b[0m\u001b[0;34m,\u001b[0m \u001b[0msample_weight\u001b[0m\u001b[0;34m,\u001b[0m \u001b[0mX_idx_sorted\u001b[0m\u001b[0;34m)\u001b[0m\u001b[0;34m\u001b[0m\u001b[0;34m\u001b[0m\u001b[0m\n\u001b[0m\u001b[1;32m    368\u001b[0m \u001b[0;34m\u001b[0m\u001b[0m\n\u001b[1;32m    369\u001b[0m         \u001b[0;32mif\u001b[0m \u001b[0mself\u001b[0m\u001b[0;34m.\u001b[0m\u001b[0mn_outputs_\u001b[0m \u001b[0;34m==\u001b[0m \u001b[0;36m1\u001b[0m \u001b[0;32mand\u001b[0m \u001b[0mis_classifier\u001b[0m\u001b[0;34m(\u001b[0m\u001b[0mself\u001b[0m\u001b[0;34m)\u001b[0m\u001b[0;34m:\u001b[0m\u001b[0;34m\u001b[0m\u001b[0;34m\u001b[0m\u001b[0m\n",
            "\u001b[0;31mKeyboardInterrupt\u001b[0m: "
          ]
        }
      ]
    },
    {
      "cell_type": "code",
      "metadata": {
        "colab": {
          "base_uri": "https://localhost:8080/"
        },
        "id": "1-6FCYSKuCOU",
        "outputId": "f77159c2-e51e-45da-b4e8-488864b3b2c8"
      },
      "source": [
        "from sklearn.ensemble import RandomForestRegressor\n",
        "for i in np.arange(0.1,1,0.1):\n",
        "  rf = RandomForestRegressor(max_features=i)\n",
        "  scores = cross_val_score(rf,X,Y,scoring='neg_root_mean_squared_error',cv=2)\n",
        "  print(i,':',scores,sum(scores)/len(scores))"
      ],
      "execution_count": null,
      "outputs": [
        {
          "output_type": "stream",
          "text": [
            "0.1 : [-1289.18222202 -1273.15619934] -1281.1692106788987\n",
            "0.2 : [-1253.62490196 -1217.67750457] -1235.6512032682072\n",
            "0.30000000000000004 : [-1210.55010573 -1174.90276298] -1192.7264343548932\n",
            "0.4 : [-1159.29398025 -1126.33316077] -1142.8135705104714\n",
            "0.5 : [-1104.50328651 -1081.65752706] -1093.0804067823751\n",
            "0.6 : [-1064.47957656 -1044.9748987 ] -1054.7272376296087\n",
            "0.7000000000000001 : [-1021.83164957 -1006.7650701 ] -1014.2983598323415\n",
            "0.8 : [-990.70277606 -977.88483012] -984.2938030931778\n",
            "0.9 : [-957.98498344 -950.72106446] -954.3530239472063\n"
          ],
          "name": "stdout"
        }
      ]
    },
    {
      "cell_type": "code",
      "metadata": {
        "colab": {
          "base_uri": "https://localhost:8080/"
        },
        "id": "nWY71MHc9d4-",
        "outputId": "99bd2dc1-67e3-4857-b35e-fda82add4b8d"
      },
      "source": [
        "from sklearn.ensemble import RandomForestRegressor\n",
        "for i in np.arange(1,6):\n",
        "  rf = RandomForestRegressor()\n",
        "  scores = cross_val_score(rf,X,Y,scoring='neg_root_mean_squared_error',cv=3)\n",
        "  print(i,':',scores,sum(scores)/len(scores))"
      ],
      "execution_count": null,
      "outputs": [
        {
          "output_type": "stream",
          "text": [
            "1 : [-865.01873511 -925.110394   -904.03311938] -898.0540828278912\n",
            "2 : [-863.90580035 -927.1274507  -903.30141028] -898.1115537771817\n",
            "3 : [-863.45978488 -926.05804945 -902.24825768] -897.2553640030892\n",
            "4 : [-863.40922482 -927.33276364 -904.68806772] -898.4766853936184\n",
            "5 : [-863.50810175 -925.67379574 -900.6783592 ] -896.6200855625133\n"
          ],
          "name": "stdout"
        }
      ]
    },
    {
      "cell_type": "code",
      "metadata": {
        "colab": {
          "base_uri": "https://localhost:8080/",
          "height": 422
        },
        "id": "u-JMN8DAyArx",
        "outputId": "023140f7-12e1-4d28-d83f-405975beda43"
      },
      "source": [
        "from sklearn.ensemble import RandomForestRegressor\n",
        "for i in np.arange(100,201,20):\n",
        "  rf = RandomForestRegressor(n_estimators=i)\n",
        "  scores = cross_val_score(rf,X,Y,scoring='neg_root_mean_squared_error',cv=2)\n",
        "  print(i,':',scores,sum(scores)/len(scores))"
      ],
      "execution_count": null,
      "outputs": [
        {
          "output_type": "stream",
          "text": [
            "100 : [-933.99051351 -925.12221463] -929.5563640688779\n",
            "120 : [-933.0993075  -924.30061962] -928.6999635618038\n"
          ],
          "name": "stdout"
        },
        {
          "output_type": "error",
          "ename": "KeyboardInterrupt",
          "evalue": "ignored",
          "traceback": [
            "\u001b[0;31m---------------------------------------------------------------------------\u001b[0m",
            "\u001b[0;31mKeyboardInterrupt\u001b[0m                         Traceback (most recent call last)",
            "\u001b[0;32m<ipython-input-50-38ae63ae1b31>\u001b[0m in \u001b[0;36m<module>\u001b[0;34m()\u001b[0m\n\u001b[1;32m      2\u001b[0m \u001b[0;32mfor\u001b[0m \u001b[0mi\u001b[0m \u001b[0;32min\u001b[0m \u001b[0mnp\u001b[0m\u001b[0;34m.\u001b[0m\u001b[0marange\u001b[0m\u001b[0;34m(\u001b[0m\u001b[0;36m100\u001b[0m\u001b[0;34m,\u001b[0m\u001b[0;36m201\u001b[0m\u001b[0;34m,\u001b[0m\u001b[0;36m20\u001b[0m\u001b[0;34m)\u001b[0m\u001b[0;34m:\u001b[0m\u001b[0;34m\u001b[0m\u001b[0;34m\u001b[0m\u001b[0m\n\u001b[1;32m      3\u001b[0m   \u001b[0mrf\u001b[0m \u001b[0;34m=\u001b[0m \u001b[0mRandomForestRegressor\u001b[0m\u001b[0;34m(\u001b[0m\u001b[0mn_estimators\u001b[0m\u001b[0;34m=\u001b[0m\u001b[0mi\u001b[0m\u001b[0;34m)\u001b[0m\u001b[0;34m\u001b[0m\u001b[0;34m\u001b[0m\u001b[0m\n\u001b[0;32m----> 4\u001b[0;31m   \u001b[0mscores\u001b[0m \u001b[0;34m=\u001b[0m \u001b[0mcross_val_score\u001b[0m\u001b[0;34m(\u001b[0m\u001b[0mrf\u001b[0m\u001b[0;34m,\u001b[0m\u001b[0mX\u001b[0m\u001b[0;34m,\u001b[0m\u001b[0mY\u001b[0m\u001b[0;34m,\u001b[0m\u001b[0mscoring\u001b[0m\u001b[0;34m=\u001b[0m\u001b[0;34m'neg_root_mean_squared_error'\u001b[0m\u001b[0;34m,\u001b[0m\u001b[0mcv\u001b[0m\u001b[0;34m=\u001b[0m\u001b[0;36m2\u001b[0m\u001b[0;34m)\u001b[0m\u001b[0;34m\u001b[0m\u001b[0;34m\u001b[0m\u001b[0m\n\u001b[0m\u001b[1;32m      5\u001b[0m   \u001b[0mprint\u001b[0m\u001b[0;34m(\u001b[0m\u001b[0mi\u001b[0m\u001b[0;34m,\u001b[0m\u001b[0;34m':'\u001b[0m\u001b[0;34m,\u001b[0m\u001b[0mscores\u001b[0m\u001b[0;34m,\u001b[0m\u001b[0msum\u001b[0m\u001b[0;34m(\u001b[0m\u001b[0mscores\u001b[0m\u001b[0;34m)\u001b[0m\u001b[0;34m/\u001b[0m\u001b[0mlen\u001b[0m\u001b[0;34m(\u001b[0m\u001b[0mscores\u001b[0m\u001b[0;34m)\u001b[0m\u001b[0;34m)\u001b[0m\u001b[0;34m\u001b[0m\u001b[0;34m\u001b[0m\u001b[0m\n",
            "\u001b[0;32m/usr/local/lib/python3.7/dist-packages/sklearn/model_selection/_validation.py\u001b[0m in \u001b[0;36mcross_val_score\u001b[0;34m(estimator, X, y, groups, scoring, cv, n_jobs, verbose, fit_params, pre_dispatch, error_score)\u001b[0m\n\u001b[1;32m    388\u001b[0m                                 \u001b[0mfit_params\u001b[0m\u001b[0;34m=\u001b[0m\u001b[0mfit_params\u001b[0m\u001b[0;34m,\u001b[0m\u001b[0;34m\u001b[0m\u001b[0;34m\u001b[0m\u001b[0m\n\u001b[1;32m    389\u001b[0m                                 \u001b[0mpre_dispatch\u001b[0m\u001b[0;34m=\u001b[0m\u001b[0mpre_dispatch\u001b[0m\u001b[0;34m,\u001b[0m\u001b[0;34m\u001b[0m\u001b[0;34m\u001b[0m\u001b[0m\n\u001b[0;32m--> 390\u001b[0;31m                                 error_score=error_score)\n\u001b[0m\u001b[1;32m    391\u001b[0m     \u001b[0;32mreturn\u001b[0m \u001b[0mcv_results\u001b[0m\u001b[0;34m[\u001b[0m\u001b[0;34m'test_score'\u001b[0m\u001b[0;34m]\u001b[0m\u001b[0;34m\u001b[0m\u001b[0;34m\u001b[0m\u001b[0m\n\u001b[1;32m    392\u001b[0m \u001b[0;34m\u001b[0m\u001b[0m\n",
            "\u001b[0;32m/usr/local/lib/python3.7/dist-packages/sklearn/model_selection/_validation.py\u001b[0m in \u001b[0;36mcross_validate\u001b[0;34m(estimator, X, y, groups, scoring, cv, n_jobs, verbose, fit_params, pre_dispatch, return_train_score, return_estimator, error_score)\u001b[0m\n\u001b[1;32m    234\u001b[0m             \u001b[0mreturn_times\u001b[0m\u001b[0;34m=\u001b[0m\u001b[0;32mTrue\u001b[0m\u001b[0;34m,\u001b[0m \u001b[0mreturn_estimator\u001b[0m\u001b[0;34m=\u001b[0m\u001b[0mreturn_estimator\u001b[0m\u001b[0;34m,\u001b[0m\u001b[0;34m\u001b[0m\u001b[0;34m\u001b[0m\u001b[0m\n\u001b[1;32m    235\u001b[0m             error_score=error_score)\n\u001b[0;32m--> 236\u001b[0;31m         for train, test in cv.split(X, y, groups))\n\u001b[0m\u001b[1;32m    237\u001b[0m \u001b[0;34m\u001b[0m\u001b[0m\n\u001b[1;32m    238\u001b[0m     \u001b[0mzipped_scores\u001b[0m \u001b[0;34m=\u001b[0m \u001b[0mlist\u001b[0m\u001b[0;34m(\u001b[0m\u001b[0mzip\u001b[0m\u001b[0;34m(\u001b[0m\u001b[0;34m*\u001b[0m\u001b[0mscores\u001b[0m\u001b[0;34m)\u001b[0m\u001b[0;34m)\u001b[0m\u001b[0;34m\u001b[0m\u001b[0;34m\u001b[0m\u001b[0m\n",
            "\u001b[0;32m/usr/local/lib/python3.7/dist-packages/joblib/parallel.py\u001b[0m in \u001b[0;36m__call__\u001b[0;34m(self, iterable)\u001b[0m\n\u001b[1;32m   1039\u001b[0m             \u001b[0;31m# remaining jobs.\u001b[0m\u001b[0;34m\u001b[0m\u001b[0;34m\u001b[0m\u001b[0;34m\u001b[0m\u001b[0m\n\u001b[1;32m   1040\u001b[0m             \u001b[0mself\u001b[0m\u001b[0;34m.\u001b[0m\u001b[0m_iterating\u001b[0m \u001b[0;34m=\u001b[0m \u001b[0;32mFalse\u001b[0m\u001b[0;34m\u001b[0m\u001b[0;34m\u001b[0m\u001b[0m\n\u001b[0;32m-> 1041\u001b[0;31m             \u001b[0;32mif\u001b[0m \u001b[0mself\u001b[0m\u001b[0;34m.\u001b[0m\u001b[0mdispatch_one_batch\u001b[0m\u001b[0;34m(\u001b[0m\u001b[0miterator\u001b[0m\u001b[0;34m)\u001b[0m\u001b[0;34m:\u001b[0m\u001b[0;34m\u001b[0m\u001b[0;34m\u001b[0m\u001b[0m\n\u001b[0m\u001b[1;32m   1042\u001b[0m                 \u001b[0mself\u001b[0m\u001b[0;34m.\u001b[0m\u001b[0m_iterating\u001b[0m \u001b[0;34m=\u001b[0m \u001b[0mself\u001b[0m\u001b[0;34m.\u001b[0m\u001b[0m_original_iterator\u001b[0m \u001b[0;32mis\u001b[0m \u001b[0;32mnot\u001b[0m \u001b[0;32mNone\u001b[0m\u001b[0;34m\u001b[0m\u001b[0;34m\u001b[0m\u001b[0m\n\u001b[1;32m   1043\u001b[0m \u001b[0;34m\u001b[0m\u001b[0m\n",
            "\u001b[0;32m/usr/local/lib/python3.7/dist-packages/joblib/parallel.py\u001b[0m in \u001b[0;36mdispatch_one_batch\u001b[0;34m(self, iterator)\u001b[0m\n\u001b[1;32m    857\u001b[0m                 \u001b[0;32mreturn\u001b[0m \u001b[0;32mFalse\u001b[0m\u001b[0;34m\u001b[0m\u001b[0;34m\u001b[0m\u001b[0m\n\u001b[1;32m    858\u001b[0m             \u001b[0;32melse\u001b[0m\u001b[0;34m:\u001b[0m\u001b[0;34m\u001b[0m\u001b[0;34m\u001b[0m\u001b[0m\n\u001b[0;32m--> 859\u001b[0;31m                 \u001b[0mself\u001b[0m\u001b[0;34m.\u001b[0m\u001b[0m_dispatch\u001b[0m\u001b[0;34m(\u001b[0m\u001b[0mtasks\u001b[0m\u001b[0;34m)\u001b[0m\u001b[0;34m\u001b[0m\u001b[0;34m\u001b[0m\u001b[0m\n\u001b[0m\u001b[1;32m    860\u001b[0m                 \u001b[0;32mreturn\u001b[0m \u001b[0;32mTrue\u001b[0m\u001b[0;34m\u001b[0m\u001b[0;34m\u001b[0m\u001b[0m\n\u001b[1;32m    861\u001b[0m \u001b[0;34m\u001b[0m\u001b[0m\n",
            "\u001b[0;32m/usr/local/lib/python3.7/dist-packages/joblib/parallel.py\u001b[0m in \u001b[0;36m_dispatch\u001b[0;34m(self, batch)\u001b[0m\n\u001b[1;32m    775\u001b[0m         \u001b[0;32mwith\u001b[0m \u001b[0mself\u001b[0m\u001b[0;34m.\u001b[0m\u001b[0m_lock\u001b[0m\u001b[0;34m:\u001b[0m\u001b[0;34m\u001b[0m\u001b[0;34m\u001b[0m\u001b[0m\n\u001b[1;32m    776\u001b[0m             \u001b[0mjob_idx\u001b[0m \u001b[0;34m=\u001b[0m \u001b[0mlen\u001b[0m\u001b[0;34m(\u001b[0m\u001b[0mself\u001b[0m\u001b[0;34m.\u001b[0m\u001b[0m_jobs\u001b[0m\u001b[0;34m)\u001b[0m\u001b[0;34m\u001b[0m\u001b[0;34m\u001b[0m\u001b[0m\n\u001b[0;32m--> 777\u001b[0;31m             \u001b[0mjob\u001b[0m \u001b[0;34m=\u001b[0m \u001b[0mself\u001b[0m\u001b[0;34m.\u001b[0m\u001b[0m_backend\u001b[0m\u001b[0;34m.\u001b[0m\u001b[0mapply_async\u001b[0m\u001b[0;34m(\u001b[0m\u001b[0mbatch\u001b[0m\u001b[0;34m,\u001b[0m \u001b[0mcallback\u001b[0m\u001b[0;34m=\u001b[0m\u001b[0mcb\u001b[0m\u001b[0;34m)\u001b[0m\u001b[0;34m\u001b[0m\u001b[0;34m\u001b[0m\u001b[0m\n\u001b[0m\u001b[1;32m    778\u001b[0m             \u001b[0;31m# A job can complete so quickly than its callback is\u001b[0m\u001b[0;34m\u001b[0m\u001b[0;34m\u001b[0m\u001b[0;34m\u001b[0m\u001b[0m\n\u001b[1;32m    779\u001b[0m             \u001b[0;31m# called before we get here, causing self._jobs to\u001b[0m\u001b[0;34m\u001b[0m\u001b[0;34m\u001b[0m\u001b[0;34m\u001b[0m\u001b[0m\n",
            "\u001b[0;32m/usr/local/lib/python3.7/dist-packages/joblib/_parallel_backends.py\u001b[0m in \u001b[0;36mapply_async\u001b[0;34m(self, func, callback)\u001b[0m\n\u001b[1;32m    206\u001b[0m     \u001b[0;32mdef\u001b[0m \u001b[0mapply_async\u001b[0m\u001b[0;34m(\u001b[0m\u001b[0mself\u001b[0m\u001b[0;34m,\u001b[0m \u001b[0mfunc\u001b[0m\u001b[0;34m,\u001b[0m \u001b[0mcallback\u001b[0m\u001b[0;34m=\u001b[0m\u001b[0;32mNone\u001b[0m\u001b[0;34m)\u001b[0m\u001b[0;34m:\u001b[0m\u001b[0;34m\u001b[0m\u001b[0;34m\u001b[0m\u001b[0m\n\u001b[1;32m    207\u001b[0m         \u001b[0;34m\"\"\"Schedule a func to be run\"\"\"\u001b[0m\u001b[0;34m\u001b[0m\u001b[0;34m\u001b[0m\u001b[0m\n\u001b[0;32m--> 208\u001b[0;31m         \u001b[0mresult\u001b[0m \u001b[0;34m=\u001b[0m \u001b[0mImmediateResult\u001b[0m\u001b[0;34m(\u001b[0m\u001b[0mfunc\u001b[0m\u001b[0;34m)\u001b[0m\u001b[0;34m\u001b[0m\u001b[0;34m\u001b[0m\u001b[0m\n\u001b[0m\u001b[1;32m    209\u001b[0m         \u001b[0;32mif\u001b[0m \u001b[0mcallback\u001b[0m\u001b[0;34m:\u001b[0m\u001b[0;34m\u001b[0m\u001b[0;34m\u001b[0m\u001b[0m\n\u001b[1;32m    210\u001b[0m             \u001b[0mcallback\u001b[0m\u001b[0;34m(\u001b[0m\u001b[0mresult\u001b[0m\u001b[0;34m)\u001b[0m\u001b[0;34m\u001b[0m\u001b[0;34m\u001b[0m\u001b[0m\n",
            "\u001b[0;32m/usr/local/lib/python3.7/dist-packages/joblib/_parallel_backends.py\u001b[0m in \u001b[0;36m__init__\u001b[0;34m(self, batch)\u001b[0m\n\u001b[1;32m    570\u001b[0m         \u001b[0;31m# Don't delay the application, to avoid keeping the input\u001b[0m\u001b[0;34m\u001b[0m\u001b[0;34m\u001b[0m\u001b[0;34m\u001b[0m\u001b[0m\n\u001b[1;32m    571\u001b[0m         \u001b[0;31m# arguments in memory\u001b[0m\u001b[0;34m\u001b[0m\u001b[0;34m\u001b[0m\u001b[0;34m\u001b[0m\u001b[0m\n\u001b[0;32m--> 572\u001b[0;31m         \u001b[0mself\u001b[0m\u001b[0;34m.\u001b[0m\u001b[0mresults\u001b[0m \u001b[0;34m=\u001b[0m \u001b[0mbatch\u001b[0m\u001b[0;34m(\u001b[0m\u001b[0;34m)\u001b[0m\u001b[0;34m\u001b[0m\u001b[0;34m\u001b[0m\u001b[0m\n\u001b[0m\u001b[1;32m    573\u001b[0m \u001b[0;34m\u001b[0m\u001b[0m\n\u001b[1;32m    574\u001b[0m     \u001b[0;32mdef\u001b[0m \u001b[0mget\u001b[0m\u001b[0;34m(\u001b[0m\u001b[0mself\u001b[0m\u001b[0;34m)\u001b[0m\u001b[0;34m:\u001b[0m\u001b[0;34m\u001b[0m\u001b[0;34m\u001b[0m\u001b[0m\n",
            "\u001b[0;32m/usr/local/lib/python3.7/dist-packages/joblib/parallel.py\u001b[0m in \u001b[0;36m__call__\u001b[0;34m(self)\u001b[0m\n\u001b[1;32m    261\u001b[0m         \u001b[0;32mwith\u001b[0m \u001b[0mparallel_backend\u001b[0m\u001b[0;34m(\u001b[0m\u001b[0mself\u001b[0m\u001b[0;34m.\u001b[0m\u001b[0m_backend\u001b[0m\u001b[0;34m,\u001b[0m \u001b[0mn_jobs\u001b[0m\u001b[0;34m=\u001b[0m\u001b[0mself\u001b[0m\u001b[0;34m.\u001b[0m\u001b[0m_n_jobs\u001b[0m\u001b[0;34m)\u001b[0m\u001b[0;34m:\u001b[0m\u001b[0;34m\u001b[0m\u001b[0;34m\u001b[0m\u001b[0m\n\u001b[1;32m    262\u001b[0m             return [func(*args, **kwargs)\n\u001b[0;32m--> 263\u001b[0;31m                     for func, args, kwargs in self.items]\n\u001b[0m\u001b[1;32m    264\u001b[0m \u001b[0;34m\u001b[0m\u001b[0m\n\u001b[1;32m    265\u001b[0m     \u001b[0;32mdef\u001b[0m \u001b[0m__reduce__\u001b[0m\u001b[0;34m(\u001b[0m\u001b[0mself\u001b[0m\u001b[0;34m)\u001b[0m\u001b[0;34m:\u001b[0m\u001b[0;34m\u001b[0m\u001b[0;34m\u001b[0m\u001b[0m\n",
            "\u001b[0;32m/usr/local/lib/python3.7/dist-packages/joblib/parallel.py\u001b[0m in \u001b[0;36m<listcomp>\u001b[0;34m(.0)\u001b[0m\n\u001b[1;32m    261\u001b[0m         \u001b[0;32mwith\u001b[0m \u001b[0mparallel_backend\u001b[0m\u001b[0;34m(\u001b[0m\u001b[0mself\u001b[0m\u001b[0;34m.\u001b[0m\u001b[0m_backend\u001b[0m\u001b[0;34m,\u001b[0m \u001b[0mn_jobs\u001b[0m\u001b[0;34m=\u001b[0m\u001b[0mself\u001b[0m\u001b[0;34m.\u001b[0m\u001b[0m_n_jobs\u001b[0m\u001b[0;34m)\u001b[0m\u001b[0;34m:\u001b[0m\u001b[0;34m\u001b[0m\u001b[0;34m\u001b[0m\u001b[0m\n\u001b[1;32m    262\u001b[0m             return [func(*args, **kwargs)\n\u001b[0;32m--> 263\u001b[0;31m                     for func, args, kwargs in self.items]\n\u001b[0m\u001b[1;32m    264\u001b[0m \u001b[0;34m\u001b[0m\u001b[0m\n\u001b[1;32m    265\u001b[0m     \u001b[0;32mdef\u001b[0m \u001b[0m__reduce__\u001b[0m\u001b[0;34m(\u001b[0m\u001b[0mself\u001b[0m\u001b[0;34m)\u001b[0m\u001b[0;34m:\u001b[0m\u001b[0;34m\u001b[0m\u001b[0;34m\u001b[0m\u001b[0m\n",
            "\u001b[0;32m/usr/local/lib/python3.7/dist-packages/sklearn/model_selection/_validation.py\u001b[0m in \u001b[0;36m_fit_and_score\u001b[0;34m(estimator, X, y, scorer, train, test, verbose, parameters, fit_params, return_train_score, return_parameters, return_n_test_samples, return_times, return_estimator, error_score)\u001b[0m\n\u001b[1;32m    513\u001b[0m             \u001b[0mestimator\u001b[0m\u001b[0;34m.\u001b[0m\u001b[0mfit\u001b[0m\u001b[0;34m(\u001b[0m\u001b[0mX_train\u001b[0m\u001b[0;34m,\u001b[0m \u001b[0;34m**\u001b[0m\u001b[0mfit_params\u001b[0m\u001b[0;34m)\u001b[0m\u001b[0;34m\u001b[0m\u001b[0;34m\u001b[0m\u001b[0m\n\u001b[1;32m    514\u001b[0m         \u001b[0;32melse\u001b[0m\u001b[0;34m:\u001b[0m\u001b[0;34m\u001b[0m\u001b[0;34m\u001b[0m\u001b[0m\n\u001b[0;32m--> 515\u001b[0;31m             \u001b[0mestimator\u001b[0m\u001b[0;34m.\u001b[0m\u001b[0mfit\u001b[0m\u001b[0;34m(\u001b[0m\u001b[0mX_train\u001b[0m\u001b[0;34m,\u001b[0m \u001b[0my_train\u001b[0m\u001b[0;34m,\u001b[0m \u001b[0;34m**\u001b[0m\u001b[0mfit_params\u001b[0m\u001b[0;34m)\u001b[0m\u001b[0;34m\u001b[0m\u001b[0;34m\u001b[0m\u001b[0m\n\u001b[0m\u001b[1;32m    516\u001b[0m \u001b[0;34m\u001b[0m\u001b[0m\n\u001b[1;32m    517\u001b[0m     \u001b[0;32mexcept\u001b[0m \u001b[0mException\u001b[0m \u001b[0;32mas\u001b[0m \u001b[0me\u001b[0m\u001b[0;34m:\u001b[0m\u001b[0;34m\u001b[0m\u001b[0;34m\u001b[0m\u001b[0m\n",
            "\u001b[0;32m/usr/local/lib/python3.7/dist-packages/sklearn/ensemble/_forest.py\u001b[0m in \u001b[0;36mfit\u001b[0;34m(self, X, y, sample_weight)\u001b[0m\n\u001b[1;32m    381\u001b[0m                     \u001b[0mverbose\u001b[0m\u001b[0;34m=\u001b[0m\u001b[0mself\u001b[0m\u001b[0;34m.\u001b[0m\u001b[0mverbose\u001b[0m\u001b[0;34m,\u001b[0m \u001b[0mclass_weight\u001b[0m\u001b[0;34m=\u001b[0m\u001b[0mself\u001b[0m\u001b[0;34m.\u001b[0m\u001b[0mclass_weight\u001b[0m\u001b[0;34m,\u001b[0m\u001b[0;34m\u001b[0m\u001b[0;34m\u001b[0m\u001b[0m\n\u001b[1;32m    382\u001b[0m                     n_samples_bootstrap=n_samples_bootstrap)\n\u001b[0;32m--> 383\u001b[0;31m                 for i, t in enumerate(trees))\n\u001b[0m\u001b[1;32m    384\u001b[0m \u001b[0;34m\u001b[0m\u001b[0m\n\u001b[1;32m    385\u001b[0m             \u001b[0;31m# Collect newly grown trees\u001b[0m\u001b[0;34m\u001b[0m\u001b[0;34m\u001b[0m\u001b[0;34m\u001b[0m\u001b[0m\n",
            "\u001b[0;32m/usr/local/lib/python3.7/dist-packages/joblib/parallel.py\u001b[0m in \u001b[0;36m__call__\u001b[0;34m(self, iterable)\u001b[0m\n\u001b[1;32m   1042\u001b[0m                 \u001b[0mself\u001b[0m\u001b[0;34m.\u001b[0m\u001b[0m_iterating\u001b[0m \u001b[0;34m=\u001b[0m \u001b[0mself\u001b[0m\u001b[0;34m.\u001b[0m\u001b[0m_original_iterator\u001b[0m \u001b[0;32mis\u001b[0m \u001b[0;32mnot\u001b[0m \u001b[0;32mNone\u001b[0m\u001b[0;34m\u001b[0m\u001b[0;34m\u001b[0m\u001b[0m\n\u001b[1;32m   1043\u001b[0m \u001b[0;34m\u001b[0m\u001b[0m\n\u001b[0;32m-> 1044\u001b[0;31m             \u001b[0;32mwhile\u001b[0m \u001b[0mself\u001b[0m\u001b[0;34m.\u001b[0m\u001b[0mdispatch_one_batch\u001b[0m\u001b[0;34m(\u001b[0m\u001b[0miterator\u001b[0m\u001b[0;34m)\u001b[0m\u001b[0;34m:\u001b[0m\u001b[0;34m\u001b[0m\u001b[0;34m\u001b[0m\u001b[0m\n\u001b[0m\u001b[1;32m   1045\u001b[0m                 \u001b[0;32mpass\u001b[0m\u001b[0;34m\u001b[0m\u001b[0;34m\u001b[0m\u001b[0m\n\u001b[1;32m   1046\u001b[0m \u001b[0;34m\u001b[0m\u001b[0m\n",
            "\u001b[0;32m/usr/local/lib/python3.7/dist-packages/joblib/parallel.py\u001b[0m in \u001b[0;36mdispatch_one_batch\u001b[0;34m(self, iterator)\u001b[0m\n\u001b[1;32m    857\u001b[0m                 \u001b[0;32mreturn\u001b[0m \u001b[0;32mFalse\u001b[0m\u001b[0;34m\u001b[0m\u001b[0;34m\u001b[0m\u001b[0m\n\u001b[1;32m    858\u001b[0m             \u001b[0;32melse\u001b[0m\u001b[0;34m:\u001b[0m\u001b[0;34m\u001b[0m\u001b[0;34m\u001b[0m\u001b[0m\n\u001b[0;32m--> 859\u001b[0;31m                 \u001b[0mself\u001b[0m\u001b[0;34m.\u001b[0m\u001b[0m_dispatch\u001b[0m\u001b[0;34m(\u001b[0m\u001b[0mtasks\u001b[0m\u001b[0;34m)\u001b[0m\u001b[0;34m\u001b[0m\u001b[0;34m\u001b[0m\u001b[0m\n\u001b[0m\u001b[1;32m    860\u001b[0m                 \u001b[0;32mreturn\u001b[0m \u001b[0;32mTrue\u001b[0m\u001b[0;34m\u001b[0m\u001b[0;34m\u001b[0m\u001b[0m\n\u001b[1;32m    861\u001b[0m \u001b[0;34m\u001b[0m\u001b[0m\n",
            "\u001b[0;32m/usr/local/lib/python3.7/dist-packages/joblib/parallel.py\u001b[0m in \u001b[0;36m_dispatch\u001b[0;34m(self, batch)\u001b[0m\n\u001b[1;32m    775\u001b[0m         \u001b[0;32mwith\u001b[0m \u001b[0mself\u001b[0m\u001b[0;34m.\u001b[0m\u001b[0m_lock\u001b[0m\u001b[0;34m:\u001b[0m\u001b[0;34m\u001b[0m\u001b[0;34m\u001b[0m\u001b[0m\n\u001b[1;32m    776\u001b[0m             \u001b[0mjob_idx\u001b[0m \u001b[0;34m=\u001b[0m \u001b[0mlen\u001b[0m\u001b[0;34m(\u001b[0m\u001b[0mself\u001b[0m\u001b[0;34m.\u001b[0m\u001b[0m_jobs\u001b[0m\u001b[0;34m)\u001b[0m\u001b[0;34m\u001b[0m\u001b[0;34m\u001b[0m\u001b[0m\n\u001b[0;32m--> 777\u001b[0;31m             \u001b[0mjob\u001b[0m \u001b[0;34m=\u001b[0m \u001b[0mself\u001b[0m\u001b[0;34m.\u001b[0m\u001b[0m_backend\u001b[0m\u001b[0;34m.\u001b[0m\u001b[0mapply_async\u001b[0m\u001b[0;34m(\u001b[0m\u001b[0mbatch\u001b[0m\u001b[0;34m,\u001b[0m \u001b[0mcallback\u001b[0m\u001b[0;34m=\u001b[0m\u001b[0mcb\u001b[0m\u001b[0;34m)\u001b[0m\u001b[0;34m\u001b[0m\u001b[0;34m\u001b[0m\u001b[0m\n\u001b[0m\u001b[1;32m    778\u001b[0m             \u001b[0;31m# A job can complete so quickly than its callback is\u001b[0m\u001b[0;34m\u001b[0m\u001b[0;34m\u001b[0m\u001b[0;34m\u001b[0m\u001b[0m\n\u001b[1;32m    779\u001b[0m             \u001b[0;31m# called before we get here, causing self._jobs to\u001b[0m\u001b[0;34m\u001b[0m\u001b[0;34m\u001b[0m\u001b[0;34m\u001b[0m\u001b[0m\n",
            "\u001b[0;32m/usr/local/lib/python3.7/dist-packages/joblib/_parallel_backends.py\u001b[0m in \u001b[0;36mapply_async\u001b[0;34m(self, func, callback)\u001b[0m\n\u001b[1;32m    206\u001b[0m     \u001b[0;32mdef\u001b[0m \u001b[0mapply_async\u001b[0m\u001b[0;34m(\u001b[0m\u001b[0mself\u001b[0m\u001b[0;34m,\u001b[0m \u001b[0mfunc\u001b[0m\u001b[0;34m,\u001b[0m \u001b[0mcallback\u001b[0m\u001b[0;34m=\u001b[0m\u001b[0;32mNone\u001b[0m\u001b[0;34m)\u001b[0m\u001b[0;34m:\u001b[0m\u001b[0;34m\u001b[0m\u001b[0;34m\u001b[0m\u001b[0m\n\u001b[1;32m    207\u001b[0m         \u001b[0;34m\"\"\"Schedule a func to be run\"\"\"\u001b[0m\u001b[0;34m\u001b[0m\u001b[0;34m\u001b[0m\u001b[0m\n\u001b[0;32m--> 208\u001b[0;31m         \u001b[0mresult\u001b[0m \u001b[0;34m=\u001b[0m \u001b[0mImmediateResult\u001b[0m\u001b[0;34m(\u001b[0m\u001b[0mfunc\u001b[0m\u001b[0;34m)\u001b[0m\u001b[0;34m\u001b[0m\u001b[0;34m\u001b[0m\u001b[0m\n\u001b[0m\u001b[1;32m    209\u001b[0m         \u001b[0;32mif\u001b[0m \u001b[0mcallback\u001b[0m\u001b[0;34m:\u001b[0m\u001b[0;34m\u001b[0m\u001b[0;34m\u001b[0m\u001b[0m\n\u001b[1;32m    210\u001b[0m             \u001b[0mcallback\u001b[0m\u001b[0;34m(\u001b[0m\u001b[0mresult\u001b[0m\u001b[0;34m)\u001b[0m\u001b[0;34m\u001b[0m\u001b[0;34m\u001b[0m\u001b[0m\n",
            "\u001b[0;32m/usr/local/lib/python3.7/dist-packages/joblib/_parallel_backends.py\u001b[0m in \u001b[0;36m__init__\u001b[0;34m(self, batch)\u001b[0m\n\u001b[1;32m    570\u001b[0m         \u001b[0;31m# Don't delay the application, to avoid keeping the input\u001b[0m\u001b[0;34m\u001b[0m\u001b[0;34m\u001b[0m\u001b[0;34m\u001b[0m\u001b[0m\n\u001b[1;32m    571\u001b[0m         \u001b[0;31m# arguments in memory\u001b[0m\u001b[0;34m\u001b[0m\u001b[0;34m\u001b[0m\u001b[0;34m\u001b[0m\u001b[0m\n\u001b[0;32m--> 572\u001b[0;31m         \u001b[0mself\u001b[0m\u001b[0;34m.\u001b[0m\u001b[0mresults\u001b[0m \u001b[0;34m=\u001b[0m \u001b[0mbatch\u001b[0m\u001b[0;34m(\u001b[0m\u001b[0;34m)\u001b[0m\u001b[0;34m\u001b[0m\u001b[0;34m\u001b[0m\u001b[0m\n\u001b[0m\u001b[1;32m    573\u001b[0m \u001b[0;34m\u001b[0m\u001b[0m\n\u001b[1;32m    574\u001b[0m     \u001b[0;32mdef\u001b[0m \u001b[0mget\u001b[0m\u001b[0;34m(\u001b[0m\u001b[0mself\u001b[0m\u001b[0;34m)\u001b[0m\u001b[0;34m:\u001b[0m\u001b[0;34m\u001b[0m\u001b[0;34m\u001b[0m\u001b[0m\n",
            "\u001b[0;32m/usr/local/lib/python3.7/dist-packages/joblib/parallel.py\u001b[0m in \u001b[0;36m__call__\u001b[0;34m(self)\u001b[0m\n\u001b[1;32m    261\u001b[0m         \u001b[0;32mwith\u001b[0m \u001b[0mparallel_backend\u001b[0m\u001b[0;34m(\u001b[0m\u001b[0mself\u001b[0m\u001b[0;34m.\u001b[0m\u001b[0m_backend\u001b[0m\u001b[0;34m,\u001b[0m \u001b[0mn_jobs\u001b[0m\u001b[0;34m=\u001b[0m\u001b[0mself\u001b[0m\u001b[0;34m.\u001b[0m\u001b[0m_n_jobs\u001b[0m\u001b[0;34m)\u001b[0m\u001b[0;34m:\u001b[0m\u001b[0;34m\u001b[0m\u001b[0;34m\u001b[0m\u001b[0m\n\u001b[1;32m    262\u001b[0m             return [func(*args, **kwargs)\n\u001b[0;32m--> 263\u001b[0;31m                     for func, args, kwargs in self.items]\n\u001b[0m\u001b[1;32m    264\u001b[0m \u001b[0;34m\u001b[0m\u001b[0m\n\u001b[1;32m    265\u001b[0m     \u001b[0;32mdef\u001b[0m \u001b[0m__reduce__\u001b[0m\u001b[0;34m(\u001b[0m\u001b[0mself\u001b[0m\u001b[0;34m)\u001b[0m\u001b[0;34m:\u001b[0m\u001b[0;34m\u001b[0m\u001b[0;34m\u001b[0m\u001b[0m\n",
            "\u001b[0;32m/usr/local/lib/python3.7/dist-packages/joblib/parallel.py\u001b[0m in \u001b[0;36m<listcomp>\u001b[0;34m(.0)\u001b[0m\n\u001b[1;32m    261\u001b[0m         \u001b[0;32mwith\u001b[0m \u001b[0mparallel_backend\u001b[0m\u001b[0;34m(\u001b[0m\u001b[0mself\u001b[0m\u001b[0;34m.\u001b[0m\u001b[0m_backend\u001b[0m\u001b[0;34m,\u001b[0m \u001b[0mn_jobs\u001b[0m\u001b[0;34m=\u001b[0m\u001b[0mself\u001b[0m\u001b[0;34m.\u001b[0m\u001b[0m_n_jobs\u001b[0m\u001b[0;34m)\u001b[0m\u001b[0;34m:\u001b[0m\u001b[0;34m\u001b[0m\u001b[0;34m\u001b[0m\u001b[0m\n\u001b[1;32m    262\u001b[0m             return [func(*args, **kwargs)\n\u001b[0;32m--> 263\u001b[0;31m                     for func, args, kwargs in self.items]\n\u001b[0m\u001b[1;32m    264\u001b[0m \u001b[0;34m\u001b[0m\u001b[0m\n\u001b[1;32m    265\u001b[0m     \u001b[0;32mdef\u001b[0m \u001b[0m__reduce__\u001b[0m\u001b[0;34m(\u001b[0m\u001b[0mself\u001b[0m\u001b[0;34m)\u001b[0m\u001b[0;34m:\u001b[0m\u001b[0;34m\u001b[0m\u001b[0;34m\u001b[0m\u001b[0m\n",
            "\u001b[0;32m/usr/local/lib/python3.7/dist-packages/sklearn/ensemble/_forest.py\u001b[0m in \u001b[0;36m_parallel_build_trees\u001b[0;34m(tree, forest, X, y, sample_weight, tree_idx, n_trees, verbose, class_weight, n_samples_bootstrap)\u001b[0m\n\u001b[1;32m    163\u001b[0m             \u001b[0mcurr_sample_weight\u001b[0m \u001b[0;34m*=\u001b[0m \u001b[0mcompute_sample_weight\u001b[0m\u001b[0;34m(\u001b[0m\u001b[0;34m'balanced'\u001b[0m\u001b[0;34m,\u001b[0m \u001b[0my\u001b[0m\u001b[0;34m,\u001b[0m \u001b[0mindices\u001b[0m\u001b[0;34m)\u001b[0m\u001b[0;34m\u001b[0m\u001b[0;34m\u001b[0m\u001b[0m\n\u001b[1;32m    164\u001b[0m \u001b[0;34m\u001b[0m\u001b[0m\n\u001b[0;32m--> 165\u001b[0;31m         \u001b[0mtree\u001b[0m\u001b[0;34m.\u001b[0m\u001b[0mfit\u001b[0m\u001b[0;34m(\u001b[0m\u001b[0mX\u001b[0m\u001b[0;34m,\u001b[0m \u001b[0my\u001b[0m\u001b[0;34m,\u001b[0m \u001b[0msample_weight\u001b[0m\u001b[0;34m=\u001b[0m\u001b[0mcurr_sample_weight\u001b[0m\u001b[0;34m,\u001b[0m \u001b[0mcheck_input\u001b[0m\u001b[0;34m=\u001b[0m\u001b[0;32mFalse\u001b[0m\u001b[0;34m)\u001b[0m\u001b[0;34m\u001b[0m\u001b[0;34m\u001b[0m\u001b[0m\n\u001b[0m\u001b[1;32m    166\u001b[0m     \u001b[0;32melse\u001b[0m\u001b[0;34m:\u001b[0m\u001b[0;34m\u001b[0m\u001b[0;34m\u001b[0m\u001b[0m\n\u001b[1;32m    167\u001b[0m         \u001b[0mtree\u001b[0m\u001b[0;34m.\u001b[0m\u001b[0mfit\u001b[0m\u001b[0;34m(\u001b[0m\u001b[0mX\u001b[0m\u001b[0;34m,\u001b[0m \u001b[0my\u001b[0m\u001b[0;34m,\u001b[0m \u001b[0msample_weight\u001b[0m\u001b[0;34m=\u001b[0m\u001b[0msample_weight\u001b[0m\u001b[0;34m,\u001b[0m \u001b[0mcheck_input\u001b[0m\u001b[0;34m=\u001b[0m\u001b[0;32mFalse\u001b[0m\u001b[0;34m)\u001b[0m\u001b[0;34m\u001b[0m\u001b[0;34m\u001b[0m\u001b[0m\n",
            "\u001b[0;32m/usr/local/lib/python3.7/dist-packages/sklearn/tree/_classes.py\u001b[0m in \u001b[0;36mfit\u001b[0;34m(self, X, y, sample_weight, check_input, X_idx_sorted)\u001b[0m\n\u001b[1;32m   1223\u001b[0m             \u001b[0msample_weight\u001b[0m\u001b[0;34m=\u001b[0m\u001b[0msample_weight\u001b[0m\u001b[0;34m,\u001b[0m\u001b[0;34m\u001b[0m\u001b[0;34m\u001b[0m\u001b[0m\n\u001b[1;32m   1224\u001b[0m             \u001b[0mcheck_input\u001b[0m\u001b[0;34m=\u001b[0m\u001b[0mcheck_input\u001b[0m\u001b[0;34m,\u001b[0m\u001b[0;34m\u001b[0m\u001b[0;34m\u001b[0m\u001b[0m\n\u001b[0;32m-> 1225\u001b[0;31m             X_idx_sorted=X_idx_sorted)\n\u001b[0m\u001b[1;32m   1226\u001b[0m         \u001b[0;32mreturn\u001b[0m \u001b[0mself\u001b[0m\u001b[0;34m\u001b[0m\u001b[0;34m\u001b[0m\u001b[0m\n\u001b[1;32m   1227\u001b[0m \u001b[0;34m\u001b[0m\u001b[0m\n",
            "\u001b[0;32m/usr/local/lib/python3.7/dist-packages/sklearn/tree/_classes.py\u001b[0m in \u001b[0;36mfit\u001b[0;34m(self, X, y, sample_weight, check_input, X_idx_sorted)\u001b[0m\n\u001b[1;32m    365\u001b[0m                                            min_impurity_split)\n\u001b[1;32m    366\u001b[0m \u001b[0;34m\u001b[0m\u001b[0m\n\u001b[0;32m--> 367\u001b[0;31m         \u001b[0mbuilder\u001b[0m\u001b[0;34m.\u001b[0m\u001b[0mbuild\u001b[0m\u001b[0;34m(\u001b[0m\u001b[0mself\u001b[0m\u001b[0;34m.\u001b[0m\u001b[0mtree_\u001b[0m\u001b[0;34m,\u001b[0m \u001b[0mX\u001b[0m\u001b[0;34m,\u001b[0m \u001b[0my\u001b[0m\u001b[0;34m,\u001b[0m \u001b[0msample_weight\u001b[0m\u001b[0;34m,\u001b[0m \u001b[0mX_idx_sorted\u001b[0m\u001b[0;34m)\u001b[0m\u001b[0;34m\u001b[0m\u001b[0;34m\u001b[0m\u001b[0m\n\u001b[0m\u001b[1;32m    368\u001b[0m \u001b[0;34m\u001b[0m\u001b[0m\n\u001b[1;32m    369\u001b[0m         \u001b[0;32mif\u001b[0m \u001b[0mself\u001b[0m\u001b[0;34m.\u001b[0m\u001b[0mn_outputs_\u001b[0m \u001b[0;34m==\u001b[0m \u001b[0;36m1\u001b[0m \u001b[0;32mand\u001b[0m \u001b[0mis_classifier\u001b[0m\u001b[0;34m(\u001b[0m\u001b[0mself\u001b[0m\u001b[0;34m)\u001b[0m\u001b[0;34m:\u001b[0m\u001b[0;34m\u001b[0m\u001b[0;34m\u001b[0m\u001b[0m\n",
            "\u001b[0;31mKeyboardInterrupt\u001b[0m: "
          ]
        }
      ]
    },
    {
      "cell_type": "code",
      "metadata": {
        "colab": {
          "base_uri": "https://localhost:8080/"
        },
        "id": "WPxJDhu7WORP",
        "outputId": "4a870b16-3925-4ad5-a44f-3ab9127a5dab"
      },
      "source": [
        "from sklearn.linear_model import SGDRegressor\n",
        "sgd = SGDRegressor()\n",
        "scores = cross_val_score(sgd,X,Y,scoring='neg_root_mean_squared_error')\n",
        "scores"
      ],
      "execution_count": null,
      "outputs": [
        {
          "output_type": "execute_result",
          "data": {
            "text/plain": [
              "array([-2.92612386e+13, -3.94695459e+13, -3.72648426e+13, -3.46929250e+13,\n",
              "       -2.55371622e+13])"
            ]
          },
          "metadata": {
            "tags": []
          },
          "execution_count": 42
        }
      ]
    },
    {
      "cell_type": "code",
      "metadata": {
        "colab": {
          "base_uri": "https://localhost:8080/"
        },
        "id": "IvtCc2nMcNEk",
        "outputId": "f32d26df-e18f-4c8c-8354-a2a770fc1de0"
      },
      "source": [
        "from sklearn.ensemble import GradientBoostingRegressor\n",
        "for i in range(100,170,20):\n",
        "  gbr = GradientBoostingRegressor(n_estimators=i)\n",
        "  scores = cross_val_score(gbr,X,Y,scoring='neg_root_mean_squared_error',cv=3)\n",
        "  print(i,':',scores)"
      ],
      "execution_count": null,
      "outputs": [
        {
          "output_type": "stream",
          "text": [
            "100 : [-1331.68873592 -1300.0526401  -1319.28951557]\n",
            "120 : [-1313.58034388 -1285.21761395 -1307.29903164]\n",
            "140 : [-1301.3272226 -1268.0144316 -1289.2590114]\n",
            "160 : [-1287.05461856 -1254.62576156 -1274.14675117]\n"
          ],
          "name": "stdout"
        }
      ]
    },
    {
      "cell_type": "code",
      "metadata": {
        "colab": {
          "base_uri": "https://localhost:8080/"
        },
        "id": "uGiAlXEqckbX",
        "outputId": "50aab6ee-97a9-4e79-b00f-3917fcde03f2"
      },
      "source": [
        "from sklearn.ensemble import GradientBoostingRegressor\n",
        "for i in range(200,370,50):\n",
        "  gbr = GradientBoostingRegressor(n_estimators=i)\n",
        "  scores = cross_val_score(gbr,X,Y,scoring='neg_root_mean_squared_error',cv=3)\n",
        "  print(i,':',scores)"
      ],
      "execution_count": null,
      "outputs": [
        {
          "output_type": "stream",
          "text": [
            "200 : [-1257.60875687 -1224.01423104 -1244.12529458]\n",
            "250 : [-1226.48111901 -1187.52648373 -1218.17404036]\n",
            "300 : [-1199.67832106 -1156.64739626 -1187.90928615]\n",
            "350 : [-1171.12248715 -1132.44763941 -1154.56705623]\n"
          ],
          "name": "stdout"
        }
      ]
    },
    {
      "cell_type": "code",
      "metadata": {
        "colab": {
          "base_uri": "https://localhost:8080/"
        },
        "id": "Nw_hIBT_xP_D",
        "outputId": "8e7b2e77-8232-44f7-82b0-b8035c498e05"
      },
      "source": [
        "print(dftest_cp1.columns)\n",
        "print(df_cp1.columns)"
      ],
      "execution_count": null,
      "outputs": [
        {
          "output_type": "stream",
          "text": [
            "Index(['Store', 'DayOfWeek', 'Date', 'Open', 'Promo', 'StateHoliday',\n",
            "       'SchoolHoliday'],\n",
            "      dtype='object')\n",
            "Index(['Store', 'DayOfWeek', 'Sales', 'Customers', 'Open', 'Promo',\n",
            "       'StateHoliday', 'SchoolHoliday', 'Year', 'Month', 'Day'],\n",
            "      dtype='object')\n"
          ],
          "name": "stdout"
        }
      ]
    },
    {
      "cell_type": "markdown",
      "metadata": {
        "id": "Om5VXSPgW-La"
      },
      "source": [
        "##Lets drop the customers column and check"
      ]
    },
    {
      "cell_type": "code",
      "metadata": {
        "id": "2fwH0sWQXDz_"
      },
      "source": [
        "Xnew = X.drop('Customers',axis=1)"
      ],
      "execution_count": 21,
      "outputs": []
    },
    {
      "cell_type": "code",
      "metadata": {
        "colab": {
          "base_uri": "https://localhost:8080/"
        },
        "id": "_uLol_7YXCXv",
        "outputId": "c6f5fa4b-0b69-4dae-c048-1d9078537e3a"
      },
      "source": [
        "from sklearn.tree import DecisionTreeRegressor\n",
        "from sklearn.model_selection import cross_val_score\n",
        "dt = DecisionTreeRegressor()\n",
        "scores = cross_val_score(dt,Xnew,Y,scoring='neg_root_mean_squared_error',cv=2)\n",
        "scores"
      ],
      "execution_count": null,
      "outputs": [
        {
          "output_type": "execute_result",
          "data": {
            "text/plain": [
              "array([-1293.55351269, -1459.15905319])"
            ]
          },
          "metadata": {
            "tags": []
          },
          "execution_count": 14
        }
      ]
    },
    {
      "cell_type": "code",
      "metadata": {
        "colab": {
          "base_uri": "https://localhost:8080/"
        },
        "id": "EAMOrCliXX07",
        "outputId": "71d8faa3-7305-43a3-b99f-5af5567dc35a"
      },
      "source": [
        "from sklearn.tree import DecisionTreeRegressor\n",
        "from sklearn.model_selection import cross_val_score\n",
        "for i in range(30,71,5):\n",
        "  dt = DecisionTreeRegressor(max_depth=i)\n",
        "  scores = cross_val_score(dt,Xnew,Y,scoring='neg_root_mean_squared_error',cv=3)\n",
        "  print(i,':',scores,sum(scores)/len(scores))"
      ],
      "execution_count": null,
      "outputs": [
        {
          "output_type": "stream",
          "text": [
            "30 : [-1715.90690959 -1927.75009174 -1886.73448554] -1843.4638289559832\n",
            "35 : [-1484.30533243 -1666.3412788  -1882.32793401] -1677.65818174775\n",
            "40 : [-1399.25291499 -1540.03070792 -1660.85123755] -1533.3782868181179\n",
            "45 : [-1318.49511563 -1488.31550835 -1576.52422637] -1461.111616783461\n",
            "50 : [-1332.9330905  -1485.39186446 -1559.42091998] -1459.248624980134\n",
            "55 : [-1399.07581938 -1467.67948888 -1782.87265375] -1549.87598733536\n",
            "60 : [-1401.99556273 -1460.30085905 -1763.53692584] -1541.9444492054652\n",
            "65 : [-1315.27393953 -1488.4457651  -1549.23269537] -1450.9841333317272\n",
            "70 : [-1323.52314771 -1450.97719576 -1538.91819111] -1437.8061781923989\n"
          ],
          "name": "stdout"
        }
      ]
    },
    {
      "cell_type": "code",
      "metadata": {
        "colab": {
          "base_uri": "https://localhost:8080/"
        },
        "id": "7yzumBXaZ2jP",
        "outputId": "7b2ee1ac-7681-4697-a663-c6e555c482ce"
      },
      "source": [
        "from sklearn.ensemble import RandomForestRegressor\n",
        "for i in np.arange(1,4):\n",
        "  rf = RandomForestRegressor()\n",
        "  scores = cross_val_score(rf,Xnew,Y,scoring='neg_root_mean_squared_error',cv=3)\n",
        "  print(i,':',scores,sum(scores)/len(scores))"
      ],
      "execution_count": null,
      "outputs": [
        {
          "output_type": "stream",
          "text": [
            "1 : [-1170.6759716  -1193.70578091 -1411.58819572] -1258.6566494097085\n",
            "2 : [-1165.80650193 -1194.38577595 -1408.28065849] -1256.1576454552708\n",
            "3 : [-1168.25478195 -1206.12281633 -1411.73010097] -1262.0358997480432\n"
          ],
          "name": "stdout"
        }
      ]
    },
    {
      "cell_type": "markdown",
      "metadata": {
        "id": "6h_gjH5knf20"
      },
      "source": [
        "#Lets preprocess test set and take outputs"
      ]
    },
    {
      "cell_type": "code",
      "metadata": {
        "colab": {
          "base_uri": "https://localhost:8080/",
          "height": 206
        },
        "id": "altF5lmunnEV",
        "outputId": "9ba545ca-3ee6-44d6-c578-cb7e00ced561"
      },
      "source": [
        "#convdt()\n",
        "dftest_cp1.head()\n",
        "convdt(dftest_cp1)\n",
        "dftest_cp1.head()\n",
        "dftest_cp1 = dftest_cp1.drop('Date',axis=1)\n",
        "dftest_cp1.head()"
      ],
      "execution_count": 22,
      "outputs": [
        {
          "output_type": "execute_result",
          "data": {
            "text/html": [
              "<div>\n",
              "<style scoped>\n",
              "    .dataframe tbody tr th:only-of-type {\n",
              "        vertical-align: middle;\n",
              "    }\n",
              "\n",
              "    .dataframe tbody tr th {\n",
              "        vertical-align: top;\n",
              "    }\n",
              "\n",
              "    .dataframe thead th {\n",
              "        text-align: right;\n",
              "    }\n",
              "</style>\n",
              "<table border=\"1\" class=\"dataframe\">\n",
              "  <thead>\n",
              "    <tr style=\"text-align: right;\">\n",
              "      <th></th>\n",
              "      <th>Store</th>\n",
              "      <th>DayOfWeek</th>\n",
              "      <th>Open</th>\n",
              "      <th>Promo</th>\n",
              "      <th>StateHoliday</th>\n",
              "      <th>SchoolHoliday</th>\n",
              "      <th>Year</th>\n",
              "      <th>Month</th>\n",
              "      <th>Day</th>\n",
              "    </tr>\n",
              "  </thead>\n",
              "  <tbody>\n",
              "    <tr>\n",
              "      <th>0</th>\n",
              "      <td>767</td>\n",
              "      <td>1</td>\n",
              "      <td>0</td>\n",
              "      <td>0</td>\n",
              "      <td>b</td>\n",
              "      <td>1</td>\n",
              "      <td>2013</td>\n",
              "      <td>4</td>\n",
              "      <td>1</td>\n",
              "    </tr>\n",
              "    <tr>\n",
              "      <th>1</th>\n",
              "      <td>1111</td>\n",
              "      <td>6</td>\n",
              "      <td>1</td>\n",
              "      <td>0</td>\n",
              "      <td>0</td>\n",
              "      <td>0</td>\n",
              "      <td>2013</td>\n",
              "      <td>3</td>\n",
              "      <td>16</td>\n",
              "    </tr>\n",
              "    <tr>\n",
              "      <th>2</th>\n",
              "      <td>45</td>\n",
              "      <td>4</td>\n",
              "      <td>1</td>\n",
              "      <td>1</td>\n",
              "      <td>0</td>\n",
              "      <td>1</td>\n",
              "      <td>2013</td>\n",
              "      <td>8</td>\n",
              "      <td>1</td>\n",
              "    </tr>\n",
              "    <tr>\n",
              "      <th>3</th>\n",
              "      <td>500</td>\n",
              "      <td>4</td>\n",
              "      <td>1</td>\n",
              "      <td>0</td>\n",
              "      <td>0</td>\n",
              "      <td>1</td>\n",
              "      <td>2013</td>\n",
              "      <td>5</td>\n",
              "      <td>23</td>\n",
              "    </tr>\n",
              "    <tr>\n",
              "      <th>4</th>\n",
              "      <td>82</td>\n",
              "      <td>2</td>\n",
              "      <td>1</td>\n",
              "      <td>0</td>\n",
              "      <td>0</td>\n",
              "      <td>1</td>\n",
              "      <td>2013</td>\n",
              "      <td>8</td>\n",
              "      <td>6</td>\n",
              "    </tr>\n",
              "  </tbody>\n",
              "</table>\n",
              "</div>"
            ],
            "text/plain": [
              "   Store  DayOfWeek  Open  Promo StateHoliday  SchoolHoliday  Year  Month  Day\n",
              "0    767          1     0      0            b              1  2013      4    1\n",
              "1   1111          6     1      0            0              0  2013      3   16\n",
              "2     45          4     1      1            0              1  2013      8    1\n",
              "3    500          4     1      0            0              1  2013      5   23\n",
              "4     82          2     1      0            0              1  2013      8    6"
            ]
          },
          "metadata": {
            "tags": []
          },
          "execution_count": 22
        }
      ]
    },
    {
      "cell_type": "code",
      "metadata": {
        "id": "6VxDTZmKobXF"
      },
      "source": [
        "dftest_cp1 = pd.get_dummies(dftest_cp1,columns=[x for x in dftest_cp1.columns if x not in ['Store']])"
      ],
      "execution_count": 23,
      "outputs": []
    },
    {
      "cell_type": "code",
      "metadata": {
        "colab": {
          "base_uri": "https://localhost:8080/",
          "height": 226
        },
        "id": "BUSqjSzKonZj",
        "outputId": "d2098d54-809f-4ac7-d490-6d0adc39df7a"
      },
      "source": [
        "dftest_cp1.head()"
      ],
      "execution_count": 24,
      "outputs": [
        {
          "output_type": "execute_result",
          "data": {
            "text/html": [
              "<div>\n",
              "<style scoped>\n",
              "    .dataframe tbody tr th:only-of-type {\n",
              "        vertical-align: middle;\n",
              "    }\n",
              "\n",
              "    .dataframe tbody tr th {\n",
              "        vertical-align: top;\n",
              "    }\n",
              "\n",
              "    .dataframe thead th {\n",
              "        text-align: right;\n",
              "    }\n",
              "</style>\n",
              "<table border=\"1\" class=\"dataframe\">\n",
              "  <thead>\n",
              "    <tr style=\"text-align: right;\">\n",
              "      <th></th>\n",
              "      <th>Store</th>\n",
              "      <th>DayOfWeek_1</th>\n",
              "      <th>DayOfWeek_2</th>\n",
              "      <th>DayOfWeek_3</th>\n",
              "      <th>DayOfWeek_4</th>\n",
              "      <th>DayOfWeek_5</th>\n",
              "      <th>DayOfWeek_6</th>\n",
              "      <th>DayOfWeek_7</th>\n",
              "      <th>Open_0</th>\n",
              "      <th>Open_1</th>\n",
              "      <th>Promo_0</th>\n",
              "      <th>Promo_1</th>\n",
              "      <th>StateHoliday_0</th>\n",
              "      <th>StateHoliday_a</th>\n",
              "      <th>StateHoliday_b</th>\n",
              "      <th>SchoolHoliday_0</th>\n",
              "      <th>SchoolHoliday_1</th>\n",
              "      <th>Year_2013</th>\n",
              "      <th>Month_1</th>\n",
              "      <th>Month_2</th>\n",
              "      <th>Month_3</th>\n",
              "      <th>Month_4</th>\n",
              "      <th>Month_5</th>\n",
              "      <th>Month_6</th>\n",
              "      <th>Month_7</th>\n",
              "      <th>Month_8</th>\n",
              "      <th>Month_9</th>\n",
              "      <th>Month_10</th>\n",
              "      <th>Day_1</th>\n",
              "      <th>Day_2</th>\n",
              "      <th>Day_3</th>\n",
              "      <th>Day_4</th>\n",
              "      <th>Day_5</th>\n",
              "      <th>Day_6</th>\n",
              "      <th>Day_7</th>\n",
              "      <th>Day_8</th>\n",
              "      <th>Day_9</th>\n",
              "      <th>Day_10</th>\n",
              "      <th>Day_11</th>\n",
              "      <th>Day_12</th>\n",
              "      <th>Day_13</th>\n",
              "      <th>Day_14</th>\n",
              "      <th>Day_15</th>\n",
              "      <th>Day_16</th>\n",
              "      <th>Day_17</th>\n",
              "      <th>Day_18</th>\n",
              "      <th>Day_19</th>\n",
              "      <th>Day_20</th>\n",
              "      <th>Day_21</th>\n",
              "      <th>Day_22</th>\n",
              "      <th>Day_23</th>\n",
              "      <th>Day_24</th>\n",
              "      <th>Day_25</th>\n",
              "      <th>Day_26</th>\n",
              "      <th>Day_27</th>\n",
              "      <th>Day_28</th>\n",
              "      <th>Day_29</th>\n",
              "      <th>Day_30</th>\n",
              "      <th>Day_31</th>\n",
              "    </tr>\n",
              "  </thead>\n",
              "  <tbody>\n",
              "    <tr>\n",
              "      <th>0</th>\n",
              "      <td>767</td>\n",
              "      <td>1</td>\n",
              "      <td>0</td>\n",
              "      <td>0</td>\n",
              "      <td>0</td>\n",
              "      <td>0</td>\n",
              "      <td>0</td>\n",
              "      <td>0</td>\n",
              "      <td>1</td>\n",
              "      <td>0</td>\n",
              "      <td>1</td>\n",
              "      <td>0</td>\n",
              "      <td>0</td>\n",
              "      <td>0</td>\n",
              "      <td>1</td>\n",
              "      <td>0</td>\n",
              "      <td>1</td>\n",
              "      <td>1</td>\n",
              "      <td>0</td>\n",
              "      <td>0</td>\n",
              "      <td>0</td>\n",
              "      <td>1</td>\n",
              "      <td>0</td>\n",
              "      <td>0</td>\n",
              "      <td>0</td>\n",
              "      <td>0</td>\n",
              "      <td>0</td>\n",
              "      <td>0</td>\n",
              "      <td>1</td>\n",
              "      <td>0</td>\n",
              "      <td>0</td>\n",
              "      <td>0</td>\n",
              "      <td>0</td>\n",
              "      <td>0</td>\n",
              "      <td>0</td>\n",
              "      <td>0</td>\n",
              "      <td>0</td>\n",
              "      <td>0</td>\n",
              "      <td>0</td>\n",
              "      <td>0</td>\n",
              "      <td>0</td>\n",
              "      <td>0</td>\n",
              "      <td>0</td>\n",
              "      <td>0</td>\n",
              "      <td>0</td>\n",
              "      <td>0</td>\n",
              "      <td>0</td>\n",
              "      <td>0</td>\n",
              "      <td>0</td>\n",
              "      <td>0</td>\n",
              "      <td>0</td>\n",
              "      <td>0</td>\n",
              "      <td>0</td>\n",
              "      <td>0</td>\n",
              "      <td>0</td>\n",
              "      <td>0</td>\n",
              "      <td>0</td>\n",
              "      <td>0</td>\n",
              "      <td>0</td>\n",
              "    </tr>\n",
              "    <tr>\n",
              "      <th>1</th>\n",
              "      <td>1111</td>\n",
              "      <td>0</td>\n",
              "      <td>0</td>\n",
              "      <td>0</td>\n",
              "      <td>0</td>\n",
              "      <td>0</td>\n",
              "      <td>1</td>\n",
              "      <td>0</td>\n",
              "      <td>0</td>\n",
              "      <td>1</td>\n",
              "      <td>1</td>\n",
              "      <td>0</td>\n",
              "      <td>1</td>\n",
              "      <td>0</td>\n",
              "      <td>0</td>\n",
              "      <td>1</td>\n",
              "      <td>0</td>\n",
              "      <td>1</td>\n",
              "      <td>0</td>\n",
              "      <td>0</td>\n",
              "      <td>1</td>\n",
              "      <td>0</td>\n",
              "      <td>0</td>\n",
              "      <td>0</td>\n",
              "      <td>0</td>\n",
              "      <td>0</td>\n",
              "      <td>0</td>\n",
              "      <td>0</td>\n",
              "      <td>0</td>\n",
              "      <td>0</td>\n",
              "      <td>0</td>\n",
              "      <td>0</td>\n",
              "      <td>0</td>\n",
              "      <td>0</td>\n",
              "      <td>0</td>\n",
              "      <td>0</td>\n",
              "      <td>0</td>\n",
              "      <td>0</td>\n",
              "      <td>0</td>\n",
              "      <td>0</td>\n",
              "      <td>0</td>\n",
              "      <td>0</td>\n",
              "      <td>0</td>\n",
              "      <td>1</td>\n",
              "      <td>0</td>\n",
              "      <td>0</td>\n",
              "      <td>0</td>\n",
              "      <td>0</td>\n",
              "      <td>0</td>\n",
              "      <td>0</td>\n",
              "      <td>0</td>\n",
              "      <td>0</td>\n",
              "      <td>0</td>\n",
              "      <td>0</td>\n",
              "      <td>0</td>\n",
              "      <td>0</td>\n",
              "      <td>0</td>\n",
              "      <td>0</td>\n",
              "      <td>0</td>\n",
              "    </tr>\n",
              "    <tr>\n",
              "      <th>2</th>\n",
              "      <td>45</td>\n",
              "      <td>0</td>\n",
              "      <td>0</td>\n",
              "      <td>0</td>\n",
              "      <td>1</td>\n",
              "      <td>0</td>\n",
              "      <td>0</td>\n",
              "      <td>0</td>\n",
              "      <td>0</td>\n",
              "      <td>1</td>\n",
              "      <td>0</td>\n",
              "      <td>1</td>\n",
              "      <td>1</td>\n",
              "      <td>0</td>\n",
              "      <td>0</td>\n",
              "      <td>0</td>\n",
              "      <td>1</td>\n",
              "      <td>1</td>\n",
              "      <td>0</td>\n",
              "      <td>0</td>\n",
              "      <td>0</td>\n",
              "      <td>0</td>\n",
              "      <td>0</td>\n",
              "      <td>0</td>\n",
              "      <td>0</td>\n",
              "      <td>1</td>\n",
              "      <td>0</td>\n",
              "      <td>0</td>\n",
              "      <td>1</td>\n",
              "      <td>0</td>\n",
              "      <td>0</td>\n",
              "      <td>0</td>\n",
              "      <td>0</td>\n",
              "      <td>0</td>\n",
              "      <td>0</td>\n",
              "      <td>0</td>\n",
              "      <td>0</td>\n",
              "      <td>0</td>\n",
              "      <td>0</td>\n",
              "      <td>0</td>\n",
              "      <td>0</td>\n",
              "      <td>0</td>\n",
              "      <td>0</td>\n",
              "      <td>0</td>\n",
              "      <td>0</td>\n",
              "      <td>0</td>\n",
              "      <td>0</td>\n",
              "      <td>0</td>\n",
              "      <td>0</td>\n",
              "      <td>0</td>\n",
              "      <td>0</td>\n",
              "      <td>0</td>\n",
              "      <td>0</td>\n",
              "      <td>0</td>\n",
              "      <td>0</td>\n",
              "      <td>0</td>\n",
              "      <td>0</td>\n",
              "      <td>0</td>\n",
              "      <td>0</td>\n",
              "    </tr>\n",
              "    <tr>\n",
              "      <th>3</th>\n",
              "      <td>500</td>\n",
              "      <td>0</td>\n",
              "      <td>0</td>\n",
              "      <td>0</td>\n",
              "      <td>1</td>\n",
              "      <td>0</td>\n",
              "      <td>0</td>\n",
              "      <td>0</td>\n",
              "      <td>0</td>\n",
              "      <td>1</td>\n",
              "      <td>1</td>\n",
              "      <td>0</td>\n",
              "      <td>1</td>\n",
              "      <td>0</td>\n",
              "      <td>0</td>\n",
              "      <td>0</td>\n",
              "      <td>1</td>\n",
              "      <td>1</td>\n",
              "      <td>0</td>\n",
              "      <td>0</td>\n",
              "      <td>0</td>\n",
              "      <td>0</td>\n",
              "      <td>1</td>\n",
              "      <td>0</td>\n",
              "      <td>0</td>\n",
              "      <td>0</td>\n",
              "      <td>0</td>\n",
              "      <td>0</td>\n",
              "      <td>0</td>\n",
              "      <td>0</td>\n",
              "      <td>0</td>\n",
              "      <td>0</td>\n",
              "      <td>0</td>\n",
              "      <td>0</td>\n",
              "      <td>0</td>\n",
              "      <td>0</td>\n",
              "      <td>0</td>\n",
              "      <td>0</td>\n",
              "      <td>0</td>\n",
              "      <td>0</td>\n",
              "      <td>0</td>\n",
              "      <td>0</td>\n",
              "      <td>0</td>\n",
              "      <td>0</td>\n",
              "      <td>0</td>\n",
              "      <td>0</td>\n",
              "      <td>0</td>\n",
              "      <td>0</td>\n",
              "      <td>0</td>\n",
              "      <td>0</td>\n",
              "      <td>1</td>\n",
              "      <td>0</td>\n",
              "      <td>0</td>\n",
              "      <td>0</td>\n",
              "      <td>0</td>\n",
              "      <td>0</td>\n",
              "      <td>0</td>\n",
              "      <td>0</td>\n",
              "      <td>0</td>\n",
              "    </tr>\n",
              "    <tr>\n",
              "      <th>4</th>\n",
              "      <td>82</td>\n",
              "      <td>0</td>\n",
              "      <td>1</td>\n",
              "      <td>0</td>\n",
              "      <td>0</td>\n",
              "      <td>0</td>\n",
              "      <td>0</td>\n",
              "      <td>0</td>\n",
              "      <td>0</td>\n",
              "      <td>1</td>\n",
              "      <td>1</td>\n",
              "      <td>0</td>\n",
              "      <td>1</td>\n",
              "      <td>0</td>\n",
              "      <td>0</td>\n",
              "      <td>0</td>\n",
              "      <td>1</td>\n",
              "      <td>1</td>\n",
              "      <td>0</td>\n",
              "      <td>0</td>\n",
              "      <td>0</td>\n",
              "      <td>0</td>\n",
              "      <td>0</td>\n",
              "      <td>0</td>\n",
              "      <td>0</td>\n",
              "      <td>1</td>\n",
              "      <td>0</td>\n",
              "      <td>0</td>\n",
              "      <td>0</td>\n",
              "      <td>0</td>\n",
              "      <td>0</td>\n",
              "      <td>0</td>\n",
              "      <td>0</td>\n",
              "      <td>1</td>\n",
              "      <td>0</td>\n",
              "      <td>0</td>\n",
              "      <td>0</td>\n",
              "      <td>0</td>\n",
              "      <td>0</td>\n",
              "      <td>0</td>\n",
              "      <td>0</td>\n",
              "      <td>0</td>\n",
              "      <td>0</td>\n",
              "      <td>0</td>\n",
              "      <td>0</td>\n",
              "      <td>0</td>\n",
              "      <td>0</td>\n",
              "      <td>0</td>\n",
              "      <td>0</td>\n",
              "      <td>0</td>\n",
              "      <td>0</td>\n",
              "      <td>0</td>\n",
              "      <td>0</td>\n",
              "      <td>0</td>\n",
              "      <td>0</td>\n",
              "      <td>0</td>\n",
              "      <td>0</td>\n",
              "      <td>0</td>\n",
              "      <td>0</td>\n",
              "    </tr>\n",
              "  </tbody>\n",
              "</table>\n",
              "</div>"
            ],
            "text/plain": [
              "   Store  DayOfWeek_1  DayOfWeek_2  DayOfWeek_3  ...  Day_28  Day_29  Day_30  Day_31\n",
              "0    767            1            0            0  ...       0       0       0       0\n",
              "1   1111            0            0            0  ...       0       0       0       0\n",
              "2     45            0            0            0  ...       0       0       0       0\n",
              "3    500            0            0            0  ...       0       0       0       0\n",
              "4     82            0            1            0  ...       0       0       0       0\n",
              "\n",
              "[5 rows x 59 columns]"
            ]
          },
          "metadata": {
            "tags": []
          },
          "execution_count": 24
        }
      ]
    },
    {
      "cell_type": "code",
      "metadata": {
        "colab": {
          "base_uri": "https://localhost:8080/"
        },
        "id": "7XtL8Xeqt5t2",
        "outputId": "ca868a81-4cbe-4ba3-e4d9-b8044c87bfd3"
      },
      "source": [
        "dc = [x for x in list(Xnew)if x not in list(dftest_cp1)]\n",
        "dc"
      ],
      "execution_count": 25,
      "outputs": [
        {
          "output_type": "execute_result",
          "data": {
            "text/plain": [
              "['StateHoliday_c', 'Year_2014', 'Year_2015', 'Month_11', 'Month_12']"
            ]
          },
          "metadata": {
            "tags": []
          },
          "execution_count": 25
        }
      ]
    },
    {
      "cell_type": "code",
      "metadata": {
        "colab": {
          "base_uri": "https://localhost:8080/"
        },
        "id": "taEW4BYnuPob",
        "outputId": "aee84f51-e5b7-407b-b4e6-4eee1379691b"
      },
      "source": [
        "ls = [x for x in list(dftest_cp1)if x not in list(Xnew)]\n",
        "ls"
      ],
      "execution_count": 26,
      "outputs": [
        {
          "output_type": "execute_result",
          "data": {
            "text/plain": [
              "[]"
            ]
          },
          "metadata": {
            "tags": []
          },
          "execution_count": 26
        }
      ]
    },
    {
      "cell_type": "code",
      "metadata": {
        "id": "zNyqRmynuPdv"
      },
      "source": [
        "Xnew = Xnew.drop(dc,axis=1)"
      ],
      "execution_count": 27,
      "outputs": []
    },
    {
      "cell_type": "code",
      "metadata": {
        "colab": {
          "base_uri": "https://localhost:8080/"
        },
        "id": "a-HunuNIutOC",
        "outputId": "a02c74df-3eab-49ae-f10d-86d3c2a1a519"
      },
      "source": [
        "#[x for x in Xnew.columns if x not in dftest_cp1.columns]\n",
        "len(Xnew.columns)\n",
        "#len(dftest_cp1.columns)\n",
        "#list(Xnew)\n",
        "for a,b in zip(list(Xnew),list(dftest_cp1)):\n",
        "  print(a,b)"
      ],
      "execution_count": 28,
      "outputs": [
        {
          "output_type": "stream",
          "text": [
            "Store Store\n",
            "DayOfWeek_1 DayOfWeek_1\n",
            "DayOfWeek_2 DayOfWeek_2\n",
            "DayOfWeek_3 DayOfWeek_3\n",
            "DayOfWeek_4 DayOfWeek_4\n",
            "DayOfWeek_5 DayOfWeek_5\n",
            "DayOfWeek_6 DayOfWeek_6\n",
            "DayOfWeek_7 DayOfWeek_7\n",
            "Open_0 Open_0\n",
            "Open_1 Open_1\n",
            "Promo_0 Promo_0\n",
            "Promo_1 Promo_1\n",
            "StateHoliday_0 StateHoliday_0\n",
            "StateHoliday_a StateHoliday_a\n",
            "StateHoliday_b StateHoliday_b\n",
            "SchoolHoliday_0 SchoolHoliday_0\n",
            "SchoolHoliday_1 SchoolHoliday_1\n",
            "Year_2013 Year_2013\n",
            "Month_1 Month_1\n",
            "Month_2 Month_2\n",
            "Month_3 Month_3\n",
            "Month_4 Month_4\n",
            "Month_5 Month_5\n",
            "Month_6 Month_6\n",
            "Month_7 Month_7\n",
            "Month_8 Month_8\n",
            "Month_9 Month_9\n",
            "Month_10 Month_10\n",
            "Day_1 Day_1\n",
            "Day_2 Day_2\n",
            "Day_3 Day_3\n",
            "Day_4 Day_4\n",
            "Day_5 Day_5\n",
            "Day_6 Day_6\n",
            "Day_7 Day_7\n",
            "Day_8 Day_8\n",
            "Day_9 Day_9\n",
            "Day_10 Day_10\n",
            "Day_11 Day_11\n",
            "Day_12 Day_12\n",
            "Day_13 Day_13\n",
            "Day_14 Day_14\n",
            "Day_15 Day_15\n",
            "Day_16 Day_16\n",
            "Day_17 Day_17\n",
            "Day_18 Day_18\n",
            "Day_19 Day_19\n",
            "Day_20 Day_20\n",
            "Day_21 Day_21\n",
            "Day_22 Day_22\n",
            "Day_23 Day_23\n",
            "Day_24 Day_24\n",
            "Day_25 Day_25\n",
            "Day_26 Day_26\n",
            "Day_27 Day_27\n",
            "Day_28 Day_28\n",
            "Day_29 Day_29\n",
            "Day_30 Day_30\n",
            "Day_31 Day_31\n"
          ],
          "name": "stdout"
        }
      ]
    },
    {
      "cell_type": "code",
      "metadata": {
        "id": "M_hJRqU-Z6ZB"
      },
      "source": [
        "from sklearn.ensemble import RandomForestRegressor\n",
        "rf = RandomForestRegressor()\n",
        "rf.fit(Xnew,Y)\n",
        "ypred = rf.predict(dftest_cp1)"
      ],
      "execution_count": null,
      "outputs": []
    },
    {
      "cell_type": "code",
      "metadata": {
        "colab": {
          "base_uri": "https://localhost:8080/",
          "height": 226
        },
        "id": "dAuP04oz3x5P",
        "outputId": "23d4fbc2-26f0-456f-932f-219df9a3785d"
      },
      "source": [
        "pd.DataFrame(ypred)\n",
        "dftest_cp1.head()"
      ],
      "execution_count": null,
      "outputs": [
        {
          "output_type": "execute_result",
          "data": {
            "text/html": [
              "<div>\n",
              "<style scoped>\n",
              "    .dataframe tbody tr th:only-of-type {\n",
              "        vertical-align: middle;\n",
              "    }\n",
              "\n",
              "    .dataframe tbody tr th {\n",
              "        vertical-align: top;\n",
              "    }\n",
              "\n",
              "    .dataframe thead th {\n",
              "        text-align: right;\n",
              "    }\n",
              "</style>\n",
              "<table border=\"1\" class=\"dataframe\">\n",
              "  <thead>\n",
              "    <tr style=\"text-align: right;\">\n",
              "      <th></th>\n",
              "      <th>Store</th>\n",
              "      <th>DayOfWeek_1</th>\n",
              "      <th>DayOfWeek_2</th>\n",
              "      <th>DayOfWeek_3</th>\n",
              "      <th>DayOfWeek_4</th>\n",
              "      <th>DayOfWeek_5</th>\n",
              "      <th>DayOfWeek_6</th>\n",
              "      <th>DayOfWeek_7</th>\n",
              "      <th>Open_0</th>\n",
              "      <th>Open_1</th>\n",
              "      <th>Promo_0</th>\n",
              "      <th>Promo_1</th>\n",
              "      <th>StateHoliday_0</th>\n",
              "      <th>StateHoliday_a</th>\n",
              "      <th>StateHoliday_b</th>\n",
              "      <th>SchoolHoliday_0</th>\n",
              "      <th>SchoolHoliday_1</th>\n",
              "      <th>Year_2013</th>\n",
              "      <th>Month_1</th>\n",
              "      <th>Month_2</th>\n",
              "      <th>Month_3</th>\n",
              "      <th>Month_4</th>\n",
              "      <th>Month_5</th>\n",
              "      <th>Month_6</th>\n",
              "      <th>Month_7</th>\n",
              "      <th>Month_8</th>\n",
              "      <th>Month_9</th>\n",
              "      <th>Month_10</th>\n",
              "      <th>Day_1</th>\n",
              "      <th>Day_2</th>\n",
              "      <th>Day_3</th>\n",
              "      <th>Day_4</th>\n",
              "      <th>Day_5</th>\n",
              "      <th>Day_6</th>\n",
              "      <th>Day_7</th>\n",
              "      <th>Day_8</th>\n",
              "      <th>Day_9</th>\n",
              "      <th>Day_10</th>\n",
              "      <th>Day_11</th>\n",
              "      <th>Day_12</th>\n",
              "      <th>Day_13</th>\n",
              "      <th>Day_14</th>\n",
              "      <th>Day_15</th>\n",
              "      <th>Day_16</th>\n",
              "      <th>Day_17</th>\n",
              "      <th>Day_18</th>\n",
              "      <th>Day_19</th>\n",
              "      <th>Day_20</th>\n",
              "      <th>Day_21</th>\n",
              "      <th>Day_22</th>\n",
              "      <th>Day_23</th>\n",
              "      <th>Day_24</th>\n",
              "      <th>Day_25</th>\n",
              "      <th>Day_26</th>\n",
              "      <th>Day_27</th>\n",
              "      <th>Day_28</th>\n",
              "      <th>Day_29</th>\n",
              "      <th>Day_30</th>\n",
              "      <th>Day_31</th>\n",
              "    </tr>\n",
              "  </thead>\n",
              "  <tbody>\n",
              "    <tr>\n",
              "      <th>0</th>\n",
              "      <td>767</td>\n",
              "      <td>1</td>\n",
              "      <td>0</td>\n",
              "      <td>0</td>\n",
              "      <td>0</td>\n",
              "      <td>0</td>\n",
              "      <td>0</td>\n",
              "      <td>0</td>\n",
              "      <td>1</td>\n",
              "      <td>0</td>\n",
              "      <td>1</td>\n",
              "      <td>0</td>\n",
              "      <td>0</td>\n",
              "      <td>0</td>\n",
              "      <td>1</td>\n",
              "      <td>0</td>\n",
              "      <td>1</td>\n",
              "      <td>1</td>\n",
              "      <td>0</td>\n",
              "      <td>0</td>\n",
              "      <td>0</td>\n",
              "      <td>1</td>\n",
              "      <td>0</td>\n",
              "      <td>0</td>\n",
              "      <td>0</td>\n",
              "      <td>0</td>\n",
              "      <td>0</td>\n",
              "      <td>0</td>\n",
              "      <td>1</td>\n",
              "      <td>0</td>\n",
              "      <td>0</td>\n",
              "      <td>0</td>\n",
              "      <td>0</td>\n",
              "      <td>0</td>\n",
              "      <td>0</td>\n",
              "      <td>0</td>\n",
              "      <td>0</td>\n",
              "      <td>0</td>\n",
              "      <td>0</td>\n",
              "      <td>0</td>\n",
              "      <td>0</td>\n",
              "      <td>0</td>\n",
              "      <td>0</td>\n",
              "      <td>0</td>\n",
              "      <td>0</td>\n",
              "      <td>0</td>\n",
              "      <td>0</td>\n",
              "      <td>0</td>\n",
              "      <td>0</td>\n",
              "      <td>0</td>\n",
              "      <td>0</td>\n",
              "      <td>0</td>\n",
              "      <td>0</td>\n",
              "      <td>0</td>\n",
              "      <td>0</td>\n",
              "      <td>0</td>\n",
              "      <td>0</td>\n",
              "      <td>0</td>\n",
              "      <td>0</td>\n",
              "    </tr>\n",
              "    <tr>\n",
              "      <th>1</th>\n",
              "      <td>1111</td>\n",
              "      <td>0</td>\n",
              "      <td>0</td>\n",
              "      <td>0</td>\n",
              "      <td>0</td>\n",
              "      <td>0</td>\n",
              "      <td>1</td>\n",
              "      <td>0</td>\n",
              "      <td>0</td>\n",
              "      <td>1</td>\n",
              "      <td>1</td>\n",
              "      <td>0</td>\n",
              "      <td>1</td>\n",
              "      <td>0</td>\n",
              "      <td>0</td>\n",
              "      <td>1</td>\n",
              "      <td>0</td>\n",
              "      <td>1</td>\n",
              "      <td>0</td>\n",
              "      <td>0</td>\n",
              "      <td>1</td>\n",
              "      <td>0</td>\n",
              "      <td>0</td>\n",
              "      <td>0</td>\n",
              "      <td>0</td>\n",
              "      <td>0</td>\n",
              "      <td>0</td>\n",
              "      <td>0</td>\n",
              "      <td>0</td>\n",
              "      <td>0</td>\n",
              "      <td>0</td>\n",
              "      <td>0</td>\n",
              "      <td>0</td>\n",
              "      <td>0</td>\n",
              "      <td>0</td>\n",
              "      <td>0</td>\n",
              "      <td>0</td>\n",
              "      <td>0</td>\n",
              "      <td>0</td>\n",
              "      <td>0</td>\n",
              "      <td>0</td>\n",
              "      <td>0</td>\n",
              "      <td>0</td>\n",
              "      <td>1</td>\n",
              "      <td>0</td>\n",
              "      <td>0</td>\n",
              "      <td>0</td>\n",
              "      <td>0</td>\n",
              "      <td>0</td>\n",
              "      <td>0</td>\n",
              "      <td>0</td>\n",
              "      <td>0</td>\n",
              "      <td>0</td>\n",
              "      <td>0</td>\n",
              "      <td>0</td>\n",
              "      <td>0</td>\n",
              "      <td>0</td>\n",
              "      <td>0</td>\n",
              "      <td>0</td>\n",
              "    </tr>\n",
              "    <tr>\n",
              "      <th>2</th>\n",
              "      <td>45</td>\n",
              "      <td>0</td>\n",
              "      <td>0</td>\n",
              "      <td>0</td>\n",
              "      <td>1</td>\n",
              "      <td>0</td>\n",
              "      <td>0</td>\n",
              "      <td>0</td>\n",
              "      <td>0</td>\n",
              "      <td>1</td>\n",
              "      <td>0</td>\n",
              "      <td>1</td>\n",
              "      <td>1</td>\n",
              "      <td>0</td>\n",
              "      <td>0</td>\n",
              "      <td>0</td>\n",
              "      <td>1</td>\n",
              "      <td>1</td>\n",
              "      <td>0</td>\n",
              "      <td>0</td>\n",
              "      <td>0</td>\n",
              "      <td>0</td>\n",
              "      <td>0</td>\n",
              "      <td>0</td>\n",
              "      <td>0</td>\n",
              "      <td>1</td>\n",
              "      <td>0</td>\n",
              "      <td>0</td>\n",
              "      <td>1</td>\n",
              "      <td>0</td>\n",
              "      <td>0</td>\n",
              "      <td>0</td>\n",
              "      <td>0</td>\n",
              "      <td>0</td>\n",
              "      <td>0</td>\n",
              "      <td>0</td>\n",
              "      <td>0</td>\n",
              "      <td>0</td>\n",
              "      <td>0</td>\n",
              "      <td>0</td>\n",
              "      <td>0</td>\n",
              "      <td>0</td>\n",
              "      <td>0</td>\n",
              "      <td>0</td>\n",
              "      <td>0</td>\n",
              "      <td>0</td>\n",
              "      <td>0</td>\n",
              "      <td>0</td>\n",
              "      <td>0</td>\n",
              "      <td>0</td>\n",
              "      <td>0</td>\n",
              "      <td>0</td>\n",
              "      <td>0</td>\n",
              "      <td>0</td>\n",
              "      <td>0</td>\n",
              "      <td>0</td>\n",
              "      <td>0</td>\n",
              "      <td>0</td>\n",
              "      <td>0</td>\n",
              "    </tr>\n",
              "    <tr>\n",
              "      <th>3</th>\n",
              "      <td>500</td>\n",
              "      <td>0</td>\n",
              "      <td>0</td>\n",
              "      <td>0</td>\n",
              "      <td>1</td>\n",
              "      <td>0</td>\n",
              "      <td>0</td>\n",
              "      <td>0</td>\n",
              "      <td>0</td>\n",
              "      <td>1</td>\n",
              "      <td>1</td>\n",
              "      <td>0</td>\n",
              "      <td>1</td>\n",
              "      <td>0</td>\n",
              "      <td>0</td>\n",
              "      <td>0</td>\n",
              "      <td>1</td>\n",
              "      <td>1</td>\n",
              "      <td>0</td>\n",
              "      <td>0</td>\n",
              "      <td>0</td>\n",
              "      <td>0</td>\n",
              "      <td>1</td>\n",
              "      <td>0</td>\n",
              "      <td>0</td>\n",
              "      <td>0</td>\n",
              "      <td>0</td>\n",
              "      <td>0</td>\n",
              "      <td>0</td>\n",
              "      <td>0</td>\n",
              "      <td>0</td>\n",
              "      <td>0</td>\n",
              "      <td>0</td>\n",
              "      <td>0</td>\n",
              "      <td>0</td>\n",
              "      <td>0</td>\n",
              "      <td>0</td>\n",
              "      <td>0</td>\n",
              "      <td>0</td>\n",
              "      <td>0</td>\n",
              "      <td>0</td>\n",
              "      <td>0</td>\n",
              "      <td>0</td>\n",
              "      <td>0</td>\n",
              "      <td>0</td>\n",
              "      <td>0</td>\n",
              "      <td>0</td>\n",
              "      <td>0</td>\n",
              "      <td>0</td>\n",
              "      <td>0</td>\n",
              "      <td>1</td>\n",
              "      <td>0</td>\n",
              "      <td>0</td>\n",
              "      <td>0</td>\n",
              "      <td>0</td>\n",
              "      <td>0</td>\n",
              "      <td>0</td>\n",
              "      <td>0</td>\n",
              "      <td>0</td>\n",
              "    </tr>\n",
              "    <tr>\n",
              "      <th>4</th>\n",
              "      <td>82</td>\n",
              "      <td>0</td>\n",
              "      <td>1</td>\n",
              "      <td>0</td>\n",
              "      <td>0</td>\n",
              "      <td>0</td>\n",
              "      <td>0</td>\n",
              "      <td>0</td>\n",
              "      <td>0</td>\n",
              "      <td>1</td>\n",
              "      <td>1</td>\n",
              "      <td>0</td>\n",
              "      <td>1</td>\n",
              "      <td>0</td>\n",
              "      <td>0</td>\n",
              "      <td>0</td>\n",
              "      <td>1</td>\n",
              "      <td>1</td>\n",
              "      <td>0</td>\n",
              "      <td>0</td>\n",
              "      <td>0</td>\n",
              "      <td>0</td>\n",
              "      <td>0</td>\n",
              "      <td>0</td>\n",
              "      <td>0</td>\n",
              "      <td>1</td>\n",
              "      <td>0</td>\n",
              "      <td>0</td>\n",
              "      <td>0</td>\n",
              "      <td>0</td>\n",
              "      <td>0</td>\n",
              "      <td>0</td>\n",
              "      <td>0</td>\n",
              "      <td>1</td>\n",
              "      <td>0</td>\n",
              "      <td>0</td>\n",
              "      <td>0</td>\n",
              "      <td>0</td>\n",
              "      <td>0</td>\n",
              "      <td>0</td>\n",
              "      <td>0</td>\n",
              "      <td>0</td>\n",
              "      <td>0</td>\n",
              "      <td>0</td>\n",
              "      <td>0</td>\n",
              "      <td>0</td>\n",
              "      <td>0</td>\n",
              "      <td>0</td>\n",
              "      <td>0</td>\n",
              "      <td>0</td>\n",
              "      <td>0</td>\n",
              "      <td>0</td>\n",
              "      <td>0</td>\n",
              "      <td>0</td>\n",
              "      <td>0</td>\n",
              "      <td>0</td>\n",
              "      <td>0</td>\n",
              "      <td>0</td>\n",
              "      <td>0</td>\n",
              "    </tr>\n",
              "  </tbody>\n",
              "</table>\n",
              "</div>"
            ],
            "text/plain": [
              "   Store  DayOfWeek_1  DayOfWeek_2  DayOfWeek_3  ...  Day_28  Day_29  Day_30  Day_31\n",
              "0    767            1            0            0  ...       0       0       0       0\n",
              "1   1111            0            0            0  ...       0       0       0       0\n",
              "2     45            0            0            0  ...       0       0       0       0\n",
              "3    500            0            0            0  ...       0       0       0       0\n",
              "4     82            0            1            0  ...       0       0       0       0\n",
              "\n",
              "[5 rows x 59 columns]"
            ]
          },
          "metadata": {
            "tags": []
          },
          "execution_count": 35
        }
      ]
    },
    {
      "cell_type": "code",
      "metadata": {
        "id": "_0IFAER8ovU-"
      },
      "source": [
        "output(ypred,'rf.csv')"
      ],
      "execution_count": null,
      "outputs": []
    },
    {
      "cell_type": "markdown",
      "metadata": {
        "id": "P8Ey3RPQROIB"
      },
      "source": [
        "##Lets check the Random Forest model for this processed Training set"
      ]
    },
    {
      "cell_type": "code",
      "metadata": {
        "id": "VriuOrf928ob"
      },
      "source": [
        "from sklearn.model_selection import train_test_split\n",
        "xtrain,xtest,ytrain,ytest = train_test_split(Xnew,Y)"
      ],
      "execution_count": 30,
      "outputs": []
    },
    {
      "cell_type": "code",
      "metadata": {
        "colab": {
          "base_uri": "https://localhost:8080/"
        },
        "id": "YjENzkEsRlxW",
        "outputId": "bf57f771-e923-4bd7-d333-061040f42d26"
      },
      "source": [
        "xtrain.shape\n",
        "xtest.shape"
      ],
      "execution_count": 33,
      "outputs": [
        {
          "output_type": "execute_result",
          "data": {
            "text/plain": [
              "(178012, 59)"
            ]
          },
          "metadata": {
            "tags": []
          },
          "execution_count": 33
        }
      ]
    },
    {
      "cell_type": "code",
      "metadata": {
        "colab": {
          "base_uri": "https://localhost:8080/"
        },
        "id": "m1351qeiRqQJ",
        "outputId": "fc1db7df-3da5-4148-f718-a081b7ae29d9"
      },
      "source": [
        "from sklearn.ensemble import RandomForestRegressor\n",
        "from sklearn.metrics import mean_squared_error as mser\n",
        "rf = RandomForestRegressor()\n",
        "rf.fit(xtrain,ytrain)\n",
        "ypred = rf.predict(xtest)\n",
        "rmse = np.sqrt(mser(ytest,ypred))\n",
        "rmse\n"
      ],
      "execution_count": 35,
      "outputs": [
        {
          "output_type": "execute_result",
          "data": {
            "text/plain": [
              "1806.9207340637952"
            ]
          },
          "metadata": {
            "tags": []
          },
          "execution_count": 35
        }
      ]
    },
    {
      "cell_type": "code",
      "metadata": {
        "colab": {
          "base_uri": "https://localhost:8080/"
        },
        "id": "vimr4g53SUU4",
        "outputId": "1f6d01d9-5feb-4af6-e469-7ea27acf8c99"
      },
      "source": [
        "ypred_train1 = rf.predict(xtrain)\n",
        "err1 = ytrain - ypred_train1\n",
        "err1"
      ],
      "execution_count": 40,
      "outputs": [
        {
          "output_type": "execute_result",
          "data": {
            "text/plain": [
              "251762   -116.61\n",
              "412731    269.92\n",
              "466438   -451.76\n",
              "374872    110.23\n",
              "372319    111.35\n",
              "           ...  \n",
              "648190   -279.20\n",
              "300816   -248.81\n",
              "377732    -64.72\n",
              "597395      0.00\n",
              "581353      0.00\n",
              "Name: Sales, Length: 534034, dtype: float64"
            ]
          },
          "metadata": {
            "tags": []
          },
          "execution_count": 40
        }
      ]
    },
    {
      "cell_type": "code",
      "metadata": {
        "colab": {
          "base_uri": "https://localhost:8080/"
        },
        "id": "tzjCKxoVZWgA",
        "outputId": "e6499714-585d-4392-f722-abe01e8538bd"
      },
      "source": [
        "rmse1 = np.sqrt(mser(ytrain,ypred_train1))\n",
        "rmse1"
      ],
      "execution_count": 41,
      "outputs": [
        {
          "output_type": "execute_result",
          "data": {
            "text/plain": [
              "679.5022246882236"
            ]
          },
          "metadata": {
            "tags": []
          },
          "execution_count": 41
        }
      ]
    },
    {
      "cell_type": "code",
      "metadata": {
        "colab": {
          "base_uri": "https://localhost:8080/"
        },
        "id": "upsOXeQYYCOC",
        "outputId": "fa77e3cf-b677-4457-9f57-0d0b41482d41"
      },
      "source": [
        "from sklearn.tree import DecisionTreeRegressor\n",
        "dt = DecisionTreeRegressor()\n",
        "dt.fit(xtrain,err1)"
      ],
      "execution_count": 43,
      "outputs": [
        {
          "output_type": "execute_result",
          "data": {
            "text/plain": [
              "DecisionTreeRegressor(ccp_alpha=0.0, criterion='mse', max_depth=None,\n",
              "                      max_features=None, max_leaf_nodes=None,\n",
              "                      min_impurity_decrease=0.0, min_impurity_split=None,\n",
              "                      min_samples_leaf=1, min_samples_split=2,\n",
              "                      min_weight_fraction_leaf=0.0, presort='deprecated',\n",
              "                      random_state=None, splitter='best')"
            ]
          },
          "metadata": {
            "tags": []
          },
          "execution_count": 43
        }
      ]
    },
    {
      "cell_type": "code",
      "metadata": {
        "colab": {
          "base_uri": "https://localhost:8080/"
        },
        "id": "-tpTr8oCajNG",
        "outputId": "dd490e1f-9b1a-4c8a-a395-e305d72ad56f"
      },
      "source": [
        "ypred_train2 = dt.predict(xtrain)\n",
        "err2 = err1 - ypred_train2\n",
        "rmse2 = np.sqrt(mser(err1,ypred_train2))\n",
        "rmse2"
      ],
      "execution_count": 44,
      "outputs": [
        {
          "output_type": "execute_result",
          "data": {
            "text/plain": [
              "0.0"
            ]
          },
          "metadata": {
            "tags": []
          },
          "execution_count": 44
        }
      ]
    },
    {
      "cell_type": "code",
      "metadata": {
        "colab": {
          "base_uri": "https://localhost:8080/"
        },
        "id": "n46jr59Shv2t",
        "outputId": "fa93cce2-695c-4de0-9bad-702a85caebe7"
      },
      "source": [
        "ypred_tnet1 = ypred_train1 + ypred_train2\n",
        "rmse = np.sqrt(mser(ytrain,ypred_tnet1)) \n",
        "rmse"
      ],
      "execution_count": 45,
      "outputs": [
        {
          "output_type": "execute_result",
          "data": {
            "text/plain": [
              "0.0"
            ]
          },
          "metadata": {
            "tags": []
          },
          "execution_count": 45
        }
      ]
    },
    {
      "cell_type": "code",
      "metadata": {
        "colab": {
          "base_uri": "https://localhost:8080/"
        },
        "id": "6KWS5qwXimGV",
        "outputId": "c470e9e5-813f-4277-84b1-0be96d93038b"
      },
      "source": [
        "#apply this on test split\n",
        "ypred = rf.predict(xtest)\n",
        "ypred_err = dt.predict(xtest)\n",
        "ypred_testnet = ypred + ypred_err\n",
        "rmse_test = np.sqrt(mser(ytest,ypred_testnet))\n",
        "rmse_test"
      ],
      "execution_count": 46,
      "outputs": [
        {
          "output_type": "execute_result",
          "data": {
            "text/plain": [
              "1590.476257792698"
            ]
          },
          "metadata": {
            "tags": []
          },
          "execution_count": 46
        }
      ]
    },
    {
      "cell_type": "markdown",
      "metadata": {
        "id": "OFf4204Tj94O"
      },
      "source": [
        "##Lets build a full model"
      ]
    },
    {
      "cell_type": "code",
      "metadata": {
        "id": "5ZVU5Chymhys"
      },
      "source": [
        "rf = RandomForestRegressor()\n",
        "rf.fit(Xnew,Y)\n",
        "full_ypred1 = rf.predict(Xnew)\n",
        "full_err1 = Y - full_ypred1\n"
      ],
      "execution_count": 47,
      "outputs": []
    },
    {
      "cell_type": "code",
      "metadata": {
        "id": "AD1pVAOQnmKS"
      },
      "source": [
        "dt = DecisionTreeRegressor()\n",
        "dt.fit(Xnew,full_err1)\n",
        "full_ypred2 = dt.predict(Xnew)"
      ],
      "execution_count": 48,
      "outputs": []
    },
    {
      "cell_type": "code",
      "metadata": {
        "colab": {
          "base_uri": "https://localhost:8080/"
        },
        "id": "-8kXY7VroMky",
        "outputId": "da3d26ec-6d1a-441c-bf65-35cf73e0d3e2"
      },
      "source": [
        "net_ypred = full_ypred1 + full_ypred2\n",
        "rmse = np.sqrt(mser(Y,net_ypred))\n",
        "rmse"
      ],
      "execution_count": 49,
      "outputs": [
        {
          "output_type": "execute_result",
          "data": {
            "text/plain": [
              "0.0"
            ]
          },
          "metadata": {
            "tags": []
          },
          "execution_count": 49
        }
      ]
    },
    {
      "cell_type": "code",
      "metadata": {
        "id": "RQG8YDksvAhC"
      },
      "source": [
        "from sklearn.linear_model import LinearRegression\n",
        "lr = LinearRegression()\n",
        "lr.fit(Xnew,full_err1)\n",
        "full_ypred2 = lr.predict(Xnew)"
      ],
      "execution_count": 56,
      "outputs": []
    },
    {
      "cell_type": "code",
      "metadata": {
        "colab": {
          "base_uri": "https://localhost:8080/"
        },
        "id": "kIS_F8D6vWQ7",
        "outputId": "ab7cd248-26fb-4172-acb4-1bb4527c3f51"
      },
      "source": [
        "net_ypred1 = full_ypred1 + full_ypred2\n",
        "full_err2 = Y - net_ypred1\n",
        "rmse = np.sqrt(mser(Y,net_ypred))\n",
        "rmse"
      ],
      "execution_count": 61,
      "outputs": [
        {
          "output_type": "execute_result",
          "data": {
            "text/plain": [
              "645.3338109887884"
            ]
          },
          "metadata": {
            "tags": []
          },
          "execution_count": 61
        }
      ]
    },
    {
      "cell_type": "code",
      "metadata": {
        "id": "HdFVeXsTyXSn"
      },
      "source": [
        "lr2 = LinearRegression()\n",
        "lr2.fit(Xnew,full_err2)\n",
        "full_ypred3 = lr.predict(Xnew)"
      ],
      "execution_count": 63,
      "outputs": []
    },
    {
      "cell_type": "code",
      "metadata": {
        "colab": {
          "base_uri": "https://localhost:8080/"
        },
        "id": "WZILgMIczAkR",
        "outputId": "097f8bc5-185f-49d6-e57a-f6cbfbec0f7d"
      },
      "source": [
        "net_ypred2 = full_ypred1 + full_ypred2 + full_ypred3\n",
        "full_err3 = Y - net_ypred2\n",
        "rmse = np.sqrt(mser(Y,net_ypred2))\n",
        "rmse"
      ],
      "execution_count": 64,
      "outputs": [
        {
          "output_type": "execute_result",
          "data": {
            "text/plain": [
              "645.6586714997611"
            ]
          },
          "metadata": {
            "tags": []
          },
          "execution_count": 64
        }
      ]
    },
    {
      "cell_type": "markdown",
      "metadata": {
        "id": "JjK4J6QPqSbp"
      },
      "source": [
        "##Lets pass test dataset to this full model"
      ]
    },
    {
      "cell_type": "code",
      "metadata": {
        "id": "gz1QD7JnqfvL"
      },
      "source": [
        "tstpred1 = rf.predict(dftest_cp1)\n",
        "tstpred2 = dt.predict(dftest_cp1)\n",
        "tstpred_net = tstpred1 + tstpred2"
      ],
      "execution_count": 51,
      "outputs": []
    },
    {
      "cell_type": "code",
      "metadata": {
        "id": "rwO0faWcrDHN"
      },
      "source": [
        "output(tstpred_net,'rf_boost.csv')"
      ],
      "execution_count": 52,
      "outputs": []
    },
    {
      "cell_type": "code",
      "metadata": {
        "colab": {
          "base_uri": "https://localhost:8080/",
          "height": 226
        },
        "id": "N_b5rNKbqtnv",
        "outputId": "6941b975-976d-489a-ea83-cc471a6f8290"
      },
      "source": [
        "dftest_cp1.head()"
      ],
      "execution_count": 50,
      "outputs": [
        {
          "output_type": "execute_result",
          "data": {
            "text/html": [
              "<div>\n",
              "<style scoped>\n",
              "    .dataframe tbody tr th:only-of-type {\n",
              "        vertical-align: middle;\n",
              "    }\n",
              "\n",
              "    .dataframe tbody tr th {\n",
              "        vertical-align: top;\n",
              "    }\n",
              "\n",
              "    .dataframe thead th {\n",
              "        text-align: right;\n",
              "    }\n",
              "</style>\n",
              "<table border=\"1\" class=\"dataframe\">\n",
              "  <thead>\n",
              "    <tr style=\"text-align: right;\">\n",
              "      <th></th>\n",
              "      <th>Store</th>\n",
              "      <th>DayOfWeek_1</th>\n",
              "      <th>DayOfWeek_2</th>\n",
              "      <th>DayOfWeek_3</th>\n",
              "      <th>DayOfWeek_4</th>\n",
              "      <th>DayOfWeek_5</th>\n",
              "      <th>DayOfWeek_6</th>\n",
              "      <th>DayOfWeek_7</th>\n",
              "      <th>Open_0</th>\n",
              "      <th>Open_1</th>\n",
              "      <th>Promo_0</th>\n",
              "      <th>Promo_1</th>\n",
              "      <th>StateHoliday_0</th>\n",
              "      <th>StateHoliday_a</th>\n",
              "      <th>StateHoliday_b</th>\n",
              "      <th>SchoolHoliday_0</th>\n",
              "      <th>SchoolHoliday_1</th>\n",
              "      <th>Year_2013</th>\n",
              "      <th>Month_1</th>\n",
              "      <th>Month_2</th>\n",
              "      <th>Month_3</th>\n",
              "      <th>Month_4</th>\n",
              "      <th>Month_5</th>\n",
              "      <th>Month_6</th>\n",
              "      <th>Month_7</th>\n",
              "      <th>Month_8</th>\n",
              "      <th>Month_9</th>\n",
              "      <th>Month_10</th>\n",
              "      <th>Day_1</th>\n",
              "      <th>Day_2</th>\n",
              "      <th>Day_3</th>\n",
              "      <th>Day_4</th>\n",
              "      <th>Day_5</th>\n",
              "      <th>Day_6</th>\n",
              "      <th>Day_7</th>\n",
              "      <th>Day_8</th>\n",
              "      <th>Day_9</th>\n",
              "      <th>Day_10</th>\n",
              "      <th>Day_11</th>\n",
              "      <th>Day_12</th>\n",
              "      <th>Day_13</th>\n",
              "      <th>Day_14</th>\n",
              "      <th>Day_15</th>\n",
              "      <th>Day_16</th>\n",
              "      <th>Day_17</th>\n",
              "      <th>Day_18</th>\n",
              "      <th>Day_19</th>\n",
              "      <th>Day_20</th>\n",
              "      <th>Day_21</th>\n",
              "      <th>Day_22</th>\n",
              "      <th>Day_23</th>\n",
              "      <th>Day_24</th>\n",
              "      <th>Day_25</th>\n",
              "      <th>Day_26</th>\n",
              "      <th>Day_27</th>\n",
              "      <th>Day_28</th>\n",
              "      <th>Day_29</th>\n",
              "      <th>Day_30</th>\n",
              "      <th>Day_31</th>\n",
              "    </tr>\n",
              "  </thead>\n",
              "  <tbody>\n",
              "    <tr>\n",
              "      <th>0</th>\n",
              "      <td>767</td>\n",
              "      <td>1</td>\n",
              "      <td>0</td>\n",
              "      <td>0</td>\n",
              "      <td>0</td>\n",
              "      <td>0</td>\n",
              "      <td>0</td>\n",
              "      <td>0</td>\n",
              "      <td>1</td>\n",
              "      <td>0</td>\n",
              "      <td>1</td>\n",
              "      <td>0</td>\n",
              "      <td>0</td>\n",
              "      <td>0</td>\n",
              "      <td>1</td>\n",
              "      <td>0</td>\n",
              "      <td>1</td>\n",
              "      <td>1</td>\n",
              "      <td>0</td>\n",
              "      <td>0</td>\n",
              "      <td>0</td>\n",
              "      <td>1</td>\n",
              "      <td>0</td>\n",
              "      <td>0</td>\n",
              "      <td>0</td>\n",
              "      <td>0</td>\n",
              "      <td>0</td>\n",
              "      <td>0</td>\n",
              "      <td>1</td>\n",
              "      <td>0</td>\n",
              "      <td>0</td>\n",
              "      <td>0</td>\n",
              "      <td>0</td>\n",
              "      <td>0</td>\n",
              "      <td>0</td>\n",
              "      <td>0</td>\n",
              "      <td>0</td>\n",
              "      <td>0</td>\n",
              "      <td>0</td>\n",
              "      <td>0</td>\n",
              "      <td>0</td>\n",
              "      <td>0</td>\n",
              "      <td>0</td>\n",
              "      <td>0</td>\n",
              "      <td>0</td>\n",
              "      <td>0</td>\n",
              "      <td>0</td>\n",
              "      <td>0</td>\n",
              "      <td>0</td>\n",
              "      <td>0</td>\n",
              "      <td>0</td>\n",
              "      <td>0</td>\n",
              "      <td>0</td>\n",
              "      <td>0</td>\n",
              "      <td>0</td>\n",
              "      <td>0</td>\n",
              "      <td>0</td>\n",
              "      <td>0</td>\n",
              "      <td>0</td>\n",
              "    </tr>\n",
              "    <tr>\n",
              "      <th>1</th>\n",
              "      <td>1111</td>\n",
              "      <td>0</td>\n",
              "      <td>0</td>\n",
              "      <td>0</td>\n",
              "      <td>0</td>\n",
              "      <td>0</td>\n",
              "      <td>1</td>\n",
              "      <td>0</td>\n",
              "      <td>0</td>\n",
              "      <td>1</td>\n",
              "      <td>1</td>\n",
              "      <td>0</td>\n",
              "      <td>1</td>\n",
              "      <td>0</td>\n",
              "      <td>0</td>\n",
              "      <td>1</td>\n",
              "      <td>0</td>\n",
              "      <td>1</td>\n",
              "      <td>0</td>\n",
              "      <td>0</td>\n",
              "      <td>1</td>\n",
              "      <td>0</td>\n",
              "      <td>0</td>\n",
              "      <td>0</td>\n",
              "      <td>0</td>\n",
              "      <td>0</td>\n",
              "      <td>0</td>\n",
              "      <td>0</td>\n",
              "      <td>0</td>\n",
              "      <td>0</td>\n",
              "      <td>0</td>\n",
              "      <td>0</td>\n",
              "      <td>0</td>\n",
              "      <td>0</td>\n",
              "      <td>0</td>\n",
              "      <td>0</td>\n",
              "      <td>0</td>\n",
              "      <td>0</td>\n",
              "      <td>0</td>\n",
              "      <td>0</td>\n",
              "      <td>0</td>\n",
              "      <td>0</td>\n",
              "      <td>0</td>\n",
              "      <td>1</td>\n",
              "      <td>0</td>\n",
              "      <td>0</td>\n",
              "      <td>0</td>\n",
              "      <td>0</td>\n",
              "      <td>0</td>\n",
              "      <td>0</td>\n",
              "      <td>0</td>\n",
              "      <td>0</td>\n",
              "      <td>0</td>\n",
              "      <td>0</td>\n",
              "      <td>0</td>\n",
              "      <td>0</td>\n",
              "      <td>0</td>\n",
              "      <td>0</td>\n",
              "      <td>0</td>\n",
              "    </tr>\n",
              "    <tr>\n",
              "      <th>2</th>\n",
              "      <td>45</td>\n",
              "      <td>0</td>\n",
              "      <td>0</td>\n",
              "      <td>0</td>\n",
              "      <td>1</td>\n",
              "      <td>0</td>\n",
              "      <td>0</td>\n",
              "      <td>0</td>\n",
              "      <td>0</td>\n",
              "      <td>1</td>\n",
              "      <td>0</td>\n",
              "      <td>1</td>\n",
              "      <td>1</td>\n",
              "      <td>0</td>\n",
              "      <td>0</td>\n",
              "      <td>0</td>\n",
              "      <td>1</td>\n",
              "      <td>1</td>\n",
              "      <td>0</td>\n",
              "      <td>0</td>\n",
              "      <td>0</td>\n",
              "      <td>0</td>\n",
              "      <td>0</td>\n",
              "      <td>0</td>\n",
              "      <td>0</td>\n",
              "      <td>1</td>\n",
              "      <td>0</td>\n",
              "      <td>0</td>\n",
              "      <td>1</td>\n",
              "      <td>0</td>\n",
              "      <td>0</td>\n",
              "      <td>0</td>\n",
              "      <td>0</td>\n",
              "      <td>0</td>\n",
              "      <td>0</td>\n",
              "      <td>0</td>\n",
              "      <td>0</td>\n",
              "      <td>0</td>\n",
              "      <td>0</td>\n",
              "      <td>0</td>\n",
              "      <td>0</td>\n",
              "      <td>0</td>\n",
              "      <td>0</td>\n",
              "      <td>0</td>\n",
              "      <td>0</td>\n",
              "      <td>0</td>\n",
              "      <td>0</td>\n",
              "      <td>0</td>\n",
              "      <td>0</td>\n",
              "      <td>0</td>\n",
              "      <td>0</td>\n",
              "      <td>0</td>\n",
              "      <td>0</td>\n",
              "      <td>0</td>\n",
              "      <td>0</td>\n",
              "      <td>0</td>\n",
              "      <td>0</td>\n",
              "      <td>0</td>\n",
              "      <td>0</td>\n",
              "    </tr>\n",
              "    <tr>\n",
              "      <th>3</th>\n",
              "      <td>500</td>\n",
              "      <td>0</td>\n",
              "      <td>0</td>\n",
              "      <td>0</td>\n",
              "      <td>1</td>\n",
              "      <td>0</td>\n",
              "      <td>0</td>\n",
              "      <td>0</td>\n",
              "      <td>0</td>\n",
              "      <td>1</td>\n",
              "      <td>1</td>\n",
              "      <td>0</td>\n",
              "      <td>1</td>\n",
              "      <td>0</td>\n",
              "      <td>0</td>\n",
              "      <td>0</td>\n",
              "      <td>1</td>\n",
              "      <td>1</td>\n",
              "      <td>0</td>\n",
              "      <td>0</td>\n",
              "      <td>0</td>\n",
              "      <td>0</td>\n",
              "      <td>1</td>\n",
              "      <td>0</td>\n",
              "      <td>0</td>\n",
              "      <td>0</td>\n",
              "      <td>0</td>\n",
              "      <td>0</td>\n",
              "      <td>0</td>\n",
              "      <td>0</td>\n",
              "      <td>0</td>\n",
              "      <td>0</td>\n",
              "      <td>0</td>\n",
              "      <td>0</td>\n",
              "      <td>0</td>\n",
              "      <td>0</td>\n",
              "      <td>0</td>\n",
              "      <td>0</td>\n",
              "      <td>0</td>\n",
              "      <td>0</td>\n",
              "      <td>0</td>\n",
              "      <td>0</td>\n",
              "      <td>0</td>\n",
              "      <td>0</td>\n",
              "      <td>0</td>\n",
              "      <td>0</td>\n",
              "      <td>0</td>\n",
              "      <td>0</td>\n",
              "      <td>0</td>\n",
              "      <td>0</td>\n",
              "      <td>1</td>\n",
              "      <td>0</td>\n",
              "      <td>0</td>\n",
              "      <td>0</td>\n",
              "      <td>0</td>\n",
              "      <td>0</td>\n",
              "      <td>0</td>\n",
              "      <td>0</td>\n",
              "      <td>0</td>\n",
              "    </tr>\n",
              "    <tr>\n",
              "      <th>4</th>\n",
              "      <td>82</td>\n",
              "      <td>0</td>\n",
              "      <td>1</td>\n",
              "      <td>0</td>\n",
              "      <td>0</td>\n",
              "      <td>0</td>\n",
              "      <td>0</td>\n",
              "      <td>0</td>\n",
              "      <td>0</td>\n",
              "      <td>1</td>\n",
              "      <td>1</td>\n",
              "      <td>0</td>\n",
              "      <td>1</td>\n",
              "      <td>0</td>\n",
              "      <td>0</td>\n",
              "      <td>0</td>\n",
              "      <td>1</td>\n",
              "      <td>1</td>\n",
              "      <td>0</td>\n",
              "      <td>0</td>\n",
              "      <td>0</td>\n",
              "      <td>0</td>\n",
              "      <td>0</td>\n",
              "      <td>0</td>\n",
              "      <td>0</td>\n",
              "      <td>1</td>\n",
              "      <td>0</td>\n",
              "      <td>0</td>\n",
              "      <td>0</td>\n",
              "      <td>0</td>\n",
              "      <td>0</td>\n",
              "      <td>0</td>\n",
              "      <td>0</td>\n",
              "      <td>1</td>\n",
              "      <td>0</td>\n",
              "      <td>0</td>\n",
              "      <td>0</td>\n",
              "      <td>0</td>\n",
              "      <td>0</td>\n",
              "      <td>0</td>\n",
              "      <td>0</td>\n",
              "      <td>0</td>\n",
              "      <td>0</td>\n",
              "      <td>0</td>\n",
              "      <td>0</td>\n",
              "      <td>0</td>\n",
              "      <td>0</td>\n",
              "      <td>0</td>\n",
              "      <td>0</td>\n",
              "      <td>0</td>\n",
              "      <td>0</td>\n",
              "      <td>0</td>\n",
              "      <td>0</td>\n",
              "      <td>0</td>\n",
              "      <td>0</td>\n",
              "      <td>0</td>\n",
              "      <td>0</td>\n",
              "      <td>0</td>\n",
              "      <td>0</td>\n",
              "    </tr>\n",
              "  </tbody>\n",
              "</table>\n",
              "</div>"
            ],
            "text/plain": [
              "   Store  DayOfWeek_1  DayOfWeek_2  DayOfWeek_3  ...  Day_28  Day_29  Day_30  Day_31\n",
              "0    767            1            0            0  ...       0       0       0       0\n",
              "1   1111            0            0            0  ...       0       0       0       0\n",
              "2     45            0            0            0  ...       0       0       0       0\n",
              "3    500            0            0            0  ...       0       0       0       0\n",
              "4     82            0            1            0  ...       0       0       0       0\n",
              "\n",
              "[5 rows x 59 columns]"
            ]
          },
          "metadata": {
            "tags": []
          },
          "execution_count": 50
        }
      ]
    },
    {
      "cell_type": "code",
      "metadata": {
        "id": "Tm-kT307wBrW"
      },
      "source": [
        "tstpred1 = rf.predict(dftest_cp1)\n",
        "tstpred2 = lr.predict(dftest_cp1)\n",
        "tstpred3 = lr2.predict(dftest_cp1)\n",
        "tstpred_net = tstpred1 + tstpred2 + tstpred2"
      ],
      "execution_count": 65,
      "outputs": []
    },
    {
      "cell_type": "code",
      "metadata": {
        "id": "bWEwo45_wJ7s"
      },
      "source": [
        "output(tstpred_net,'rf_lr_boost1.csv')"
      ],
      "execution_count": 66,
      "outputs": []
    },
    {
      "cell_type": "code",
      "metadata": {
        "id": "bqP34lcZwPtA"
      },
      "source": [
        ""
      ],
      "execution_count": null,
      "outputs": []
    }
  ]
}